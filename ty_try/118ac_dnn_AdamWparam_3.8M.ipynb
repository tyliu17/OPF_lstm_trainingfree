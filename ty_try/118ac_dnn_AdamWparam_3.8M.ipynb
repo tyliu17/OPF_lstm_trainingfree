{
 "cells": [
  {
   "cell_type": "code",
   "execution_count": 1,
   "metadata": {
    "id": "JKLovDeXoCCP"
   },
   "outputs": [],
   "source": [
    "import numpy as np\n",
    "import pandas as pd\n",
    "import matplotlib.pyplot as plt\n",
    "import torch\n",
    "import torch.nn as nn\n",
    "import torch.nn.functional as F\n",
    "from sklearn.model_selection import train_test_split\n",
    "import time\n",
    "import math\n",
    "from datetime import datetime\n",
    "root=''\n",
    "# try:\n",
    "#   from google.colab import drive\n",
    "#   drive.mount('/content/drive')\n",
    "#   root='./drive/MyDrive/gnn/data/'\n",
    "# except:\n",
    "#   pass\n",
    "# device='cuda' if torch.cuda.is_available() else 'cpu'\n",
    "# print(torch.cuda.get_device_name(0))\n",
    "# torch.cuda.empty_cache()\n",
    "\n",
    "# 檢查是否有可用的 GPU，否則使用 CPU\n",
    "device = torch.device('cuda' if torch.cuda.is_available() else 'cpu')"
   ]
  },
  {
   "cell_type": "code",
   "execution_count": 2,
   "metadata": {},
   "outputs": [
    {
     "name": "stdout",
     "output_type": "stream",
     "text": [
      "torch.Size([186, 118]) torch.Size([186, 1]) tensor(72)\n",
      "1654.8 -332.4 949.67 0.94\n",
      "voltage range(scaled): 3.9999999999999925 16.000000000000004\n",
      "price range old: 11.547 949.67\n",
      "voltage range old: 3.9999999999999925 16.000000000000004\n",
      "price range new: 11.547 949.67\n",
      "voltage range new: 3.9999999999999925 16.000000000000004\n",
      "(118, 6, 10000) (118, 2, 10000)\n"
     ]
    }
   ],
   "source": [
    "root = 'C:/Users/USER/Desktop/GNN_OPF_electricity_market-main/GNN_OPF_electricity_market-main/GNN_OPF_electricity_market-main/data_gen/118_data/'\n",
    "# C:\\Users\\USER\\Desktop\\GNN_OPF_electricity_market-main\\GNN_OPF_electricity_market-main\\GNN_OPF_electricity_market-main\\data_gen\\118_data\\118dc_quad_ISF.txt\n",
    "filename = root + '118dc_quad_ISF.txt'\n",
    "\n",
    "S_isf=pd.read_table(filename,sep=',',header=None).to_numpy() # ISF matrix\n",
    "filename=root+'118ac_fmax.txt'\n",
    "f_max=pd.read_table(filename,sep=',',header=None).to_numpy() # flow limit\n",
    "n_line = np.size(S_isf,0)\n",
    "S = torch.from_numpy(S_isf).to(device) # ISF\n",
    "f_max = torch.from_numpy(f_max).to(device) # flow limit\n",
    "print(S.shape,f_max.shape,torch.min(f_max))\n",
    "\n",
    "x=np.load(root+'ac118_p10_x_v.npy')\n",
    "y=np.load(root+'ac118_p10_y_v.npy')\n",
    "W=np.load(root+'ac118_p10_w.npy')\n",
    "print(np.max(x),np.min(x),np.max(y),np.min(y))\n",
    "\n",
    "# scaling on voltage\n",
    "vy_deviation = 0.9\n",
    "vy_scale = 100\n",
    "y[:,1,:] = (y[:,1,:] - vy_deviation) * vy_scale\n",
    "print('voltage range(scaled):',np.min(y[:,1,:]),np.max(y[:,1,:]))\n",
    "\n",
    "# scaling on price\n",
    "pi_deviation = 0\n",
    "y[:,0,:] = y[:,0,:] + pi_deviation\n",
    "# filter out extreme points in price\n",
    "y_sort_arg = np.argsort(np.amax(np.abs(y[:,0,:]),axis=0)) # max extreme\n",
    "y_sort_arg1 = np.argsort(np.amin(y[:,0,:],axis=0),axis=0) # min extreme\n",
    "\n",
    "del_idx0 = []\n",
    "del_num = 0\n",
    "for i in range(del_num):\n",
    "  del_idx0.append(y_sort_arg[-i])\n",
    "  del_idx0.append(y_sort_arg1[i])\n",
    "# print(del_idx0)\n",
    "del_idx = [] # keep only non-repeated\n",
    "[del_idx.append(x) for x in del_idx0 if x not in del_idx]\n",
    "del_idx = np.sort(del_idx)\n",
    "# delete extreme points\n",
    "print('price range old:',np.min(y[:,0,:]),np.max(y[:,0,:]))\n",
    "print('voltage range old:',np.min(y[:,1,:]),np.max(y[:,1,:]))\n",
    "# x = np.delete(x, del_idx, axis=2)\n",
    "# y = np.delete(y, del_idx, axis=2)\n",
    "print('price range new:',np.min(y[:,0,:]),np.max(y[:,0,:]))\n",
    "print('voltage range new:',np.min(y[:,1,:]),np.max(y[:,1,:]))\n",
    "print(x.shape,y.shape)"
   ]
  },
  {
   "cell_type": "code",
   "execution_count": 3,
   "metadata": {
    "id": "Hj9_eLfoWQY3"
   },
   "outputs": [
    {
     "name": "stdout",
     "output_type": "stream",
     "text": [
      "torch.Size([186, 118]) torch.Size([186, 1]) tensor(72)\n",
      "1654.8 -332.4 949.67 0.94\n",
      "voltage range(scaled): 3.9999999999999925 16.000000000000004\n",
      "price range old: 11.547 949.67\n",
      "voltage range old: 3.9999999999999925 16.000000000000004\n",
      "price range new: 11.547 949.67\n",
      "voltage range new: 3.9999999999999925 16.000000000000004\n",
      "(118, 6, 10000) (118, 2, 10000)\n"
     ]
    }
   ],
   "source": [
    "root = 'C:/Users/USER/Desktop/GNN_OPF_electricity_market-main/GNN_OPF_electricity_market-main/GNN_OPF_electricity_market-main/data_gen/118_data/'\n",
    "# C:\\Users\\USER\\Desktop\\GNN_OPF_electricity_market-main\\GNN_OPF_electricity_market-main\\GNN_OPF_electricity_market-main\\data_gen\\118_data\\118dc_quad_ISF.txt\n",
    "filename = root + '118dc_quad_ISF.txt'\n",
    "\n",
    "S_isf=pd.read_table(filename,sep=',',header=None).to_numpy() # ISF matrix\n",
    "filename=root+'118ac_fmax.txt'\n",
    "f_max=pd.read_table(filename,sep=',',header=None).to_numpy() # flow limit\n",
    "n_line = np.size(S_isf,0)\n",
    "S = torch.from_numpy(S_isf).to(device) # ISF\n",
    "f_max = torch.from_numpy(f_max).to(device) # flow limit\n",
    "print(S.shape,f_max.shape,torch.min(f_max))\n",
    "\n",
    "x=np.load(root+'ac118_p10_x_v.npy')\n",
    "y=np.load(root+'ac118_p10_y_v.npy')\n",
    "W=np.load(root+'ac118_p10_w.npy')\n",
    "print(np.max(x),np.min(x),np.max(y),np.min(y))\n",
    "\n",
    "# scaling on voltage\n",
    "vy_deviation = 0.9\n",
    "vy_scale = 100\n",
    "y[:,1,:] = (y[:,1,:] - vy_deviation) * vy_scale\n",
    "print('voltage range(scaled):',np.min(y[:,1,:]),np.max(y[:,1,:]))\n",
    "\n",
    "# scaling on price\n",
    "pi_deviation = 0\n",
    "y[:,0,:] = y[:,0,:] + pi_deviation\n",
    "# filter out extreme points in price\n",
    "y_sort_arg = np.argsort(np.amax(np.abs(y[:,0,:]),axis=0)) # max extreme\n",
    "y_sort_arg1 = np.argsort(np.amin(y[:,0,:],axis=0),axis=0) # min extreme\n",
    "\n",
    "del_idx0 = []\n",
    "del_num = 0\n",
    "for i in range(del_num):\n",
    "  del_idx0.append(y_sort_arg[-i])\n",
    "  del_idx0.append(y_sort_arg1[i])\n",
    "# print(del_idx0)\n",
    "del_idx = [] # keep only non-repeated\n",
    "[del_idx.append(x) for x in del_idx0 if x not in del_idx]\n",
    "del_idx = np.sort(del_idx)\n",
    "# delete extreme points\n",
    "print('price range old:',np.min(y[:,0,:]),np.max(y[:,0,:]))\n",
    "print('voltage range old:',np.min(y[:,1,:]),np.max(y[:,1,:]))\n",
    "# x = np.delete(x, del_idx, axis=2)\n",
    "# y = np.delete(y, del_idx, axis=2)\n",
    "print('price range new:',np.min(y[:,0,:]),np.max(y[:,0,:]))\n",
    "print('voltage range new:',np.min(y[:,1,:]),np.max(y[:,1,:]))\n",
    "print(x.shape,y.shape)"
   ]
  },
  {
   "cell_type": "code",
   "execution_count": 4,
   "metadata": {
    "id": "YcR42RBbdZqZ"
   },
   "outputs": [],
   "source": [
    "n_sample=y.shape[-1]\n",
    "n_bus=y.shape[0]\n",
    "x_total=x.transpose((1,0,2)).reshape(-1,x.shape[-1])\n",
    "y_total=y.transpose((1,0,2)).reshape(-1,y.shape[-1])\n",
    "x_train,x_test,y_train,y_test=train_test_split(x_total.T,y_total.T,test_size=0.2)\n",
    "\n",
    "\n",
    "class Dataset(torch.utils.data.Dataset):\n",
    "    def __init__(self,x,y):\n",
    "        self.x=torch.from_numpy(x).float()\n",
    "        self.y=torch.from_numpy(y).float()\n",
    "    def __len__(self):\n",
    "        return len(self.x)\n",
    "    def __getitem__(self, idx):\n",
    "        if torch.is_tensor(idx):\n",
    "          idx=idx.tolist()\n",
    "        return self.x[idx],self.y[idx]\n",
    "    \n",
    "batch_size=512\n",
    "#512\n",
    "params={'batch_size': batch_size,\n",
    "        'shuffle': True,\n",
    "        'num_workers': 0}\n",
    "train=Dataset(x_train,y_train)\n",
    "train_set=torch.utils.data.DataLoader(train,**params)\n",
    "val=Dataset(x_test,y_test)\n",
    "val_set=torch.utils.data.DataLoader(val,**params)"
   ]
  },
  {
   "cell_type": "code",
   "execution_count": 5,
   "metadata": {},
   "outputs": [
    {
     "name": "stdout",
     "output_type": "stream",
     "text": [
      "torch.Size([512, 708])\n",
      "Train Mean: 6.4420881271362305\n",
      "Train Std: 3.662130832672119\n",
      "Validation Mean: 6.458369731903076\n",
      "Validation Std: 3.657360792160034\n"
     ]
    }
   ],
   "source": [
    "# 資料分析\n",
    "# 從資料集中建立 DataLoader\n",
    "train_loader = torch.utils.data.DataLoader(train, batch_size=batch_size, shuffle=True)\n",
    "val_loader = torch.utils.data.DataLoader(val, batch_size=batch_size, shuffle=True)\n",
    "\n",
    "# 取第一個 batch 進行分析\n",
    "train_batch_x, _ = next(iter(train_loader))\n",
    "val_batch_x, _ = next(iter(val_loader))\n",
    "\n",
    "# 計算均值和標準差\n",
    "print(train_batch_x.shape)\n",
    "train_mean, train_std = train_batch_x.mean(dim=0), train_batch_x.std(dim=0)\n",
    "val_mean, val_std = val_batch_x.mean(dim=0), val_batch_x.std(dim=0)\n",
    "\n",
    "mean_value_train = train_mean.mean().item()\n",
    "print('Train Mean:', mean_value_train)\n",
    "std_value_train = train_std.mean().item()\n",
    "print('Train Std:', std_value_train)\n",
    "mean_value_val = val_mean.mean().item()\n",
    "print('Validation Mean:', mean_value_val)\n",
    "std_value_val = val_std.mean().item()\n",
    "print('Validation Std:', std_value_val)\n"
   ]
  },
  {
   "cell_type": "code",
   "execution_count": 6,
   "metadata": {
    "id": "JN9gN9BnCNim"
   },
   "outputs": [],
   "source": [
    "# fig2 = plt.figure(figsize=(8,4))\n",
    "# flat_list = list(np.concatenate(y[:,n_sample:]).flat)\n",
    "# flat_list3 = list(np.concatenate(y[:,:n_sample]).flat)\n",
    "# plt.subplot(1,2,1)\n",
    "# plt.hist(flat_list,bins = 100,label = 'voltage')\n",
    "# plt.subplot(1,2,2)\n",
    "# # plt.hist(flat_list3,range=[-2000, 2000],bins = 100,label = 'price')\n",
    "# plt.hist(flat_list3,bins = 100,label = 'price')\n",
    "# plt.show()"
   ]
  },
  {
   "cell_type": "code",
   "execution_count": 7,
   "metadata": {
    "id": "iOyWpG_4yCtz"
   },
   "outputs": [],
   "source": [
    "\n",
    "class dnn(torch.nn.Module):\n",
    "  def __init__(self,shape):\n",
    "    super(dnn,self).__init__()\n",
    "    layers=[]\n",
    "    for idx in range(len(shape)-2):\n",
    "      layers.extend([\n",
    "        nn.Linear(shape[idx],shape[idx+1]),\n",
    "        nn.BatchNorm1d(shape[idx+1]),\n",
    "        nn.ReLU(),\n",
    "        nn.Dropout(0.5),\n",
    "      ])\n",
    "    layers+=[nn.Linear(shape[-2],shape[-1])]\n",
    "    self.features=nn.Sequential(*layers)\n",
    "    for temp in self.features:\n",
    "      if type(temp)==nn.Linear:\n",
    "        torch.nn.init.normal_(temp.weight,mean=0,std=1)\n",
    "  def forward(self,x): return self.features(x)\n",
    "#net=dnn([n_bus*6,n_bus*10,n_bus*10,n_bus*10,n_bus*2]).to(device)\n",
    "#print('number of params: %d'%(sum(temp.numel() for temp in net.parameters() if temp.requires_grad)))\n",
    "\n",
    "\n"
   ]
  },
  {
   "cell_type": "code",
   "execution_count": null,
   "metadata": {},
   "outputs": [
    {
     "name": "stdout",
     "output_type": "stream",
     "text": [
      "n_bus: 118\n",
      "Total Parameters: 5,935,636\n",
      "----------------------------------------------------------------\n",
      "        Layer (type)               Output Shape         Param #\n",
      "================================================================\n",
      "            Linear-1                  [-1, 590]         418,310\n",
      "       BatchNorm1d-2                  [-1, 590]           1,180\n",
      "              ReLU-3                  [-1, 590]               0\n",
      "           Dropout-4                  [-1, 590]               0\n",
      "            Linear-5                  [-1, 590]         348,690\n",
      "       BatchNorm1d-6                  [-1, 590]           1,180\n",
      "              ReLU-7                  [-1, 590]               0\n",
      "           Dropout-8                  [-1, 590]               0\n",
      "            Linear-9                 [-1, 1180]         697,380\n",
      "      BatchNorm1d-10                 [-1, 1180]           2,360\n",
      "             ReLU-11                 [-1, 1180]               0\n",
      "          Dropout-12                 [-1, 1180]               0\n",
      "           Linear-13                 [-1, 1180]       1,393,580\n",
      "      BatchNorm1d-14                 [-1, 1180]           2,360\n",
      "             ReLU-15                 [-1, 1180]               0\n",
      "          Dropout-16                 [-1, 1180]               0\n",
      "           Linear-17                 [-1, 1180]       1,393,580\n",
      "      BatchNorm1d-18                 [-1, 1180]           2,360\n",
      "             ReLU-19                 [-1, 1180]               0\n",
      "          Dropout-20                 [-1, 1180]               0\n",
      "           Linear-21                 [-1, 1180]       1,393,580\n",
      "      BatchNorm1d-22                 [-1, 1180]           2,360\n",
      "             ReLU-23                 [-1, 1180]               0\n",
      "          Dropout-24                 [-1, 1180]               0\n",
      "           Linear-25                  [-1, 236]         278,716\n",
      "================================================================\n",
      "Total params: 5,935,636\n",
      "Trainable params: 5,935,636\n",
      "Non-trainable params: 0\n",
      "----------------------------------------------------------------\n",
      "Input size (MB): 0.00\n",
      "Forward/backward pass size (MB): 0.18\n",
      "Params size (MB): 22.64\n",
      "Estimated Total Size (MB): 22.83\n",
      "----------------------------------------------------------------\n"
     ]
    }
   ],
   "source": [
    "# class dnn(torch.nn.Module):\n",
    "#   def __init__(self,shape,dropout=0):\n",
    "#     super(dnn,self).__init__()\n",
    "#     layers=[]\n",
    "#     for idx in range(len(shape)-2):\n",
    "#       layers.extend([\n",
    "#         nn.Linear(shape[idx],shape[idx+1]),\n",
    "#         nn.ReLU(),\n",
    "#         nn.BatchNorm1d(shape[idx+1]),\n",
    "#         nn.Dropout(dropout)\n",
    "#       ])\n",
    "#     layers.append(nn.Linear(shape[-2],shape[-1]))\n",
    "#     self.features=nn.Sequential(*layers)\n",
    "#     # initialize\n",
    "#     for temp in self.features:\n",
    "#       if type(temp)==nn.Linear:\n",
    "#         torch.nn.init.normal_(temp.weight,mean=0,std=1)\n",
    "#   def forward(self,x):\n",
    "#     return self.features(x)\n",
    "# net=dnn([118*6,118*5,118*5,118*10,118*10,118*10,118*10,118]).to(device)\n",
    "# print('number of params: %d'%(sum(temp.numel() for temp in net.parameters() if temp.requires_grad)))\n",
    "from torchsummary import summary\n",
    "class dnn(torch.nn.Module):\n",
    "    def __init__(self, shape):\n",
    "        super(dnn, self).__init__()\n",
    "        layers = []\n",
    "        for idx in range(len(shape) - 2):\n",
    "            layers.extend([\n",
    "                nn.Linear(shape[idx], shape[idx+1]),\n",
    "                nn.BatchNorm1d(num_features=shape[idx+1]),  # 確保 num_features 正確\n",
    "                nn.ReLU(),\n",
    "                nn.Dropout(0.5),\n",
    "            ])\n",
    "        layers.append(nn.Linear(shape[-2], shape[-1]))  # 最後一層\n",
    "        self.features = nn.Sequential(*layers)\n",
    "\n",
    "    def forward(self, x):\n",
    "        x = x.view(x.size(0), -1)  # 保證 batch_size 在第一維\n",
    "        return self.features(x)\n",
    "\n",
    "# 測試模型\n",
    "print('n_bus:',n_bus)\n",
    "device = torch.device(\"cuda\" if torch.cuda.is_available() else \"cpu\")\n",
    "net=dnn([n_bus*6,n_bus*10,n_bus*10,n_bus*10,n_bus*2]).to(device) #source code\n",
    "#net = dnn([n_bus*6, n_bus*5, n_bus*5, n_bus*10, n_bus*10, n_bus*10, n_bus*10, n_bus*2]).to(device)#my code\n",
    "\n",
    "\n",
    "# 打印總參數數量\n",
    "total_params = sum(p.numel() for p in net.parameters() if p.requires_grad)\n",
    "print(f\"Total Parameters: {total_params:,}\")\n",
    "\n",
    "summary(net, (1, n_bus*6))\n"
   ]
  },
  {
   "cell_type": "code",
   "execution_count": 9,
   "metadata": {
    "id": "GEQ-MDKOTqW1"
   },
   "outputs": [],
   "source": [
    "# threshold function for p_g\n",
    "class my_gen_pred_binary(nn.Module):\n",
    "  def __init__(self):\n",
    "    super(my_gen_pred_binary,self).__init__()\n",
    "  def forward(self,x,thresh):\n",
    "    right_thresh=thresh.clone().detach().requires_grad_(True).double()\n",
    "    left_thresh=torch.tensor(0).double()\n",
    "    x=x.double()\n",
    "    output = torch.sigmoid(left_thresh - x)\n",
    "    output = torch.mul(output,left_thresh - x) + x\n",
    "    output = torch.sigmoid(output - right_thresh)\n",
    "    output = torch.mul(output,output - right_thresh) + right_thresh\n",
    "    return output"
   ]
  },
  {
   "cell_type": "code",
   "execution_count": 10,
   "metadata": {
    "id": "9mYCMszHaosA"
   },
   "outputs": [],
   "source": [
    "## params needed for S calculation\n",
    "# line parameters\n",
    "filename1 = root+'ieee118_lineloc.txt'\n",
    "filename2 = root+'ieee118_lineparams.txt'\n",
    "filename3 = root+'ieee118_Bmat.txt'\n",
    "# incidence info\n",
    "line_loc = pd.read_table(filename1,sep=',',header=None).to_numpy()\n",
    "# r, x, shunt, S_max\n",
    "line_params = pd.read_table(filename2,sep=',',header=None).to_numpy()\n",
    "B_mat=pd.read_table(filename3,sep=',',header=None).to_numpy()\n",
    "B_r = np.delete(B_mat,68,axis=0)\n",
    "B_r = np.delete(B_r,68,axis=1)\n",
    "Br_inv = np.linalg.inv(B_r)\n",
    "\n",
    "R_line = line_params[:,0].copy()\n",
    "X_line = line_params[:,1].copy()\n",
    "\n",
    "B_shunt = line_params[:,2].copy()\n",
    "\n",
    "Z_line = R_line + 1j * X_line \n",
    "Y_line = 1 / Z_line\n",
    "\n",
    "G_line = np.real(Y_line)\n",
    "B_line = np.imag(Y_line)\n",
    "\n",
    "# transformer indicator\n",
    "a = (R_line > 0).astype(int)\n",
    "\n",
    "# params to tensor and GPU\n",
    "G_line_tensor = torch.from_numpy(G_line).to(device) # conductance\n",
    "B_line_tensor = torch.from_numpy(B_line).to(device) # susceptance\n",
    "B_shunt_tensor = torch.from_numpy(B_shunt/2).to(device) # conductance\n",
    "Br_inv_tensor = torch.from_numpy(Br_inv).to(device) # reduced Bbus matrix\n",
    "a_tensor = torch.from_numpy(a).double().to(device) # line/transformer"
   ]
  },
  {
   "cell_type": "code",
   "execution_count": 11,
   "metadata": {
    "id": "Go4bwoEmoi0D"
   },
   "outputs": [],
   "source": [
    "class loss_func:\n",
    "    def __init__(self,s_max,G_line,B_line,B_shunt,Br_inv,a,line_loc):\n",
    "      self.s=s_max\n",
    "      self.g=G_line\n",
    "      self.b=B_line\n",
    "      self.c=B_shunt\n",
    "      self.r=Br_inv\n",
    "      self.a=a\n",
    "      self.mse=nn.MSELoss() # MSE loss\n",
    "      self.lmda1=torch.tensor(10).to(device) # V MSE \n",
    "      self.lmda2=torch.tensor(1).to(device) # pi MSE \n",
    "      self.lmda3=torch.tensor(0.1).to(device) # v l_inf\n",
    "      self.lmda4=torch.tensor(0.1).to(device) # s feasibility\n",
    "      self.lmda5=torch.tensor(0.01).to(device) # pi l_inf\n",
    "      self.line_loc=line_loc\n",
    "      self.binary_cell=my_gen_pred_binary()\n",
    "    def calc(self,pred,label,x,feas):\n",
    "      mse_p=self.mse(pred[:,:n_bus],label[:,:n_bus])\n",
    "      mse_v=self.mse(pred[:,n_bus:],label[:,n_bus:])\n",
    "      linf_p=(pred[:,:n_bus]-label[:,:n_bus]).norm(p=float('inf'))\n",
    "      linf_v=(pred[:,n_bus:]-label[:,n_bus:]).norm(p=float('inf'))\n",
    "      if feas==False:\n",
    "        return self.lmda1*mse_v+self.lmda2*mse_p+self.lmda3*linf_v+self.lmda5*linf_p\n",
    "      label_pred=pred[:,:n_bus]\n",
    "      p_max=x[:,:n_bus*1]-x[:,n_bus*1:n_bus*2]\n",
    "      quadratic_b=x[:,n_bus*4:n_bus*5]\n",
    "      quadratic_a=x[:,n_bus*5:n_bus*6]\n",
    "      quadratic_center=(label_pred-quadratic_b)/(quadratic_a+1e-5)/2\n",
    "      p_inj=self.binary_cell(quadratic_center,p_max)\n",
    "      bus_inj=p_inj+x[:,n_bus:n_bus*2]\n",
    "      p_inj_r=torch.cat((bus_inj[:,:68],bus_inj[:,69:]),1)/100\n",
    "      theta0=torch.matmul(self.r,p_inj_r.T)\n",
    "      ref_ang=torch.zeros(1,theta0.shape[1]).to(device)\n",
    "      theta=torch.cat([theta0[:68,:],ref_ang,theta0[68:,:]],0)\n",
    "      v_pred=(pred[:,n_bus:].transpose(0,1))*0.01+0.9\n",
    "      \n",
    "      # s penalty\n",
    "      theta1=theta[self.line_loc[:,0]-1,:]\n",
    "      theta2=theta[self.line_loc[:,1]-1,:]\n",
    "      V1=(v_pred[self.line_loc[:,0]-1,:]).double()\n",
    "      V2=(v_pred[self.line_loc[:,1]-1,:]).double()\n",
    "      f_p=(self.a*self.g*(V1*V1).T)-self.a*((V1*V2).T)*(self.g*torch.cos(theta1-theta2).T+self.b*torch.sin(theta1-theta2).T)\n",
    "      f_p=f_p.T\n",
    "      f_q=-self.a*(V1.T)*(self.a*V1.T)*(self.b+self.c/2)+self.a*((V1*V2).T)*(self.b*torch.cos(theta1-theta2).T-self.g*torch.sin(theta1-theta2).T)\n",
    "      f_q=f_q.T\n",
    "      s_pred=torch.sqrt(f_p*f_p+f_q*f_q+1e-5)*100\n",
    "      s_penalty=torch.sigmoid(s_pred-self.s)+torch.sigmoid(-s_pred-self.s)\n",
    "      s_total=torch.sum(s_penalty)\n",
    "\n",
    "      # sji penalty\n",
    "      theta1=theta[self.line_loc[:,1]-1,:]\n",
    "      theta2=theta[self.line_loc[:,0]-1,:]\n",
    "      V1=(v_pred[self.line_loc[:,1]-1,:]).double()\n",
    "      V2=(v_pred[self.line_loc[:,0]-1,:]).double() \n",
    "      fji_p=(self.a*self.g*(V1*V1).T)-self.a*((V1*V2).T)*(self.g*torch.cos(theta1-theta2).T+self.b*torch.sin(theta1-theta2).T)\n",
    "      fji_p=fji_p.T\n",
    "      fji_q=-self.a*(V1.T)*(self.a*V1.T)*(self.b+self.c/2)+self.a*((V1*V2).T)*(self.b*torch.cos(theta1-theta2).T-self.g*torch.sin(theta1-theta2).T)\n",
    "      fji_q=fji_q.T\n",
    "      sji_pred=torch.sqrt(fji_p*fji_p+fji_q*fji_q+1e-5)*100\n",
    "      sji_penalty=torch.sigmoid(sji_pred-self.s)+torch.sigmoid(-sji_pred-self.s)\n",
    "      sji_total=torch.sum(sji_penalty)\n",
    "\n",
    "      return self.lmda1*mse_v+self.lmda2*mse_p+self.lmda3*linf_v+self.lmda5*linf_p+self.lmda4*s_total+self.lmda4*sji_total\n",
    "my_loss=loss_func(f_max,G_line_tensor,B_line_tensor,B_shunt_tensor,Br_inv_tensor,a_tensor,line_loc)"
   ]
  },
  {
   "cell_type": "code",
   "execution_count": 12,
   "metadata": {},
   "outputs": [
    {
     "name": "stdout",
     "output_type": "stream",
     "text": [
      "cold start\n",
      "Epoch 0 | Training loss: 403.3938 | Learning Rate: 0.001000\n",
      "Epoch 0 | Validation loss: 407.0385 | Learning Rate: 0.001000\n",
      "Epoch 1 | Training loss: 388.1000 | Learning Rate: 0.001000\n",
      "Epoch 2 | Training loss: 373.2499 | Learning Rate: 0.001000\n",
      "Epoch 3 | Training loss: 357.4983 | Learning Rate: 0.001000\n",
      "Epoch 4 | Training loss: 340.1894 | Learning Rate: 0.001000\n",
      "Epoch 5 | Training loss: 318.1922 | Learning Rate: 0.001000\n",
      "Epoch 5 | Validation loss: 257.5825 | Learning Rate: 0.001000\n",
      "Epoch 6 | Training loss: 287.9529 | Learning Rate: 0.001000\n",
      "Epoch 7 | Training loss: 261.5910 | Learning Rate: 0.001000\n",
      "Epoch 8 | Training loss: 237.3741 | Learning Rate: 0.001000\n",
      "Epoch 9 | Training loss: 213.4976 | Learning Rate: 0.001000\n",
      "Epoch 10 | Training loss: 190.5202 | Learning Rate: 0.001000\n",
      "Epoch 10 | Validation loss: 175.1895 | Learning Rate: 0.001000\n",
      "Epoch 11 | Training loss: 168.2565 | Learning Rate: 0.001000\n",
      "Epoch 12 | Training loss: 147.7542 | Learning Rate: 0.001000\n",
      "Epoch 13 | Training loss: 127.6928 | Learning Rate: 0.001000\n",
      "Epoch 14 | Training loss: 109.6045 | Learning Rate: 0.001000\n",
      "Epoch 15 | Training loss: 93.3204 | Learning Rate: 0.001000\n",
      "Epoch 15 | Validation loss: 92.0805 | Learning Rate: 0.001000\n",
      "Epoch 16 | Training loss: 78.4947 | Learning Rate: 0.001000\n",
      "Epoch 17 | Training loss: 65.1244 | Learning Rate: 0.001000\n",
      "Epoch 18 | Training loss: 53.4061 | Learning Rate: 0.001000\n",
      "Epoch 19 | Training loss: 43.2974 | Learning Rate: 0.001000\n",
      "Epoch 20 | Training loss: 34.5992 | Learning Rate: 0.001000\n",
      "Epoch 20 | Validation loss: 40.9256 | Learning Rate: 0.001000\n",
      "Epoch 21 | Training loss: 27.3372 | Learning Rate: 0.001000\n",
      "Epoch 22 | Training loss: 21.5753 | Learning Rate: 0.001000\n",
      "Epoch 23 | Training loss: 17.1014 | Learning Rate: 0.001000\n",
      "Epoch 24 | Training loss: 13.5269 | Learning Rate: 0.001000\n",
      "Epoch 25 | Training loss: 10.8117 | Learning Rate: 0.001000\n",
      "Epoch 25 | Validation loss: 15.9022 | Learning Rate: 0.001000\n",
      "Epoch 26 | Training loss: 8.6839 | Learning Rate: 0.001000\n",
      "Epoch 27 | Training loss: 7.0968 | Learning Rate: 0.001000\n",
      "Epoch 28 | Training loss: 5.9112 | Learning Rate: 0.001000\n",
      "Epoch 29 | Training loss: 4.9974 | Learning Rate: 0.001000\n",
      "Epoch 30 | Training loss: 4.3564 | Learning Rate: 0.001000\n",
      "Epoch 30 | Validation loss: 3.0326 | Learning Rate: 0.001000\n",
      "Epoch 31 | Training loss: 3.9246 | Learning Rate: 0.001000\n",
      "Epoch 32 | Training loss: 3.4728 | Learning Rate: 0.001000\n",
      "Epoch 33 | Training loss: 3.3571 | Learning Rate: 0.001000\n",
      "Epoch 34 | Training loss: 3.0662 | Learning Rate: 0.001000\n",
      "Epoch 35 | Training loss: 2.9052 | Learning Rate: 0.001000\n",
      "Epoch 35 | Validation loss: 2.0728 | Learning Rate: 0.001000\n",
      "Epoch 36 | Training loss: 2.8570 | Learning Rate: 0.001000\n",
      "Epoch 37 | Training loss: 2.7104 | Learning Rate: 0.001000\n",
      "Epoch 38 | Training loss: 2.5651 | Learning Rate: 0.001000\n",
      "Epoch 39 | Training loss: 2.5427 | Learning Rate: 0.001000\n",
      "Epoch 40 | Training loss: 2.4659 | Learning Rate: 0.001000\n",
      "Epoch 40 | Validation loss: 1.5592 | Learning Rate: 0.001000\n",
      "Epoch 41 | Training loss: 2.3551 | Learning Rate: 0.001000\n",
      "Epoch 42 | Training loss: 2.3056 | Learning Rate: 0.001000\n",
      "Epoch 43 | Training loss: 2.2713 | Learning Rate: 0.001000\n",
      "Epoch 44 | Training loss: 2.3038 | Learning Rate: 0.001000\n",
      "Epoch 45 | Training loss: 2.1766 | Learning Rate: 0.001000\n",
      "Epoch 45 | Validation loss: 1.4225 | Learning Rate: 0.001000\n",
      "Epoch 46 | Training loss: 2.2210 | Learning Rate: 0.001000\n",
      "Epoch 47 | Training loss: 2.1814 | Learning Rate: 0.001000\n",
      "Epoch 48 | Training loss: 2.1776 | Learning Rate: 0.001000\n",
      "Epoch 49 | Training loss: 2.1942 | Learning Rate: 0.001000\n",
      "Epoch 50 | Training loss: 2.1502 | Learning Rate: 0.001000\n",
      "Epoch 50 | Validation loss: 1.3386 | Learning Rate: 0.001000\n",
      "Epoch 51 | Training loss: 2.1943 | Learning Rate: 0.001000\n",
      "Epoch 52 | Training loss: 2.1176 | Learning Rate: 0.001000\n",
      "Epoch 53 | Training loss: 2.0945 | Learning Rate: 0.001000\n",
      "Epoch 54 | Training loss: 2.1045 | Learning Rate: 0.001000\n",
      "Epoch 55 | Training loss: 2.0730 | Learning Rate: 0.001000\n",
      "Epoch 55 | Validation loss: 1.3565 | Learning Rate: 0.001000\n",
      "Epoch 56 | Training loss: 2.1069 | Learning Rate: 0.001000\n",
      "Epoch 57 | Training loss: 2.1256 | Learning Rate: 0.001000\n",
      "Epoch 58 | Training loss: 1.9932 | Learning Rate: 0.001000\n",
      "Epoch 59 | Training loss: 2.0999 | Learning Rate: 0.001000\n",
      "Epoch 60 | Training loss: 2.1592 | Learning Rate: 0.001000\n",
      "Epoch 60 | Validation loss: 1.3327 | Learning Rate: 0.001000\n",
      "Epoch 61 | Training loss: 2.0260 | Learning Rate: 0.001000\n",
      "Epoch 62 | Training loss: 2.0274 | Learning Rate: 0.001000\n",
      "Epoch 63 | Training loss: 2.0596 | Learning Rate: 0.001000\n",
      "Epoch 64 | Training loss: 2.0127 | Learning Rate: 0.001000\n",
      "Epoch 65 | Training loss: 1.9966 | Learning Rate: 0.001000\n",
      "Epoch 65 | Validation loss: 1.3556 | Learning Rate: 0.001000\n",
      "Epoch 66 | Training loss: 2.0646 | Learning Rate: 0.001000\n",
      "Epoch 67 | Training loss: 2.0035 | Learning Rate: 0.001000\n",
      "Epoch 68 | Training loss: 2.0248 | Learning Rate: 0.001000\n",
      "Epoch 69 | Training loss: 1.9696 | Learning Rate: 0.001000\n",
      "Epoch 70 | Training loss: 1.9959 | Learning Rate: 0.001000\n",
      "Epoch 70 | Validation loss: 1.5805 | Learning Rate: 0.001000\n",
      "Epoch 71 | Training loss: 1.9962 | Learning Rate: 0.001000\n",
      "Epoch 72 | Training loss: 1.9921 | Learning Rate: 0.001000\n",
      "Epoch 73 | Training loss: 2.0224 | Learning Rate: 0.001000\n",
      "Epoch 74 | Training loss: 1.9834 | Learning Rate: 0.001000\n",
      "Epoch 75 | Training loss: 1.8922 | Learning Rate: 0.001000\n",
      "Epoch 75 | Validation loss: 1.3268 | Learning Rate: 0.001000\n",
      "Epoch 76 | Training loss: 1.9240 | Learning Rate: 0.001000\n",
      "Epoch 77 | Training loss: 1.9579 | Learning Rate: 0.001000\n",
      "Epoch 78 | Training loss: 1.9612 | Learning Rate: 0.001000\n",
      "Epoch 79 | Training loss: 1.9026 | Learning Rate: 0.001000\n",
      "Epoch 80 | Training loss: 1.9503 | Learning Rate: 0.001000\n",
      "Epoch 80 | Validation loss: 1.3415 | Learning Rate: 0.001000\n",
      "Epoch 81 | Training loss: 1.9708 | Learning Rate: 0.001000\n",
      "Epoch 82 | Training loss: 1.9918 | Learning Rate: 0.001000\n",
      "Epoch 83 | Training loss: 2.0452 | Learning Rate: 0.001000\n",
      "Epoch 84 | Training loss: 1.9267 | Learning Rate: 0.001000\n",
      "Epoch 85 | Training loss: 1.9266 | Learning Rate: 0.001000\n",
      "Epoch 85 | Validation loss: 1.3314 | Learning Rate: 0.001000\n",
      "Epoch 86 | Training loss: 1.9498 | Learning Rate: 0.001000\n",
      "Epoch 87 | Training loss: 1.8722 | Learning Rate: 0.001000\n",
      "Epoch 88 | Training loss: 1.9158 | Learning Rate: 0.001000\n",
      "Epoch 89 | Training loss: 1.9520 | Learning Rate: 0.001000\n",
      "Epoch 90 | Training loss: 1.9909 | Learning Rate: 0.001000\n",
      "Epoch 90 | Validation loss: 1.2932 | Learning Rate: 0.001000\n",
      "Epoch 91 | Training loss: 1.9264 | Learning Rate: 0.001000\n",
      "Epoch 92 | Training loss: 1.9068 | Learning Rate: 0.001000\n",
      "Epoch 93 | Training loss: 1.9003 | Learning Rate: 0.001000\n",
      "Epoch 94 | Training loss: 1.8952 | Learning Rate: 0.001000\n",
      "Epoch 95 | Training loss: 1.9031 | Learning Rate: 0.001000\n",
      "Epoch 95 | Validation loss: 1.4943 | Learning Rate: 0.001000\n",
      "Epoch 96 | Training loss: 1.9467 | Learning Rate: 0.001000\n",
      "Epoch 97 | Training loss: 1.9214 | Learning Rate: 0.001000\n",
      "Epoch 98 | Training loss: 1.9410 | Learning Rate: 0.001000\n",
      "Epoch 99 | Training loss: 1.8907 | Learning Rate: 0.001000\n",
      "Epoch 100 | Training loss: 1.8151 | Learning Rate: 0.001000\n",
      "Epoch 100 | Validation loss: 1.3220 | Learning Rate: 0.001000\n",
      "Epoch 101 | Training loss: 1.8735 | Learning Rate: 0.001000\n",
      "Epoch 102 | Training loss: 1.8214 | Learning Rate: 0.001000\n",
      "Epoch 103 | Training loss: 1.8694 | Learning Rate: 0.001000\n",
      "Epoch 104 | Training loss: 1.8672 | Learning Rate: 0.001000\n",
      "Epoch 105 | Training loss: 1.8936 | Learning Rate: 0.001000\n",
      "Epoch 105 | Validation loss: 1.3624 | Learning Rate: 0.001000\n",
      "Epoch 106 | Training loss: 1.8528 | Learning Rate: 0.001000\n",
      "Epoch 107 | Training loss: 1.8368 | Learning Rate: 0.001000\n",
      "Epoch 108 | Training loss: 1.8361 | Learning Rate: 0.001000\n",
      "Epoch 109 | Training loss: 1.8680 | Learning Rate: 0.001000\n",
      "Epoch 110 | Training loss: 1.8255 | Learning Rate: 0.001000\n",
      "Epoch 110 | Validation loss: 1.3724 | Learning Rate: 0.001000\n",
      "Epoch 111 | Training loss: 1.7647 | Learning Rate: 0.001000\n",
      "Epoch 112 | Training loss: 1.7624 | Learning Rate: 0.001000\n",
      "Epoch 113 | Training loss: 1.7033 | Learning Rate: 0.001000\n",
      "Epoch 114 | Training loss: 1.7637 | Learning Rate: 0.001000\n",
      "Epoch 115 | Training loss: 1.8612 | Learning Rate: 0.001000\n",
      "Epoch 115 | Validation loss: 1.4985 | Learning Rate: 0.001000\n",
      "Epoch 116 | Training loss: 1.7830 | Learning Rate: 0.001000\n",
      "Epoch 117 | Training loss: 1.7510 | Learning Rate: 0.001000\n",
      "Epoch 118 | Training loss: 1.7420 | Learning Rate: 0.001000\n",
      "Epoch 119 | Training loss: 1.7327 | Learning Rate: 0.001000\n",
      "Epoch 120 | Training loss: 1.7705 | Learning Rate: 0.001000\n",
      "Epoch 120 | Validation loss: 1.2549 | Learning Rate: 0.001000\n",
      "Epoch 121 | Training loss: 1.7257 | Learning Rate: 0.001000\n",
      "Epoch 122 | Training loss: 1.7232 | Learning Rate: 0.001000\n",
      "Epoch 123 | Training loss: 1.7449 | Learning Rate: 0.001000\n",
      "Epoch 124 | Training loss: 1.7001 | Learning Rate: 0.001000\n",
      "Epoch 125 | Training loss: 1.6939 | Learning Rate: 0.001000\n",
      "Epoch 125 | Validation loss: 2.3127 | Learning Rate: 0.001000\n",
      "Epoch 126 | Training loss: 1.6773 | Learning Rate: 0.001000\n",
      "Epoch 127 | Training loss: 1.7385 | Learning Rate: 0.001000\n",
      "Epoch 128 | Training loss: 1.7378 | Learning Rate: 0.001000\n",
      "Epoch 129 | Training loss: 1.7382 | Learning Rate: 0.001000\n",
      "Epoch 130 | Training loss: 1.7126 | Learning Rate: 0.001000\n",
      "Epoch 130 | Validation loss: 1.2760 | Learning Rate: 0.001000\n",
      "Epoch 131 | Training loss: 1.6521 | Learning Rate: 0.001000\n",
      "Epoch 132 | Training loss: 1.6786 | Learning Rate: 0.001000\n",
      "Epoch 133 | Training loss: 1.6594 | Learning Rate: 0.001000\n",
      "Epoch 134 | Training loss: 1.6547 | Learning Rate: 0.001000\n",
      "Epoch 135 | Training loss: 1.6539 | Learning Rate: 0.001000\n",
      "Epoch 135 | Validation loss: 1.5972 | Learning Rate: 0.001000\n",
      "Epoch 136 | Training loss: 1.6893 | Learning Rate: 0.001000\n",
      "Epoch 137 | Training loss: 1.6567 | Learning Rate: 0.001000\n",
      "Epoch 138 | Training loss: 1.6183 | Learning Rate: 0.001000\n",
      "Epoch 139 | Training loss: 1.6389 | Learning Rate: 0.001000\n",
      "Epoch 140 | Training loss: 1.6194 | Learning Rate: 0.001000\n",
      "Epoch 140 | Validation loss: 2.3364 | Learning Rate: 0.001000\n",
      "Epoch 141 | Training loss: 1.5394 | Learning Rate: 0.001000\n",
      "Epoch 142 | Training loss: 1.6088 | Learning Rate: 0.001000\n",
      "Epoch 143 | Training loss: 1.6325 | Learning Rate: 0.001000\n",
      "Epoch 144 | Training loss: 1.6408 | Learning Rate: 0.001000\n",
      "Epoch 145 | Training loss: 1.6184 | Learning Rate: 0.001000\n",
      "Epoch 145 | Validation loss: 2.2610 | Learning Rate: 0.001000\n",
      "Epoch 146 | Training loss: 1.5812 | Learning Rate: 0.001000\n",
      "Epoch 147 | Training loss: 1.6125 | Learning Rate: 0.001000\n",
      "Epoch 148 | Training loss: 1.6393 | Learning Rate: 0.001000\n",
      "Epoch 149 | Training loss: 1.5957 | Learning Rate: 0.001000\n",
      "Epoch 150 | Training loss: 1.5402 | Learning Rate: 0.001000\n",
      "Epoch 150 | Validation loss: 1.4573 | Learning Rate: 0.001000\n",
      "Epoch 151 | Training loss: 1.5811 | Learning Rate: 0.001000\n",
      "Epoch 152 | Training loss: 1.5923 | Learning Rate: 0.001000\n",
      "Epoch 153 | Training loss: 1.5992 | Learning Rate: 0.001000\n",
      "Epoch 154 | Training loss: 1.5965 | Learning Rate: 0.001000\n",
      "Epoch 155 | Training loss: 1.6203 | Learning Rate: 0.001000\n",
      "Epoch 155 | Validation loss: 1.8645 | Learning Rate: 0.001000\n",
      "Epoch 156 | Training loss: 1.6533 | Learning Rate: 0.001000\n",
      "Epoch 157 | Training loss: 1.5760 | Learning Rate: 0.001000\n",
      "Epoch 158 | Training loss: 1.5382 | Learning Rate: 0.001000\n",
      "Epoch 159 | Training loss: 1.5805 | Learning Rate: 0.001000\n",
      "Epoch 160 | Training loss: 1.5605 | Learning Rate: 0.001000\n",
      "Epoch 160 | Validation loss: 1.3244 | Learning Rate: 0.001000\n",
      "Epoch 161 | Training loss: 1.5430 | Learning Rate: 0.001000\n",
      "Epoch 162 | Training loss: 1.5127 | Learning Rate: 0.001000\n",
      "Epoch 163 | Training loss: 1.5297 | Learning Rate: 0.001000\n",
      "Epoch 164 | Training loss: 1.4999 | Learning Rate: 0.001000\n",
      "Epoch 165 | Training loss: 1.4920 | Learning Rate: 0.001000\n",
      "Epoch 165 | Validation loss: 1.7818 | Learning Rate: 0.001000\n",
      "Epoch 166 | Training loss: 1.5298 | Learning Rate: 0.001000\n",
      "Epoch 167 | Training loss: 1.5222 | Learning Rate: 0.001000\n",
      "Epoch 168 | Training loss: 1.4571 | Learning Rate: 0.001000\n",
      "Epoch 169 | Training loss: 1.4838 | Learning Rate: 0.001000\n",
      "Epoch 170 | Training loss: 1.4641 | Learning Rate: 0.001000\n",
      "Epoch 170 | Validation loss: 1.3354 | Learning Rate: 0.001000\n",
      "Epoch 171 | Training loss: 1.4914 | Learning Rate: 0.001000\n",
      "Epoch 172 | Training loss: 1.4222 | Learning Rate: 0.001000\n",
      "Epoch 173 | Training loss: 1.4770 | Learning Rate: 0.001000\n",
      "Epoch 174 | Training loss: 1.4999 | Learning Rate: 0.001000\n",
      "Epoch 175 | Training loss: 1.4465 | Learning Rate: 0.001000\n",
      "Epoch 175 | Validation loss: 1.8408 | Learning Rate: 0.001000\n",
      "Epoch 176 | Training loss: 1.4235 | Learning Rate: 0.001000\n",
      "Epoch 177 | Training loss: 1.4768 | Learning Rate: 0.001000\n",
      "Epoch 178 | Training loss: 1.4604 | Learning Rate: 0.001000\n",
      "Epoch 179 | Training loss: 1.4784 | Learning Rate: 0.001000\n",
      "Epoch 180 | Training loss: 1.4332 | Learning Rate: 0.001000\n",
      "Epoch 180 | Validation loss: 3.1682 | Learning Rate: 0.001000\n",
      "Epoch 181 | Training loss: 1.4173 | Learning Rate: 0.001000\n",
      "Epoch 182 | Training loss: 1.4429 | Learning Rate: 0.001000\n",
      "Epoch 183 | Training loss: 1.4273 | Learning Rate: 0.001000\n",
      "Epoch 184 | Training loss: 1.4232 | Learning Rate: 0.001000\n",
      "Epoch 185 | Training loss: 1.4338 | Learning Rate: 0.001000\n",
      "Epoch 185 | Validation loss: 1.7667 | Learning Rate: 0.001000\n",
      "Epoch 186 | Training loss: 1.4095 | Learning Rate: 0.001000\n",
      "Epoch 187 | Training loss: 1.3993 | Learning Rate: 0.001000\n",
      "Epoch 188 | Training loss: 1.4421 | Learning Rate: 0.001000\n",
      "Epoch 189 | Training loss: 1.4356 | Learning Rate: 0.001000\n",
      "Epoch 190 | Training loss: 1.4680 | Learning Rate: 0.001000\n",
      "Epoch 190 | Validation loss: 1.5285 | Learning Rate: 0.001000\n",
      "Epoch 191 | Training loss: 1.4271 | Learning Rate: 0.001000\n",
      "Epoch 192 | Training loss: 1.3765 | Learning Rate: 0.001000\n",
      "Epoch 193 | Training loss: 1.3969 | Learning Rate: 0.001000\n",
      "Epoch 194 | Training loss: 1.4287 | Learning Rate: 0.001000\n",
      "Epoch 195 | Training loss: 1.4668 | Learning Rate: 0.001000\n",
      "Epoch 195 | Validation loss: 1.6443 | Learning Rate: 0.001000\n",
      "Epoch 196 | Training loss: 1.3671 | Learning Rate: 0.001000\n",
      "Epoch 197 | Training loss: 1.3780 | Learning Rate: 0.001000\n",
      "Epoch 198 | Training loss: 1.3999 | Learning Rate: 0.001000\n",
      "Epoch 199 | Training loss: 1.3569 | Learning Rate: 0.001000\n",
      "Epoch 200 | Training loss: 1.3781 | Learning Rate: 0.001000\n",
      "Epoch 200 | Validation loss: 3.5654 | Learning Rate: 0.001000\n",
      "Epoch 201 | Training loss: 1.4120 | Learning Rate: 0.001000\n",
      "Epoch 202 | Training loss: 1.3823 | Learning Rate: 0.001000\n",
      "Epoch 203 | Training loss: 1.3478 | Learning Rate: 0.001000\n",
      "Epoch 204 | Training loss: 1.3635 | Learning Rate: 0.001000\n",
      "Epoch 205 | Training loss: 1.3740 | Learning Rate: 0.001000\n",
      "Epoch 205 | Validation loss: 3.5534 | Learning Rate: 0.001000\n",
      "Epoch 206 | Training loss: 1.3343 | Learning Rate: 0.001000\n",
      "Epoch 207 | Training loss: 1.3264 | Learning Rate: 0.001000\n",
      "Epoch 208 | Training loss: 1.3317 | Learning Rate: 0.001000\n",
      "Epoch 209 | Training loss: 1.3503 | Learning Rate: 0.001000\n",
      "Epoch 210 | Training loss: 1.3503 | Learning Rate: 0.001000\n",
      "Epoch 210 | Validation loss: 1.9511 | Learning Rate: 0.001000\n",
      "Epoch 211 | Training loss: 1.3433 | Learning Rate: 0.001000\n",
      "Epoch 212 | Training loss: 1.3243 | Learning Rate: 0.001000\n",
      "Epoch 213 | Training loss: 1.3398 | Learning Rate: 0.001000\n",
      "Epoch 214 | Training loss: 1.2966 | Learning Rate: 0.001000\n",
      "Epoch 215 | Training loss: 1.3277 | Learning Rate: 0.001000\n",
      "Epoch 215 | Validation loss: 1.8673 | Learning Rate: 0.001000\n",
      "Epoch 216 | Training loss: 1.3101 | Learning Rate: 0.001000\n",
      "Epoch 217 | Training loss: 1.3078 | Learning Rate: 0.001000\n",
      "Epoch 218 | Training loss: 1.2888 | Learning Rate: 0.001000\n",
      "Epoch 219 | Training loss: 1.3011 | Learning Rate: 0.001000\n",
      "Epoch 220 | Training loss: 1.3172 | Learning Rate: 0.001000\n",
      "Epoch 220 | Validation loss: 1.3054 | Learning Rate: 0.001000\n",
      "Epoch 221 | Training loss: 1.3161 | Learning Rate: 0.001000\n",
      "Epoch 222 | Training loss: 1.3078 | Learning Rate: 0.001000\n",
      "Epoch 223 | Training loss: 1.2859 | Learning Rate: 0.001000\n",
      "Epoch 224 | Training loss: 1.3305 | Learning Rate: 0.001000\n",
      "Epoch 225 | Training loss: 1.2742 | Learning Rate: 0.001000\n",
      "Epoch 225 | Validation loss: 3.3321 | Learning Rate: 0.001000\n",
      "Epoch 226 | Training loss: 1.3427 | Learning Rate: 0.001000\n",
      "Epoch 227 | Training loss: 1.3756 | Learning Rate: 0.001000\n",
      "Epoch 228 | Training loss: 1.3238 | Learning Rate: 0.001000\n",
      "Epoch 229 | Training loss: 1.3247 | Learning Rate: 0.001000\n",
      "Epoch 230 | Training loss: 1.3106 | Learning Rate: 0.001000\n",
      "Epoch 230 | Validation loss: 1.2854 | Learning Rate: 0.001000\n",
      "Epoch 231 | Training loss: 1.2545 | Learning Rate: 0.001000\n",
      "Epoch 232 | Training loss: 1.3164 | Learning Rate: 0.001000\n",
      "Epoch 233 | Training loss: 1.3262 | Learning Rate: 0.001000\n",
      "Epoch 234 | Training loss: 1.3049 | Learning Rate: 0.001000\n",
      "Epoch 235 | Training loss: 1.2422 | Learning Rate: 0.001000\n",
      "Epoch 235 | Validation loss: 1.0984 | Learning Rate: 0.001000\n",
      "Epoch 236 | Training loss: 1.2587 | Learning Rate: 0.001000\n",
      "Epoch 237 | Training loss: 1.2539 | Learning Rate: 0.001000\n",
      "Epoch 238 | Training loss: 1.2530 | Learning Rate: 0.001000\n",
      "Epoch 239 | Training loss: 1.2850 | Learning Rate: 0.001000\n",
      "Epoch 240 | Training loss: 1.2226 | Learning Rate: 0.001000\n",
      "Epoch 240 | Validation loss: 2.0583 | Learning Rate: 0.001000\n",
      "Epoch 241 | Training loss: 1.2484 | Learning Rate: 0.001000\n",
      "Epoch 242 | Training loss: 1.2509 | Learning Rate: 0.001000\n",
      "Epoch 243 | Training loss: 1.2248 | Learning Rate: 0.001000\n",
      "Epoch 244 | Training loss: 1.2354 | Learning Rate: 0.001000\n",
      "Epoch 245 | Training loss: 1.2197 | Learning Rate: 0.001000\n",
      "Epoch 245 | Validation loss: 1.0559 | Learning Rate: 0.001000\n",
      "Epoch 246 | Training loss: 1.2324 | Learning Rate: 0.001000\n",
      "Epoch 247 | Training loss: 1.2695 | Learning Rate: 0.001000\n",
      "Epoch 248 | Training loss: 1.2480 | Learning Rate: 0.001000\n",
      "Epoch 249 | Training loss: 1.2464 | Learning Rate: 0.001000\n",
      "Epoch 250 | Training loss: 1.1979 | Learning Rate: 0.001000\n",
      "Epoch 250 | Validation loss: 2.2298 | Learning Rate: 0.001000\n",
      "Epoch 251 | Training loss: 1.2308 | Learning Rate: 0.001000\n",
      "Epoch 252 | Training loss: 1.2218 | Learning Rate: 0.001000\n",
      "Epoch 253 | Training loss: 1.2149 | Learning Rate: 0.001000\n",
      "Epoch 254 | Training loss: 1.2325 | Learning Rate: 0.001000\n",
      "Epoch 255 | Training loss: 1.2482 | Learning Rate: 0.001000\n",
      "Epoch 255 | Validation loss: 1.6646 | Learning Rate: 0.001000\n",
      "Epoch 256 | Training loss: 1.2355 | Learning Rate: 0.001000\n",
      "Epoch 257 | Training loss: 1.2174 | Learning Rate: 0.001000\n",
      "Epoch 258 | Training loss: 1.2294 | Learning Rate: 0.001000\n",
      "Epoch 259 | Training loss: 1.2348 | Learning Rate: 0.001000\n",
      "Epoch 260 | Training loss: 1.2120 | Learning Rate: 0.001000\n",
      "Epoch 260 | Validation loss: 2.6786 | Learning Rate: 0.001000\n",
      "Epoch 261 | Training loss: 1.1926 | Learning Rate: 0.001000\n",
      "Epoch 262 | Training loss: 1.1802 | Learning Rate: 0.001000\n",
      "Epoch 263 | Training loss: 1.2039 | Learning Rate: 0.001000\n",
      "Epoch 264 | Training loss: 1.2478 | Learning Rate: 0.001000\n",
      "Epoch 265 | Training loss: 1.2152 | Learning Rate: 0.001000\n",
      "Epoch 265 | Validation loss: 1.2902 | Learning Rate: 0.001000\n",
      "Epoch 266 | Training loss: 1.2625 | Learning Rate: 0.001000\n",
      "Epoch 267 | Training loss: 1.2035 | Learning Rate: 0.001000\n",
      "Epoch 268 | Training loss: 1.2021 | Learning Rate: 0.001000\n",
      "Epoch 269 | Training loss: 1.2200 | Learning Rate: 0.001000\n",
      "Epoch 270 | Training loss: 1.2127 | Learning Rate: 0.001000\n",
      "Epoch 270 | Validation loss: 1.7003 | Learning Rate: 0.001000\n",
      "Epoch 271 | Training loss: 1.2023 | Learning Rate: 0.001000\n",
      "Epoch 272 | Training loss: 1.2067 | Learning Rate: 0.001000\n",
      "Epoch 273 | Training loss: 1.1871 | Learning Rate: 0.001000\n",
      "Epoch 274 | Training loss: 1.1719 | Learning Rate: 0.001000\n",
      "Epoch 275 | Training loss: 1.1885 | Learning Rate: 0.001000\n",
      "Epoch 275 | Validation loss: 1.5473 | Learning Rate: 0.001000\n",
      "Epoch 276 | Training loss: 1.1857 | Learning Rate: 0.001000\n",
      "Epoch 277 | Training loss: 1.1642 | Learning Rate: 0.001000\n",
      "Epoch 278 | Training loss: 1.1754 | Learning Rate: 0.001000\n",
      "Epoch 279 | Training loss: 1.2033 | Learning Rate: 0.001000\n",
      "Epoch 280 | Training loss: 1.1640 | Learning Rate: 0.001000\n",
      "Epoch 280 | Validation loss: 1.7487 | Learning Rate: 0.001000\n",
      "Epoch 281 | Training loss: 1.1576 | Learning Rate: 0.001000\n",
      "Epoch 282 | Training loss: 1.1577 | Learning Rate: 0.001000\n",
      "Epoch 283 | Training loss: 1.1722 | Learning Rate: 0.001000\n",
      "Epoch 284 | Training loss: 1.1798 | Learning Rate: 0.001000\n",
      "Epoch 285 | Training loss: 1.2085 | Learning Rate: 0.001000\n",
      "Epoch 285 | Validation loss: 1.1499 | Learning Rate: 0.001000\n",
      "Epoch 286 | Training loss: 1.1704 | Learning Rate: 0.001000\n",
      "Epoch 287 | Training loss: 1.1756 | Learning Rate: 0.001000\n",
      "Epoch 288 | Training loss: 1.1610 | Learning Rate: 0.001000\n",
      "Epoch 289 | Training loss: 1.1538 | Learning Rate: 0.001000\n",
      "Epoch 290 | Training loss: 1.1747 | Learning Rate: 0.001000\n",
      "Epoch 290 | Validation loss: 1.3314 | Learning Rate: 0.001000\n",
      "Epoch 291 | Training loss: 1.1569 | Learning Rate: 0.001000\n",
      "Epoch 292 | Training loss: 1.1720 | Learning Rate: 0.001000\n",
      "Epoch 293 | Training loss: 1.1899 | Learning Rate: 0.001000\n",
      "Epoch 294 | Training loss: 1.1459 | Learning Rate: 0.001000\n",
      "Epoch 295 | Training loss: 1.1738 | Learning Rate: 0.001000\n",
      "Epoch 295 | Validation loss: 1.1940 | Learning Rate: 0.001000\n",
      "Epoch 296 | Training loss: 1.1770 | Learning Rate: 0.001000\n",
      "Epoch 297 | Training loss: 1.1346 | Learning Rate: 0.001000\n",
      "Epoch 298 | Training loss: 1.1309 | Learning Rate: 0.001000\n",
      "Epoch 299 | Training loss: 1.1349 | Learning Rate: 0.001000\n",
      "Epoch 300 | Training loss: 1.1192 | Learning Rate: 0.001000\n",
      "Epoch 300 | Validation loss: 2.1198 | Learning Rate: 0.001000\n",
      "Epoch 301 | Training loss: 1.1824 | Learning Rate: 0.001000\n",
      "Epoch 302 | Training loss: 1.1567 | Learning Rate: 0.001000\n",
      "Epoch 303 | Training loss: 1.1341 | Learning Rate: 0.001000\n",
      "Epoch 304 | Training loss: 1.1507 | Learning Rate: 0.001000\n",
      "Epoch 305 | Training loss: 1.1216 | Learning Rate: 0.001000\n",
      "Epoch 305 | Validation loss: 1.5884 | Learning Rate: 0.001000\n",
      "Epoch 306 | Training loss: 1.1364 | Learning Rate: 0.001000\n",
      "Epoch 307 | Training loss: 1.1678 | Learning Rate: 0.001000\n",
      "Epoch 308 | Training loss: 1.1203 | Learning Rate: 0.001000\n",
      "Epoch 309 | Training loss: 1.1259 | Learning Rate: 0.001000\n",
      "Epoch 310 | Training loss: 1.1669 | Learning Rate: 0.001000\n",
      "Epoch 310 | Validation loss: 6.7645 | Learning Rate: 0.001000\n",
      "Epoch 311 | Training loss: 1.1343 | Learning Rate: 0.001000\n",
      "Epoch 312 | Training loss: 1.1318 | Learning Rate: 0.001000\n",
      "Epoch 313 | Training loss: 1.1774 | Learning Rate: 0.001000\n",
      "Epoch 314 | Training loss: 1.1578 | Learning Rate: 0.001000\n",
      "Epoch 315 | Training loss: 1.1553 | Learning Rate: 0.001000\n",
      "Epoch 315 | Validation loss: 5.1283 | Learning Rate: 0.001000\n",
      "Epoch 316 | Training loss: 1.1514 | Learning Rate: 0.001000\n",
      "Epoch 317 | Training loss: 1.1158 | Learning Rate: 0.001000\n",
      "Epoch 318 | Training loss: 1.1118 | Learning Rate: 0.001000\n",
      "Epoch 319 | Training loss: 1.0938 | Learning Rate: 0.001000\n",
      "Epoch 320 | Training loss: 1.1193 | Learning Rate: 0.001000\n",
      "Epoch 320 | Validation loss: 1.0353 | Learning Rate: 0.001000\n",
      "Epoch 321 | Training loss: 1.1032 | Learning Rate: 0.001000\n",
      "Epoch 322 | Training loss: 1.1348 | Learning Rate: 0.001000\n",
      "Epoch 323 | Training loss: 1.1737 | Learning Rate: 0.001000\n",
      "Epoch 324 | Training loss: 1.1149 | Learning Rate: 0.001000\n",
      "Epoch 325 | Training loss: 1.1201 | Learning Rate: 0.001000\n",
      "Epoch 325 | Validation loss: 1.0787 | Learning Rate: 0.001000\n",
      "Epoch 326 | Training loss: 1.0694 | Learning Rate: 0.001000\n",
      "Epoch 327 | Training loss: 1.0960 | Learning Rate: 0.001000\n",
      "Epoch 328 | Training loss: 1.1179 | Learning Rate: 0.001000\n",
      "Epoch 329 | Training loss: 1.1273 | Learning Rate: 0.001000\n",
      "Epoch 330 | Training loss: 1.0730 | Learning Rate: 0.001000\n",
      "Epoch 330 | Validation loss: 1.1627 | Learning Rate: 0.001000\n",
      "Epoch 331 | Training loss: 1.0793 | Learning Rate: 0.001000\n",
      "Epoch 332 | Training loss: 1.0640 | Learning Rate: 0.001000\n",
      "Epoch 333 | Training loss: 1.0873 | Learning Rate: 0.001000\n",
      "Epoch 334 | Training loss: 1.1121 | Learning Rate: 0.001000\n",
      "Epoch 335 | Training loss: 1.0785 | Learning Rate: 0.001000\n",
      "Epoch 335 | Validation loss: 1.4835 | Learning Rate: 0.001000\n",
      "Epoch 336 | Training loss: 1.0811 | Learning Rate: 0.001000\n",
      "Epoch 337 | Training loss: 1.0845 | Learning Rate: 0.001000\n",
      "Epoch 338 | Training loss: 1.1298 | Learning Rate: 0.001000\n",
      "Epoch 339 | Training loss: 1.1257 | Learning Rate: 0.001000\n",
      "Epoch 340 | Training loss: 1.0872 | Learning Rate: 0.001000\n",
      "Epoch 340 | Validation loss: 1.3706 | Learning Rate: 0.001000\n",
      "Epoch 341 | Training loss: 1.0919 | Learning Rate: 0.001000\n",
      "Epoch 342 | Training loss: 1.0891 | Learning Rate: 0.001000\n",
      "Epoch 343 | Training loss: 1.0703 | Learning Rate: 0.001000\n",
      "Epoch 344 | Training loss: 1.0629 | Learning Rate: 0.001000\n",
      "Epoch 345 | Training loss: 1.1022 | Learning Rate: 0.001000\n",
      "Epoch 345 | Validation loss: 1.0200 | Learning Rate: 0.001000\n",
      "Epoch 346 | Training loss: 1.0880 | Learning Rate: 0.001000\n",
      "Epoch 347 | Training loss: 1.0795 | Learning Rate: 0.001000\n",
      "Epoch 348 | Training loss: 1.0480 | Learning Rate: 0.001000\n",
      "Epoch 349 | Training loss: 1.0735 | Learning Rate: 0.001000\n",
      "Epoch 350 | Training loss: 1.0800 | Learning Rate: 0.001000\n",
      "Epoch 350 | Validation loss: 1.1789 | Learning Rate: 0.001000\n",
      "Epoch 351 | Training loss: 1.1165 | Learning Rate: 0.001000\n",
      "Epoch 352 | Training loss: 1.0838 | Learning Rate: 0.001000\n",
      "Epoch 353 | Training loss: 1.0808 | Learning Rate: 0.001000\n",
      "Epoch 354 | Training loss: 1.0721 | Learning Rate: 0.001000\n",
      "Epoch 355 | Training loss: 1.0660 | Learning Rate: 0.001000\n",
      "Epoch 355 | Validation loss: 1.1336 | Learning Rate: 0.001000\n",
      "Epoch 356 | Training loss: 1.0587 | Learning Rate: 0.001000\n",
      "Epoch 357 | Training loss: 1.0492 | Learning Rate: 0.001000\n",
      "Epoch 358 | Training loss: 1.0730 | Learning Rate: 0.001000\n",
      "Epoch 359 | Training loss: 1.0744 | Learning Rate: 0.001000\n",
      "Epoch 360 | Training loss: 1.0786 | Learning Rate: 0.001000\n",
      "Epoch 360 | Validation loss: 1.0407 | Learning Rate: 0.001000\n",
      "Epoch 361 | Training loss: 1.0551 | Learning Rate: 0.001000\n",
      "Epoch 362 | Training loss: 1.0616 | Learning Rate: 0.001000\n",
      "Epoch 363 | Training loss: 1.0812 | Learning Rate: 0.001000\n",
      "Epoch 364 | Training loss: 1.0523 | Learning Rate: 0.001000\n",
      "Epoch 365 | Training loss: 1.0559 | Learning Rate: 0.001000\n",
      "Epoch 365 | Validation loss: 2.2222 | Learning Rate: 0.001000\n",
      "Epoch 366 | Training loss: 1.0519 | Learning Rate: 0.001000\n",
      "Epoch 367 | Training loss: 1.0216 | Learning Rate: 0.001000\n",
      "Epoch 368 | Training loss: 1.0494 | Learning Rate: 0.001000\n",
      "Epoch 369 | Training loss: 1.0500 | Learning Rate: 0.001000\n",
      "Epoch 370 | Training loss: 1.0683 | Learning Rate: 0.001000\n",
      "Epoch 370 | Validation loss: 1.0289 | Learning Rate: 0.001000\n",
      "Epoch 371 | Training loss: 1.0284 | Learning Rate: 0.001000\n",
      "Epoch 372 | Training loss: 1.0976 | Learning Rate: 0.001000\n",
      "Epoch 373 | Training loss: 1.0947 | Learning Rate: 0.001000\n",
      "Epoch 374 | Training loss: 1.0374 | Learning Rate: 0.001000\n",
      "Epoch 375 | Training loss: 1.0389 | Learning Rate: 0.001000\n",
      "Epoch 375 | Validation loss: 1.0513 | Learning Rate: 0.001000\n",
      "Epoch 376 | Training loss: 1.0810 | Learning Rate: 0.001000\n",
      "Epoch 377 | Training loss: 1.0254 | Learning Rate: 0.001000\n",
      "Epoch 378 | Training loss: 1.0548 | Learning Rate: 0.001000\n",
      "Epoch 379 | Training loss: 1.0616 | Learning Rate: 0.001000\n",
      "Epoch 380 | Training loss: 1.0733 | Learning Rate: 0.001000\n",
      "Epoch 380 | Validation loss: 1.1898 | Learning Rate: 0.001000\n",
      "Epoch 381 | Training loss: 1.0921 | Learning Rate: 0.001000\n",
      "Epoch 382 | Training loss: 1.0838 | Learning Rate: 0.001000\n",
      "Epoch 383 | Training loss: 1.0726 | Learning Rate: 0.001000\n",
      "Epoch 384 | Training loss: 1.0580 | Learning Rate: 0.001000\n",
      "Epoch 385 | Training loss: 1.0814 | Learning Rate: 0.001000\n",
      "Epoch 385 | Validation loss: 1.7856 | Learning Rate: 0.001000\n",
      "Epoch 386 | Training loss: 1.0179 | Learning Rate: 0.001000\n",
      "Epoch 387 | Training loss: 1.0392 | Learning Rate: 0.001000\n",
      "Epoch 388 | Training loss: 1.0672 | Learning Rate: 0.001000\n",
      "Epoch 389 | Training loss: 1.0376 | Learning Rate: 0.001000\n",
      "Epoch 390 | Training loss: 1.0463 | Learning Rate: 0.001000\n",
      "Epoch 390 | Validation loss: 3.4493 | Learning Rate: 0.001000\n",
      "Epoch 391 | Training loss: 1.0163 | Learning Rate: 0.001000\n",
      "Epoch 392 | Training loss: 1.0047 | Learning Rate: 0.001000\n",
      "Epoch 393 | Training loss: 1.0681 | Learning Rate: 0.001000\n",
      "Epoch 394 | Training loss: 1.0433 | Learning Rate: 0.001000\n",
      "Epoch 395 | Training loss: 1.0503 | Learning Rate: 0.001000\n",
      "Epoch 395 | Validation loss: 1.0704 | Learning Rate: 0.001000\n",
      "Epoch 396 | Training loss: 1.0203 | Learning Rate: 0.001000\n",
      "Epoch 397 | Training loss: 1.0334 | Learning Rate: 0.001000\n",
      "Epoch 398 | Training loss: 1.0412 | Learning Rate: 0.001000\n",
      "Epoch 399 | Training loss: 1.0705 | Learning Rate: 0.001000\n",
      "Epoch 400 | Training loss: 1.0391 | Learning Rate: 0.001000\n",
      "Epoch 400 | Validation loss: 1.4367 | Learning Rate: 0.001000\n",
      "Epoch 401 | Training loss: 1.0834 | Learning Rate: 0.001000\n",
      "Epoch 402 | Training loss: 1.0361 | Learning Rate: 0.001000\n",
      "Epoch 403 | Training loss: 1.0232 | Learning Rate: 0.001000\n",
      "Epoch 404 | Training loss: 1.0611 | Learning Rate: 0.001000\n",
      "Epoch 405 | Training loss: 1.0541 | Learning Rate: 0.001000\n",
      "Epoch 405 | Validation loss: 1.2983 | Learning Rate: 0.001000\n",
      "Epoch 406 | Training loss: 1.0143 | Learning Rate: 0.001000\n",
      "Epoch 407 | Training loss: 1.0176 | Learning Rate: 0.001000\n",
      "Epoch 408 | Training loss: 1.0320 | Learning Rate: 0.001000\n",
      "Epoch 409 | Training loss: 1.0255 | Learning Rate: 0.001000\n",
      "Epoch 410 | Training loss: 1.0400 | Learning Rate: 0.001000\n",
      "Epoch 410 | Validation loss: 1.0068 | Learning Rate: 0.001000\n",
      "Epoch 411 | Training loss: 1.0086 | Learning Rate: 0.001000\n",
      "Epoch 412 | Training loss: 1.0257 | Learning Rate: 0.001000\n",
      "Epoch 413 | Training loss: 1.0200 | Learning Rate: 0.001000\n",
      "Epoch 414 | Training loss: 1.0645 | Learning Rate: 0.001000\n",
      "Epoch 415 | Training loss: 1.0573 | Learning Rate: 0.001000\n",
      "Epoch 415 | Validation loss: 1.6993 | Learning Rate: 0.001000\n",
      "Epoch 416 | Training loss: 1.0262 | Learning Rate: 0.001000\n",
      "Epoch 417 | Training loss: 0.9954 | Learning Rate: 0.001000\n",
      "Epoch 418 | Training loss: 1.0292 | Learning Rate: 0.001000\n",
      "Epoch 419 | Training loss: 1.0242 | Learning Rate: 0.001000\n",
      "Epoch 420 | Training loss: 1.0143 | Learning Rate: 0.001000\n",
      "Epoch 420 | Validation loss: 1.6312 | Learning Rate: 0.001000\n",
      "Epoch 421 | Training loss: 1.0045 | Learning Rate: 0.001000\n",
      "Epoch 422 | Training loss: 0.9977 | Learning Rate: 0.001000\n",
      "Epoch 423 | Training loss: 1.0210 | Learning Rate: 0.001000\n",
      "Epoch 424 | Training loss: 1.0071 | Learning Rate: 0.001000\n",
      "Epoch 425 | Training loss: 1.0099 | Learning Rate: 0.001000\n",
      "Epoch 425 | Validation loss: 1.1075 | Learning Rate: 0.001000\n",
      "Epoch 426 | Training loss: 1.0399 | Learning Rate: 0.001000\n",
      "Epoch 427 | Training loss: 0.9951 | Learning Rate: 0.001000\n",
      "Epoch 428 | Training loss: 0.9965 | Learning Rate: 0.001000\n",
      "Epoch 429 | Training loss: 1.0109 | Learning Rate: 0.001000\n",
      "Epoch 430 | Training loss: 1.0137 | Learning Rate: 0.001000\n",
      "Epoch 430 | Validation loss: 1.0882 | Learning Rate: 0.001000\n",
      "Epoch 431 | Training loss: 1.0250 | Learning Rate: 0.001000\n",
      "Epoch 432 | Training loss: 1.0483 | Learning Rate: 0.001000\n",
      "Epoch 433 | Training loss: 1.0195 | Learning Rate: 0.001000\n",
      "Epoch 434 | Training loss: 0.9810 | Learning Rate: 0.001000\n",
      "Epoch 435 | Training loss: 0.9937 | Learning Rate: 0.001000\n",
      "Epoch 435 | Validation loss: 1.0083 | Learning Rate: 0.001000\n",
      "Epoch 436 | Training loss: 1.0087 | Learning Rate: 0.001000\n",
      "Epoch 437 | Training loss: 0.9856 | Learning Rate: 0.001000\n",
      "Epoch 438 | Training loss: 0.9932 | Learning Rate: 0.001000\n",
      "Epoch 439 | Training loss: 0.9892 | Learning Rate: 0.001000\n",
      "Epoch 440 | Training loss: 0.9803 | Learning Rate: 0.001000\n",
      "Epoch 440 | Validation loss: 1.0292 | Learning Rate: 0.001000\n",
      "Epoch 441 | Training loss: 1.0249 | Learning Rate: 0.001000\n",
      "Epoch 442 | Training loss: 1.0016 | Learning Rate: 0.001000\n",
      "Epoch 443 | Training loss: 0.9847 | Learning Rate: 0.001000\n",
      "Epoch 444 | Training loss: 1.0165 | Learning Rate: 0.001000\n",
      "Epoch 445 | Training loss: 0.9901 | Learning Rate: 0.001000\n",
      "Epoch 445 | Validation loss: 1.0995 | Learning Rate: 0.001000\n",
      "Epoch 446 | Training loss: 0.9680 | Learning Rate: 0.001000\n",
      "Epoch 447 | Training loss: 0.9570 | Learning Rate: 0.001000\n",
      "Epoch 448 | Training loss: 1.0131 | Learning Rate: 0.001000\n",
      "Epoch 449 | Training loss: 0.9507 | Learning Rate: 0.001000\n",
      "Epoch 450 | Training loss: 1.0166 | Learning Rate: 0.001000\n",
      "Epoch 450 | Validation loss: 1.3054 | Learning Rate: 0.001000\n",
      "Epoch 451 | Training loss: 1.0136 | Learning Rate: 0.001000\n",
      "Epoch 452 | Training loss: 0.9916 | Learning Rate: 0.001000\n",
      "Epoch 453 | Training loss: 0.9697 | Learning Rate: 0.001000\n",
      "Epoch 454 | Training loss: 1.0255 | Learning Rate: 0.001000\n",
      "Epoch 455 | Training loss: 0.9946 | Learning Rate: 0.001000\n",
      "Epoch 455 | Validation loss: 1.6381 | Learning Rate: 0.001000\n",
      "Epoch 456 | Training loss: 0.9910 | Learning Rate: 0.001000\n",
      "Epoch 457 | Training loss: 1.0066 | Learning Rate: 0.001000\n",
      "Epoch 458 | Training loss: 0.9809 | Learning Rate: 0.001000\n",
      "Epoch 459 | Training loss: 1.0019 | Learning Rate: 0.001000\n",
      "Epoch 460 | Training loss: 1.0285 | Learning Rate: 0.001000\n",
      "Epoch 460 | Validation loss: 1.0055 | Learning Rate: 0.001000\n",
      "Epoch 461 | Training loss: 0.9996 | Learning Rate: 0.001000\n",
      "Epoch 462 | Training loss: 0.9888 | Learning Rate: 0.001000\n",
      "Epoch 463 | Training loss: 1.0081 | Learning Rate: 0.001000\n",
      "Epoch 464 | Training loss: 1.0169 | Learning Rate: 0.001000\n",
      "Epoch 465 | Training loss: 0.9703 | Learning Rate: 0.001000\n",
      "Epoch 465 | Validation loss: 1.0976 | Learning Rate: 0.001000\n",
      "Epoch 466 | Training loss: 0.9720 | Learning Rate: 0.001000\n",
      "Epoch 467 | Training loss: 1.0051 | Learning Rate: 0.001000\n",
      "Epoch 468 | Training loss: 1.0061 | Learning Rate: 0.001000\n",
      "Epoch 469 | Training loss: 1.0042 | Learning Rate: 0.001000\n",
      "Epoch 470 | Training loss: 0.9829 | Learning Rate: 0.001000\n",
      "Epoch 470 | Validation loss: 1.0171 | Learning Rate: 0.001000\n",
      "Epoch 471 | Training loss: 0.9873 | Learning Rate: 0.001000\n",
      "Epoch 472 | Training loss: 0.9751 | Learning Rate: 0.001000\n",
      "Epoch 473 | Training loss: 0.9888 | Learning Rate: 0.001000\n",
      "Epoch 474 | Training loss: 0.9362 | Learning Rate: 0.001000\n",
      "Epoch 475 | Training loss: 0.9621 | Learning Rate: 0.001000\n",
      "Epoch 475 | Validation loss: 1.0712 | Learning Rate: 0.001000\n",
      "Epoch 476 | Training loss: 0.9675 | Learning Rate: 0.001000\n",
      "Epoch 477 | Training loss: 0.9422 | Learning Rate: 0.001000\n",
      "Epoch 478 | Training loss: 0.9672 | Learning Rate: 0.001000\n",
      "Epoch 479 | Training loss: 0.9578 | Learning Rate: 0.001000\n",
      "Epoch 480 | Training loss: 0.9520 | Learning Rate: 0.001000\n",
      "Epoch 480 | Validation loss: 1.0092 | Learning Rate: 0.001000\n",
      "Epoch 481 | Training loss: 0.9843 | Learning Rate: 0.001000\n",
      "Epoch 482 | Training loss: 0.9786 | Learning Rate: 0.001000\n",
      "Epoch 483 | Training loss: 0.9491 | Learning Rate: 0.001000\n",
      "Epoch 484 | Training loss: 0.9689 | Learning Rate: 0.001000\n",
      "Epoch 485 | Training loss: 0.9506 | Learning Rate: 0.001000\n",
      "Epoch 485 | Validation loss: 1.2043 | Learning Rate: 0.001000\n",
      "Epoch 486 | Training loss: 0.9433 | Learning Rate: 0.001000\n",
      "Epoch 487 | Training loss: 0.9525 | Learning Rate: 0.001000\n",
      "Epoch 488 | Training loss: 0.9582 | Learning Rate: 0.001000\n",
      "Epoch 489 | Training loss: 0.9328 | Learning Rate: 0.001000\n",
      "Epoch 490 | Training loss: 0.9915 | Learning Rate: 0.001000\n",
      "Epoch 490 | Validation loss: 1.1622 | Learning Rate: 0.001000\n",
      "Epoch 491 | Training loss: 0.9741 | Learning Rate: 0.001000\n",
      "Epoch 492 | Training loss: 0.9659 | Learning Rate: 0.001000\n",
      "Epoch 493 | Training loss: 1.0042 | Learning Rate: 0.001000\n",
      "Epoch 494 | Training loss: 0.9370 | Learning Rate: 0.001000\n",
      "Epoch 495 | Training loss: 0.9728 | Learning Rate: 0.001000\n",
      "Epoch 495 | Validation loss: 1.1038 | Learning Rate: 0.001000\n",
      "Epoch 496 | Training loss: 1.0075 | Learning Rate: 0.001000\n",
      "Epoch 497 | Training loss: 0.9658 | Learning Rate: 0.001000\n",
      "Epoch 498 | Training loss: 0.9696 | Learning Rate: 0.001000\n",
      "Epoch 499 | Training loss: 0.9278 | Learning Rate: 0.001000\n",
      "Training time: 391.3807s\n"
     ]
    }
   ],
   "source": [
    "import torch.optim as optim\n",
    "path = root + 'data_118_quad/gnn_trained_ac118.pickle'\n",
    "try:\n",
    "    net.load_state_dict(torch.load(path))\n",
    "    print('params loaded')\n",
    "except:\n",
    "    print('cold start')\n",
    "\n",
    "# 初始學習率\n",
    "lr = 0.001\n",
    "factor = 0.9\n",
    "patience = 5\n",
    "optimizer = optim.AdamW(net.parameters(), lr)\n",
    "\n",
    "# Learning Rate Scheduler: ReduceLROnPlateau\n",
    "# scheduler = optim.lr_scheduler.ReduceLROnPlateau(\n",
    "#     optimizer, \n",
    "#     mode='min',       # 監測 loss，越小越好\n",
    "#     factor=0.9,       # 學習率變成原來的 90%\n",
    "#     patience=5,       # 5 個 epoch 沒有改善才降低學習率\n",
    "#     verbose=True,     # 會輸出學習率變更訊息\n",
    "#     min_lr=1e-6       # 學習率最低不低於 1e-6\n",
    "# )\n",
    "\n",
    "# scheduler = optim.lr_scheduler.ReduceLROnPlateau(\n",
    "#     optimizer, \n",
    "#     mode='min',       # 監測 loss\n",
    "#     factor=factor,       # 學習率變成 50% (下降更多)\n",
    "#     patience=patience,       # 3 個 epoch 沒有改善就降低學習率\n",
    "#     verbose=True,     \n",
    "#     min_lr=1e-6       \n",
    "# )\n",
    "\n",
    "\n",
    "\n",
    "train_loss = []\n",
    "val_loss = []\n",
    "lr_list = []\n",
    "\n",
    "t0 = time.time()\n",
    "max_epochs = 500\n",
    "eval_epoch = 5\n",
    "\n",
    "tolerance = 5  # 早停耐心值\n",
    "min_delta = 1e-3\n",
    "previous = float('inf')\n",
    "\n",
    "feas = False  # 加入可行性標記\n",
    "\n",
    "for epoch in range(max_epochs):\n",
    "    total_loss = 0.0\n",
    "    for local_batch, local_label in train_set:\n",
    "        optimizer.zero_grad()\n",
    "        local_batch, local_label = local_batch.to(device), local_label.to(device)\n",
    "        logits = net(local_batch)\n",
    "        loss = my_loss.calc(logits, local_label, local_batch, feas)\n",
    "        loss.backward()\n",
    "        optimizer.step()\n",
    "        total_loss += loss.item()\n",
    "    avg_loss = total_loss / len(train_set.dataset)\n",
    "    train_loss.append(avg_loss)\n",
    "    \n",
    "    # lr_list.append(scheduler.optimizer.param_groups[0]['lr'])\n",
    "    lr_list.append(lr)\n",
    "    # print(f\"Epoch {epoch} | Training loss: {avg_loss:.4f} | Learning Rate: {scheduler.optimizer.param_groups[0]['lr']:.6f}\")\n",
    "    print(f\"Epoch {epoch} | Training loss: {avg_loss:.4f} | Learning Rate: {lr:.6f}\")\n",
    "    \n",
    "    if epoch % eval_epoch == 0:\n",
    "        net.eval()\n",
    "        total_loss = 0.0\n",
    "        for local_batch, local_label in val_set:\n",
    "            local_batch, local_label = local_batch.to(device), local_label.to(device)\n",
    "            logits = net(local_batch)\n",
    "            loss = my_loss.calc(logits, local_label, local_batch, feas)\n",
    "            total_loss += loss.item()\n",
    "        avg_loss = total_loss / len(val_set.dataset)\n",
    "        val_loss.append([epoch, avg_loss])\n",
    "        print(f\"Epoch {epoch} | Validation loss: {avg_loss:.4f} | Learning Rate: {lr:.6f}\")\n",
    "        \n",
    "        # 更新 learning rate\n",
    "        #scheduler.step(avg_loss)\n",
    "        \n",
    "        # 早停機制\n",
    "        # if epoch:\n",
    "        #     if previous - avg_loss < min_delta:\n",
    "        #         tolerance -= 1\n",
    "        #     if tolerance == 0:\n",
    "        #         print(\"Early stopping triggered\")\n",
    "        #         break\n",
    "        previous = avg_loss\n",
    "        net.train()\n",
    "\n",
    "        final_epoch = epoch\n",
    "\n",
    "t1 = time.time()\n",
    "print(f\"Training time: {t1 - t0:.4f}s\")\n",
    "#印出 lr validation loss training loss 圖\n"
   ]
  },
  {
   "cell_type": "code",
   "execution_count": 13,
   "metadata": {},
   "outputs": [
    {
     "name": "stdout",
     "output_type": "stream",
     "text": [
      "500 100 500\n",
      "✅ 輸出內容已儲存到 C:\\Users\\USER\\Desktop\\GNN_OPF_electricity_market-main\\output_loss_fig\\trainingloss_gunplot\\02181727.txt\n",
      "⚠️ Gnuplot Error: Warning: empty y range [0.001:0.001], adjusting to [0.00099:0.00101]\n",
      "\n"
     ]
    }
   ],
   "source": [
    "import os\n",
    "import subprocess\n",
    "from datetime import datetime\n",
    "import numpy as np\n",
    "\n",
    "\n",
    "\n",
    "# **設定輸出目錄**\n",
    "output_dir = r'C:\\Users\\USER\\Desktop\\GNN_OPF_electricity_market-main\\output_loss_fig\\trainingloss_gunplot'\n",
    "timestamp = datetime.now().strftime('%m%d%H%M')\n",
    "output_file = os.path.join(output_dir, f'{timestamp}.txt')\n",
    "\n",
    "# **確保目錄存在**\n",
    "os.makedirs(output_dir, exist_ok=True)\n",
    "\n",
    "print(len(train_loss), len(val_loss), len(lr_list))  # **確認長度**\n",
    "\n",
    "# **儲存數據到 txt 檔案**\n",
    "with open(output_file, 'w') as file:\n",
    "    for i in range(len(train_loss)):\n",
    "        if i % 5 == 0 and (i // 5) < len(val_loss):  # **確保 val_loss 沒有超出索引**\n",
    "            val = val_loss[i // 5]  # **正確存入數值**\n",
    "        else:\n",
    "            val = \"NaN\"  # **改成 NaN 讓 Gnuplot 忽略**\n",
    "        file.write(f\"{i} {train_loss[i]} {val[1]} {lr_list[i]}\\n\")\n",
    "\n",
    "print(f\"✅ 輸出內容已儲存到 {output_file}\")\n",
    "\n",
    "# **修正 Windows 路徑格式**\n",
    "gnuplot_file = output_file.replace(\"\\\\\", \"/\")  # **確保 Gnuplot 能識別路徑**\n",
    "loss_plot_path = os.path.join(output_dir, f'loss_plot_{timestamp}.png').replace(\"\\\\\", \"/\")\n",
    "lr_plot_path = os.path.join(output_dir, f'lr_plot_{timestamp}.png').replace(\"\\\\\", \"/\")\n",
    "\n",
    "# **定義 gnuplot 腳本**\n",
    "gnuplot_script = f\"\"\"\n",
    "set terminal pngcairo enhanced font 'Arial,12' size 800,600\n",
    "set output \"{loss_plot_path}\"\n",
    "\n",
    "set title \"Training Loss & Validation Loss\"\n",
    "set xlabel \"Step\"\n",
    "set ylabel \"Value\"\n",
    "set grid\n",
    "set key outside\n",
    "\n",
    "# **確保 Validation Loss 顯示**\n",
    "plot \"{gnuplot_file}\" using 1:2 with lines title \"Train Loss\" linecolor rgb \"blue\", \\\n",
    "     \"{gnuplot_file}\" using 1:3 with lines title \"Val Loss\" linecolor rgb \"red\"\n",
    "   \n",
    "\n",
    "# **第二張圖：Learning Rate**\n",
    "set output \"{lr_plot_path}\"\n",
    "set title \"Learning Rate\"\n",
    "set xlabel \"Step\"\n",
    "set ylabel \"Learning Rate\"\n",
    "set grid\n",
    "set key outside\n",
    "\n",
    "# **繪製 Learning Rate**\n",
    "plot \"{gnuplot_file}\" using 1:4 with lines title \"Learning Rate\" linecolor rgb \"green\" lw 2\n",
    "\n",
    "\"\"\"\n",
    "\n",
    "\n",
    "\n",
    "# **執行 gnuplot**\n",
    "try:\n",
    "    result = subprocess.run([\"gnuplot\"], input=gnuplot_script, text=True, check=True,\n",
    "                            stdout=subprocess.PIPE, stderr=subprocess.PIPE)\n",
    "    if result.stderr:\n",
    "        print(\"⚠️ Gnuplot Error:\", result.stderr)\n",
    "    else:\n",
    "        print(f\"✅ Plots generated successfully.\\n📂 Loss plot: {loss_plot_path}\")\n",
    "except FileNotFoundError:\n",
    "    print(\"❌ Error: Gnuplot is not installed or not in PATH.\")\n",
    "except subprocess.CalledProcessError as e:\n",
    "    print(f\"❌ Gnuplot execution failed:\\n{e.stderr}\")\n"
   ]
  },
  {
   "cell_type": "code",
   "execution_count": 14,
   "metadata": {
    "id": "AvUTphUSzqzA"
   },
   "outputs": [
    {
     "name": "stdout",
     "output_type": "stream",
     "text": [
      "C:\\Users\\USER\\Desktop\\GNN_OPF_electricity_market-main\\GNN_OPF_electricity_market-main\\GNN_OPF_electricity_market-main\\data_gen\\118_data\\FCNN_model\\dnn_02181727.pickle\n"
     ]
    }
   ],
   "source": [
    "from datetime import datetime\n",
    "\n",
    "timestamp=datetime.now().strftime('%m%d%H%M')\n",
    "path = 'C:\\\\Users\\\\USER\\\\Desktop\\\\GNN_OPF_electricity_market-main\\\\GNN_OPF_electricity_market-main\\\\GNN_OPF_electricity_market-main\\\\data_gen\\\\118_data\\\\FCNN_model\\\\'\n",
    "\n",
    "path = path+'dnn_%s.pickle'%(timestamp)\n",
    "if feas==False: path.replace('feas','')\n",
    "print(path)\n",
    "torch.save(net.state_dict(),path)\n",
    "\n",
    "\n",
    "\n"
   ]
  },
  {
   "cell_type": "code",
   "execution_count": 15,
   "metadata": {
    "id": "L3M4jmjkscK_"
   },
   "outputs": [
    {
     "name": "stdout",
     "output_type": "stream",
     "text": [
      "100\n"
     ]
    },
    {
     "data": {
      "image/png": "[encoded data removed]",
      "text/plain": [
       "<Figure size 640x480 with 1 Axes>"
      ]
     },
     "metadata": {},
     "output_type": "display_data"
    }
   ],
   "source": [
    "\n",
    "\n",
    "\n",
    "val_len = len(val_loss)\n",
    "print(val_len)\n",
    "val_plt = np.zeros((2,val_len))\n",
    "for i in range(val_len):\n",
    "  val_plt[0,i] = val_loss[i][0]\n",
    "  val_plt[1,i] = val_loss[i][1]\n",
    "\n",
    "plt.figure()\n",
    "plot_idx = np.arange(np.size(train_loss))\n",
    "plt.plot(plot_idx[5:-1],train_loss[5:-1],lw=2,label='training loss')\n",
    "plt.plot(val_plt[0,1:],val_plt[1,1:],lw=2,label='validation loss')\n",
    "plt.yscale(\"log\")\n",
    "plt.xlabel('epoch')\n",
    "plt.ylabel('loss')\n",
    "plt.legend()\n",
    "\n",
    "# 在圖的右上角標示學習率\n",
    "plt.text(0.95, 0.95, f'Learning Rate: {lr:.6f}\\nbatch size: {batch_size}', \n",
    "         transform=plt.gca().transAxes, fontsize=10, ha='right', va='top', color='red')\n",
    "\n",
    "\n",
    "\n",
    "\n",
    "# 儲存圖片到指定資料夾（需提供路徑）\n",
    "timestamp=datetime.now().strftime('%m%d%H%M')\n",
    "output_path = r'C:\\Users\\USER\\Desktop\\GNN_OPF_electricity_market-main\\output_loss_fig'\n",
    "output_path = output_path + '/118ac_loss_fig_%s.png' % (timestamp)\n",
    "plt.savefig(output_path, dpi=300, bbox_inches='tight')  # 儲存為 PNG 格式，解析度 300 dpi\n",
    "\n",
    "\n",
    "plt.show(block=False)\n"
   ]
  },
  {
   "cell_type": "markdown",
   "metadata": {
    "id": "R9uGUm4rsco3"
   },
   "source": [
    "# Evaluate the model w/ validation set"
   ]
  },
  {
   "cell_type": "code",
   "execution_count": 16,
   "metadata": {
    "id": "4u6001UQ2pN3"
   },
   "outputs": [
    {
     "name": "stdout",
     "output_type": "stream",
     "text": [
      "Validation dataset size: torch.Size([2000, 708])\n",
      "Number of validation set:  2000\n",
      "torch.Size([2000, 236])\n"
     ]
    }
   ],
   "source": [
    "n_test = np.size(x_test,0)\n",
    "x_test_feed = torch.from_numpy(x_test).float()\n",
    "x_test_feed = x_test_feed#.transpose(1,2)\n",
    "x_test_feed = x_test_feed.to(device)\n",
    "print('Validation dataset size:',x_test_feed.shape)\n",
    "print('Number of validation set: ',n_test)\n",
    "y_pred = net(x_test_feed)\n",
    "print(y_pred.shape)"
   ]
  },
  {
   "cell_type": "markdown",
   "metadata": {
    "id": "YnNbSGYoXS3J"
   },
   "source": [
    "* Visualization\n",
    "\n",
    "\n"
   ]
  },
  {
   "cell_type": "markdown",
   "metadata": {
    "id": "VKZQaqwJkn3P"
   },
   "source": [
    " - Visualize errors"
   ]
  },
  {
   "cell_type": "code",
   "execution_count": 17,
   "metadata": {
    "id": "7-JCo0KmXwm3"
   },
   "outputs": [
    {
     "name": "stdout",
     "output_type": "stream",
     "text": [
      "(2000, 236) (2000, 236)\n"
     ]
    }
   ],
   "source": [
    "y_pred1 = y_pred.cpu().detach()\n",
    "y_pred1 = torch.squeeze(y_pred1,1).numpy()#.transpose()\n",
    "print(y_test.shape,y_pred1.shape)"
   ]
  },
  {
   "cell_type": "code",
   "execution_count": 18,
   "metadata": {
    "id": "NOeXUzrd9h9y"
   },
   "outputs": [
    {
     "name": "stdout",
     "output_type": "stream",
     "text": [
      "(118, 2, 2000) (2000, 236)\n"
     ]
    }
   ],
   "source": [
    "# x=np.reshape(x,(x.shape[0]*x.shape[1],x.shape[2])) # reshape by samples not dim1\n",
    "# y=np.reshape(y,(y.shape[0]*y.shape[1],y.shape[2]))\n",
    "# print(x_pre.shape,y_pre.shape)\n",
    "\n",
    "y_pred_temp = y_pred1.copy().transpose()\n",
    "# y_pred2=np.reshape(y_pred2,(y_pre.shape[0],y_pre.shape[1],n_test))\n",
    "y_pred2=np.zeros([y.shape[0],y.shape[1],n_test])\n",
    "y_pred2[:,0,:]=y_pred_temp[:n_bus,:]\n",
    "y_pred2[:,1,:]=y_pred_temp[n_bus:,:]\n",
    "print(y_pred2.shape,y_pred1.shape)\n",
    "\n",
    "y_test_temp = y_test.copy().transpose()\n",
    "# y_pred2=np.reshape(y_pred2,(y_pre.shape[0],y_pre.shape[1],n_test))\n",
    "y_test2=np.zeros([y.shape[0],y.shape[1],n_test])\n",
    "y_test2[:,0,:]=y_test_temp[:n_bus,:]\n",
    "y_test2[:,1,:]=y_test_temp[n_bus:,:]\n",
    "y_pred1 = y_pred2.copy()"
   ]
  },
  {
   "cell_type": "code",
   "execution_count": 19,
   "metadata": {
    "id": "2eVE-t3nl0Cb"
   },
   "outputs": [
    {
     "name": "stdout",
     "output_type": "stream",
     "text": [
      "(118, 2, 2000) (118, 2, 2000)\n"
     ]
    }
   ],
   "source": [
    "# recover the original p.u. scale\n",
    "# vy_deviation) * vy_scale\n",
    "y_pred1[:,1,:] = y_pred1[:,1,:] / vy_scale + vy_deviation\n",
    "y_test2[:,1,:] = y_test2[:,1,:] / vy_scale + vy_deviation\n",
    "print(y_test2.shape,y_pred1.shape)"
   ]
  },
  {
   "cell_type": "code",
   "execution_count": 20,
   "metadata": {
    "id": "FUVl5LXeknC4"
   },
   "outputs": [],
   "source": [
    "n_test = np.size(y_test2,2)\n",
    "err_L2 = np.zeros(n_test)\n",
    "err_Linf = np.zeros(n_test)\n",
    "for i in range(n_test):\n",
    "  err_L2[i] = np.linalg.norm(y_test2[:,0,i] - y_pred1[:,0,i]) / np.linalg.norm(y_test2[:,0,i])\n",
    "  err_Linf[i] = np.max(np.abs(y_test2[:,0,i] - y_pred1[:,0,i])) / np.max(np.abs(y_test2[:,0,i]))\n",
    "\n",
    "err_L2_v = np.zeros(n_test)\n",
    "err_Linf_v = np.zeros(n_test)\n",
    "for i in range(n_test):\n",
    "  err_L2_v[i] = np.linalg.norm(y_test2[:,1,i] - y_pred1[:,1,i]) / np.linalg.norm(y_test2[:,1,i])\n",
    "  err_Linf_v[i] = np.max(np.abs(y_test2[:,1,i] - y_pred1[:,1,i])) / np.max(np.abs(y_test2[:,1,i]))"
   ]
  },
  {
   "cell_type": "code",
   "execution_count": 21,
   "metadata": {
    "id": "79xFCVXklkLb"
   },
   "outputs": [
    {
     "name": "stdout",
     "output_type": "stream",
     "text": [
      "Price L2 mean: 0.05517208353886562 L_inf mean: 0.06398969101223595\n",
      "Voltage L2 mean: 0.005636410041250301 L_inf mean: 0.016458013605333714\n"
     ]
    }
   ],
   "source": [
    "err_L2_mean = np.mean(err_L2)\n",
    "err_Linf_mean = np.mean(err_Linf)\n",
    "print('Price L2 mean:', err_L2_mean,'L_inf mean:', err_Linf_mean )\n",
    "err_L2_mean_v = np.mean(err_L2_v)\n",
    "err_Linf_mean_v = np.mean(err_Linf_v)\n",
    "print('Voltage L2 mean:', err_L2_mean_v,'L_inf mean:', err_Linf_mean_v )\n",
    "\n",
    "# fig2 = plt.figure(figsize=(16, 16))\n",
    "# plt.subplot(2, 2, 1)\n",
    "# # plt.hist(np.abs(ga),bins = 10)\n",
    "# plt.plot(err_L2,'bo',markersize=0.5,label = 'L2 error')\n",
    "# plt.plot(err_Linf,'r^',markersize=0.5,label = 'Linf error')\n",
    "# plt.legend(loc=\"upper right\")\n",
    "# plt.xlabel('sample index')\n",
    "# plt.ylabel('error')\n",
    "# plt.title('Normalized sample error')\n",
    "# plt.grid(True)\n",
    "# # error histogram\n",
    "# plt.subplot(2, 2, 2)\n",
    "# plt.hist(err_L2, bins = 50, facecolor='b', alpha=0.75,label = 'L2 error')\n",
    "# plt.hist(err_Linf, bins = 50, facecolor='g', alpha=0.75,label = 'Linf error')\n",
    "# plt.legend(loc=\"upper right\")\n",
    "# plt.xlabel('sample error value')\n",
    "# plt.ylabel('frequency')\n",
    "# plt.title('Histogram of L_2 error')\n",
    "# # plt.text(60, .025, r'$\\mu=100,\\ \\sigma=15$')\n",
    "# plt.grid(True)\n",
    "\n",
    "# plt.subplot(2, 2, 3)\n",
    "# # plt.hist(np.abs(ga),bins = 10)\n",
    "# plt.plot(err_L2_v,'bo',markersize=0.5,label = 'L2 error')\n",
    "# plt.plot(err_Linf_v,'r^',markersize=0.5,label = 'Linf error')\n",
    "# plt.legend(loc=\"upper right\")\n",
    "# plt.xlabel('sample index')\n",
    "# plt.ylabel('error')\n",
    "# plt.title('Normalized sample error')\n",
    "# plt.grid(True)\n",
    "# # error histogram\n",
    "# plt.subplot(2, 2, 4)\n",
    "# plt.hist(err_L2_v, bins = 50, facecolor='b', alpha=0.75,label = 'L2 error')\n",
    "# plt.hist(err_Linf_v, bins = 50, facecolor='g', alpha=0.75,label = 'Linf error')\n",
    "# plt.legend(loc=\"upper right\")\n",
    "# plt.xlabel('sample error value')\n",
    "# plt.ylabel('frequency')\n",
    "# plt.title('Histogram of L_2 error')\n",
    "# # plt.text(60, .025, r'$\\mu=100,\\ \\sigma=15$')\n",
    "# plt.grid(True)\n",
    "# plt.show()"
   ]
  },
  {
   "cell_type": "code",
   "execution_count": 22,
   "metadata": {
    "id": "6sUddh-uGg_p"
   },
   "outputs": [
    {
     "name": "stdout",
     "output_type": "stream",
     "text": [
      "(118, 2000) (118, 2000)\n",
      "true range: 1.06 0.94\n",
      "predicted range 1.0854425048828125 0.9326277422904968\n"
     ]
    }
   ],
   "source": [
    "print(y_pred1[:,1,:n_test].shape,y_test2[:,1,:n_test].shape)\n",
    "print('true range:',np.max(y_test2[:,1,:n_test]),np.min(y_test2[:,1,:n_test]))\n",
    "print('predicted range',np.max(y_pred1[:,1,:n_test]),np.min(y_pred1[:,1,:n_test]))\n",
    "\n",
    "# fig3 = plt.figure(figsize=(16, 8))\n",
    "# flat_list1 = list(np.concatenate(y_test2[:,1,:n_test]).flat)\n",
    "# flat_list2 = list(np.concatenate(y_pred1[:,1,:n_test]).flat)\n",
    "# plt.hist(flat_list1,bins = 100,label = 'true')\n",
    "\n",
    "# plt.hist(flat_list2,bins = 100,label = 'pred')\n",
    "# plt.legend(loc=\"upper right\")\n",
    "# plt.grid(True)\n",
    "# plt.show()"
   ]
  },
  {
   "cell_type": "code",
   "execution_count": 23,
   "metadata": {
    "id": "jhfImaPsjKYq"
   },
   "outputs": [
    {
     "name": "stdout",
     "output_type": "stream",
     "text": [
      "(118, 6, 10000) 10000\n"
     ]
    }
   ],
   "source": [
    "print(x.shape,n_sample)\n",
    "\n",
    "x_new = np.zeros([x.shape[0],x.shape[1],n_sample])\n",
    "for i in range(x.shape[1]):\n",
    "  x_new[:,i,:] = x_total[n_bus*i:n_bus*(i+1),:]\n",
    "\n",
    "y_new = np.zeros([y.shape[0],y.shape[1],n_sample])\n",
    "for i in range(y.shape[1]):\n",
    "  y_new[:,i,:] = y_total[n_bus*i:n_bus*(i+1),:]"
   ]
  },
  {
   "cell_type": "markdown",
   "metadata": {
    "id": "H9x7neMNj7n3"
   },
   "source": [
    "# Predict generation using $\\pi$\n",
    "* Using predicted $\\pi$ and find the active constraints in $p_G(i)$\n",
    "* For inactive $p_G(i)$ consider other methods like power flow balance"
   ]
  },
  {
   "cell_type": "code",
   "execution_count": 24,
   "metadata": {
    "id": "Kr29K04j2KTN"
   },
   "outputs": [
    {
     "name": "stdout",
     "output_type": "stream",
     "text": [
      "(118, 10000)\n",
      "<class 'numpy.ndarray'> 118 [  0   1   2   3   4   5   6   7   8   9  10  11  12  13  14  15  16  17\n",
      "  18  19  20  21  22  23  24  25  26  27  28  29  30  31  32  33  34  35\n",
      "  36  37  38  39  40  41  42  43  44  45  46  47  48  49  50  51  52  53\n",
      "  54  55  56  57  58  59  60  61  62  63  64  65  66  67  68  69  70  71\n",
      "  72  73  74  75  76  77  78  79  80  81  82  83  84  85  86  87  88  89\n",
      "  90  91  92  93  94  95  96  97  98  99 100 101 102 103 104 105 106 107\n",
      " 108 109 110 111 112 113 114 115 116 117]\n"
     ]
    }
   ],
   "source": [
    "gen_limit0 = x_new[:,4,:].copy() # lin cost\n",
    "print(gen_limit0.shape)\n",
    "\n",
    "gen_idx = []\n",
    "gen_idx = np.arange(n_bus)\n",
    "# for i in range(n_bus):\n",
    "#   if gen_limit0[i,0] > 0:\n",
    "#     gen_idx.append(i)\n",
    "print(type(gen_idx),len(gen_idx),gen_idx)"
   ]
  },
  {
   "cell_type": "code",
   "execution_count": 25,
   "metadata": {
    "id": "gHmx9lMDXzpM"
   },
   "outputs": [
    {
     "name": "stdout",
     "output_type": "stream",
     "text": [
      "(118, 2, 10000) (236, 10000)\n"
     ]
    }
   ],
   "source": [
    "n_sample=x_total.shape[-1]\n",
    "x_feed = torch.from_numpy(x_total.T).float()\n",
    "y_pred1=net(x_feed.to(device)).cpu().detach().numpy().T\n",
    "y_pred_temp = y_pred1.copy()\n",
    "y_pred2=np.zeros([y.shape[0],y.shape[1],n_sample])\n",
    "y_pred2[:,0,:]=y_pred_temp[:n_bus,:]\n",
    "y_pred2[:,1,:]=y_pred_temp[n_bus:,:]\n",
    "print(y_pred2.shape,y_pred1.shape)\n",
    "y_pred1 = y_pred2.copy()"
   ]
  },
  {
   "cell_type": "code",
   "execution_count": 26,
   "metadata": {
    "id": "GPEHF2L91bGv"
   },
   "outputs": [
    {
     "name": "stdout",
     "output_type": "stream",
     "text": [
      "0.0010725173950199007\n",
      "0.784000000000006\n",
      "0.342110789983331\n",
      "0.24221453285700786\n"
     ]
    }
   ],
   "source": [
    "gen_cost0 = x_new[:,4,:].copy()\n",
    "lmp_data = y_new[:,0,:].copy()\n",
    "quadratic_a = x_new[:,5,:].copy()\n",
    "profit_pred = y_pred1[:,0,:] - gen_cost0\n",
    "print(np.min(np.abs(profit_pred)))\n",
    "profit_true = lmp_data - gen_cost0\n",
    "print(np.min(np.abs(profit_true)))\n",
    "profit_pred=(y_pred1[:,0,:]-gen_cost0)/(quadratic_a+1e-10)/2\n",
    "profit_true=(lmp_data-gen_cost0)/(quadratic_a+1e-10)/2\n",
    "print(np.min(np.abs(profit_pred)))\n",
    "print(np.min(np.abs(profit_true)))"
   ]
  },
  {
   "cell_type": "code",
   "execution_count": 27,
   "metadata": {
    "id": "uiHWtU5OLc1x"
   },
   "outputs": [
    {
     "name": "stdout",
     "output_type": "stream",
     "text": [
      "(118, 10000) (118, 10000)\n",
      "0.04220356656642579\n"
     ]
    }
   ],
   "source": [
    "print(profit_pred.shape,profit_true.shape)\n",
    "profit_err = profit_true - profit_pred\n",
    "profit_err_l2 = np.zeros([n_sample,1])\n",
    "\n",
    "for i in range(n_sample):\n",
    "  profit_err_l2[i] = np.linalg.norm(profit_err[:,i])/np.linalg.norm(profit_true[:,i])\n",
    "print(np.mean(profit_err_l2))\n",
    "\n",
    "# fig5 = plt.figure(figsize=(16, 8))\n",
    "# # error histogram\n",
    "# plt.hist(profit_err_l2, bins = 50, facecolor='b', alpha=0.75,label = 'L2 error')\n",
    "# # plt.hist(err_linf_new, bins = 50, facecolor='g', alpha=0.75,label = 'Linf error')\n",
    "# plt.legend(loc=\"upper right\")\n",
    "# plt.xlabel('sample error value')\n",
    "# plt.ylabel('frequency')\n",
    "# plt.title('Histogram of L_2 error')\n",
    "# # plt.text(60, .025, r'$\\mu=100,\\ \\sigma=15$')\n",
    "# plt.grid(True)\n",
    "# plt.show()"
   ]
  },
  {
   "cell_type": "code",
   "execution_count": 28,
   "metadata": {
    "id": "ZbHchRQd_g8-"
   },
   "outputs": [
    {
     "name": "stdout",
     "output_type": "stream",
     "text": [
      "(1180000,)\n",
      "-639.832612817223 -2.9391182643149665\n"
     ]
    }
   ],
   "source": [
    "p_pred_sort = np.reshape(profit_pred,n_bus*n_sample)\n",
    "p_true_sort = np.reshape(profit_true,n_bus*n_sample)\n",
    "print(p_pred_sort.shape)\n",
    "print(np.min(p_pred_sort),np.min(p_true_sort))"
   ]
  },
  {
   "cell_type": "code",
   "execution_count": 29,
   "metadata": {
    "id": "TYsSdNGp-OLP"
   },
   "outputs": [],
   "source": [
    "# fig2 = plt.figure(figsize=(8, 8))\n",
    "# plt.hist(p_pred_sort, bins = 50, facecolor='b', alpha=0.75,label = 'pred. profit')\n",
    "# plt.hist(p_true_sort, bins = 50, facecolor='g', alpha=0.75,label = 'true profit')\n",
    "# plt.legend(loc=\"upper right\")\n",
    "# plt.xlabel('value')\n",
    "# plt.ylabel('frequency')\n",
    "# plt.title('profit histogram')\n",
    "# # plt.text(60, .025, r'$\\mu=100,\\ \\sigma=15$')\n",
    "# plt.grid(True)\n",
    "# plt.show()"
   ]
  },
  {
   "cell_type": "code",
   "execution_count": 30,
   "metadata": {
    "id": "1J9j5tT9p_f6"
   },
   "outputs": [
    {
     "name": "stdout",
     "output_type": "stream",
     "text": [
      "3016239.2425034004 2764601.835122853\n",
      "3016239.2425034004 43260060.56350001 3016239.2425034004\n"
     ]
    }
   ],
   "source": [
    "# x = [load, gen_cost, gen_lim]\n",
    "binary_thres_true = 1e-5\n",
    "binary_thres = x_new[:,0,:].copy() # upper\n",
    "binary_thres_lo = x_new[:,1,:].copy() # lower\n",
    "gen_pred_binary_full = np.zeros((n_bus,n_sample))\n",
    "gen_true_binary_full = np.zeros((n_bus,n_sample))\n",
    "\n",
    "for i in range(n_sample):\n",
    "  for j in range(len(gen_idx)):\n",
    "    # predicted generator limit\n",
    "    if profit_pred[gen_idx[j],i] > binary_thres[gen_idx[j],i]:\n",
    "      gen_pred_binary_full[gen_idx[j],i] = binary_thres[gen_idx[j],i]\n",
    "    elif profit_pred[gen_idx[j],i] < binary_thres_lo[gen_idx[j],i]:\n",
    "      gen_pred_binary_full[gen_idx[j],i] = binary_thres_lo[gen_idx[j],i]\n",
    "    else:\n",
    "      gen_pred_binary_full[gen_idx[j],i] = profit_pred[gen_idx[j],i]\n",
    "    # true generator limit\n",
    "    if profit_true[gen_idx[j],i] > binary_thres[gen_idx[j],i]:\n",
    "      gen_true_binary_full[gen_idx[j],i] = binary_thres[gen_idx[j],i]\n",
    "    elif profit_true[gen_idx[j],i] < binary_thres_lo[gen_idx[j],i]:\n",
    "      gen_true_binary_full[gen_idx[j],i] = binary_thres_lo[gen_idx[j],i]\n",
    "    else:\n",
    "      gen_true_binary_full[gen_idx[j],i] = profit_true[gen_idx[j],i]\n",
    "\n",
    "gen_inj=gen_pred_binary_full\n",
    "gen_inj_true=gen_true_binary_full\n",
    "# nodal injection\n",
    "load0 = -x_new[:,1,:].copy() # load file\n",
    "p_inj = gen_inj #- load0\n",
    "p_inj_true = gen_inj_true #- load0\n",
    "print(np.sum(p_inj),np.sum(gen_inj_true))\n",
    "print(np.sum(p_inj),np.sum(load0),np.sum(gen_inj))"
   ]
  },
  {
   "cell_type": "markdown",
   "metadata": {
    "id": "WAgqdRPjAONm"
   },
   "source": [
    "## injection accuracy"
   ]
  },
  {
   "cell_type": "code",
   "execution_count": 31,
   "metadata": {
    "id": "J46pLAw2AQor"
   },
   "outputs": [
    {
     "name": "stdout",
     "output_type": "stream",
     "text": [
      "(118, 10000) (118, 10000)\n",
      "mean p_inj l2 err: 0.09980493942331249\n"
     ]
    }
   ],
   "source": [
    "print(p_inj_true.shape,p_inj.shape)\n",
    "p_inj_true_sort = np.reshape(p_inj_true,n_bus*n_sample)\n",
    "p_inj_sort = np.reshape(p_inj,n_bus*n_sample)\n",
    "p_err = np.zeros(n_sample)\n",
    "for i in range(n_sample):\n",
    "  p_err[i] = np.linalg.norm(p_inj_true[:,i]-p_inj[:,i]) / np.linalg.norm(p_inj_true[:,i])\n",
    "print('mean p_inj l2 err:',np.mean(p_err))\n",
    "# fig3 = plt.figure(figsize=(16, 8))\n",
    "# plt.subplot(1,2,1)\n",
    "# plt.hist(p_inj_sort, bins = 50, facecolor='b', alpha=0.75,label = 'pred. injection')\n",
    "# plt.hist(p_inj_true_sort, bins = 50, facecolor='g', alpha=0.75,label = 'true injection')\n",
    "# plt.legend(loc=\"upper right\")\n",
    "# plt.xlabel('value')\n",
    "# plt.ylabel('frequency')\n",
    "# plt.title('injection histogram')\n",
    "# plt.subplot(1,2,2)\n",
    "# plt.hist(p_err, bins = 50, facecolor='b', alpha=0.75,label = 'injection err')\n",
    "# plt.legend(loc=\"upper right\")\n",
    "# plt.xlabel('value')\n",
    "# plt.ylabel('frequency')\n",
    "# plt.title('error histogram')\n",
    "# # plt.text(60, .025, r'$\\mu=100,\\ \\sigma=15$')\n",
    "# plt.grid(True)s_binary\n",
    "# plt.show()"
   ]
  },
  {
   "cell_type": "markdown",
   "metadata": {
    "id": "DaN7u4xeGIom"
   },
   "source": [
    "* Calculate flow"
   ]
  },
  {
   "cell_type": "code",
   "execution_count": 32,
   "metadata": {
    "id": "YT4sgn_n79MI"
   },
   "outputs": [
    {
     "name": "stdout",
     "output_type": "stream",
     "text": [
      "(186, 1) (186, 10000) (186, 10000)\n",
      "15569 13334\n",
      "0.008370430107526881 0.007168817204301075\n",
      "186 10000 (186, 10000)\n"
     ]
    }
   ],
   "source": [
    "filename=root+'118ac_fmax.txt'\n",
    "f_max1=pd.read_table(filename,sep=',',header=None).to_numpy() # flow limit\n",
    "\n",
    "n_line = np.size(S_isf,0)\n",
    "flow_est = np.zeros((n_line,n_sample))\n",
    "flow_est0 = np.zeros((n_line,n_sample))\n",
    "\n",
    "f_binary = np.zeros((n_line,n_sample))\n",
    "f_binary0 = np.zeros((n_line,n_sample))\n",
    "\n",
    "# for i in range(n_sample):\n",
    "flow_est = np.dot(S_isf,p_inj)\n",
    "flow_est0 = np.dot(S_isf,p_inj_true)\n",
    "# f_max\n",
    "# f_max_numpy = f_max.cpu().detach().numpy()\n",
    "f_max_numpy = f_max1.copy()\n",
    "f_binary = (np.abs(flow_est)-f_max_numpy > 0)\n",
    "f_binary0 = (np.abs(flow_est0)-f_max_numpy > 0)\n",
    "\n",
    "print(f_max_numpy.shape,flow_est.shape,flow_est0.shape)\n",
    "f_tot_sample = n_line * n_sample\n",
    "print(np.sum(f_binary),np.sum(f_binary0))\n",
    "print(np.sum(f_binary)/f_tot_sample,np.sum(f_binary0)/f_tot_sample)\n",
    "print(n_line,n_sample,flow_est.shape)"
   ]
  },
  {
   "cell_type": "code",
   "execution_count": 33,
   "metadata": {
    "id": "VyvDpKhyQj0M"
   },
   "outputs": [
    {
     "name": "stdout",
     "output_type": "stream",
     "text": [
      "164.9924537815395 39.64401431411352\n",
      "1.09994969187693 0.2642934287607568\n"
     ]
    }
   ],
   "source": [
    "# soft threshold\n",
    "f_err_est = np.abs(flow_est)-f_max_numpy\n",
    "f_err_true = np.abs(flow_est0)-f_max_numpy\n",
    "\n",
    "f_err_est = np.maximum(np.abs(flow_est)-f_max_numpy,0) # identify violations\n",
    "f_err_true = np.maximum(np.abs(flow_est0)-f_max_numpy,0)\n",
    "\n",
    "print(np.max(f_err_est),np.max(f_err_true))\n",
    "print(np.max(f_err_est/f_max_numpy),np.max(f_err_true/f_max_numpy))"
   ]
  },
  {
   "cell_type": "code",
   "execution_count": 34,
   "metadata": {
    "id": "7iuX7tN2a2Cp"
   },
   "outputs": [
    {
     "name": "stdout",
     "output_type": "stream",
     "text": [
      "11861 10451\n"
     ]
    },
    {
     "name": "stdout",
     "output_type": "stream",
     "text": [
      "0.006376881720430107 0.005618817204301075\n"
     ]
    }
   ],
   "source": [
    "f_binary_soft = (np.abs(flow_est)-f_max_numpy > 0.1*(f_max_numpy))\n",
    "f_binary0_soft = (np.abs(flow_est0)-f_max_numpy > 0.1*(f_max_numpy))\n",
    "print(np.sum(f_binary_soft),np.sum(f_binary0_soft))\n",
    "print(np.sum(f_binary_soft)/f_tot_sample,np.sum(f_binary0_soft)/f_tot_sample)"
   ]
  },
  {
   "cell_type": "code",
   "execution_count": 35,
   "metadata": {
    "id": "SYl9pxnOUUQF"
   },
   "outputs": [],
   "source": [
    "f_pred_sort = np.reshape(f_err_est/f_max_numpy,n_line*n_sample)\n",
    "f_true_sort = np.reshape(f_err_true/f_max_numpy,n_line*n_sample)\n",
    "\n",
    "# fig2 = plt.figure(figsize=(16, 8))\n",
    "# plt.subplot(1,2,1)\n",
    "# plt.hist(f_pred_sort, bins = 10, facecolor='b', alpha=0.75,label = 'pred. f')\n",
    "# plt.hist(f_true_sort, bins = 10, facecolor='g', alpha=0.75,label = 'true f')\n",
    "# plt.legend(loc=\"upper right\")\n",
    "# plt.xlabel('percentage')\n",
    "# plt.ylabel('frequency')\n",
    "# plt.title('flow violation level histogram')\n",
    "# plt.subplot(1,2,2)\n",
    "# plt.hist(f_true_sort, bins = 10, facecolor='g', alpha=0.75,label = 'true f')\n",
    "# plt.legend(loc=\"upper right\")\n",
    "# plt.xlabel('percentage')\n",
    "# plt.ylabel('frequency')\n",
    "# plt.title('flow violation level histogram')\n",
    "# # plt.text(60, .025, r'$\\mu=100,\\ \\sigma=15$')\n",
    "# plt.grid(True)\n",
    "# plt.show()"
   ]
  },
  {
   "cell_type": "code",
   "execution_count": 36,
   "metadata": {
    "id": "YglgTpWVRLri"
   },
   "outputs": [
    {
     "name": "stdout",
     "output_type": "stream",
     "text": [
      "max sample pred: 7\n",
      "max line pred: 8613\n",
      "max sample true: 3\n",
      "max line true: 10000\n"
     ]
    }
   ],
   "source": [
    "f_line = np.sum(f_binary,0)\n",
    "f_samp = np.sum(f_binary,1)\n",
    "print('max sample pred:',np.max(f_line))\n",
    "print('max line pred:',np.max(f_samp))\n",
    "\n",
    "f_line0  = np.sum(f_binary0,0)\n",
    "f_samp0 = np.sum(f_binary0,1)\n",
    "print('max sample true:',np.max(f_line0))\n",
    "print('max line true:',np.max(f_samp0))"
   ]
  },
  {
   "cell_type": "markdown",
   "metadata": {
    "id": "WZQnarHmPl35"
   },
   "source": [
    "# Check objective optimality"
   ]
  },
  {
   "cell_type": "code",
   "execution_count": 37,
   "metadata": {
    "id": "BZjhp-CgQaDz"
   },
   "outputs": [
    {
     "name": "stdout",
     "output_type": "stream",
     "text": [
      "0.07300548073089733\n"
     ]
    }
   ],
   "source": [
    "gen_cost_pred = np.zeros((n_bus,n_sample))\n",
    "gen_cost_true = np.zeros((n_bus,n_sample))\n",
    "objective_err = np.zeros(n_sample)\n",
    "\n",
    "gen_cost_pred = np.multiply(np.multiply(p_inj,p_inj),quadratic_a) + np.multiply(p_inj,gen_cost0)\n",
    "gen_cost_true = np.multiply(np.multiply(p_inj_true,p_inj_true),quadratic_a) + np.multiply(p_inj_true,gen_cost0)\n",
    "\n",
    "objective_err = np.sum(np.abs(gen_cost_true-gen_cost_pred),axis=0) / np.sum(gen_cost_true,axis=0)\n",
    "print(np.mean(objective_err))\n",
    "\n",
    "# fig6 = plt.figure(figsize=(16, 8))\n",
    "# # error histogram\n",
    "# plt.hist(objective_err, bins = 50, facecolor='b', alpha=0.75,label = 'L2 error')\n",
    "# # plt.hist(err_linf_new, bins = 50, facecolor='g', alpha=0.75,label = 'Linf error')\n",
    "# plt.legend(loc=\"upper right\")\n",
    "# plt.xlabel('sample error value')\n",
    "# plt.ylabel('frequency')\n",
    "# plt.title('Histogram of L_2 error')\n",
    "# # plt.text(60, .025, r'$\\mu=100,\\ \\sigma=15$')\n",
    "# plt.grid(True)\n",
    "# plt.show()"
   ]
  },
  {
   "cell_type": "markdown",
   "metadata": {
    "id": "vdrsAWpYo0-w"
   },
   "source": [
    "## injection accuracy"
   ]
  },
  {
   "cell_type": "code",
   "execution_count": 38,
   "metadata": {
    "id": "mArjSN-So0-x"
   },
   "outputs": [
    {
     "name": "stdout",
     "output_type": "stream",
     "text": [
      "(118, 10000) (118, 10000)\n",
      "mean p_inj l2 err: 0.09980493942331249\n"
     ]
    }
   ],
   "source": [
    "print(p_inj_true.shape,p_inj.shape)\n",
    "\n",
    "p_inj_true_sort = np.reshape(p_inj_true,n_bus*n_sample)\n",
    "p_inj_sort = np.reshape(p_inj,n_bus*n_sample)\n",
    "\n",
    "p_err = np.zeros(n_sample)\n",
    "for i in range(n_sample):\n",
    "  p_err[i] = np.linalg.norm(p_inj_true[:,i]-p_inj[:,i]) / np.linalg.norm(p_inj_true[:,i])\n",
    "\n",
    "print('mean p_inj l2 err:',np.mean(p_err))\n",
    "# fig3 = plt.figure(figsize=(16, 8))\n",
    "# plt.subplot(1,2,1)\n",
    "# plt.hist(p_inj_sort, bins = 50, facecolor='b', alpha=0.75,label = 'pred. injection')\n",
    "# plt.hist(p_inj_true_sort, bins = 50, facecolor='g', alpha=0.75,label = 'true injection')\n",
    "# plt.legend(loc=\"upper right\")\n",
    "# plt.xlabel('value')\n",
    "# plt.ylabel('frequency')\n",
    "# plt.title('injection histogram')s_binary\n",
    "# plt.subplot(1,2,2)\n",
    "# plt.hist(p_err, bins = 50, facecolor='b', alpha=0.75,label = 'injection err')\n",
    "# plt.legend(loc=\"upper right\")\n",
    "# plt.xlabel('value')\n",
    "# plt.ylabel('frequency')\n",
    "# plt.title('error histogram')\n",
    "# # plt.text(60, .025, r'$\\mu=100,\\ \\sigma=15$')\n",
    "# plt.grid(True)\n",
    "# plt.show()"
   ]
  },
  {
   "cell_type": "markdown",
   "metadata": {
    "id": "ujU84tOSpqsy"
   },
   "source": [
    "# Test AC feasibility\n",
    "* P in actual value, V in p.u.\n",
    "* Use P to recover $\\theta$, or solve $\\theta$ and Q for PF\n",
    "$$ Q_m = V_m \\sum_{n=1}^N V_n \\left(G_{mn}\\sin\\theta_{mn} - B_{mn}\\cos\\theta_{mn} \\right) $$\n",
    "calculate $Q_{mn}$ directly"
   ]
  },
  {
   "cell_type": "code",
   "execution_count": 39,
   "metadata": {
    "id": "Of6mEXF4puDN"
   },
   "outputs": [
    {
     "name": "stdout",
     "output_type": "stream",
     "text": [
      "(118, 118) (118, 118)\n",
      "(117, 117) (118, 10000) (118, 10000)\n",
      "(118, 10000) (118, 10000)\n"
     ]
    }
   ],
   "source": [
    "# Bbus and B_r inverse\n",
    "filename1 = root+'ieee118_Bbus.txt'\n",
    "Bbus=pd.read_table(filename1,sep=',',header=None).to_numpy()\n",
    "B_r = np.delete(Bbus,68,axis=0)\n",
    "B_r = np.delete(B_r,68,axis=1)\n",
    "Br_inv = np.linalg.inv(B_r)\n",
    "\n",
    "# Y = G + jB\n",
    "filename1 = root+'ieee118_Gmat.txt'\n",
    "G_mat=pd.read_table(filename1,sep=',',header=None).to_numpy()\n",
    "filename1 = root+'ieee118_Bmat.txt'\n",
    "B_mat=pd.read_table(filename1,sep=',',header=None).to_numpy()\n",
    "print(G_mat.shape,B_mat.shape)\n",
    "\n",
    "# line parameters\n",
    "filename1 = root+'ieee118_lineloc.txt'\n",
    "line_loc = pd.read_table(filename1,sep=',',header=None).to_numpy()\n",
    "\n",
    "# load line params\n",
    "filename1 = root+'ieee118_lineparams.txt'\n",
    "line_params = pd.read_table(filename1,sep=',',header=None).to_numpy()\n",
    "R_line = line_params[:,0].copy()\n",
    "X_line = line_params[:,1].copy()\n",
    "B_shunt = line_params[:,2].copy()\n",
    "Z_line = R_line + 1j * X_line \n",
    "Y_line = 1 / Z_line\n",
    "G_line = np.real(Y_line)\n",
    "B_line = np.imag(Y_line)\n",
    "# P_inj w/out reference bus in p.u.\n",
    "p_inj_r = np.delete(p_inj,68,axis=0) / 100\n",
    "p_inj_true_r = np.delete(p_inj_true,68,axis=0) / 100\n",
    "p_inj_pu = p_inj / 100\n",
    "p_inj_true_pu = p_inj_true / 100\n",
    "print(Br_inv.shape,p_inj.shape,p_inj_true.shape)#p_inj_true\n",
    "\n",
    "theta0 = np.matmul(Br_inv,p_inj_r)\n",
    "theta_true0 = np.matmul(Br_inv,p_inj_true_r)\n",
    "theta = np.insert(theta0,68,0,axis = 0)\n",
    "theta_true = np.insert(theta_true0,68,0,axis = 0)\n",
    "print(theta.shape,theta_true.shape)"
   ]
  },
  {
   "cell_type": "code",
   "execution_count": 40,
   "metadata": {},
   "outputs": [
    {
     "name": "stdout",
     "output_type": "stream",
     "text": [
      "0.46242211132571 -0.9739248707802468\n",
      "2.7803011534120627 -9.166735486002148\n"
     ]
    }
   ],
   "source": [
    "print(np.max(theta),np.min(theta))\n",
    "math.sin(math.pi/6)\n",
    "print(G_line[0],B_line[0])"
   ]
  },
  {
   "cell_type": "code",
   "execution_count": 41,
   "metadata": {},
   "outputs": [
    {
     "name": "stdout",
     "output_type": "stream",
     "text": [
      "(186, 10000)\n",
      "1.0932212638854981 0.9323446202278137 (118, 10000)\n"
     ]
    }
   ],
   "source": [
    "# Calculate real and reactive flow\n",
    "f_p = np.zeros((n_line,n_sample))\n",
    "f_q = np.zeros((n_line,n_sample))\n",
    "fji_p = np.zeros((n_line,n_sample))\n",
    "fji_q = np.zeros((n_line,n_sample))\n",
    "print(f_q.shape)\n",
    "\n",
    "v_pred = y_pred1[:,1,:].copy()\n",
    "v_pred = v_pred / vy_scale + vy_deviation\n",
    "print(np.max(v_pred),np.min(v_pred),v_pred.shape)\n",
    "\n",
    "theta1 = theta[line_loc[:,0]-1,:]\n",
    "theta2 = theta[line_loc[:,1]-1,:]\n",
    "V1 = v_pred[line_loc[:,0]-1,:]\n",
    "V2 = v_pred[line_loc[:,1]-1,:] \n",
    "f_p=(a*G_line*(V1*V1).T)-a*((V1*V2).T)*(G_line*np.cos(theta1-theta2).T+B_line*np.sin(theta1-theta2).T)\n",
    "f_p=f_p.T\n",
    "f_q=-a*(V1.T)*(a*V1.T)*(B_line+B_shunt/2)+a*((V1*V2).T)*(B_line*np.cos(theta1-theta2).T-G_line*np.sin(theta1-theta2).T)\n",
    "f_q=f_q.T\n",
    "\n",
    "theta1 = theta[line_loc[:,1]-1,:]\n",
    "theta2 = theta[line_loc[:,0]-1,:]\n",
    "V1 = v_pred[line_loc[:,1]-1,:]\n",
    "V2 = v_pred[line_loc[:,0]-1,:]\n",
    "fji_p=(a*G_line*(V1*V1).T)-a*((V1*V2).T)*(G_line*np.cos(theta1-theta2).T+B_line*np.sin(theta1-theta2).T)\n",
    "fji_p=fji_p.T\n",
    "fji_q=-a*(V1.T)*(a*V1.T)*(B_line+B_shunt/2)+a*((V1*V2).T)*(B_line*np.cos(theta1-theta2).T-G_line*np.sin(theta1-theta2).T)\n",
    "fji_q=fji_q.T"
   ]
  },
  {
   "cell_type": "code",
   "execution_count": 42,
   "metadata": {
    "id": "gKfcrbTSVMeO"
   },
   "outputs": [
    {
     "name": "stdout",
     "output_type": "stream",
     "text": [
      "1.0224688083071154 -1.4823906881944708\n",
      "16.19517613313663 151.0\n"
     ]
    }
   ],
   "source": [
    "s_pred = np.sqrt(f_p*f_p+f_q*f_q)*100\n",
    "sji_pred = np.sqrt(fji_p*fji_p+fji_q*fji_q)*100\n",
    "print(np.max(f_q),np.min(f_q))\n",
    "flow_est.shape\n",
    "print(np.mean(s_pred[0,:]),np.mean(f_max_numpy[0]))"
   ]
  },
  {
   "cell_type": "code",
   "execution_count": 43,
   "metadata": {
    "id": "YO4__LJ2brLu"
   },
   "outputs": [
    {
     "name": "stdout",
     "output_type": "stream",
     "text": [
      "20443\n",
      "hard violation rate: 0.010990860215053763\n",
      "13655\n",
      "0.007341397849462365\n"
     ]
    }
   ],
   "source": [
    "sij_binary = (np.abs(s_pred)-f_max_numpy[:n_line] > 0)\n",
    "sji_binary = (np.abs(sji_pred)-f_max_numpy[:n_line] > 0)\n",
    "s_binary = np.maximum(sij_binary,sji_binary)\n",
    "print(np.sum(s_binary))#,np.sum(f_binary0))\n",
    "print('hard violation rate:',np.sum(s_binary)/n_sample/n_line)#,np.sum(f_binary0)/f_tot_sample)\n",
    "s_binary_soft = (np.abs(s_pred)-f_max_numpy[:n_line] > 0.1*(f_max_numpy[:n_line]))\n",
    "print(np.sum(s_binary_soft))#,np.sum(f_binary0_soft))\n",
    "print(np.sum(s_binary_soft)/n_sample/n_line)#,np.sum(f_binary0_soft)/f_tot_sample)"
   ]
  },
  {
   "cell_type": "code",
   "execution_count": 44,
   "metadata": {
    "id": "Ty0WpBdfJwMR"
   },
   "outputs": [
    {
     "name": "stdout",
     "output_type": "stream",
     "text": [
      "S violation level:\n",
      "hard: 0.010990860215053763\n",
      "mean: 0.0028178086499261153\n",
      "median: 0.0\n",
      "max: 1.1684838578814845\n",
      "std: 0.03493042505529336\n",
      "p99: 0.023918351943738647\n",
      "f violation level:\n",
      "hard: 0.008370430107526881 0.007168817204301075\n",
      "mean: 0.002580616441186647\n",
      "median: 0.0\n",
      "max: 1.09994969187693\n",
      "std: 0.0356673549852847\n",
      "p99: 0.0\n"
     ]
    }
   ],
   "source": [
    "# violation level\n",
    "sij_violation = np.abs(s_pred)-f_max_numpy[:n_line] #/ f_max_numpy\n",
    "sij_violation_level = np.maximum(sij_violation,0)\n",
    "sji_violation = np.abs(sji_pred)-f_max_numpy[:n_line] #/ f_max_numpy\n",
    "sji_violation_level = np.maximum(sji_violation,0)\n",
    "s_violation_level = np.maximum(sij_violation_level,sji_violation_level)\n",
    "s_violation_level = np.divide(s_violation_level,f_max_numpy[:n_line])\n",
    "s_vio_lvl = np.reshape(s_violation_level,n_line*n_sample)\n",
    "\n",
    "print('S violation level:')\n",
    "print('hard:',np.sum(s_binary)/f_tot_sample)\n",
    "print('mean:',np.mean(s_vio_lvl))\n",
    "print('median:',np.median(s_vio_lvl))\n",
    "print('max:',np.max(s_vio_lvl))\n",
    "print('std:',np.std(s_vio_lvl))\n",
    "print('p99:',np.percentile(s_vio_lvl,99))\n",
    "\n",
    "f_violation = np.abs(flow_est)-f_max_numpy #/ f_max_numpy\n",
    "f_violation_level = np.maximum(f_violation,0)\n",
    "f_violation_level = np.divide(f_violation_level,f_max_numpy)\n",
    "f_vio_lvl = np.reshape(f_violation_level,n_line*n_sample)\n",
    "\n",
    "print('f violation level:')\n",
    "print('hard:',np.sum(f_binary)/f_tot_sample,np.sum(f_binary0)/f_tot_sample)\n",
    "print('mean:',np.mean(f_vio_lvl))\n",
    "print('median:',np.median(f_vio_lvl))\n",
    "print('max:',np.max(f_vio_lvl))\n",
    "print('std:',np.std(f_vio_lvl))\n",
    "print('p99:',np.percentile(f_vio_lvl,99))\n",
    "\n",
    "# fig4 = plt.figure(figsize=(6,4))\n",
    "# plt.hist(s_vio_lvl, bins = 50, facecolor='b', alpha=0.75,label = 's violation')\n",
    "# plt.hist(f_vio_lvl, bins = 50, facecolor='r', alpha=0.75,label = 'f violation')\n",
    "# plt.legend(loc=\"upper right\")\n",
    "# plt.xlabel('violation level')\n",
    "# plt.ylabel('frequency')\n",
    "# # plt.title('injection histogram')\n",
    "# plt.show()"
   ]
  },
  {
   "cell_type": "code",
   "execution_count": 45,
   "metadata": {
    "id": "kWXEpj-ryjbJ"
   },
   "outputs": [
    {
     "name": "stdout",
     "output_type": "stream",
     "text": [
      "Price L2 mean: 0.05517208353886562 L_inf mean: 0.06398969101223595\n",
      "std: 0.0358020871307537\n",
      "Voltage L2 mean: 0.005636410041250301 L_inf mean: 0.016458013605333714\n",
      "std: 0.0031996576590346327\n"
     ]
    }
   ],
   "source": [
    "# err_L2_mean = np.mean(err_L2)\n",
    "# err_Linf_mean = np.mean(err_Linf)\n",
    "print('Price L2 mean:', err_L2_mean,'L_inf mean:', err_Linf_mean )\n",
    "print('std:',np.std(err_L2))\n",
    "# err_L2_mean_v = np.mean(err_L2_v)\n",
    "# err_Linf_mean_v = np.mean(err_Linf_v)\n",
    "print('Voltage L2 mean:', err_L2_mean_v,'L_inf mean:', err_Linf_mean_v )\n",
    "print('std:',np.std(err_L2_v))\n",
    "\n",
    "params = (sum(temp.numel() for temp in net.parameters() if temp.requires_grad))"
   ]
  },
  {
   "cell_type": "code",
   "execution_count": 46,
   "metadata": {},
   "outputs": [
    {
     "name": "stdout",
     "output_type": "stream",
     "text": [
      "輸出內容已儲存到 C:\\Users\\USER\\Desktop\\GNN_OPF_electricity_market-main\\output_loss_fig/118ac_output_02181727.txt\n"
     ]
    }
   ],
   "source": [
    "import os   \n",
    "# 建立輸出內容字串\n",
    "output_content = f\"\"\"\n",
    "date: {timestamp}\n",
    "final_epoch: {final_epoch}\n",
    "training time: {t1 - t0:.4e}s\n",
    "\n",
    "factor: {factor}\n",
    "patience: {patience}\n",
    "\n",
    "start learning rate: {lr:.4e}\n",
    "batch size: {batch_size}\n",
    "params number: {params:.4e}\n",
    "\n",
    "Price L2 mean: {err_L2_mean:.4e} \n",
    "Price std: {np.std(err_L2):.4e}\n",
    "\n",
    "Voltage L2 mean: {err_L2_mean_v:.4e} \n",
    "Voltage std: {np.std(err_L2_v):.4e}\n",
    "\"\"\"\n",
    "\n",
    "\n",
    "# 設定儲存路徑和檔名\n",
    "output_dir = r'C:\\Users\\USER\\Desktop\\GNN_OPF_electricity_market-main\\output_loss_fig'\n",
    "timestamp = datetime.now().strftime('%m%d%H%M')\n",
    "output_file = f'{output_dir}/118ac_output_{timestamp}.txt'\n",
    "\n",
    "# 確保目錄存在\n",
    "os.makedirs(output_dir, exist_ok=True)\n",
    "\n",
    "# 將內容寫入 txt 檔案\n",
    "with open(output_file, 'w') as file:\n",
    "    file.write(output_content)\n",
    "\n",
    "print(f\"輸出內容已儲存到 {output_file}\")\n",
    "\n"
   ]
  }
 ],
 "metadata": {
  "accelerator": "GPU",
  "colab": {
   "collapsed_sections": [],
   "machine_shape": "hm",
   "name": "118ac_feasdnn0417.ipynb",
   "provenance": []
  },
  "kernelspec": {
   "display_name": "AC_OPF",
   "language": "python",
   "name": "python3"
  },
  "language_info": {
   "codemirror_mode": {
    "name": "ipython",
    "version": 3
   },
   "file_extension": ".py",
   "mimetype": "text/x-python",
   "name": "python",
   "nbconvert_exporter": "python",
   "pygments_lexer": "ipython3",
   "version": "3.12.7"
  }
 },
 "nbformat": 4,
 "nbformat_minor": 0
}
