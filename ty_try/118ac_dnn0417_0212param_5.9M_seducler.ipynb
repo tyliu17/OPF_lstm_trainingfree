{
 "cells": [
  {
   "cell_type": "code",
   "execution_count": 1,
   "metadata": {
    "id": "JKLovDeXoCCP"
   },
   "outputs": [],
   "source": [
    "import numpy as np\n",
    "import pandas as pd\n",
    "import matplotlib.pyplot as plt\n",
    "import torch\n",
    "import torch.nn as nn\n",
    "import torch.nn.functional as F\n",
    "from sklearn.model_selection import train_test_split\n",
    "import time\n",
    "import math\n",
    "from datetime import datetime\n",
    "root=''\n",
    "# try:\n",
    "#   from google.colab import drive\n",
    "#   drive.mount('/content/drive')\n",
    "#   root='./drive/MyDrive/gnn/data/'\n",
    "# except:\n",
    "#   pass\n",
    "# device='cuda' if torch.cuda.is_available() else 'cpu'\n",
    "# print(torch.cuda.get_device_name(0))\n",
    "# torch.cuda.empty_cache()\n",
    "\n",
    "# 檢查是否有可用的 GPU，否則使用 CPU\n",
    "device = torch.device('cuda' if torch.cuda.is_available() else 'cpu')"
   ]
  },
  {
   "cell_type": "code",
   "execution_count": 2,
   "metadata": {},
   "outputs": [
    {
     "name": "stdout",
     "output_type": "stream",
     "text": [
      "torch.Size([186, 118]) torch.Size([186, 1]) tensor(72)\n",
      "1654.8 -332.4 949.67 0.94\n",
      "voltage range(scaled): 3.9999999999999925 16.000000000000004\n",
      "price range old: 11.547 949.67\n",
      "voltage range old: 3.9999999999999925 16.000000000000004\n",
      "price range new: 11.547 949.67\n",
      "voltage range new: 3.9999999999999925 16.000000000000004\n",
      "(118, 6, 10000) (118, 2, 10000)\n"
     ]
    }
   ],
   "source": [
    "root = 'C:/Users/USER/Desktop/GNN_OPF_electricity_market-main/GNN_OPF_electricity_market-main/GNN_OPF_electricity_market-main/data_gen/118_data/'\n",
    "# C:\\Users\\USER\\Desktop\\GNN_OPF_electricity_market-main\\GNN_OPF_electricity_market-main\\GNN_OPF_electricity_market-main\\data_gen\\118_data\\118dc_quad_ISF.txt\n",
    "filename = root + '118dc_quad_ISF.txt'\n",
    "\n",
    "S_isf=pd.read_table(filename,sep=',',header=None).to_numpy() # ISF matrix\n",
    "filename=root+'118ac_fmax.txt'\n",
    "f_max=pd.read_table(filename,sep=',',header=None).to_numpy() # flow limit\n",
    "n_line = np.size(S_isf,0)\n",
    "S = torch.from_numpy(S_isf).to(device) # ISF\n",
    "f_max = torch.from_numpy(f_max).to(device) # flow limit\n",
    "print(S.shape,f_max.shape,torch.min(f_max))\n",
    "\n",
    "x=np.load(root+'ac118_p10_x_v.npy')\n",
    "y=np.load(root+'ac118_p10_y_v.npy')\n",
    "W=np.load(root+'ac118_p10_w.npy')\n",
    "print(np.max(x),np.min(x),np.max(y),np.min(y))\n",
    "\n",
    "# scaling on voltage\n",
    "vy_deviation = 0.9\n",
    "vy_scale = 100\n",
    "y[:,1,:] = (y[:,1,:] - vy_deviation) * vy_scale\n",
    "print('voltage range(scaled):',np.min(y[:,1,:]),np.max(y[:,1,:]))\n",
    "\n",
    "# scaling on price\n",
    "pi_deviation = 0\n",
    "y[:,0,:] = y[:,0,:] + pi_deviation\n",
    "# filter out extreme points in price\n",
    "y_sort_arg = np.argsort(np.amax(np.abs(y[:,0,:]),axis=0)) # max extreme\n",
    "y_sort_arg1 = np.argsort(np.amin(y[:,0,:],axis=0),axis=0) # min extreme\n",
    "\n",
    "del_idx0 = []\n",
    "del_num = 0\n",
    "for i in range(del_num):\n",
    "  del_idx0.append(y_sort_arg[-i])\n",
    "  del_idx0.append(y_sort_arg1[i])\n",
    "# print(del_idx0)\n",
    "del_idx = [] # keep only non-repeated\n",
    "[del_idx.append(x) for x in del_idx0 if x not in del_idx]\n",
    "del_idx = np.sort(del_idx)\n",
    "# delete extreme points\n",
    "print('price range old:',np.min(y[:,0,:]),np.max(y[:,0,:]))\n",
    "print('voltage range old:',np.min(y[:,1,:]),np.max(y[:,1,:]))\n",
    "# x = np.delete(x, del_idx, axis=2)\n",
    "# y = np.delete(y, del_idx, axis=2)\n",
    "print('price range new:',np.min(y[:,0,:]),np.max(y[:,0,:]))\n",
    "print('voltage range new:',np.min(y[:,1,:]),np.max(y[:,1,:]))\n",
    "print(x.shape,y.shape)"
   ]
  },
  {
   "cell_type": "code",
   "execution_count": 3,
   "metadata": {
    "id": "Hj9_eLfoWQY3"
   },
   "outputs": [
    {
     "name": "stdout",
     "output_type": "stream",
     "text": [
      "torch.Size([186, 118]) torch.Size([186, 1]) tensor(72)\n",
      "1654.8 -332.4 949.67 0.94\n",
      "voltage range(scaled): 3.9999999999999925 16.000000000000004\n",
      "price range old: 11.547 949.67\n",
      "voltage range old: 3.9999999999999925 16.000000000000004\n",
      "price range new: 11.547 949.67\n",
      "voltage range new: 3.9999999999999925 16.000000000000004\n",
      "(118, 6, 10000) (118, 2, 10000)\n"
     ]
    }
   ],
   "source": [
    "root = 'C:/Users/USER/Desktop/GNN_OPF_electricity_market-main/GNN_OPF_electricity_market-main/GNN_OPF_electricity_market-main/data_gen/118_data/'\n",
    "# C:\\Users\\USER\\Desktop\\GNN_OPF_electricity_market-main\\GNN_OPF_electricity_market-main\\GNN_OPF_electricity_market-main\\data_gen\\118_data\\118dc_quad_ISF.txt\n",
    "filename = root + '118dc_quad_ISF.txt'\n",
    "\n",
    "S_isf=pd.read_table(filename,sep=',',header=None).to_numpy() # ISF matrix\n",
    "filename=root+'118ac_fmax.txt'\n",
    "f_max=pd.read_table(filename,sep=',',header=None).to_numpy() # flow limit\n",
    "n_line = np.size(S_isf,0)\n",
    "S = torch.from_numpy(S_isf).to(device) # ISF\n",
    "f_max = torch.from_numpy(f_max).to(device) # flow limit\n",
    "print(S.shape,f_max.shape,torch.min(f_max))\n",
    "\n",
    "x=np.load(root+'ac118_p10_x_v.npy')\n",
    "y=np.load(root+'ac118_p10_y_v.npy')\n",
    "W=np.load(root+'ac118_p10_w.npy')\n",
    "print(np.max(x),np.min(x),np.max(y),np.min(y))\n",
    "\n",
    "# scaling on voltage\n",
    "vy_deviation = 0.9\n",
    "vy_scale = 100\n",
    "y[:,1,:] = (y[:,1,:] - vy_deviation) * vy_scale\n",
    "print('voltage range(scaled):',np.min(y[:,1,:]),np.max(y[:,1,:]))\n",
    "\n",
    "# scaling on price\n",
    "pi_deviation = 0\n",
    "y[:,0,:] = y[:,0,:] + pi_deviation\n",
    "# filter out extreme points in price\n",
    "y_sort_arg = np.argsort(np.amax(np.abs(y[:,0,:]),axis=0)) # max extreme\n",
    "y_sort_arg1 = np.argsort(np.amin(y[:,0,:],axis=0),axis=0) # min extreme\n",
    "\n",
    "del_idx0 = []\n",
    "del_num = 0\n",
    "for i in range(del_num):\n",
    "  del_idx0.append(y_sort_arg[-i])\n",
    "  del_idx0.append(y_sort_arg1[i])\n",
    "# print(del_idx0)\n",
    "del_idx = [] # keep only non-repeated\n",
    "[del_idx.append(x) for x in del_idx0 if x not in del_idx]\n",
    "del_idx = np.sort(del_idx)\n",
    "# delete extreme points\n",
    "print('price range old:',np.min(y[:,0,:]),np.max(y[:,0,:]))\n",
    "print('voltage range old:',np.min(y[:,1,:]),np.max(y[:,1,:]))\n",
    "# x = np.delete(x, del_idx, axis=2)\n",
    "# y = np.delete(y, del_idx, axis=2)\n",
    "print('price range new:',np.min(y[:,0,:]),np.max(y[:,0,:]))\n",
    "print('voltage range new:',np.min(y[:,1,:]),np.max(y[:,1,:]))\n",
    "print(x.shape,y.shape)"
   ]
  },
  {
   "cell_type": "code",
   "execution_count": 4,
   "metadata": {
    "id": "YcR42RBbdZqZ"
   },
   "outputs": [],
   "source": [
    "n_sample=y.shape[-1]\n",
    "n_bus=y.shape[0]\n",
    "x_total=x.transpose((1,0,2)).reshape(-1,x.shape[-1])\n",
    "y_total=y.transpose((1,0,2)).reshape(-1,y.shape[-1])\n",
    "x_train,x_test,y_train,y_test=train_test_split(x_total.T,y_total.T,test_size=0.2)\n",
    "\n",
    "\n",
    "class Dataset(torch.utils.data.Dataset):\n",
    "    def __init__(self,x,y):\n",
    "        self.x=torch.from_numpy(x).float()\n",
    "        self.y=torch.from_numpy(y).float()\n",
    "    def __len__(self):\n",
    "        return len(self.x)\n",
    "    def __getitem__(self, idx):\n",
    "        if torch.is_tensor(idx):\n",
    "          idx=idx.tolist()\n",
    "        return self.x[idx],self.y[idx]\n",
    "    \n",
    "batch_size=512\n",
    "#512\n",
    "params={'batch_size': batch_size,\n",
    "        'shuffle': True,\n",
    "        'num_workers': 0}\n",
    "train=Dataset(x_train,y_train)\n",
    "train_set=torch.utils.data.DataLoader(train,**params)\n",
    "val=Dataset(x_test,y_test)\n",
    "val_set=torch.utils.data.DataLoader(val,**params)"
   ]
  },
  {
   "cell_type": "code",
   "execution_count": 5,
   "metadata": {},
   "outputs": [
    {
     "name": "stdout",
     "output_type": "stream",
     "text": [
      "torch.Size([512, 708])\n",
      "Train Mean: 6.476999282836914\n",
      "Train Std: 3.7040112018585205\n",
      "Validation Mean: 6.432124614715576\n",
      "Validation Std: 3.668586015701294\n"
     ]
    }
   ],
   "source": [
    "# 資料分析\n",
    "# 從資料集中建立 DataLoader\n",
    "train_loader = torch.utils.data.DataLoader(train, batch_size=batch_size, shuffle=True)\n",
    "val_loader = torch.utils.data.DataLoader(val, batch_size=batch_size, shuffle=True)\n",
    "\n",
    "# 取第一個 batch 進行分析\n",
    "train_batch_x, _ = next(iter(train_loader))\n",
    "val_batch_x, _ = next(iter(val_loader))\n",
    "\n",
    "# 計算均值和標準差\n",
    "print(train_batch_x.shape)\n",
    "train_mean, train_std = train_batch_x.mean(dim=0), train_batch_x.std(dim=0)\n",
    "val_mean, val_std = val_batch_x.mean(dim=0), val_batch_x.std(dim=0)\n",
    "\n",
    "mean_value_train = train_mean.mean().item()\n",
    "print('Train Mean:', mean_value_train)\n",
    "std_value_train = train_std.mean().item()\n",
    "print('Train Std:', std_value_train)\n",
    "mean_value_val = val_mean.mean().item()\n",
    "print('Validation Mean:', mean_value_val)\n",
    "std_value_val = val_std.mean().item()\n",
    "print('Validation Std:', std_value_val)\n"
   ]
  },
  {
   "cell_type": "code",
   "execution_count": 6,
   "metadata": {
    "id": "JN9gN9BnCNim"
   },
   "outputs": [],
   "source": [
    "# fig2 = plt.figure(figsize=(8,4))\n",
    "# flat_list = list(np.concatenate(y[:,n_sample:]).flat)\n",
    "# flat_list3 = list(np.concatenate(y[:,:n_sample]).flat)\n",
    "# plt.subplot(1,2,1)\n",
    "# plt.hist(flat_list,bins = 100,label = 'voltage')\n",
    "# plt.subplot(1,2,2)\n",
    "# # plt.hist(flat_list3,range=[-2000, 2000],bins = 100,label = 'price')\n",
    "# plt.hist(flat_list3,bins = 100,label = 'price')\n",
    "# plt.show()"
   ]
  },
  {
   "cell_type": "code",
   "execution_count": 7,
   "metadata": {
    "id": "iOyWpG_4yCtz"
   },
   "outputs": [],
   "source": [
    "\n",
    "class dnn(torch.nn.Module):\n",
    "  def __init__(self,shape):\n",
    "    super(dnn,self).__init__()\n",
    "    layers=[]\n",
    "    for idx in range(len(shape)-2):\n",
    "      layers.extend([\n",
    "        nn.Linear(shape[idx],shape[idx+1]),\n",
    "        nn.BatchNorm1d(shape[idx+1]),\n",
    "        nn.ReLU(),\n",
    "        nn.Dropout(0.5),\n",
    "      ])\n",
    "    layers+=[nn.Linear(shape[-2],shape[-1])]\n",
    "    self.features=nn.Sequential(*layers)\n",
    "    for temp in self.features:\n",
    "      if type(temp)==nn.Linear:\n",
    "        torch.nn.init.normal_(temp.weight,mean=0,std=1)\n",
    "  def forward(self,x): return self.features(x)\n",
    "#net=dnn([n_bus*6,n_bus*10,n_bus*10,n_bus*10,n_bus*2]).to(device)\n",
    "#print('number of params: %d'%(sum(temp.numel() for temp in net.parameters() if temp.requires_grad)))\n",
    "\n",
    "\n"
   ]
  },
  {
   "cell_type": "code",
   "execution_count": 8,
   "metadata": {},
   "outputs": [
    {
     "name": "stdout",
     "output_type": "stream",
     "text": [
      "n_bus: 118\n",
      "Total Parameters: 5,935,636\n",
      "----------------------------------------------------------------\n",
      "        Layer (type)               Output Shape         Param #\n",
      "================================================================\n",
      "            Linear-1                  [-1, 590]         418,310\n",
      "       BatchNorm1d-2                  [-1, 590]           1,180\n",
      "              ReLU-3                  [-1, 590]               0\n",
      "           Dropout-4                  [-1, 590]               0\n",
      "            Linear-5                  [-1, 590]         348,690\n",
      "       BatchNorm1d-6                  [-1, 590]           1,180\n",
      "              ReLU-7                  [-1, 590]               0\n",
      "           Dropout-8                  [-1, 590]               0\n",
      "            Linear-9                 [-1, 1180]         697,380\n",
      "      BatchNorm1d-10                 [-1, 1180]           2,360\n",
      "             ReLU-11                 [-1, 1180]               0\n",
      "          Dropout-12                 [-1, 1180]               0\n",
      "           Linear-13                 [-1, 1180]       1,393,580\n",
      "      BatchNorm1d-14                 [-1, 1180]           2,360\n",
      "             ReLU-15                 [-1, 1180]               0\n",
      "          Dropout-16                 [-1, 1180]               0\n",
      "           Linear-17                 [-1, 1180]       1,393,580\n",
      "      BatchNorm1d-18                 [-1, 1180]           2,360\n",
      "             ReLU-19                 [-1, 1180]               0\n",
      "          Dropout-20                 [-1, 1180]               0\n",
      "           Linear-21                 [-1, 1180]       1,393,580\n",
      "      BatchNorm1d-22                 [-1, 1180]           2,360\n",
      "             ReLU-23                 [-1, 1180]               0\n",
      "          Dropout-24                 [-1, 1180]               0\n",
      "           Linear-25                  [-1, 236]         278,716\n",
      "================================================================\n",
      "Total params: 5,935,636\n",
      "Trainable params: 5,935,636\n",
      "Non-trainable params: 0\n",
      "----------------------------------------------------------------\n",
      "Input size (MB): 0.00\n",
      "Forward/backward pass size (MB): 0.18\n",
      "Params size (MB): 22.64\n",
      "Estimated Total Size (MB): 22.83\n",
      "----------------------------------------------------------------\n"
     ]
    }
   ],
   "source": [
    "# class dnn(torch.nn.Module):\n",
    "#   def __init__(self,shape,dropout=0):\n",
    "#     super(dnn,self).__init__()\n",
    "#     layers=[]\n",
    "#     for idx in range(len(shape)-2):\n",
    "#       layers.extend([\n",
    "#         nn.Linear(shape[idx],shape[idx+1]),\n",
    "#         nn.ReLU(),\n",
    "#         nn.BatchNorm1d(shape[idx+1]),\n",
    "#         nn.Dropout(dropout)\n",
    "#       ])\n",
    "#     layers.append(nn.Linear(shape[-2],shape[-1]))\n",
    "#     self.features=nn.Sequential(*layers)\n",
    "#     # initialize\n",
    "#     for temp in self.features:\n",
    "#       if type(temp)==nn.Linear:\n",
    "#         torch.nn.init.normal_(temp.weight,mean=0,std=1)\n",
    "#   def forward(self,x):\n",
    "#     return self.features(x)\n",
    "# net=dnn([118*6,118*5,118*5,118*10,118*10,118*10,118*10,118]).to(device)\n",
    "# print('number of params: %d'%(sum(temp.numel() for temp in net.parameters() if temp.requires_grad)))\n",
    "from torchsummary import summary\n",
    "class dnn(torch.nn.Module):\n",
    "    def __init__(self, shape):\n",
    "        super(dnn, self).__init__()\n",
    "        layers = []\n",
    "        for idx in range(len(shape) - 2):\n",
    "            layers.extend([\n",
    "                nn.Linear(shape[idx], shape[idx+1]),\n",
    "                nn.BatchNorm1d(num_features=shape[idx+1]),  # 確保 num_features 正確\n",
    "                nn.ReLU(),\n",
    "                nn.Dropout(0.5),\n",
    "            ])\n",
    "        layers.append(nn.Linear(shape[-2], shape[-1]))  # 最後一層\n",
    "        self.features = nn.Sequential(*layers)\n",
    "\n",
    "    def forward(self, x):\n",
    "        x = x.view(x.size(0), -1)  # 保證 batch_size 在第一維\n",
    "        return self.features(x)\n",
    "\n",
    "# 測試模型\n",
    "print('n_bus:',n_bus)\n",
    "device = torch.device(\"cuda\" if torch.cuda.is_available() else \"cpu\")\n",
    "#net=dnn([n_bus*6,n_bus*10,n_bus*10,n_bus*10,n_bus*2]).to(device) #source code\n",
    "net = dnn([n_bus*6, n_bus*5, n_bus*5, n_bus*10, n_bus*10, n_bus*10, n_bus*10, n_bus*2]).to(device)#my code\n",
    "\n",
    "\n",
    "# 打印總參數數量\n",
    "total_params = sum(p.numel() for p in net.parameters() if p.requires_grad)\n",
    "print(f\"Total Parameters: {total_params:,}\")\n",
    "\n",
    "summary(net, (1, n_bus*6))\n"
   ]
  },
  {
   "cell_type": "code",
   "execution_count": 9,
   "metadata": {
    "id": "GEQ-MDKOTqW1"
   },
   "outputs": [],
   "source": [
    "# threshold function for p_g\n",
    "class my_gen_pred_binary(nn.Module):\n",
    "  def __init__(self):\n",
    "    super(my_gen_pred_binary,self).__init__()\n",
    "  def forward(self,x,thresh):\n",
    "    right_thresh=thresh.clone().detach().requires_grad_(True).double()\n",
    "    left_thresh=torch.tensor(0).double()\n",
    "    x=x.double()\n",
    "    output = torch.sigmoid(left_thresh - x)\n",
    "    output = torch.mul(output,left_thresh - x) + x\n",
    "    output = torch.sigmoid(output - right_thresh)\n",
    "    output = torch.mul(output,output - right_thresh) + right_thresh\n",
    "    return output"
   ]
  },
  {
   "cell_type": "code",
   "execution_count": 10,
   "metadata": {
    "id": "9mYCMszHaosA"
   },
   "outputs": [],
   "source": [
    "## params needed for S calculation\n",
    "# line parameters\n",
    "filename1 = root+'ieee118_lineloc.txt'\n",
    "filename2 = root+'ieee118_lineparams.txt'\n",
    "filename3 = root+'ieee118_Bmat.txt'\n",
    "# incidence info\n",
    "line_loc = pd.read_table(filename1,sep=',',header=None).to_numpy()\n",
    "# r, x, shunt, S_max\n",
    "line_params = pd.read_table(filename2,sep=',',header=None).to_numpy()\n",
    "B_mat=pd.read_table(filename3,sep=',',header=None).to_numpy()\n",
    "B_r = np.delete(B_mat,68,axis=0)\n",
    "B_r = np.delete(B_r,68,axis=1)\n",
    "Br_inv = np.linalg.inv(B_r)\n",
    "\n",
    "R_line = line_params[:,0].copy()\n",
    "X_line = line_params[:,1].copy()\n",
    "\n",
    "B_shunt = line_params[:,2].copy()\n",
    "\n",
    "Z_line = R_line + 1j * X_line \n",
    "Y_line = 1 / Z_line\n",
    "\n",
    "G_line = np.real(Y_line)\n",
    "B_line = np.imag(Y_line)\n",
    "\n",
    "# transformer indicator\n",
    "a = (R_line > 0).astype(int)\n",
    "\n",
    "# params to tensor and GPU\n",
    "G_line_tensor = torch.from_numpy(G_line).to(device) # conductance\n",
    "B_line_tensor = torch.from_numpy(B_line).to(device) # susceptance\n",
    "B_shunt_tensor = torch.from_numpy(B_shunt/2).to(device) # conductance\n",
    "Br_inv_tensor = torch.from_numpy(Br_inv).to(device) # reduced Bbus matrix\n",
    "a_tensor = torch.from_numpy(a).double().to(device) # line/transformer"
   ]
  },
  {
   "cell_type": "code",
   "execution_count": 11,
   "metadata": {
    "id": "Go4bwoEmoi0D"
   },
   "outputs": [],
   "source": [
    "class loss_func:\n",
    "    def __init__(self,s_max,G_line,B_line,B_shunt,Br_inv,a,line_loc):\n",
    "      self.s=s_max\n",
    "      self.g=G_line\n",
    "      self.b=B_line\n",
    "      self.c=B_shunt\n",
    "      self.r=Br_inv\n",
    "      self.a=a\n",
    "      self.mse=nn.MSELoss() # MSE loss\n",
    "      self.lmda1=torch.tensor(10).to(device) # V MSE \n",
    "      self.lmda2=torch.tensor(1).to(device) # pi MSE \n",
    "      self.lmda3=torch.tensor(0.1).to(device) # v l_inf\n",
    "      self.lmda4=torch.tensor(0.1).to(device) # s feasibility\n",
    "      self.lmda5=torch.tensor(0.01).to(device) # pi l_inf\n",
    "      self.line_loc=line_loc\n",
    "      self.binary_cell=my_gen_pred_binary()\n",
    "    def calc(self,pred,label,x,feas):\n",
    "      mse_p=self.mse(pred[:,:n_bus],label[:,:n_bus])\n",
    "      mse_v=self.mse(pred[:,n_bus:],label[:,n_bus:])\n",
    "      linf_p=(pred[:,:n_bus]-label[:,:n_bus]).norm(p=float('inf'))\n",
    "      linf_v=(pred[:,n_bus:]-label[:,n_bus:]).norm(p=float('inf'))\n",
    "      if feas==False:\n",
    "        return self.lmda1*mse_v+self.lmda2*mse_p+self.lmda3*linf_v+self.lmda5*linf_p\n",
    "      label_pred=pred[:,:n_bus]\n",
    "      p_max=x[:,:n_bus*1]-x[:,n_bus*1:n_bus*2]\n",
    "      quadratic_b=x[:,n_bus*4:n_bus*5]\n",
    "      quadratic_a=x[:,n_bus*5:n_bus*6]\n",
    "      quadratic_center=(label_pred-quadratic_b)/(quadratic_a+1e-5)/2\n",
    "      p_inj=self.binary_cell(quadratic_center,p_max)\n",
    "      bus_inj=p_inj+x[:,n_bus:n_bus*2]\n",
    "      p_inj_r=torch.cat((bus_inj[:,:68],bus_inj[:,69:]),1)/100\n",
    "      theta0=torch.matmul(self.r,p_inj_r.T)\n",
    "      ref_ang=torch.zeros(1,theta0.shape[1]).to(device)\n",
    "      theta=torch.cat([theta0[:68,:],ref_ang,theta0[68:,:]],0)\n",
    "      v_pred=(pred[:,n_bus:].transpose(0,1))*0.01+0.9\n",
    "      \n",
    "      # s penalty\n",
    "      theta1=theta[self.line_loc[:,0]-1,:]\n",
    "      theta2=theta[self.line_loc[:,1]-1,:]\n",
    "      V1=(v_pred[self.line_loc[:,0]-1,:]).double()\n",
    "      V2=(v_pred[self.line_loc[:,1]-1,:]).double()\n",
    "      f_p=(self.a*self.g*(V1*V1).T)-self.a*((V1*V2).T)*(self.g*torch.cos(theta1-theta2).T+self.b*torch.sin(theta1-theta2).T)\n",
    "      f_p=f_p.T\n",
    "      f_q=-self.a*(V1.T)*(self.a*V1.T)*(self.b+self.c/2)+self.a*((V1*V2).T)*(self.b*torch.cos(theta1-theta2).T-self.g*torch.sin(theta1-theta2).T)\n",
    "      f_q=f_q.T\n",
    "      s_pred=torch.sqrt(f_p*f_p+f_q*f_q+1e-5)*100\n",
    "      s_penalty=torch.sigmoid(s_pred-self.s)+torch.sigmoid(-s_pred-self.s)\n",
    "      s_total=torch.sum(s_penalty)\n",
    "\n",
    "      # sji penalty\n",
    "      theta1=theta[self.line_loc[:,1]-1,:]\n",
    "      theta2=theta[self.line_loc[:,0]-1,:]\n",
    "      V1=(v_pred[self.line_loc[:,1]-1,:]).double()\n",
    "      V2=(v_pred[self.line_loc[:,0]-1,:]).double() \n",
    "      fji_p=(self.a*self.g*(V1*V1).T)-self.a*((V1*V2).T)*(self.g*torch.cos(theta1-theta2).T+self.b*torch.sin(theta1-theta2).T)\n",
    "      fji_p=fji_p.T\n",
    "      fji_q=-self.a*(V1.T)*(self.a*V1.T)*(self.b+self.c/2)+self.a*((V1*V2).T)*(self.b*torch.cos(theta1-theta2).T-self.g*torch.sin(theta1-theta2).T)\n",
    "      fji_q=fji_q.T\n",
    "      sji_pred=torch.sqrt(fji_p*fji_p+fji_q*fji_q+1e-5)*100\n",
    "      sji_penalty=torch.sigmoid(sji_pred-self.s)+torch.sigmoid(-sji_pred-self.s)\n",
    "      sji_total=torch.sum(sji_penalty)\n",
    "\n",
    "      return self.lmda1*mse_v+self.lmda2*mse_p+self.lmda3*linf_v+self.lmda5*linf_p+self.lmda4*s_total+self.lmda4*sji_total\n",
    "my_loss=loss_func(f_max,G_line_tensor,B_line_tensor,B_shunt_tensor,Br_inv_tensor,a_tensor,line_loc)"
   ]
  },
  {
   "cell_type": "code",
   "execution_count": null,
   "metadata": {},
   "outputs": [
    {
     "name": "stdout",
     "output_type": "stream",
     "text": [
      "cold start\n"
     ]
    },
    {
     "name": "stderr",
     "output_type": "stream",
     "text": [
      "c:\\Users\\USER\\anaconda3\\envs\\AC_OPF\\Lib\\site-packages\\torch\\optim\\lr_scheduler.py:62: UserWarning: The verbose parameter is deprecated. Please use get_last_lr() to access the learning rate.\n",
      "  warnings.warn(\n"
     ]
    },
    {
     "name": "stdout",
     "output_type": "stream",
     "text": [
      "Epoch 0 | Training loss: 402.8470 | Learning Rate: 0.001000\n",
      "Epoch 0 | Validation loss: 407.9184 | Learning Rate: 0.001000\n",
      "Epoch 1 | Training loss: 387.7569 | Learning Rate: 0.001000\n",
      "Epoch 2 | Training loss: 373.0236 | Learning Rate: 0.001000\n",
      "Epoch 3 | Training loss: 357.0128 | Learning Rate: 0.001000\n",
      "Epoch 4 | Training loss: 340.0839 | Learning Rate: 0.001000\n",
      "Epoch 5 | Training loss: 320.8031 | Learning Rate: 0.001000\n",
      "Epoch 5 | Validation loss: 272.8796 | Learning Rate: 0.001000\n",
      "Epoch 6 | Training loss: 293.7709 | Learning Rate: 0.001000\n",
      "Epoch 7 | Training loss: 263.6003 | Learning Rate: 0.001000\n",
      "Epoch 8 | Training loss: 238.2100 | Learning Rate: 0.001000\n",
      "Epoch 9 | Training loss: 214.2452 | Learning Rate: 0.001000\n",
      "Epoch 10 | Training loss: 191.0469 | Learning Rate: 0.001000\n",
      "Epoch 10 | Validation loss: 176.6790 | Learning Rate: 0.001000\n",
      "Epoch 11 | Training loss: 168.8224 | Learning Rate: 0.001000\n",
      "Epoch 12 | Training loss: 147.7256 | Learning Rate: 0.001000\n",
      "Epoch 13 | Training loss: 128.0412 | Learning Rate: 0.001000\n",
      "Epoch 14 | Training loss: 109.5717 | Learning Rate: 0.001000\n",
      "Epoch 15 | Training loss: 92.8887 | Learning Rate: 0.001000\n",
      "Epoch 15 | Validation loss: 77.0207 | Learning Rate: 0.001000\n",
      "Epoch 16 | Training loss: 77.8186 | Learning Rate: 0.001000\n",
      "Epoch 17 | Training loss: 64.6278 | Learning Rate: 0.001000\n",
      "Epoch 18 | Training loss: 53.2038 | Learning Rate: 0.001000\n",
      "Epoch 19 | Training loss: 42.7808 | Learning Rate: 0.001000\n",
      "Epoch 20 | Training loss: 34.1224 | Learning Rate: 0.001000\n",
      "Epoch 20 | Validation loss: 35.1677 | Learning Rate: 0.001000\n",
      "Epoch 21 | Training loss: 26.9489 | Learning Rate: 0.001000\n",
      "Epoch 22 | Training loss: 21.3633 | Learning Rate: 0.001000\n",
      "Epoch 23 | Training loss: 16.8995 | Learning Rate: 0.001000\n",
      "Epoch 24 | Training loss: 13.3639 | Learning Rate: 0.001000\n",
      "Epoch 25 | Training loss: 10.5078 | Learning Rate: 0.001000\n",
      "Epoch 25 | Validation loss: 10.0678 | Learning Rate: 0.001000\n",
      "Epoch 26 | Training loss: 8.6717 | Learning Rate: 0.001000\n",
      "Epoch 27 | Training loss: 6.9244 | Learning Rate: 0.001000\n",
      "Epoch 28 | Training loss: 5.8806 | Learning Rate: 0.001000\n",
      "Epoch 29 | Training loss: 5.0221 | Learning Rate: 0.001000\n",
      "Epoch 30 | Training loss: 4.3656 | Learning Rate: 0.001000\n",
      "Epoch 30 | Validation loss: 2.2645 | Learning Rate: 0.001000\n",
      "Epoch 31 | Training loss: 3.8439 | Learning Rate: 0.001000\n",
      "Epoch 32 | Training loss: 3.5592 | Learning Rate: 0.001000\n",
      "Epoch 33 | Training loss: 3.2120 | Learning Rate: 0.001000\n",
      "Epoch 34 | Training loss: 3.0790 | Learning Rate: 0.001000\n",
      "Epoch 35 | Training loss: 2.9453 | Learning Rate: 0.001000\n",
      "Epoch 35 | Validation loss: 1.6978 | Learning Rate: 0.001000\n",
      "Epoch 36 | Training loss: 2.8968 | Learning Rate: 0.001000\n",
      "Epoch 37 | Training loss: 2.6796 | Learning Rate: 0.001000\n",
      "Epoch 38 | Training loss: 2.5894 | Learning Rate: 0.001000\n",
      "Epoch 39 | Training loss: 2.5064 | Learning Rate: 0.001000\n",
      "Epoch 40 | Training loss: 2.6085 | Learning Rate: 0.001000\n",
      "Epoch 40 | Validation loss: 1.4877 | Learning Rate: 0.001000\n",
      "Epoch 41 | Training loss: 2.3720 | Learning Rate: 0.001000\n",
      "Epoch 42 | Training loss: 2.4166 | Learning Rate: 0.001000\n",
      "Epoch 43 | Training loss: 2.3241 | Learning Rate: 0.001000\n",
      "Epoch 44 | Training loss: 2.2888 | Learning Rate: 0.001000\n",
      "Epoch 45 | Training loss: 2.2773 | Learning Rate: 0.001000\n",
      "Epoch 45 | Validation loss: 1.3921 | Learning Rate: 0.001000\n",
      "Epoch 46 | Training loss: 2.2027 | Learning Rate: 0.001000\n",
      "Epoch 47 | Training loss: 2.2213 | Learning Rate: 0.001000\n",
      "Epoch 48 | Training loss: 2.1991 | Learning Rate: 0.001000\n",
      "Epoch 49 | Training loss: 2.1915 | Learning Rate: 0.001000\n",
      "Epoch 50 | Training loss: 2.1829 | Learning Rate: 0.001000\n",
      "Epoch 50 | Validation loss: 1.3220 | Learning Rate: 0.001000\n",
      "Epoch 51 | Training loss: 2.1385 | Learning Rate: 0.001000\n",
      "Epoch 52 | Training loss: 2.1233 | Learning Rate: 0.001000\n",
      "Epoch 53 | Training loss: 2.1522 | Learning Rate: 0.001000\n",
      "Epoch 54 | Training loss: 2.1331 | Learning Rate: 0.001000\n",
      "Epoch 55 | Training loss: 2.1641 | Learning Rate: 0.001000\n",
      "Epoch 55 | Validation loss: 1.3194 | Learning Rate: 0.001000\n",
      "Epoch 56 | Training loss: 2.1480 | Learning Rate: 0.001000\n",
      "Epoch 57 | Training loss: 2.0891 | Learning Rate: 0.001000\n",
      "Epoch 58 | Training loss: 2.1067 | Learning Rate: 0.001000\n",
      "Epoch 59 | Training loss: 2.0738 | Learning Rate: 0.001000\n",
      "Epoch 60 | Training loss: 2.0804 | Learning Rate: 0.001000\n",
      "Epoch 60 | Validation loss: 1.2730 | Learning Rate: 0.001000\n",
      "Epoch 61 | Training loss: 2.0417 | Learning Rate: 0.001000\n",
      "Epoch 62 | Training loss: 2.0397 | Learning Rate: 0.001000\n",
      "Epoch 63 | Training loss: 2.0372 | Learning Rate: 0.001000\n",
      "Epoch 64 | Training loss: 2.0997 | Learning Rate: 0.001000\n",
      "Epoch 65 | Training loss: 2.0863 | Learning Rate: 0.001000\n",
      "Epoch 65 | Validation loss: 1.2737 | Learning Rate: 0.001000\n",
      "Epoch 66 | Training loss: 2.0032 | Learning Rate: 0.001000\n",
      "Epoch 67 | Training loss: 1.9699 | Learning Rate: 0.001000\n",
      "Epoch 68 | Training loss: 2.0003 | Learning Rate: 0.001000\n",
      "Epoch 69 | Training loss: 2.0100 | Learning Rate: 0.001000\n",
      "Epoch 70 | Training loss: 1.9875 | Learning Rate: 0.001000\n",
      "Epoch 70 | Validation loss: 1.3242 | Learning Rate: 0.001000\n",
      "Epoch 71 | Training loss: 1.9906 | Learning Rate: 0.001000\n",
      "Epoch 72 | Training loss: 2.0460 | Learning Rate: 0.001000\n",
      "Epoch 73 | Training loss: 1.9753 | Learning Rate: 0.001000\n",
      "Epoch 74 | Training loss: 2.0380 | Learning Rate: 0.001000\n",
      "Epoch 75 | Training loss: 1.9986 | Learning Rate: 0.001000\n",
      "Epoch 75 | Validation loss: 1.3121 | Learning Rate: 0.001000\n",
      "Epoch 76 | Training loss: 1.9709 | Learning Rate: 0.001000\n",
      "Epoch 77 | Training loss: 1.9364 | Learning Rate: 0.001000\n",
      "Epoch 78 | Training loss: 1.9533 | Learning Rate: 0.001000\n",
      "Epoch 79 | Training loss: 1.9627 | Learning Rate: 0.001000\n",
      "Epoch 80 | Training loss: 1.9702 | Learning Rate: 0.001000\n",
      "Epoch 80 | Validation loss: 1.2656 | Learning Rate: 0.001000\n",
      "Epoch 81 | Training loss: 1.9890 | Learning Rate: 0.001000\n",
      "Epoch 82 | Training loss: 1.9861 | Learning Rate: 0.001000\n",
      "Epoch 83 | Training loss: 1.9373 | Learning Rate: 0.001000\n",
      "Epoch 84 | Training loss: 1.8904 | Learning Rate: 0.001000\n",
      "Epoch 85 | Training loss: 1.9541 | Learning Rate: 0.001000\n",
      "Epoch 85 | Validation loss: 1.3011 | Learning Rate: 0.001000\n",
      "Epoch 86 | Training loss: 1.9894 | Learning Rate: 0.001000\n",
      "Epoch 87 | Training loss: 1.9643 | Learning Rate: 0.001000\n",
      "Epoch 88 | Training loss: 1.9218 | Learning Rate: 0.001000\n",
      "Epoch 89 | Training loss: 1.8924 | Learning Rate: 0.001000\n",
      "Epoch 90 | Training loss: 1.9044 | Learning Rate: 0.001000\n",
      "Epoch 90 | Validation loss: 1.5891 | Learning Rate: 0.001000\n",
      "Epoch 91 | Training loss: 1.9017 | Learning Rate: 0.001000\n",
      "Epoch 92 | Training loss: 1.8611 | Learning Rate: 0.001000\n",
      "Epoch 93 | Training loss: 1.8728 | Learning Rate: 0.001000\n",
      "Epoch 94 | Training loss: 1.8705 | Learning Rate: 0.001000\n",
      "Epoch 95 | Training loss: 1.8655 | Learning Rate: 0.001000\n",
      "Epoch 95 | Validation loss: 1.3456 | Learning Rate: 0.001000\n",
      "Epoch 96 | Training loss: 1.9010 | Learning Rate: 0.001000\n",
      "Epoch 97 | Training loss: 1.8683 | Learning Rate: 0.001000\n",
      "Epoch 98 | Training loss: 1.8776 | Learning Rate: 0.001000\n",
      "Epoch 99 | Training loss: 1.8756 | Learning Rate: 0.001000\n",
      "Epoch 100 | Training loss: 1.8463 | Learning Rate: 0.001000\n",
      "Epoch 100 | Validation loss: 1.3005 | Learning Rate: 0.001000\n",
      "Epoch 101 | Training loss: 1.8835 | Learning Rate: 0.001000\n",
      "Epoch 102 | Training loss: 1.9199 | Learning Rate: 0.001000\n",
      "Epoch 103 | Training loss: 1.8450 | Learning Rate: 0.001000\n",
      "Epoch 104 | Training loss: 1.8600 | Learning Rate: 0.001000\n",
      "Epoch 105 | Training loss: 1.8023 | Learning Rate: 0.001000\n",
      "Epoch 105 | Validation loss: 1.2086 | Learning Rate: 0.001000\n",
      "Epoch 106 | Training loss: 1.8219 | Learning Rate: 0.001000\n",
      "Epoch 107 | Training loss: 1.8248 | Learning Rate: 0.001000\n",
      "Epoch 108 | Training loss: 1.7811 | Learning Rate: 0.001000\n",
      "Epoch 109 | Training loss: 1.8059 | Learning Rate: 0.001000\n",
      "Epoch 110 | Training loss: 1.7388 | Learning Rate: 0.001000\n",
      "Epoch 110 | Validation loss: 1.5051 | Learning Rate: 0.001000\n",
      "Epoch 111 | Training loss: 1.8108 | Learning Rate: 0.001000\n",
      "Epoch 112 | Training loss: 1.7919 | Learning Rate: 0.001000\n",
      "Epoch 113 | Training loss: 1.7724 | Learning Rate: 0.001000\n",
      "Epoch 114 | Training loss: 1.7099 | Learning Rate: 0.001000\n",
      "Epoch 115 | Training loss: 1.7385 | Learning Rate: 0.001000\n",
      "Epoch 115 | Validation loss: 2.3973 | Learning Rate: 0.001000\n",
      "Epoch 116 | Training loss: 1.7196 | Learning Rate: 0.001000\n",
      "Epoch 117 | Training loss: 1.8173 | Learning Rate: 0.001000\n",
      "Epoch 118 | Training loss: 1.7878 | Learning Rate: 0.001000\n",
      "Epoch 119 | Training loss: 1.7427 | Learning Rate: 0.001000\n",
      "Epoch 120 | Training loss: 1.7472 | Learning Rate: 0.001000\n",
      "Epoch 120 | Validation loss: 1.9740 | Learning Rate: 0.001000\n",
      "Epoch 121 | Training loss: 1.7723 | Learning Rate: 0.001000\n",
      "Epoch 122 | Training loss: 1.7351 | Learning Rate: 0.001000\n",
      "Epoch 123 | Training loss: 1.6703 | Learning Rate: 0.001000\n",
      "Epoch 124 | Training loss: 1.6954 | Learning Rate: 0.001000\n",
      "Epoch 125 | Training loss: 1.7083 | Learning Rate: 0.001000\n",
      "Epoch 125 | Validation loss: 2.1764 | Learning Rate: 0.001000\n",
      "Epoch 126 | Training loss: 1.7015 | Learning Rate: 0.001000\n",
      "Epoch 127 | Training loss: 1.6618 | Learning Rate: 0.001000\n",
      "Epoch 128 | Training loss: 1.6441 | Learning Rate: 0.001000\n",
      "Epoch 129 | Training loss: 1.6678 | Learning Rate: 0.001000\n",
      "Epoch 130 | Training loss: 1.6766 | Learning Rate: 0.001000\n",
      "Epoch 130 | Validation loss: 2.4438 | Learning Rate: 0.001000\n",
      "Epoch 131 | Training loss: 1.7309 | Learning Rate: 0.001000\n",
      "Epoch 132 | Training loss: 1.6615 | Learning Rate: 0.001000\n",
      "Epoch 133 | Training loss: 1.6833 | Learning Rate: 0.001000\n",
      "Epoch 134 | Training loss: 1.6600 | Learning Rate: 0.001000\n",
      "Epoch 135 | Training loss: 1.6560 | Learning Rate: 0.001000\n",
      "Epoch 135 | Validation loss: 1.2692 | Learning Rate: 0.001000\n",
      "Epoch 136 | Training loss: 1.5649 | Learning Rate: 0.000900\n",
      "Epoch 137 | Training loss: 1.5964 | Learning Rate: 0.000900\n",
      "Epoch 138 | Training loss: 1.5965 | Learning Rate: 0.000900\n",
      "Epoch 139 | Training loss: 1.6062 | Learning Rate: 0.000900\n",
      "Epoch 140 | Training loss: 1.5932 | Learning Rate: 0.000900\n",
      "Epoch 140 | Validation loss: 1.2179 | Learning Rate: 0.000900\n",
      "Epoch 141 | Training loss: 1.5803 | Learning Rate: 0.000900\n",
      "Epoch 142 | Training loss: 1.5609 | Learning Rate: 0.000900\n",
      "Epoch 143 | Training loss: 1.5877 | Learning Rate: 0.000900\n",
      "Epoch 144 | Training loss: 1.6403 | Learning Rate: 0.000900\n",
      "Epoch 145 | Training loss: 1.5336 | Learning Rate: 0.000900\n",
      "Epoch 145 | Validation loss: 3.1855 | Learning Rate: 0.000900\n",
      "Epoch 146 | Training loss: 1.5389 | Learning Rate: 0.000900\n",
      "Epoch 147 | Training loss: 1.5293 | Learning Rate: 0.000900\n",
      "Epoch 148 | Training loss: 1.5568 | Learning Rate: 0.000900\n",
      "Epoch 149 | Training loss: 1.5651 | Learning Rate: 0.000900\n",
      "Epoch 150 | Training loss: 1.5608 | Learning Rate: 0.000900\n",
      "Epoch 150 | Validation loss: 3.0783 | Learning Rate: 0.000900\n",
      "Epoch 151 | Training loss: 1.5578 | Learning Rate: 0.000900\n",
      "Epoch 152 | Training loss: 1.5671 | Learning Rate: 0.000900\n",
      "Epoch 153 | Training loss: 1.5327 | Learning Rate: 0.000900\n",
      "Epoch 154 | Training loss: 1.5650 | Learning Rate: 0.000900\n",
      "Epoch 155 | Training loss: 1.4861 | Learning Rate: 0.000900\n",
      "Epoch 155 | Validation loss: 1.4237 | Learning Rate: 0.000900\n",
      "Epoch 156 | Training loss: 1.4998 | Learning Rate: 0.000900\n",
      "Epoch 157 | Training loss: 1.5627 | Learning Rate: 0.000900\n",
      "Epoch 158 | Training loss: 1.5221 | Learning Rate: 0.000900\n",
      "Epoch 159 | Training loss: 1.5304 | Learning Rate: 0.000900\n",
      "Epoch 160 | Training loss: 1.5260 | Learning Rate: 0.000900\n",
      "Epoch 160 | Validation loss: 2.0226 | Learning Rate: 0.000900\n",
      "Epoch 161 | Training loss: 1.5028 | Learning Rate: 0.000900\n",
      "Epoch 162 | Training loss: 1.5198 | Learning Rate: 0.000900\n",
      "Epoch 163 | Training loss: 1.5145 | Learning Rate: 0.000900\n",
      "Epoch 164 | Training loss: 1.4632 | Learning Rate: 0.000900\n",
      "Epoch 165 | Training loss: 1.4620 | Learning Rate: 0.000900\n",
      "Epoch 165 | Validation loss: 1.3148 | Learning Rate: 0.000900\n",
      "Epoch 166 | Training loss: 1.4409 | Learning Rate: 0.000810\n",
      "Epoch 167 | Training loss: 1.4339 | Learning Rate: 0.000810\n",
      "Epoch 168 | Training loss: 1.4354 | Learning Rate: 0.000810\n",
      "Epoch 169 | Training loss: 1.4482 | Learning Rate: 0.000810\n",
      "Epoch 170 | Training loss: 1.5085 | Learning Rate: 0.000810\n",
      "Epoch 170 | Validation loss: 2.2092 | Learning Rate: 0.000810\n",
      "Epoch 171 | Training loss: 1.4147 | Learning Rate: 0.000810\n",
      "Epoch 172 | Training loss: 1.4271 | Learning Rate: 0.000810\n",
      "Epoch 173 | Training loss: 1.4326 | Learning Rate: 0.000810\n",
      "Epoch 174 | Training loss: 1.4224 | Learning Rate: 0.000810\n",
      "Epoch 175 | Training loss: 1.4058 | Learning Rate: 0.000810\n",
      "Epoch 175 | Validation loss: 1.1265 | Learning Rate: 0.000810\n",
      "Epoch 176 | Training loss: 1.4371 | Learning Rate: 0.000810\n",
      "Epoch 177 | Training loss: 1.4067 | Learning Rate: 0.000810\n",
      "Epoch 178 | Training loss: 1.4277 | Learning Rate: 0.000810\n",
      "Epoch 179 | Training loss: 1.4060 | Learning Rate: 0.000810\n",
      "Epoch 180 | Training loss: 1.4028 | Learning Rate: 0.000810\n",
      "Epoch 180 | Validation loss: 1.1467 | Learning Rate: 0.000810\n",
      "Epoch 181 | Training loss: 1.4471 | Learning Rate: 0.000810\n",
      "Epoch 182 | Training loss: 1.4256 | Learning Rate: 0.000810\n",
      "Epoch 183 | Training loss: 1.4072 | Learning Rate: 0.000810\n",
      "Epoch 184 | Training loss: 1.4093 | Learning Rate: 0.000810\n",
      "Epoch 185 | Training loss: 1.3720 | Learning Rate: 0.000810\n",
      "Epoch 185 | Validation loss: 1.5020 | Learning Rate: 0.000810\n",
      "Epoch 186 | Training loss: 1.4184 | Learning Rate: 0.000810\n",
      "Epoch 187 | Training loss: 1.3956 | Learning Rate: 0.000810\n",
      "Epoch 188 | Training loss: 1.3917 | Learning Rate: 0.000810\n",
      "Epoch 189 | Training loss: 1.3911 | Learning Rate: 0.000810\n",
      "Epoch 190 | Training loss: 1.3778 | Learning Rate: 0.000810\n",
      "Epoch 190 | Validation loss: 1.3057 | Learning Rate: 0.000810\n",
      "Epoch 191 | Training loss: 1.3873 | Learning Rate: 0.000810\n",
      "Epoch 192 | Training loss: 1.3700 | Learning Rate: 0.000810\n",
      "Epoch 193 | Training loss: 1.3405 | Learning Rate: 0.000810\n",
      "Epoch 194 | Training loss: 1.3624 | Learning Rate: 0.000810\n",
      "Epoch 195 | Training loss: 1.4004 | Learning Rate: 0.000810\n",
      "Epoch 195 | Validation loss: 3.4345 | Learning Rate: 0.000810\n",
      "Epoch 196 | Training loss: 1.4479 | Learning Rate: 0.000810\n",
      "Epoch 197 | Training loss: 1.3876 | Learning Rate: 0.000810\n",
      "Epoch 198 | Training loss: 1.3694 | Learning Rate: 0.000810\n",
      "Epoch 199 | Training loss: 1.3092 | Learning Rate: 0.000810\n",
      "Epoch 200 | Training loss: 1.3857 | Learning Rate: 0.000810\n",
      "Epoch 200 | Validation loss: 2.1463 | Learning Rate: 0.000810\n",
      "Epoch 201 | Training loss: 1.3319 | Learning Rate: 0.000810\n",
      "Epoch 202 | Training loss: 1.3177 | Learning Rate: 0.000810\n",
      "Epoch 203 | Training loss: 1.3580 | Learning Rate: 0.000810\n",
      "Epoch 204 | Training loss: 1.3114 | Learning Rate: 0.000810\n",
      "Epoch 205 | Training loss: 1.3394 | Learning Rate: 0.000810\n",
      "Epoch 205 | Validation loss: 1.3995 | Learning Rate: 0.000810\n",
      "Epoch 206 | Training loss: 1.3160 | Learning Rate: 0.000729\n",
      "Epoch 207 | Training loss: 1.3329 | Learning Rate: 0.000729\n",
      "Epoch 208 | Training loss: 1.3122 | Learning Rate: 0.000729\n",
      "Epoch 209 | Training loss: 1.3519 | Learning Rate: 0.000729\n",
      "Epoch 210 | Training loss: 1.3411 | Learning Rate: 0.000729\n",
      "Epoch 210 | Validation loss: 1.9100 | Learning Rate: 0.000729\n",
      "Epoch 211 | Training loss: 1.3109 | Learning Rate: 0.000729\n",
      "Epoch 212 | Training loss: 1.3315 | Learning Rate: 0.000729\n",
      "Epoch 213 | Training loss: 1.2934 | Learning Rate: 0.000729\n",
      "Epoch 214 | Training loss: 1.2725 | Learning Rate: 0.000729\n",
      "Epoch 215 | Training loss: 1.3039 | Learning Rate: 0.000729\n",
      "Epoch 215 | Validation loss: 1.1439 | Learning Rate: 0.000729\n",
      "Epoch 216 | Training loss: 1.2898 | Learning Rate: 0.000729\n",
      "Epoch 217 | Training loss: 1.3076 | Learning Rate: 0.000729\n",
      "Epoch 218 | Training loss: 1.2834 | Learning Rate: 0.000729\n",
      "Epoch 219 | Training loss: 1.2786 | Learning Rate: 0.000729\n",
      "Epoch 220 | Training loss: 1.2929 | Learning Rate: 0.000729\n",
      "Epoch 220 | Validation loss: 1.0948 | Learning Rate: 0.000729\n",
      "Epoch 221 | Training loss: 1.2621 | Learning Rate: 0.000729\n",
      "Epoch 222 | Training loss: 1.2856 | Learning Rate: 0.000729\n",
      "Epoch 223 | Training loss: 1.2466 | Learning Rate: 0.000729\n",
      "Epoch 224 | Training loss: 1.2276 | Learning Rate: 0.000729\n",
      "Epoch 225 | Training loss: 1.2579 | Learning Rate: 0.000729\n",
      "Epoch 225 | Validation loss: 1.3602 | Learning Rate: 0.000729\n",
      "Epoch 226 | Training loss: 1.2488 | Learning Rate: 0.000729\n",
      "Epoch 227 | Training loss: 1.2634 | Learning Rate: 0.000729\n",
      "Epoch 228 | Training loss: 1.2898 | Learning Rate: 0.000729\n",
      "Epoch 229 | Training loss: 1.2606 | Learning Rate: 0.000729\n",
      "Epoch 230 | Training loss: 1.2347 | Learning Rate: 0.000729\n",
      "Epoch 230 | Validation loss: 1.2240 | Learning Rate: 0.000729\n",
      "Epoch 231 | Training loss: 1.2637 | Learning Rate: 0.000729\n",
      "Epoch 232 | Training loss: 1.2116 | Learning Rate: 0.000729\n",
      "Epoch 233 | Training loss: 1.2397 | Learning Rate: 0.000729\n",
      "Epoch 234 | Training loss: 1.2796 | Learning Rate: 0.000729\n",
      "Epoch 235 | Training loss: 1.2823 | Learning Rate: 0.000729\n",
      "Epoch 235 | Validation loss: 1.1274 | Learning Rate: 0.000729\n",
      "Epoch 236 | Training loss: 1.2143 | Learning Rate: 0.000729\n",
      "Epoch 237 | Training loss: 1.2381 | Learning Rate: 0.000729\n",
      "Epoch 238 | Training loss: 1.2458 | Learning Rate: 0.000729\n",
      "Epoch 239 | Training loss: 1.2059 | Learning Rate: 0.000729\n",
      "Epoch 240 | Training loss: 1.2175 | Learning Rate: 0.000729\n",
      "Epoch 240 | Validation loss: 1.0402 | Learning Rate: 0.000729\n",
      "Epoch 241 | Training loss: 1.2441 | Learning Rate: 0.000729\n",
      "Epoch 242 | Training loss: 1.2241 | Learning Rate: 0.000729\n",
      "Epoch 243 | Training loss: 1.2013 | Learning Rate: 0.000729\n",
      "Epoch 244 | Training loss: 1.2165 | Learning Rate: 0.000729\n",
      "Epoch 245 | Training loss: 1.1992 | Learning Rate: 0.000729\n",
      "Epoch 245 | Validation loss: 1.2230 | Learning Rate: 0.000729\n",
      "Epoch 246 | Training loss: 1.2239 | Learning Rate: 0.000729\n",
      "Epoch 247 | Training loss: 1.1907 | Learning Rate: 0.000729\n",
      "Epoch 248 | Training loss: 1.1939 | Learning Rate: 0.000729\n",
      "Epoch 249 | Training loss: 1.1943 | Learning Rate: 0.000729\n",
      "Epoch 250 | Training loss: 1.2606 | Learning Rate: 0.000729\n",
      "Epoch 250 | Validation loss: 1.0559 | Learning Rate: 0.000729\n",
      "Epoch 251 | Training loss: 1.2313 | Learning Rate: 0.000729\n",
      "Epoch 252 | Training loss: 1.2444 | Learning Rate: 0.000729\n",
      "Epoch 253 | Training loss: 1.2571 | Learning Rate: 0.000729\n",
      "Epoch 254 | Training loss: 1.1997 | Learning Rate: 0.000729\n",
      "Epoch 255 | Training loss: 1.2518 | Learning Rate: 0.000729\n",
      "Epoch 255 | Validation loss: 1.5715 | Learning Rate: 0.000729\n",
      "Epoch 256 | Training loss: 1.2044 | Learning Rate: 0.000729\n",
      "Epoch 257 | Training loss: 1.1767 | Learning Rate: 0.000729\n",
      "Epoch 258 | Training loss: 1.1920 | Learning Rate: 0.000729\n",
      "Epoch 259 | Training loss: 1.1956 | Learning Rate: 0.000729\n",
      "Epoch 260 | Training loss: 1.2002 | Learning Rate: 0.000729\n",
      "Epoch 260 | Validation loss: 1.7696 | Learning Rate: 0.000729\n",
      "Epoch 261 | Training loss: 1.2178 | Learning Rate: 0.000729\n",
      "Epoch 262 | Training loss: 1.2015 | Learning Rate: 0.000729\n",
      "Epoch 263 | Training loss: 1.2008 | Learning Rate: 0.000729\n",
      "Epoch 264 | Training loss: 1.2130 | Learning Rate: 0.000729\n",
      "Epoch 265 | Training loss: 1.1823 | Learning Rate: 0.000729\n",
      "Epoch 265 | Validation loss: 2.1535 | Learning Rate: 0.000729\n",
      "Epoch 266 | Training loss: 1.1721 | Learning Rate: 0.000729\n",
      "Epoch 267 | Training loss: 1.1910 | Learning Rate: 0.000729\n",
      "Epoch 268 | Training loss: 1.1925 | Learning Rate: 0.000729\n",
      "Epoch 269 | Training loss: 1.2306 | Learning Rate: 0.000729\n",
      "Epoch 270 | Training loss: 1.1852 | Learning Rate: 0.000729\n",
      "Epoch 270 | Validation loss: 1.0568 | Learning Rate: 0.000729\n",
      "Epoch 271 | Training loss: 1.1480 | Learning Rate: 0.000656\n",
      "Epoch 272 | Training loss: 1.1741 | Learning Rate: 0.000656\n",
      "Epoch 273 | Training loss: 1.1505 | Learning Rate: 0.000656\n",
      "Epoch 274 | Training loss: 1.1429 | Learning Rate: 0.000656\n",
      "Epoch 275 | Training loss: 1.1580 | Learning Rate: 0.000656\n",
      "Epoch 275 | Validation loss: 1.0255 | Learning Rate: 0.000656\n",
      "Epoch 276 | Training loss: 1.1543 | Learning Rate: 0.000656\n",
      "Epoch 277 | Training loss: 1.1611 | Learning Rate: 0.000656\n",
      "Epoch 278 | Training loss: 1.1531 | Learning Rate: 0.000656\n",
      "Epoch 279 | Training loss: 1.1563 | Learning Rate: 0.000656\n",
      "Epoch 280 | Training loss: 1.1460 | Learning Rate: 0.000656\n",
      "Epoch 280 | Validation loss: 1.9737 | Learning Rate: 0.000656\n",
      "Epoch 281 | Training loss: 1.1595 | Learning Rate: 0.000656\n",
      "Epoch 282 | Training loss: 1.1482 | Learning Rate: 0.000656\n",
      "Epoch 283 | Training loss: 1.1694 | Learning Rate: 0.000656\n",
      "Epoch 284 | Training loss: 1.1304 | Learning Rate: 0.000656\n",
      "Epoch 285 | Training loss: 1.1672 | Learning Rate: 0.000656\n",
      "Epoch 285 | Validation loss: 2.8295 | Learning Rate: 0.000656\n",
      "Epoch 286 | Training loss: 1.1397 | Learning Rate: 0.000656\n",
      "Epoch 287 | Training loss: 1.1294 | Learning Rate: 0.000656\n",
      "Epoch 288 | Training loss: 1.1501 | Learning Rate: 0.000656\n",
      "Epoch 289 | Training loss: 1.1481 | Learning Rate: 0.000656\n",
      "Epoch 290 | Training loss: 1.1091 | Learning Rate: 0.000656\n",
      "Epoch 290 | Validation loss: 1.0768 | Learning Rate: 0.000656\n",
      "Epoch 291 | Training loss: 1.0990 | Learning Rate: 0.000656\n",
      "Epoch 292 | Training loss: 1.1561 | Learning Rate: 0.000656\n",
      "Epoch 293 | Training loss: 1.1307 | Learning Rate: 0.000656\n",
      "Epoch 294 | Training loss: 1.1270 | Learning Rate: 0.000656\n",
      "Epoch 295 | Training loss: 1.1242 | Learning Rate: 0.000656\n",
      "Epoch 295 | Validation loss: 1.3949 | Learning Rate: 0.000656\n",
      "Epoch 296 | Training loss: 1.1474 | Learning Rate: 0.000656\n",
      "Epoch 297 | Training loss: 1.0727 | Learning Rate: 0.000656\n",
      "Epoch 298 | Training loss: 1.1170 | Learning Rate: 0.000656\n",
      "Epoch 299 | Training loss: 1.1078 | Learning Rate: 0.000656\n",
      "Training time: 196.5896s\n"
     ]
    }
   ],
   "source": [
    "import torch.optim as optim\n",
    "path = root + 'data_118_quad/gnn_trained_ac118.pickle'\n",
    "try:\n",
    "    net.load_state_dict(torch.load(path))\n",
    "    print('params loaded')\n",
    "except:\n",
    "    print('cold start')\n",
    "\n",
    "# 初始學習率\n",
    "lr = 0.001\n",
    "factor = 0.9\n",
    "patience = 5\n",
    "optimizer = optim.AdamW(net.parameters(), lr)\n",
    "\n",
    "# Learning Rate Scheduler: ReduceLROnPlateau\n",
    "# scheduler = optim.lr_scheduler.ReduceLROnPlateau(\n",
    "#     optimizer, \n",
    "#     mode='min',       # 監測 loss，越小越好\n",
    "#     factor=0.9,       # 學習率變成原來的 90%\n",
    "#     patience=5,       # 5 個 epoch 沒有改善才降低學習率\n",
    "#     verbose=True,     # 會輸出學習率變更訊息\n",
    "#     min_lr=1e-6       # 學習率最低不低於 1e-6\n",
    "# )\n",
    "\n",
    "scheduler = optim.lr_scheduler.ReduceLROnPlateau(\n",
    "    optimizer, \n",
    "    mode='min',       # 監測 loss\n",
    "    factor=factor,       # 學習率變成 50% (下降更多)\n",
    "    patience=patience,       # 3 個 epoch 沒有改善就降低學習率\n",
    "    verbose=True,     \n",
    "    min_lr=1e-6       \n",
    ")\n",
    "\n",
    "\n",
    "\n",
    "train_loss = []\n",
    "val_loss = []\n",
    "lr_list = []\n",
    "\n",
    "t0 = time.time()\n",
    "max_epochs = 300\n",
    "eval_epoch = 5\n",
    "\n",
    "tolerance = 5  # 早停耐心值\n",
    "min_delta = 1e-3\n",
    "previous = float('inf')\n",
    "\n",
    "feas = False  # 加入可行性標記\n",
    "\n",
    "for epoch in range(max_epochs):\n",
    "    total_loss = 0.0\n",
    "    for local_batch, local_label in train_set:\n",
    "        optimizer.zero_grad()\n",
    "        local_batch, local_label = local_batch.to(device), local_label.to(device)\n",
    "        logits = net(local_batch)\n",
    "        loss = my_loss.calc(logits, local_label, local_batch, feas)\n",
    "        loss.backward()\n",
    "        optimizer.step()\n",
    "        total_loss += loss.item()\n",
    "    avg_loss = total_loss / len(train_set.dataset)\n",
    "    train_loss.append(avg_loss)\n",
    "    lr_list.append(scheduler.optimizer.param_groups[0]['lr'])\n",
    "    print(f\"Epoch {epoch} | Training loss: {avg_loss:.4f} | Learning Rate: {scheduler.optimizer.param_groups[0]['lr']:.6f}\")\n",
    "    \n",
    "    if epoch % eval_epoch == 0:\n",
    "        net.eval()\n",
    "        total_loss = 0.0\n",
    "        for local_batch, local_label in val_set:\n",
    "            local_batch, local_label = local_batch.to(device), local_label.to(device)\n",
    "            logits = net(local_batch)\n",
    "            loss = my_loss.calc(logits, local_label, local_batch, feas)\n",
    "            total_loss += loss.item()\n",
    "        avg_loss = total_loss / len(val_set.dataset)\n",
    "        val_loss.append([epoch, avg_loss])\n",
    "        print(f\"Epoch {epoch} | Validation loss: {avg_loss:.4f} | Learning Rate: {scheduler.optimizer.param_groups[0]['lr']:.6f}\")\n",
    "        \n",
    "        # 更新 learning rate\n",
    "        scheduler.step(avg_loss)\n",
    "        \n",
    "        # 早停機制\n",
    "        # if epoch:\n",
    "        #     if previous - avg_loss < min_delta:\n",
    "        #         tolerance -= 1\n",
    "        #     if tolerance == 0:\n",
    "        #         print(\"Early stopping triggered\")\n",
    "        #         break\n",
    "        previous = avg_loss\n",
    "        net.train()\n",
    "\n",
    "        final_epoch = epoch\n",
    "\n",
    "t1 = time.time()\n",
    "print(f\"Training time: {t1 - t0:.4f}s\")\n",
    "#印出 lr validation loss training loss 圖\n"
   ]
  },
  {
   "cell_type": "code",
   "execution_count": 13,
   "metadata": {},
   "outputs": [
    {
     "name": "stdout",
     "output_type": "stream",
     "text": [
      "300 60 300\n",
      "✅ 輸出內容已儲存到 C:\\Users\\USER\\Desktop\\GNN_OPF_electricity_market-main\\output_loss_fig\\trainingloss_gunplot\\02181120.txt\n",
      "✅ Plots generated successfully.\n",
      "📂 Loss plot: C:/Users/USER/Desktop/GNN_OPF_electricity_market-main/output_loss_fig/trainingloss_gunplot/loss_plot_02181120.png\n"
     ]
    }
   ],
   "source": [
    "import os\n",
    "import subprocess\n",
    "from datetime import datetime\n",
    "import numpy as np\n",
    "\n",
    "\n",
    "\n",
    "# **設定輸出目錄**\n",
    "output_dir = r'C:\\Users\\USER\\Desktop\\GNN_OPF_electricity_market-main\\output_loss_fig\\trainingloss_gunplot'\n",
    "timestamp = datetime.now().strftime('%m%d%H%M')\n",
    "output_file = os.path.join(output_dir, f'{timestamp}.txt')\n",
    "\n",
    "# **確保目錄存在**\n",
    "os.makedirs(output_dir, exist_ok=True)\n",
    "\n",
    "print(len(train_loss), len(val_loss), len(lr_list))  # **確認長度**\n",
    "\n",
    "# **儲存數據到 txt 檔案**\n",
    "with open(output_file, 'w') as file:\n",
    "    for i in range(len(train_loss)):\n",
    "        if i % 5 == 0 and (i // 5) < len(val_loss):  # **確保 val_loss 沒有超出索引**\n",
    "            val = val_loss[i // 5]  # **正確存入數值**\n",
    "        else:\n",
    "            val = \"NaN\"  # **改成 NaN 讓 Gnuplot 忽略**\n",
    "        file.write(f\"{i} {train_loss[i]} {val[1]} {lr_list[i]}\\n\")\n",
    "\n",
    "print(f\"✅ 輸出內容已儲存到 {output_file}\")\n",
    "\n",
    "# **修正 Windows 路徑格式**\n",
    "gnuplot_file = output_file.replace(\"\\\\\", \"/\")  # **確保 Gnuplot 能識別路徑**\n",
    "loss_plot_path = os.path.join(output_dir, f'loss_plot_{timestamp}.png').replace(\"\\\\\", \"/\")\n",
    "lr_plot_path = os.path.join(output_dir, f'lr_plot_{timestamp}.png').replace(\"\\\\\", \"/\")\n",
    "\n",
    "# **定義 gnuplot 腳本**\n",
    "gnuplot_script = f\"\"\"\n",
    "set terminal pngcairo enhanced font 'Arial,12' size 800,600\n",
    "set output \"{loss_plot_path}\"\n",
    "\n",
    "set title \"Training Loss & Validation Loss\"\n",
    "set xlabel \"Step\"\n",
    "set ylabel \"Value\"\n",
    "set grid\n",
    "set key outside\n",
    "\n",
    "# **確保 Validation Loss 顯示**\n",
    "plot \"{gnuplot_file}\" using 1:2 with lines title \"Train Loss\" linecolor rgb \"blue\", \\\n",
    "     \"{gnuplot_file}\" using 1:3 with lines title \"Val Loss\" linecolor rgb \"red\"\n",
    "   \n",
    "\n",
    "# **第二張圖：Learning Rate**\n",
    "set output \"{lr_plot_path}\"\n",
    "set title \"Learning Rate\"\n",
    "set xlabel \"Step\"\n",
    "set ylabel \"Learning Rate\"\n",
    "set grid\n",
    "set key outside\n",
    "\n",
    "# **繪製 Learning Rate**\n",
    "plot \"{gnuplot_file}\" using 1:4 with lines title \"Learning Rate\" linecolor rgb \"green\" lw 2\n",
    "\n",
    "\"\"\"\n",
    "\n",
    "\n",
    "\n",
    "# **執行 gnuplot**\n",
    "try:\n",
    "    result = subprocess.run([\"gnuplot\"], input=gnuplot_script, text=True, check=True,\n",
    "                            stdout=subprocess.PIPE, stderr=subprocess.PIPE)\n",
    "    if result.stderr:\n",
    "        print(\"⚠️ Gnuplot Error:\", result.stderr)\n",
    "    else:\n",
    "        print(f\"✅ Plots generated successfully.\\n📂 Loss plot: {loss_plot_path}\")\n",
    "except FileNotFoundError:\n",
    "    print(\"❌ Error: Gnuplot is not installed or not in PATH.\")\n",
    "except subprocess.CalledProcessError as e:\n",
    "    print(f\"❌ Gnuplot execution failed:\\n{e.stderr}\")\n"
   ]
  },
  {
   "cell_type": "code",
   "execution_count": 14,
   "metadata": {
    "id": "AvUTphUSzqzA"
   },
   "outputs": [
    {
     "name": "stdout",
     "output_type": "stream",
     "text": [
      "C:\\Users\\USER\\Desktop\\GNN_OPF_electricity_market-main\\GNN_OPF_electricity_market-main\\GNN_OPF_electricity_market-main\\data_gen\\118_data\\FCNN_model\\dnn_02181120.pickle\n"
     ]
    }
   ],
   "source": [
    "from datetime import datetime\n",
    "\n",
    "timestamp=datetime.now().strftime('%m%d%H%M')\n",
    "path = 'C:\\\\Users\\\\USER\\\\Desktop\\\\GNN_OPF_electricity_market-main\\\\GNN_OPF_electricity_market-main\\\\GNN_OPF_electricity_market-main\\\\data_gen\\\\118_data\\\\FCNN_model\\\\'\n",
    "\n",
    "path = path+'dnn_%s.pickle'%(timestamp)\n",
    "if feas==False: path.replace('feas','')\n",
    "print(path)\n",
    "torch.save(net.state_dict(),path)\n",
    "\n",
    "\n",
    "\n"
   ]
  },
  {
   "cell_type": "code",
   "execution_count": 15,
   "metadata": {
    "id": "L3M4jmjkscK_"
   },
   "outputs": [
    {
     "name": "stdout",
     "output_type": "stream",
     "text": [
      "60\n"
     ]
    },
    {
     "data": {
      "image/png": "[encoded data removed]",
      "text/plain": [
       "<Figure size 640x480 with 1 Axes>"
      ]
     },
     "metadata": {},
     "output_type": "display_data"
    }
   ],
   "source": [
    "\n",
    "\n",
    "\n",
    "val_len = len(val_loss)\n",
    "print(val_len)\n",
    "val_plt = np.zeros((2,val_len))\n",
    "for i in range(val_len):\n",
    "  val_plt[0,i] = val_loss[i][0]\n",
    "  val_plt[1,i] = val_loss[i][1]\n",
    "\n",
    "plt.figure()\n",
    "plot_idx = np.arange(np.size(train_loss))\n",
    "plt.plot(plot_idx[5:-1],train_loss[5:-1],lw=2,label='training loss')\n",
    "plt.plot(val_plt[0,1:],val_plt[1,1:],lw=2,label='validation loss')\n",
    "plt.yscale(\"log\")\n",
    "plt.xlabel('epoch')\n",
    "plt.ylabel('loss')\n",
    "plt.legend()\n",
    "\n",
    "# 在圖的右上角標示學習率\n",
    "plt.text(0.95, 0.95, f'Learning Rate: {lr:.6f}\\nbatch size: {batch_size}', \n",
    "         transform=plt.gca().transAxes, fontsize=10, ha='right', va='top', color='red')\n",
    "\n",
    "\n",
    "\n",
    "\n",
    "# 儲存圖片到指定資料夾（需提供路徑）\n",
    "timestamp=datetime.now().strftime('%m%d%H%M')\n",
    "output_path = r'C:\\Users\\USER\\Desktop\\GNN_OPF_electricity_market-main\\output_loss_fig'\n",
    "output_path = output_path + '/118ac_loss_fig_%s.png' % (timestamp)\n",
    "plt.savefig(output_path, dpi=300, bbox_inches='tight')  # 儲存為 PNG 格式，解析度 300 dpi\n",
    "\n",
    "\n",
    "plt.show(block=False)\n"
   ]
  },
  {
   "cell_type": "markdown",
   "metadata": {
    "id": "R9uGUm4rsco3"
   },
   "source": [
    "# Evaluate the model w/ validation set"
   ]
  },
  {
   "cell_type": "code",
   "execution_count": 16,
   "metadata": {
    "id": "4u6001UQ2pN3"
   },
   "outputs": [
    {
     "name": "stdout",
     "output_type": "stream",
     "text": [
      "Validation dataset size: torch.Size([2000, 708])\n",
      "Number of validation set:  2000\n",
      "torch.Size([2000, 236])\n"
     ]
    }
   ],
   "source": [
    "n_test = np.size(x_test,0)\n",
    "x_test_feed = torch.from_numpy(x_test).float()\n",
    "x_test_feed = x_test_feed#.transpose(1,2)\n",
    "x_test_feed = x_test_feed.to(device)\n",
    "print('Validation dataset size:',x_test_feed.shape)\n",
    "print('Number of validation set: ',n_test)\n",
    "y_pred = net(x_test_feed)\n",
    "print(y_pred.shape)"
   ]
  },
  {
   "cell_type": "markdown",
   "metadata": {
    "id": "YnNbSGYoXS3J"
   },
   "source": [
    "* Visualization\n",
    "\n",
    "\n"
   ]
  },
  {
   "cell_type": "markdown",
   "metadata": {
    "id": "VKZQaqwJkn3P"
   },
   "source": [
    " - Visualize errors"
   ]
  },
  {
   "cell_type": "code",
   "execution_count": 17,
   "metadata": {
    "id": "7-JCo0KmXwm3"
   },
   "outputs": [
    {
     "name": "stdout",
     "output_type": "stream",
     "text": [
      "(2000, 236) (2000, 236)\n"
     ]
    }
   ],
   "source": [
    "y_pred1 = y_pred.cpu().detach()\n",
    "y_pred1 = torch.squeeze(y_pred1,1).numpy()#.transpose()\n",
    "print(y_test.shape,y_pred1.shape)"
   ]
  },
  {
   "cell_type": "code",
   "execution_count": 18,
   "metadata": {
    "id": "NOeXUzrd9h9y"
   },
   "outputs": [
    {
     "name": "stdout",
     "output_type": "stream",
     "text": [
      "(118, 2, 2000) (2000, 236)\n"
     ]
    }
   ],
   "source": [
    "# x=np.reshape(x,(x.shape[0]*x.shape[1],x.shape[2])) # reshape by samples not dim1\n",
    "# y=np.reshape(y,(y.shape[0]*y.shape[1],y.shape[2]))\n",
    "# print(x_pre.shape,y_pre.shape)\n",
    "\n",
    "y_pred_temp = y_pred1.copy().transpose()\n",
    "# y_pred2=np.reshape(y_pred2,(y_pre.shape[0],y_pre.shape[1],n_test))\n",
    "y_pred2=np.zeros([y.shape[0],y.shape[1],n_test])\n",
    "y_pred2[:,0,:]=y_pred_temp[:n_bus,:]\n",
    "y_pred2[:,1,:]=y_pred_temp[n_bus:,:]\n",
    "print(y_pred2.shape,y_pred1.shape)\n",
    "\n",
    "y_test_temp = y_test.copy().transpose()\n",
    "# y_pred2=np.reshape(y_pred2,(y_pre.shape[0],y_pre.shape[1],n_test))\n",
    "y_test2=np.zeros([y.shape[0],y.shape[1],n_test])\n",
    "y_test2[:,0,:]=y_test_temp[:n_bus,:]\n",
    "y_test2[:,1,:]=y_test_temp[n_bus:,:]\n",
    "y_pred1 = y_pred2.copy()"
   ]
  },
  {
   "cell_type": "code",
   "execution_count": 19,
   "metadata": {
    "id": "2eVE-t3nl0Cb"
   },
   "outputs": [
    {
     "name": "stdout",
     "output_type": "stream",
     "text": [
      "(118, 2, 2000) (118, 2, 2000)\n"
     ]
    }
   ],
   "source": [
    "# recover the original p.u. scale\n",
    "# vy_deviation) * vy_scale\n",
    "y_pred1[:,1,:] = y_pred1[:,1,:] / vy_scale + vy_deviation\n",
    "y_test2[:,1,:] = y_test2[:,1,:] / vy_scale + vy_deviation\n",
    "print(y_test2.shape,y_pred1.shape)"
   ]
  },
  {
   "cell_type": "code",
   "execution_count": 20,
   "metadata": {
    "id": "FUVl5LXeknC4"
   },
   "outputs": [],
   "source": [
    "n_test = np.size(y_test2,2)\n",
    "err_L2 = np.zeros(n_test)\n",
    "err_Linf = np.zeros(n_test)\n",
    "for i in range(n_test):\n",
    "  err_L2[i] = np.linalg.norm(y_test2[:,0,i] - y_pred1[:,0,i]) / np.linalg.norm(y_test2[:,0,i])\n",
    "  err_Linf[i] = np.max(np.abs(y_test2[:,0,i] - y_pred1[:,0,i])) / np.max(np.abs(y_test2[:,0,i]))\n",
    "\n",
    "err_L2_v = np.zeros(n_test)\n",
    "err_Linf_v = np.zeros(n_test)\n",
    "for i in range(n_test):\n",
    "  err_L2_v[i] = np.linalg.norm(y_test2[:,1,i] - y_pred1[:,1,i]) / np.linalg.norm(y_test2[:,1,i])\n",
    "  err_Linf_v[i] = np.max(np.abs(y_test2[:,1,i] - y_pred1[:,1,i])) / np.max(np.abs(y_test2[:,1,i]))"
   ]
  },
  {
   "cell_type": "code",
   "execution_count": 21,
   "metadata": {
    "id": "79xFCVXklkLb"
   },
   "outputs": [
    {
     "name": "stdout",
     "output_type": "stream",
     "text": [
      "Price L2 mean: 0.0554743482234698 L_inf mean: 0.06359566486968149\n",
      "Voltage L2 mean: 0.005736061124148106 L_inf mean: 0.017060354212589984\n"
     ]
    }
   ],
   "source": [
    "err_L2_mean = np.mean(err_L2)\n",
    "err_Linf_mean = np.mean(err_Linf)\n",
    "print('Price L2 mean:', err_L2_mean,'L_inf mean:', err_Linf_mean )\n",
    "err_L2_mean_v = np.mean(err_L2_v)\n",
    "err_Linf_mean_v = np.mean(err_Linf_v)\n",
    "print('Voltage L2 mean:', err_L2_mean_v,'L_inf mean:', err_Linf_mean_v )\n",
    "\n",
    "# fig2 = plt.figure(figsize=(16, 16))\n",
    "# plt.subplot(2, 2, 1)\n",
    "# # plt.hist(np.abs(ga),bins = 10)\n",
    "# plt.plot(err_L2,'bo',markersize=0.5,label = 'L2 error')\n",
    "# plt.plot(err_Linf,'r^',markersize=0.5,label = 'Linf error')\n",
    "# plt.legend(loc=\"upper right\")\n",
    "# plt.xlabel('sample index')\n",
    "# plt.ylabel('error')\n",
    "# plt.title('Normalized sample error')\n",
    "# plt.grid(True)\n",
    "# # error histogram\n",
    "# plt.subplot(2, 2, 2)\n",
    "# plt.hist(err_L2, bins = 50, facecolor='b', alpha=0.75,label = 'L2 error')\n",
    "# plt.hist(err_Linf, bins = 50, facecolor='g', alpha=0.75,label = 'Linf error')\n",
    "# plt.legend(loc=\"upper right\")\n",
    "# plt.xlabel('sample error value')\n",
    "# plt.ylabel('frequency')\n",
    "# plt.title('Histogram of L_2 error')\n",
    "# # plt.text(60, .025, r'$\\mu=100,\\ \\sigma=15$')\n",
    "# plt.grid(True)\n",
    "\n",
    "# plt.subplot(2, 2, 3)\n",
    "# # plt.hist(np.abs(ga),bins = 10)\n",
    "# plt.plot(err_L2_v,'bo',markersize=0.5,label = 'L2 error')\n",
    "# plt.plot(err_Linf_v,'r^',markersize=0.5,label = 'Linf error')\n",
    "# plt.legend(loc=\"upper right\")\n",
    "# plt.xlabel('sample index')\n",
    "# plt.ylabel('error')\n",
    "# plt.title('Normalized sample error')\n",
    "# plt.grid(True)\n",
    "# # error histogram\n",
    "# plt.subplot(2, 2, 4)\n",
    "# plt.hist(err_L2_v, bins = 50, facecolor='b', alpha=0.75,label = 'L2 error')\n",
    "# plt.hist(err_Linf_v, bins = 50, facecolor='g', alpha=0.75,label = 'Linf error')\n",
    "# plt.legend(loc=\"upper right\")\n",
    "# plt.xlabel('sample error value')\n",
    "# plt.ylabel('frequency')\n",
    "# plt.title('Histogram of L_2 error')\n",
    "# # plt.text(60, .025, r'$\\mu=100,\\ \\sigma=15$')\n",
    "# plt.grid(True)\n",
    "# plt.show()"
   ]
  },
  {
   "cell_type": "code",
   "execution_count": 22,
   "metadata": {
    "id": "6sUddh-uGg_p"
   },
   "outputs": [
    {
     "name": "stdout",
     "output_type": "stream",
     "text": [
      "(118, 2000) (118, 2000)\n",
      "true range: 1.06 0.94\n",
      "predicted range 1.0878542709350587 0.9313497233390808\n"
     ]
    }
   ],
   "source": [
    "print(y_pred1[:,1,:n_test].shape,y_test2[:,1,:n_test].shape)\n",
    "print('true range:',np.max(y_test2[:,1,:n_test]),np.min(y_test2[:,1,:n_test]))\n",
    "print('predicted range',np.max(y_pred1[:,1,:n_test]),np.min(y_pred1[:,1,:n_test]))\n",
    "\n",
    "# fig3 = plt.figure(figsize=(16, 8))\n",
    "# flat_list1 = list(np.concatenate(y_test2[:,1,:n_test]).flat)\n",
    "# flat_list2 = list(np.concatenate(y_pred1[:,1,:n_test]).flat)\n",
    "# plt.hist(flat_list1,bins = 100,label = 'true')\n",
    "\n",
    "# plt.hist(flat_list2,bins = 100,label = 'pred')\n",
    "# plt.legend(loc=\"upper right\")\n",
    "# plt.grid(True)\n",
    "# plt.show()"
   ]
  },
  {
   "cell_type": "code",
   "execution_count": 23,
   "metadata": {
    "id": "jhfImaPsjKYq"
   },
   "outputs": [
    {
     "name": "stdout",
     "output_type": "stream",
     "text": [
      "(118, 6, 10000) 10000\n"
     ]
    }
   ],
   "source": [
    "print(x.shape,n_sample)\n",
    "\n",
    "x_new = np.zeros([x.shape[0],x.shape[1],n_sample])\n",
    "for i in range(x.shape[1]):\n",
    "  x_new[:,i,:] = x_total[n_bus*i:n_bus*(i+1),:]\n",
    "\n",
    "y_new = np.zeros([y.shape[0],y.shape[1],n_sample])\n",
    "for i in range(y.shape[1]):\n",
    "  y_new[:,i,:] = y_total[n_bus*i:n_bus*(i+1),:]"
   ]
  },
  {
   "cell_type": "markdown",
   "metadata": {
    "id": "H9x7neMNj7n3"
   },
   "source": [
    "# Predict generation using $\\pi$\n",
    "* Using predicted $\\pi$ and find the active constraints in $p_G(i)$\n",
    "* For inactive $p_G(i)$ consider other methods like power flow balance"
   ]
  },
  {
   "cell_type": "code",
   "execution_count": 24,
   "metadata": {
    "id": "Kr29K04j2KTN"
   },
   "outputs": [
    {
     "name": "stdout",
     "output_type": "stream",
     "text": [
      "(118, 10000)\n",
      "<class 'numpy.ndarray'> 118 [  0   1   2   3   4   5   6   7   8   9  10  11  12  13  14  15  16  17\n",
      "  18  19  20  21  22  23  24  25  26  27  28  29  30  31  32  33  34  35\n",
      "  36  37  38  39  40  41  42  43  44  45  46  47  48  49  50  51  52  53\n",
      "  54  55  56  57  58  59  60  61  62  63  64  65  66  67  68  69  70  71\n",
      "  72  73  74  75  76  77  78  79  80  81  82  83  84  85  86  87  88  89\n",
      "  90  91  92  93  94  95  96  97  98  99 100 101 102 103 104 105 106 107\n",
      " 108 109 110 111 112 113 114 115 116 117]\n"
     ]
    }
   ],
   "source": [
    "gen_limit0 = x_new[:,4,:].copy() # lin cost\n",
    "print(gen_limit0.shape)\n",
    "\n",
    "gen_idx = []\n",
    "gen_idx = np.arange(n_bus)\n",
    "# for i in range(n_bus):\n",
    "#   if gen_limit0[i,0] > 0:\n",
    "#     gen_idx.append(i)\n",
    "print(type(gen_idx),len(gen_idx),gen_idx)"
   ]
  },
  {
   "cell_type": "code",
   "execution_count": 25,
   "metadata": {
    "id": "gHmx9lMDXzpM"
   },
   "outputs": [
    {
     "name": "stdout",
     "output_type": "stream",
     "text": [
      "(118, 2, 10000) (236, 10000)\n"
     ]
    }
   ],
   "source": [
    "n_sample=x_total.shape[-1]\n",
    "x_feed = torch.from_numpy(x_total.T).float()\n",
    "y_pred1=net(x_feed.to(device)).cpu().detach().numpy().T\n",
    "y_pred_temp = y_pred1.copy()\n",
    "y_pred2=np.zeros([y.shape[0],y.shape[1],n_sample])\n",
    "y_pred2[:,0,:]=y_pred_temp[:n_bus,:]\n",
    "y_pred2[:,1,:]=y_pred_temp[n_bus:,:]\n",
    "print(y_pred2.shape,y_pred1.shape)\n",
    "y_pred1 = y_pred2.copy()"
   ]
  },
  {
   "cell_type": "code",
   "execution_count": 26,
   "metadata": {
    "id": "GPEHF2L91bGv"
   },
   "outputs": [
    {
     "name": "stdout",
     "output_type": "stream",
     "text": [
      "0.0010632171630859943\n",
      "0.784000000000006\n",
      "0.3804287313435779\n",
      "0.24221453285700786\n"
     ]
    }
   ],
   "source": [
    "gen_cost0 = x_new[:,4,:].copy()\n",
    "lmp_data = y_new[:,0,:].copy()\n",
    "quadratic_a = x_new[:,5,:].copy()\n",
    "profit_pred = y_pred1[:,0,:] - gen_cost0\n",
    "print(np.min(np.abs(profit_pred)))\n",
    "profit_true = lmp_data - gen_cost0\n",
    "print(np.min(np.abs(profit_true)))\n",
    "profit_pred=(y_pred1[:,0,:]-gen_cost0)/(quadratic_a+1e-10)/2\n",
    "profit_true=(lmp_data-gen_cost0)/(quadratic_a+1e-10)/2\n",
    "print(np.min(np.abs(profit_pred)))\n",
    "print(np.min(np.abs(profit_true)))"
   ]
  },
  {
   "cell_type": "code",
   "execution_count": 27,
   "metadata": {
    "id": "uiHWtU5OLc1x"
   },
   "outputs": [
    {
     "name": "stdout",
     "output_type": "stream",
     "text": [
      "(118, 10000) (118, 10000)\n",
      "0.04557398942388041\n"
     ]
    }
   ],
   "source": [
    "print(profit_pred.shape,profit_true.shape)\n",
    "profit_err = profit_true - profit_pred\n",
    "profit_err_l2 = np.zeros([n_sample,1])\n",
    "\n",
    "for i in range(n_sample):\n",
    "  profit_err_l2[i] = np.linalg.norm(profit_err[:,i])/np.linalg.norm(profit_true[:,i])\n",
    "print(np.mean(profit_err_l2))\n",
    "\n",
    "# fig5 = plt.figure(figsize=(16, 8))\n",
    "# # error histogram\n",
    "# plt.hist(profit_err_l2, bins = 50, facecolor='b', alpha=0.75,label = 'L2 error')\n",
    "# # plt.hist(err_linf_new, bins = 50, facecolor='g', alpha=0.75,label = 'Linf error')\n",
    "# plt.legend(loc=\"upper right\")\n",
    "# plt.xlabel('sample error value')\n",
    "# plt.ylabel('frequency')\n",
    "# plt.title('Histogram of L_2 error')\n",
    "# # plt.text(60, .025, r'$\\mu=100,\\ \\sigma=15$')\n",
    "# plt.grid(True)\n",
    "# plt.show()"
   ]
  },
  {
   "cell_type": "code",
   "execution_count": 28,
   "metadata": {
    "id": "ZbHchRQd_g8-"
   },
   "outputs": [
    {
     "name": "stdout",
     "output_type": "stream",
     "text": [
      "(1180000,)\n",
      "-954.4922588259392 -2.9391182643149665\n"
     ]
    }
   ],
   "source": [
    "p_pred_sort = np.reshape(profit_pred,n_bus*n_sample)\n",
    "p_true_sort = np.reshape(profit_true,n_bus*n_sample)\n",
    "print(p_pred_sort.shape)\n",
    "print(np.min(p_pred_sort),np.min(p_true_sort))"
   ]
  },
  {
   "cell_type": "code",
   "execution_count": 29,
   "metadata": {
    "id": "TYsSdNGp-OLP"
   },
   "outputs": [],
   "source": [
    "# fig2 = plt.figure(figsize=(8, 8))\n",
    "# plt.hist(p_pred_sort, bins = 50, facecolor='b', alpha=0.75,label = 'pred. profit')\n",
    "# plt.hist(p_true_sort, bins = 50, facecolor='g', alpha=0.75,label = 'true profit')\n",
    "# plt.legend(loc=\"upper right\")\n",
    "# plt.xlabel('value')\n",
    "# plt.ylabel('frequency')\n",
    "# plt.title('profit histogram')\n",
    "# # plt.text(60, .025, r'$\\mu=100,\\ \\sigma=15$')\n",
    "# plt.grid(True)\n",
    "# plt.show()"
   ]
  },
  {
   "cell_type": "code",
   "execution_count": 30,
   "metadata": {
    "id": "1J9j5tT9p_f6"
   },
   "outputs": [
    {
     "name": "stdout",
     "output_type": "stream",
     "text": [
      "2843030.1489740764 2764601.835122853\n",
      "2843030.1489740764 43260060.56350001 2843030.1489740764\n"
     ]
    }
   ],
   "source": [
    "# x = [load, gen_cost, gen_lim]\n",
    "binary_thres_true = 1e-5\n",
    "binary_thres = x_new[:,0,:].copy() # upper\n",
    "binary_thres_lo = x_new[:,1,:].copy() # lower\n",
    "gen_pred_binary_full = np.zeros((n_bus,n_sample))\n",
    "gen_true_binary_full = np.zeros((n_bus,n_sample))\n",
    "\n",
    "for i in range(n_sample):\n",
    "  for j in range(len(gen_idx)):\n",
    "    # predicted generator limit\n",
    "    if profit_pred[gen_idx[j],i] > binary_thres[gen_idx[j],i]:\n",
    "      gen_pred_binary_full[gen_idx[j],i] = binary_thres[gen_idx[j],i]\n",
    "    elif profit_pred[gen_idx[j],i] < binary_thres_lo[gen_idx[j],i]:\n",
    "      gen_pred_binary_full[gen_idx[j],i] = binary_thres_lo[gen_idx[j],i]\n",
    "    else:\n",
    "      gen_pred_binary_full[gen_idx[j],i] = profit_pred[gen_idx[j],i]\n",
    "    # true generator limit\n",
    "    if profit_true[gen_idx[j],i] > binary_thres[gen_idx[j],i]:\n",
    "      gen_true_binary_full[gen_idx[j],i] = binary_thres[gen_idx[j],i]\n",
    "    elif profit_true[gen_idx[j],i] < binary_thres_lo[gen_idx[j],i]:\n",
    "      gen_true_binary_full[gen_idx[j],i] = binary_thres_lo[gen_idx[j],i]\n",
    "    else:\n",
    "      gen_true_binary_full[gen_idx[j],i] = profit_true[gen_idx[j],i]\n",
    "\n",
    "gen_inj=gen_pred_binary_full\n",
    "gen_inj_true=gen_true_binary_full\n",
    "# nodal injection\n",
    "load0 = -x_new[:,1,:].copy() # load file\n",
    "p_inj = gen_inj #- load0\n",
    "p_inj_true = gen_inj_true #- load0\n",
    "print(np.sum(p_inj),np.sum(gen_inj_true))\n",
    "print(np.sum(p_inj),np.sum(load0),np.sum(gen_inj))"
   ]
  },
  {
   "cell_type": "markdown",
   "metadata": {
    "id": "WAgqdRPjAONm"
   },
   "source": [
    "## injection accuracy"
   ]
  },
  {
   "cell_type": "code",
   "execution_count": 31,
   "metadata": {
    "id": "J46pLAw2AQor"
   },
   "outputs": [
    {
     "name": "stdout",
     "output_type": "stream",
     "text": [
      "(118, 10000) (118, 10000)\n",
      "mean p_inj l2 err: 0.10875750815853978\n"
     ]
    }
   ],
   "source": [
    "print(p_inj_true.shape,p_inj.shape)\n",
    "p_inj_true_sort = np.reshape(p_inj_true,n_bus*n_sample)\n",
    "p_inj_sort = np.reshape(p_inj,n_bus*n_sample)\n",
    "p_err = np.zeros(n_sample)\n",
    "for i in range(n_sample):\n",
    "  p_err[i] = np.linalg.norm(p_inj_true[:,i]-p_inj[:,i]) / np.linalg.norm(p_inj_true[:,i])\n",
    "print('mean p_inj l2 err:',np.mean(p_err))\n",
    "# fig3 = plt.figure(figsize=(16, 8))\n",
    "# plt.subplot(1,2,1)\n",
    "# plt.hist(p_inj_sort, bins = 50, facecolor='b', alpha=0.75,label = 'pred. injection')\n",
    "# plt.hist(p_inj_true_sort, bins = 50, facecolor='g', alpha=0.75,label = 'true injection')\n",
    "# plt.legend(loc=\"upper right\")\n",
    "# plt.xlabel('value')\n",
    "# plt.ylabel('frequency')\n",
    "# plt.title('injection histogram')\n",
    "# plt.subplot(1,2,2)\n",
    "# plt.hist(p_err, bins = 50, facecolor='b', alpha=0.75,label = 'injection err')\n",
    "# plt.legend(loc=\"upper right\")\n",
    "# plt.xlabel('value')\n",
    "# plt.ylabel('frequency')\n",
    "# plt.title('error histogram')\n",
    "# # plt.text(60, .025, r'$\\mu=100,\\ \\sigma=15$')\n",
    "# plt.grid(True)s_binary\n",
    "# plt.show()"
   ]
  },
  {
   "cell_type": "markdown",
   "metadata": {
    "id": "DaN7u4xeGIom"
   },
   "source": [
    "* Calculate flow"
   ]
  },
  {
   "cell_type": "code",
   "execution_count": 32,
   "metadata": {
    "id": "YT4sgn_n79MI"
   },
   "outputs": [
    {
     "name": "stdout",
     "output_type": "stream",
     "text": [
      "(186, 1) (186, 10000) (186, 10000)\n",
      "15916 13334\n",
      "0.008556989247311828 0.007168817204301075\n",
      "186 10000 (186, 10000)\n"
     ]
    }
   ],
   "source": [
    "filename=root+'118ac_fmax.txt'\n",
    "f_max1=pd.read_table(filename,sep=',',header=None).to_numpy() # flow limit\n",
    "\n",
    "n_line = np.size(S_isf,0)\n",
    "flow_est = np.zeros((n_line,n_sample))\n",
    "flow_est0 = np.zeros((n_line,n_sample))\n",
    "\n",
    "f_binary = np.zeros((n_line,n_sample))\n",
    "f_binary0 = np.zeros((n_line,n_sample))\n",
    "\n",
    "# for i in range(n_sample):\n",
    "flow_est = np.dot(S_isf,p_inj)\n",
    "flow_est0 = np.dot(S_isf,p_inj_true)\n",
    "# f_max\n",
    "# f_max_numpy = f_max.cpu().detach().numpy()\n",
    "f_max_numpy = f_max1.copy()\n",
    "f_binary = (np.abs(flow_est)-f_max_numpy > 0)\n",
    "f_binary0 = (np.abs(flow_est0)-f_max_numpy > 0)\n",
    "\n",
    "print(f_max_numpy.shape,flow_est.shape,flow_est0.shape)\n",
    "f_tot_sample = n_line * n_sample\n",
    "print(np.sum(f_binary),np.sum(f_binary0))\n",
    "print(np.sum(f_binary)/f_tot_sample,np.sum(f_binary0)/f_tot_sample)\n",
    "print(n_line,n_sample,flow_est.shape)"
   ]
  },
  {
   "cell_type": "code",
   "execution_count": 33,
   "metadata": {
    "id": "VyvDpKhyQj0M"
   },
   "outputs": [
    {
     "name": "stdout",
     "output_type": "stream",
     "text": [
      "173.28198880162773 39.64401431411352\n",
      "1.1552132586775181 0.2642934287607568\n"
     ]
    }
   ],
   "source": [
    "# soft threshold\n",
    "f_err_est = np.abs(flow_est)-f_max_numpy\n",
    "f_err_true = np.abs(flow_est0)-f_max_numpy\n",
    "\n",
    "f_err_est = np.maximum(np.abs(flow_est)-f_max_numpy,0) # identify violations\n",
    "f_err_true = np.maximum(np.abs(flow_est0)-f_max_numpy,0)\n",
    "\n",
    "print(np.max(f_err_est),np.max(f_err_true))\n",
    "print(np.max(f_err_est/f_max_numpy),np.max(f_err_true/f_max_numpy))"
   ]
  },
  {
   "cell_type": "code",
   "execution_count": 34,
   "metadata": {
    "id": "7iuX7tN2a2Cp"
   },
   "outputs": [
    {
     "name": "stdout",
     "output_type": "stream",
     "text": [
      "11968 10451\n",
      "0.006434408602150538 0.005618817204301075\n"
     ]
    }
   ],
   "source": [
    "f_binary_soft = (np.abs(flow_est)-f_max_numpy > 0.1*(f_max_numpy))\n",
    "f_binary0_soft = (np.abs(flow_est0)-f_max_numpy > 0.1*(f_max_numpy))\n",
    "print(np.sum(f_binary_soft),np.sum(f_binary0_soft))\n",
    "print(np.sum(f_binary_soft)/f_tot_sample,np.sum(f_binary0_soft)/f_tot_sample)"
   ]
  },
  {
   "cell_type": "code",
   "execution_count": 35,
   "metadata": {
    "id": "SYl9pxnOUUQF"
   },
   "outputs": [],
   "source": [
    "f_pred_sort = np.reshape(f_err_est/f_max_numpy,n_line*n_sample)\n",
    "f_true_sort = np.reshape(f_err_true/f_max_numpy,n_line*n_sample)\n",
    "\n",
    "# fig2 = plt.figure(figsize=(16, 8))\n",
    "# plt.subplot(1,2,1)\n",
    "# plt.hist(f_pred_sort, bins = 10, facecolor='b', alpha=0.75,label = 'pred. f')\n",
    "# plt.hist(f_true_sort, bins = 10, facecolor='g', alpha=0.75,label = 'true f')\n",
    "# plt.legend(loc=\"upper right\")\n",
    "# plt.xlabel('percentage')\n",
    "# plt.ylabel('frequency')\n",
    "# plt.title('flow violation level histogram')\n",
    "# plt.subplot(1,2,2)\n",
    "# plt.hist(f_true_sort, bins = 10, facecolor='g', alpha=0.75,label = 'true f')\n",
    "# plt.legend(loc=\"upper right\")\n",
    "# plt.xlabel('percentage')\n",
    "# plt.ylabel('frequency')\n",
    "# plt.title('flow violation level histogram')\n",
    "# # plt.text(60, .025, r'$\\mu=100,\\ \\sigma=15$')\n",
    "# plt.grid(True)\n",
    "# plt.show()"
   ]
  },
  {
   "cell_type": "code",
   "execution_count": 36,
   "metadata": {
    "id": "YglgTpWVRLri"
   },
   "outputs": [
    {
     "name": "stdout",
     "output_type": "stream",
     "text": [
      "max sample pred: 8\n",
      "max line pred: 8377\n",
      "max sample true: 3\n",
      "max line true: 10000\n"
     ]
    }
   ],
   "source": [
    "f_line = np.sum(f_binary,0)\n",
    "f_samp = np.sum(f_binary,1)\n",
    "print('max sample pred:',np.max(f_line))\n",
    "print('max line pred:',np.max(f_samp))\n",
    "\n",
    "f_line0  = np.sum(f_binary0,0)\n",
    "f_samp0 = np.sum(f_binary0,1)\n",
    "print('max sample true:',np.max(f_line0))\n",
    "print('max line true:',np.max(f_samp0))"
   ]
  },
  {
   "cell_type": "markdown",
   "metadata": {
    "id": "WZQnarHmPl35"
   },
   "source": [
    "# Check objective optimality"
   ]
  },
  {
   "cell_type": "code",
   "execution_count": 37,
   "metadata": {
    "id": "BZjhp-CgQaDz"
   },
   "outputs": [
    {
     "name": "stdout",
     "output_type": "stream",
     "text": [
      "0.0792481711033575\n"
     ]
    }
   ],
   "source": [
    "gen_cost_pred = np.zeros((n_bus,n_sample))\n",
    "gen_cost_true = np.zeros((n_bus,n_sample))\n",
    "objective_err = np.zeros(n_sample)\n",
    "\n",
    "gen_cost_pred = np.multiply(np.multiply(p_inj,p_inj),quadratic_a) + np.multiply(p_inj,gen_cost0)\n",
    "gen_cost_true = np.multiply(np.multiply(p_inj_true,p_inj_true),quadratic_a) + np.multiply(p_inj_true,gen_cost0)\n",
    "\n",
    "objective_err = np.sum(np.abs(gen_cost_true-gen_cost_pred),axis=0) / np.sum(gen_cost_true,axis=0)\n",
    "print(np.mean(objective_err))\n",
    "\n",
    "# fig6 = plt.figure(figsize=(16, 8))\n",
    "# # error histogram\n",
    "# plt.hist(objective_err, bins = 50, facecolor='b', alpha=0.75,label = 'L2 error')\n",
    "# # plt.hist(err_linf_new, bins = 50, facecolor='g', alpha=0.75,label = 'Linf error')\n",
    "# plt.legend(loc=\"upper right\")\n",
    "# plt.xlabel('sample error value')\n",
    "# plt.ylabel('frequency')\n",
    "# plt.title('Histogram of L_2 error')\n",
    "# # plt.text(60, .025, r'$\\mu=100,\\ \\sigma=15$')\n",
    "# plt.grid(True)\n",
    "# plt.show()"
   ]
  },
  {
   "cell_type": "markdown",
   "metadata": {
    "id": "vdrsAWpYo0-w"
   },
   "source": [
    "## injection accuracy"
   ]
  },
  {
   "cell_type": "code",
   "execution_count": 38,
   "metadata": {
    "id": "mArjSN-So0-x"
   },
   "outputs": [
    {
     "name": "stdout",
     "output_type": "stream",
     "text": [
      "(118, 10000) (118, 10000)\n",
      "mean p_inj l2 err: 0.10875750815853978\n"
     ]
    }
   ],
   "source": [
    "print(p_inj_true.shape,p_inj.shape)\n",
    "\n",
    "p_inj_true_sort = np.reshape(p_inj_true,n_bus*n_sample)\n",
    "p_inj_sort = np.reshape(p_inj,n_bus*n_sample)\n",
    "\n",
    "p_err = np.zeros(n_sample)\n",
    "for i in range(n_sample):\n",
    "  p_err[i] = np.linalg.norm(p_inj_true[:,i]-p_inj[:,i]) / np.linalg.norm(p_inj_true[:,i])\n",
    "\n",
    "print('mean p_inj l2 err:',np.mean(p_err))\n",
    "# fig3 = plt.figure(figsize=(16, 8))\n",
    "# plt.subplot(1,2,1)\n",
    "# plt.hist(p_inj_sort, bins = 50, facecolor='b', alpha=0.75,label = 'pred. injection')\n",
    "# plt.hist(p_inj_true_sort, bins = 50, facecolor='g', alpha=0.75,label = 'true injection')\n",
    "# plt.legend(loc=\"upper right\")\n",
    "# plt.xlabel('value')\n",
    "# plt.ylabel('frequency')\n",
    "# plt.title('injection histogram')s_binary\n",
    "# plt.subplot(1,2,2)\n",
    "# plt.hist(p_err, bins = 50, facecolor='b', alpha=0.75,label = 'injection err')\n",
    "# plt.legend(loc=\"upper right\")\n",
    "# plt.xlabel('value')\n",
    "# plt.ylabel('frequency')\n",
    "# plt.title('error histogram')\n",
    "# # plt.text(60, .025, r'$\\mu=100,\\ \\sigma=15$')\n",
    "# plt.grid(True)\n",
    "# plt.show()"
   ]
  },
  {
   "cell_type": "markdown",
   "metadata": {
    "id": "ujU84tOSpqsy"
   },
   "source": [
    "# Test AC feasibility\n",
    "* P in actual value, V in p.u.\n",
    "* Use P to recover $\\theta$, or solve $\\theta$ and Q for PF\n",
    "$$ Q_m = V_m \\sum_{n=1}^N V_n \\left(G_{mn}\\sin\\theta_{mn} - B_{mn}\\cos\\theta_{mn} \\right) $$\n",
    "calculate $Q_{mn}$ directly"
   ]
  },
  {
   "cell_type": "code",
   "execution_count": 39,
   "metadata": {
    "id": "Of6mEXF4puDN"
   },
   "outputs": [
    {
     "name": "stdout",
     "output_type": "stream",
     "text": [
      "(118, 118) (118, 118)\n",
      "(117, 117) (118, 10000) (118, 10000)\n",
      "(118, 10000) (118, 10000)\n"
     ]
    }
   ],
   "source": [
    "# Bbus and B_r inverse\n",
    "filename1 = root+'ieee118_Bbus.txt'\n",
    "Bbus=pd.read_table(filename1,sep=',',header=None).to_numpy()\n",
    "B_r = np.delete(Bbus,68,axis=0)\n",
    "B_r = np.delete(B_r,68,axis=1)\n",
    "Br_inv = np.linalg.inv(B_r)\n",
    "\n",
    "# Y = G + jB\n",
    "filename1 = root+'ieee118_Gmat.txt'\n",
    "G_mat=pd.read_table(filename1,sep=',',header=None).to_numpy()\n",
    "filename1 = root+'ieee118_Bmat.txt'\n",
    "B_mat=pd.read_table(filename1,sep=',',header=None).to_numpy()\n",
    "print(G_mat.shape,B_mat.shape)\n",
    "\n",
    "# line parameters\n",
    "filename1 = root+'ieee118_lineloc.txt'\n",
    "line_loc = pd.read_table(filename1,sep=',',header=None).to_numpy()\n",
    "\n",
    "# load line params\n",
    "filename1 = root+'ieee118_lineparams.txt'\n",
    "line_params = pd.read_table(filename1,sep=',',header=None).to_numpy()\n",
    "R_line = line_params[:,0].copy()\n",
    "X_line = line_params[:,1].copy()\n",
    "B_shunt = line_params[:,2].copy()\n",
    "Z_line = R_line + 1j * X_line \n",
    "Y_line = 1 / Z_line\n",
    "G_line = np.real(Y_line)\n",
    "B_line = np.imag(Y_line)\n",
    "# P_inj w/out reference bus in p.u.\n",
    "p_inj_r = np.delete(p_inj,68,axis=0) / 100\n",
    "p_inj_true_r = np.delete(p_inj_true,68,axis=0) / 100\n",
    "p_inj_pu = p_inj / 100\n",
    "p_inj_true_pu = p_inj_true / 100\n",
    "print(Br_inv.shape,p_inj.shape,p_inj_true.shape)#p_inj_true\n",
    "\n",
    "theta0 = np.matmul(Br_inv,p_inj_r)\n",
    "theta_true0 = np.matmul(Br_inv,p_inj_true_r)\n",
    "theta = np.insert(theta0,68,0,axis = 0)\n",
    "theta_true = np.insert(theta_true0,68,0,axis = 0)\n",
    "print(theta.shape,theta_true.shape)"
   ]
  },
  {
   "cell_type": "code",
   "execution_count": 40,
   "metadata": {},
   "outputs": [
    {
     "name": "stdout",
     "output_type": "stream",
     "text": [
      "0.5078442705631396 -0.9885800086286192\n",
      "2.7803011534120627 -9.166735486002148\n"
     ]
    }
   ],
   "source": [
    "print(np.max(theta),np.min(theta))\n",
    "math.sin(math.pi/6)\n",
    "print(G_line[0],B_line[0])"
   ]
  },
  {
   "cell_type": "code",
   "execution_count": 41,
   "metadata": {},
   "outputs": [
    {
     "name": "stdout",
     "output_type": "stream",
     "text": [
      "(186, 10000)\n",
      "1.0931943511962892 0.930349338054657 (118, 10000)\n"
     ]
    }
   ],
   "source": [
    "# Calculate real and reactive flow\n",
    "f_p = np.zeros((n_line,n_sample))\n",
    "f_q = np.zeros((n_line,n_sample))\n",
    "fji_p = np.zeros((n_line,n_sample))\n",
    "fji_q = np.zeros((n_line,n_sample))\n",
    "print(f_q.shape)\n",
    "\n",
    "v_pred = y_pred1[:,1,:].copy()\n",
    "v_pred = v_pred / vy_scale + vy_deviation\n",
    "print(np.max(v_pred),np.min(v_pred),v_pred.shape)\n",
    "\n",
    "theta1 = theta[line_loc[:,0]-1,:]\n",
    "theta2 = theta[line_loc[:,1]-1,:]\n",
    "V1 = v_pred[line_loc[:,0]-1,:]\n",
    "V2 = v_pred[line_loc[:,1]-1,:] \n",
    "f_p=(a*G_line*(V1*V1).T)-a*((V1*V2).T)*(G_line*np.cos(theta1-theta2).T+B_line*np.sin(theta1-theta2).T)\n",
    "f_p=f_p.T\n",
    "f_q=-a*(V1.T)*(a*V1.T)*(B_line+B_shunt/2)+a*((V1*V2).T)*(B_line*np.cos(theta1-theta2).T-G_line*np.sin(theta1-theta2).T)\n",
    "f_q=f_q.T\n",
    "\n",
    "theta1 = theta[line_loc[:,1]-1,:]\n",
    "theta2 = theta[line_loc[:,0]-1,:]\n",
    "V1 = v_pred[line_loc[:,1]-1,:]\n",
    "V2 = v_pred[line_loc[:,0]-1,:]\n",
    "fji_p=(a*G_line*(V1*V1).T)-a*((V1*V2).T)*(G_line*np.cos(theta1-theta2).T+B_line*np.sin(theta1-theta2).T)\n",
    "fji_p=fji_p.T\n",
    "fji_q=-a*(V1.T)*(a*V1.T)*(B_line+B_shunt/2)+a*((V1*V2).T)*(B_line*np.cos(theta1-theta2).T-G_line*np.sin(theta1-theta2).T)\n",
    "fji_q=fji_q.T"
   ]
  },
  {
   "cell_type": "code",
   "execution_count": 42,
   "metadata": {
    "id": "gKfcrbTSVMeO"
   },
   "outputs": [
    {
     "name": "stdout",
     "output_type": "stream",
     "text": [
      "1.0322166633308605 -1.4095107013721986\n",
      "16.165897399103642 151.0\n"
     ]
    }
   ],
   "source": [
    "s_pred = np.sqrt(f_p*f_p+f_q*f_q)*100\n",
    "sji_pred = np.sqrt(fji_p*fji_p+fji_q*fji_q)*100\n",
    "print(np.max(f_q),np.min(f_q))\n",
    "flow_est.shape\n",
    "print(np.mean(s_pred[0,:]),np.mean(f_max_numpy[0]))"
   ]
  },
  {
   "cell_type": "code",
   "execution_count": 43,
   "metadata": {
    "id": "YO4__LJ2brLu"
   },
   "outputs": [
    {
     "name": "stdout",
     "output_type": "stream",
     "text": [
      "21083\n",
      "hard violation rate: 0.011334946236559139\n",
      "13730\n",
      "0.0073817204301075265\n"
     ]
    }
   ],
   "source": [
    "sij_binary = (np.abs(s_pred)-f_max_numpy[:n_line] > 0)\n",
    "sji_binary = (np.abs(sji_pred)-f_max_numpy[:n_line] > 0)\n",
    "s_binary = np.maximum(sij_binary,sji_binary)\n",
    "print(np.sum(s_binary))#,np.sum(f_binary0))\n",
    "print('hard violation rate:',np.sum(s_binary)/n_sample/n_line)#,np.sum(f_binary0)/f_tot_sample)\n",
    "s_binary_soft = (np.abs(s_pred)-f_max_numpy[:n_line] > 0.1*(f_max_numpy[:n_line]))\n",
    "print(np.sum(s_binary_soft))#,np.sum(f_binary0_soft))\n",
    "print(np.sum(s_binary_soft)/n_sample/n_line)#,np.sum(f_binary0_soft)/f_tot_sample)"
   ]
  },
  {
   "cell_type": "code",
   "execution_count": 44,
   "metadata": {
    "id": "Ty0WpBdfJwMR"
   },
   "outputs": [
    {
     "name": "stdout",
     "output_type": "stream",
     "text": [
      "S violation level:\n",
      "hard: 0.01133494623655914\n",
      "mean: 0.002920956607543062\n",
      "median: 0.0\n",
      "max: 1.2475662699100194\n",
      "std: 0.03624520866911846\n",
      "p99: 0.02891875588580139\n",
      "f violation level:\n",
      "hard: 0.008556989247311828 0.007168817204301075\n",
      "mean: 0.0026573611462077547\n",
      "median: 0.0\n",
      "max: 1.1552132586775181\n",
      "std: 0.03646321535888234\n",
      "p99: 0.0\n"
     ]
    }
   ],
   "source": [
    "# violation level\n",
    "sij_violation = np.abs(s_pred)-f_max_numpy[:n_line] #/ f_max_numpy\n",
    "sij_violation_level = np.maximum(sij_violation,0)\n",
    "sji_violation = np.abs(sji_pred)-f_max_numpy[:n_line] #/ f_max_numpy\n",
    "sji_violation_level = np.maximum(sji_violation,0)\n",
    "s_violation_level = np.maximum(sij_violation_level,sji_violation_level)\n",
    "s_violation_level = np.divide(s_violation_level,f_max_numpy[:n_line])\n",
    "s_vio_lvl = np.reshape(s_violation_level,n_line*n_sample)\n",
    "\n",
    "print('S violation level:')\n",
    "print('hard:',np.sum(s_binary)/f_tot_sample)\n",
    "print('mean:',np.mean(s_vio_lvl))\n",
    "print('median:',np.median(s_vio_lvl))\n",
    "print('max:',np.max(s_vio_lvl))\n",
    "print('std:',np.std(s_vio_lvl))\n",
    "print('p99:',np.percentile(s_vio_lvl,99))\n",
    "\n",
    "f_violation = np.abs(flow_est)-f_max_numpy #/ f_max_numpy\n",
    "f_violation_level = np.maximum(f_violation,0)\n",
    "f_violation_level = np.divide(f_violation_level,f_max_numpy)\n",
    "f_vio_lvl = np.reshape(f_violation_level,n_line*n_sample)\n",
    "\n",
    "print('f violation level:')\n",
    "print('hard:',np.sum(f_binary)/f_tot_sample,np.sum(f_binary0)/f_tot_sample)\n",
    "print('mean:',np.mean(f_vio_lvl))\n",
    "print('median:',np.median(f_vio_lvl))\n",
    "print('max:',np.max(f_vio_lvl))\n",
    "print('std:',np.std(f_vio_lvl))\n",
    "print('p99:',np.percentile(f_vio_lvl,99))\n",
    "\n",
    "# fig4 = plt.figure(figsize=(6,4))\n",
    "# plt.hist(s_vio_lvl, bins = 50, facecolor='b', alpha=0.75,label = 's violation')\n",
    "# plt.hist(f_vio_lvl, bins = 50, facecolor='r', alpha=0.75,label = 'f violation')\n",
    "# plt.legend(loc=\"upper right\")\n",
    "# plt.xlabel('violation level')\n",
    "# plt.ylabel('frequency')\n",
    "# # plt.title('injection histogram')\n",
    "# plt.show()"
   ]
  },
  {
   "cell_type": "code",
   "execution_count": 45,
   "metadata": {
    "id": "kWXEpj-ryjbJ"
   },
   "outputs": [
    {
     "name": "stdout",
     "output_type": "stream",
     "text": [
      "Price L2 mean: 0.0554743482234698 L_inf mean: 0.06359566486968149\n",
      "std: 0.03836081710264243\n",
      "Voltage L2 mean: 0.005736061124148106 L_inf mean: 0.017060354212589984\n",
      "std: 0.00345892664322895\n"
     ]
    }
   ],
   "source": [
    "# err_L2_mean = np.mean(err_L2)\n",
    "# err_Linf_mean = np.mean(err_Linf)\n",
    "print('Price L2 mean:', err_L2_mean,'L_inf mean:', err_Linf_mean )\n",
    "print('std:',np.std(err_L2))\n",
    "# err_L2_mean_v = np.mean(err_L2_v)\n",
    "# err_Linf_mean_v = np.mean(err_Linf_v)\n",
    "print('Voltage L2 mean:', err_L2_mean_v,'L_inf mean:', err_Linf_mean_v )\n",
    "print('std:',np.std(err_L2_v))\n",
    "\n",
    "params = (sum(temp.numel() for temp in net.parameters() if temp.requires_grad))"
   ]
  },
  {
   "cell_type": "code",
   "execution_count": 46,
   "metadata": {},
   "outputs": [
    {
     "name": "stdout",
     "output_type": "stream",
     "text": [
      "輸出內容已儲存到 C:\\Users\\USER\\Desktop\\GNN_OPF_electricity_market-main\\output_loss_fig/118ac_output_02181120.txt\n"
     ]
    }
   ],
   "source": [
    "import os   \n",
    "# 建立輸出內容字串\n",
    "output_content = f\"\"\"\n",
    "date: {timestamp}\n",
    "final_epoch: {final_epoch}\n",
    "training time: {t1 - t0:.4e}s\n",
    "\n",
    "factor: {factor}\n",
    "patience: {patience}\n",
    "\n",
    "start learning rate: {lr:.4e}\n",
    "batch size: {batch_size}\n",
    "params number: {params:.4e}\n",
    "\n",
    "Price L2 mean: {err_L2_mean:.4e} \n",
    "Price std: {np.std(err_L2):.4e}\n",
    "\n",
    "Voltage L2 mean: {err_L2_mean_v:.4e} \n",
    "Voltage std: {np.std(err_L2_v):.4e}\n",
    "\"\"\"\n",
    "\n",
    "\n",
    "# 設定儲存路徑和檔名\n",
    "output_dir = r'C:\\Users\\USER\\Desktop\\GNN_OPF_electricity_market-main\\output_loss_fig'\n",
    "timestamp = datetime.now().strftime('%m%d%H%M')\n",
    "output_file = f'{output_dir}/118ac_output_{timestamp}.txt'\n",
    "\n",
    "# 確保目錄存在\n",
    "os.makedirs(output_dir, exist_ok=True)\n",
    "\n",
    "# 將內容寫入 txt 檔案\n",
    "with open(output_file, 'w') as file:\n",
    "    file.write(output_content)\n",
    "\n",
    "print(f\"輸出內容已儲存到 {output_file}\")\n",
    "\n"
   ]
  }
 ],
 "metadata": {
  "accelerator": "GPU",
  "colab": {
   "collapsed_sections": [],
   "machine_shape": "hm",
   "name": "118ac_feasdnn0417.ipynb",
   "provenance": []
  },
  "kernelspec": {
   "display_name": "AC_OPF",
   "language": "python",
   "name": "python3"
  },
  "language_info": {
   "codemirror_mode": {
    "name": "ipython",
    "version": 3
   },
   "file_extension": ".py",
   "mimetype": "text/x-python",
   "name": "python",
   "nbconvert_exporter": "python",
   "pygments_lexer": "ipython3",
   "version": "3.12.7"
  }
 },
 "nbformat": 4,
 "nbformat_minor": 0
}
