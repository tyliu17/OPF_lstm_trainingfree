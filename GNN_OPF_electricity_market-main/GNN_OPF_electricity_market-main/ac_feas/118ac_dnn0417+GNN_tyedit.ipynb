{
 "cells": [
  {
   "cell_type": "code",
   "execution_count": 66,
   "metadata": {
    "id": "JKLovDeXoCCP"
   },
   "outputs": [],
   "source": [
    "# import numpy as np\n",
    "# import pandas as pd\n",
    "# import matplotlib.pyplot as plt\n",
    "# import torch\n",
    "# import torch.nn as nn\n",
    "# import torch.nn.functional as F\n",
    "# from sklearn.model_selection import train_test_split\n",
    "# import time\n",
    "# import math\n",
    "# from datetime import datetime\n",
    "# root=''\n",
    "# try:\n",
    "#   from google.colab import drive\n",
    "#   drive.mount('/content/drive')\n",
    "#   root='./drive/MyDrive/gnn/data/'\n",
    "# except:\n",
    "#   pass\n",
    "# device='cuda' if torch.cuda.is_available() else 'cpu'\n",
    "# print(torch.cuda.get_device_name(0))\n",
    "# torch.cuda.empty_cache()"
   ]
  },
  {
   "cell_type": "code",
   "execution_count": 67,
   "metadata": {},
   "outputs": [
    {
     "name": "stdout",
     "output_type": "stream",
     "text": [
      "No CUDA device found. Using CPU.\n"
     ]
    }
   ],
   "source": [
    "import numpy as np\n",
    "import pandas as pd\n",
    "import matplotlib.pyplot as plt\n",
    "import torch\n",
    "import torch.nn as nn\n",
    "import torch.nn.functional as F\n",
    "from sklearn.model_selection import train_test_split\n",
    "import time\n",
    "import math\n",
    "from datetime import datetime\n",
    "\n",
    "# 定義資料路徑\n",
    "root = ''\n",
    "\n",
    "# # 嘗試掛載 Google Drive\n",
    "# try:\n",
    "#     from google.colab import drive\n",
    "#     drive.mount('/content/drive')\n",
    "#     root = './drive/MyDrive/gnn/data/'\n",
    "# except:\n",
    "#     print(\"Google Drive not mounted. Proceeding with local path.\")\n",
    "\n",
    "# 檢查設備\n",
    "device = 'cuda' if torch.cuda.is_available() else 'cpu'\n",
    "\n",
    "if torch.cuda.is_available():\n",
    "    print(torch.cuda.get_device_name(0))\n",
    "else:\n",
    "    print(\"No CUDA device found. Using CPU.\")\n",
    "\n",
    "# 釋放 CUDA 緩存\n",
    "torch.cuda.empty_cache()\n",
    "\n"
   ]
  },
  {
   "cell_type": "code",
   "execution_count": 68,
   "metadata": {
    "id": "Hj9_eLfoWQY3"
   },
   "outputs": [
    {
     "name": "stdout",
     "output_type": "stream",
     "text": [
      "S_isf :  (186, 118)\n",
      "f_max :  (186, 1)\n",
      "torch.min(f_max) :  tensor(72)\n",
      "====================================\n",
      "x :  (118, 6, 10000)\n",
      "y :  (118, 2, 10000)\n",
      "W :  (118, 118)\n",
      "-----------------\n",
      " 1654.8 -332.4 949.67 0.94\n",
      "voltage range(scaled): 3.9999999999999925 16.000000000000004\n",
      "price range old: 11.547 949.67\n",
      "voltage range old: 3.9999999999999925 16.000000000000004\n",
      "price range new: 11.547 949.67\n",
      "voltage range new: 3.9999999999999925 16.000000000000004\n",
      "(118, 6, 10000) (118, 2, 10000)\n"
     ]
    }
   ],
   "source": [
    "# filename=root+'data_118_quad/118dc_quad_ISF.txt'\n",
    "root = 'C:/Users/USER/Desktop/GNN_OPF_electricity_market-main/GNN_OPF_electricity_market-main/GNN_OPF_electricity_market-main/data_gen/118_data/'\n",
    "# C:\\Users\\USER\\Desktop\\GNN_OPF_electricity_market-main\\GNN_OPF_electricity_market-main\\GNN_OPF_electricity_market-main\\data_gen\\118_data\\118dc_quad_ISF.txt\n",
    "filename = root + '118dc_quad_ISF.txt'\n",
    "\n",
    "# import os\n",
    "\n",
    "# if not os.path.exists(filename):\n",
    "#     print(f\"檔案未找到：{filename}\")\n",
    "# else:\n",
    "#     print(f\"找到檔案：{filename}\")\n",
    "\n",
    "# # 讀取數據\n",
    "# data = pd.read_csv(filename, sep=',', header=None)\n",
    "# print(\"數據形狀:\", data.shape)\n",
    "\n",
    "# ISF 矩陣（186 × 118）：代表節點功率注入對線路功率流的影響。\n",
    "S_isf=pd.read_table(filename,sep=',',header=None).to_numpy() # ISF matrix\n",
    "print(\"S_isf : \" ,S_isf.shape)\n",
    "\n",
    "# 功率流限制（186 × 1）：每條線路的最大功率流限制。\n",
    "filename=root+'118ac_fmax.txt'\n",
    "f_max=pd.read_table(filename,sep=',',header=None).to_numpy() # flow limit\n",
    "print(\"f_max : \" ,f_max.shape)\n",
    "\n",
    "n_line = np.size(S_isf,0)\n",
    "S = torch.from_numpy(S_isf).to(device) # ISF\n",
    "f_max = torch.from_numpy(f_max).to(device) # flow limit\n",
    "print(\"torch.min(f_max) : \" ,torch.min(f_max))\n",
    "\n",
    "print(\"====================================\")\n",
    "x=np.load(root+'ac118_p10_x_v.npy')\n",
    "y=np.load(root+'ac118_p10_y_v.npy')\n",
    "W=np.load(root+'ac118_p10_w.npy')\n",
    "print(\"x : \" ,x.shape)\n",
    "print(\"y : \" ,y.shape)\n",
    "print(\"W : \" ,W.shape)\n",
    "print(\"-----------------\\n\" ,np.max(x),np.min(x),np.max(y),np.min(y))\n",
    "\n",
    "\n",
    "# scaling on voltage\n",
    "vy_deviation = 0.9\n",
    "vy_scale = 100\n",
    "y[:,1,:] = (y[:,1,:] - vy_deviation) * vy_scale\n",
    "print('voltage range(scaled):',np.min(y[:,1,:]),np.max(y[:,1,:]))\n",
    "\n",
    "# scaling on price\n",
    "pi_deviation = 0\n",
    "y[:,0,:] = y[:,0,:] + pi_deviation\n",
    "# filter out extreme points in price\n",
    "y_sort_arg = np.argsort(np.amax(np.abs(y[:,0,:]),axis=0)) # max extreme\n",
    "y_sort_arg1 = np.argsort(np.amin(y[:,0,:],axis=0),axis=0) # min extreme\n",
    "\n",
    "del_idx0 = []\n",
    "del_num = 0\n",
    "for i in range(del_num):\n",
    "  del_idx0.append(y_sort_arg[-i])\n",
    "  del_idx0.append(y_sort_arg1[i])\n",
    "# print(del_idx0)\n",
    "del_idx = [] # keep only non-repeated\n",
    "[del_idx.append(x) for x in del_idx0 if x not in del_idx]\n",
    "del_idx = np.sort(del_idx)\n",
    "# delete extreme points\n",
    "print('price range old:',np.min(y[:,0,:]),np.max(y[:,0,:]))\n",
    "print('voltage range old:',np.min(y[:,1,:]),np.max(y[:,1,:]))\n",
    "# x = np.delete(x, del_idx, axis=2)\n",
    "# y = np.delete(y, del_idx, axis=2)\n",
    "print('price range new:',np.min(y[:,0,:]),np.max(y[:,0,:]))\n",
    "print('voltage range new:',np.min(y[:,1,:]),np.max(y[:,1,:]))\n",
    "print(x.shape,y.shape)"
   ]
  },
  {
   "cell_type": "code",
   "execution_count": 69,
   "metadata": {
    "id": "YcR42RBbdZqZ"
   },
   "outputs": [],
   "source": [
    "n_sample=y.shape[-1]\n",
    "n_bus=y.shape[0]\n",
    "x_total=x.transpose((1,0,2)).reshape(-1,x.shape[-1])\n",
    "y_total=y.transpose((1,0,2)).reshape(-1,y.shape[-1])\n",
    "x_train,x_test,y_train,y_test=train_test_split(x_total.T,y_total.T,test_size=0.2)\n",
    "\n",
    "# print(x_train.shape,y_train.shape,x_test.shape,y_test.shape)\n",
    "# print(\"====================================\")\n",
    "# print(x_train)\n",
    "# print(\"====================================\")\n",
    "# print(y_train)\n",
    "\n",
    "# print(\"====================================\")\n",
    "# x_train\t訓練集的輸入特徵\t(樣本數, 特徵數)\t節點的發電量、發電成本、負載等數據\n",
    "# x_test\t測試集的輸入特徵\t(樣本數, 特徵數)\t與 x_train 結構相同\n",
    "# y_train\t訓練集的輸出目標\t(樣本數, 輸出數)\t節點的邊際電價（LMP）、節點電壓等\n",
    "# y_test\t測試集的輸出目標\t(樣本數, 輸出數)\t與 y_train 結構相同\n",
    "\n",
    "class Dataset(torch.utils.data.Dataset):\n",
    "    def __init__(self,x,y):\n",
    "        self.x=torch.from_numpy(x).float()\n",
    "        self.y=torch.from_numpy(y).float()\n",
    "    def __len__(self):\n",
    "        return len(self.x)\n",
    "    def __getitem__(self, idx):\n",
    "        if torch.is_tensor(idx):\n",
    "          idx=idx.tolist()\n",
    "        return self.x[idx],self.y[idx]\n",
    "params={'batch_size': 512,\n",
    "        'shuffle': True,\n",
    "        'num_workers': 0}\n",
    "train=Dataset(x_train,y_train)\n",
    "train_set=torch.utils.data.DataLoader(train,**params)\n",
    "val=Dataset(x_test,y_test)\n",
    "val_set=torch.utils.data.DataLoader(val,**params)"
   ]
  },
  {
   "cell_type": "code",
   "execution_count": 70,
   "metadata": {
    "id": "JN9gN9BnCNim"
   },
   "outputs": [],
   "source": [
    "# fig2 = plt.figure(figsize=(8,4))\n",
    "# flat_list = list(np.concatenate(y[:,n_sample:]).flat)\n",
    "# flat_list3 = list(np.concatenate(y[:,:n_sample]).flat)\n",
    "# plt.subplot(1,2,1)\n",
    "# plt.hist(flat_list,bins = 100,label = 'voltage')\n",
    "# plt.subplot(1,2,2)\n",
    "# # plt.hist(flat_list3,range=[-2000, 2000],bins = 100,label = 'price')\n",
    "# plt.hist(flat_list3,bins = 100,label = 'price')\n",
    "# plt.show()"
   ]
  },
  {
   "cell_type": "code",
   "execution_count": 71,
   "metadata": {
    "id": "iOyWpG_4yCtz"
   },
   "outputs": [
    {
     "name": "stdout",
     "output_type": "stream",
     "text": [
      "number of params: 3909576\n"
     ]
    }
   ],
   "source": [
    "# 多層全連接神經網路（FCNN）\n",
    "class dnn(torch.nn.Module):\n",
    "  def __init__(self,shape):\n",
    "    super(dnn,self).__init__()\n",
    "    layers=[]\n",
    "    for idx in range(len(shape)-2):\n",
    "      layers.extend([\n",
    "        nn.Linear(shape[idx],shape[idx+1]),\n",
    "        nn.BatchNorm1d(shape[idx+1]),\n",
    "        nn.ReLU(),\n",
    "        nn.Dropout(0.5),\n",
    "      ])\n",
    "    layers+=[nn.Linear(shape[-2],shape[-1])]\n",
    "    self.features=nn.Sequential(*layers)\n",
    "    for temp in self.features:\n",
    "      if type(temp)==nn.Linear:\n",
    "        torch.nn.init.normal_(temp.weight,mean=0,std=1)\n",
    "  def forward(self,x): return self.features(x)\n",
    "net=dnn([n_bus*6,n_bus*10,n_bus*10,n_bus*10,n_bus*2]).to(device)\n",
    "print('number of params: %d'%(sum(temp.numel() for temp in net.parameters() if temp.requires_grad)))"
   ]
  },
  {
   "cell_type": "code",
   "execution_count": 72,
   "metadata": {},
   "outputs": [],
   "source": [
    "# import torch\n",
    "# import torch.nn as nn\n",
    "# from torch_geometric.nn import GCNConv  # 使用圖卷積層（Graph Convolutional Layer）\n",
    "\n",
    "# class GNNNet(nn.Module):\n",
    "#     def __init__(self, input_dim, hidden_dim, output_dim, num_layers=3):\n",
    "#         super(GNNNet, self).__init__()\n",
    "#         self.layers = nn.ModuleList()\n",
    "\n",
    "#         # 第一層圖卷積\n",
    "#         self.layers.append(GCNConv(input_dim, hidden_dim))\n",
    "\n",
    "#         # 中間層（隱藏層）\n",
    "#         for _ in range(num_layers - 2):\n",
    "#             self.layers.append(GCNConv(hidden_dim, hidden_dim))\n",
    "\n",
    "#         # 最後一層圖卷積\n",
    "#         self.layers.append(GCNConv(hidden_dim, output_dim))\n",
    "\n",
    "#         # Dropout 層（防止過擬合）\n",
    "#         self.dropout = nn.Dropout(0.5)\n",
    "\n",
    "#     def forward(self, data):\n",
    "#         x, edge_index = data.x, data.edge_index  # 節點特徵和邊索引\n",
    "\n",
    "#         # 圖卷積層的前向傳播\n",
    "#         for layer in self.layers[:-1]:\n",
    "#             x = layer(x, edge_index)\n",
    "#             x = torch.relu(x)\n",
    "#             x = self.dropout(x)\n",
    "\n",
    "#         # 最後一層卷積\n",
    "#         x = self.layers[-1](x, edge_index)\n",
    "\n",
    "#         return x\n",
    "\n",
    "# # 初始化 GNN 模型\n",
    "# n_bus_features = 6  # 假設每個節點有 6 個特徵\n",
    "# hidden_dim = 10 * n_bus  # 隱藏層的節點維度\n",
    "# output_dim = 2 * n_bus  # 預測輸出的維度\n",
    "\n",
    "# # 創建圖神經網路模型\n",
    "# net = GNNNet(input_dim=n_bus_features, hidden_dim=hidden_dim, output_dim=output_dim, num_layers=3).to(device)\n",
    "\n",
    "# # 打印參數總數\n",
    "# print('number of params: %d' % (sum(p.numel() for p in net.parameters() if p.requires_grad)))\n"
   ]
  },
  {
   "cell_type": "code",
   "execution_count": 73,
   "metadata": {
    "id": "GEQ-MDKOTqW1"
   },
   "outputs": [],
   "source": [
    "# threshold function for p_g\n",
    "# 用於對輸入數據進行雙向閾值（threshold）操作的自訂義神經網路模組\n",
    "class my_gen_pred_binary(nn.Module):\n",
    "  def __init__(self):\n",
    "    super(my_gen_pred_binary,self).__init__()\n",
    "  def forward(self,x,thresh):\n",
    "    right_thresh=thresh.clone().detach().requires_grad_(True).double()\n",
    "    left_thresh=torch.tensor(0).double()\n",
    "    x=x.double()\n",
    "    output = torch.sigmoid(left_thresh - x)\n",
    "    output = torch.mul(output,left_thresh - x) + x\n",
    "    output = torch.sigmoid(output - right_thresh)\n",
    "    output = torch.mul(output,output - right_thresh) + right_thresh\n",
    "    return output"
   ]
  },
  {
   "cell_type": "code",
   "execution_count": 74,
   "metadata": {
    "id": "9mYCMszHaosA"
   },
   "outputs": [],
   "source": [
    "## params needed for S calculation\n",
    "# line parameters\n",
    "filename1 = root+'ieee118_lineloc.txt'\n",
    "filename2 = root+'ieee118_lineparams.txt'\n",
    "filename3 = root+'ieee118_Bmat.txt'\n",
    "# incidence info\n",
    "line_loc = pd.read_table(filename1,sep=',',header=None).to_numpy()\n",
    "# r, x, shunt, S_max\n",
    "line_params = pd.read_table(filename2,sep=',',header=None).to_numpy()\n",
    "B_mat=pd.read_table(filename3,sep=',',header=None).to_numpy()\n",
    "B_r = np.delete(B_mat,68,axis=0)\n",
    "B_r = np.delete(B_r,68,axis=1)\n",
    "Br_inv = np.linalg.inv(B_r)\n",
    "\n",
    "R_line = line_params[:,0].copy()\n",
    "X_line = line_params[:,1].copy()\n",
    "\n",
    "B_shunt = line_params[:,2].copy()\n",
    "\n",
    "Z_line = R_line + 1j * X_line \n",
    "Y_line = 1 / Z_line\n",
    "\n",
    "G_line = np.real(Y_line)\n",
    "B_line = np.imag(Y_line)\n",
    "\n",
    "# transformer indicator\n",
    "a = (R_line > 0).astype(int)\n",
    "\n",
    "# params to tensor and GPU\n",
    "G_line_tensor = torch.from_numpy(G_line).to(device) # conductance\n",
    "B_line_tensor = torch.from_numpy(B_line).to(device) # susceptance\n",
    "B_shunt_tensor = torch.from_numpy(B_shunt/2).to(device) # conductance\n",
    "Br_inv_tensor = torch.from_numpy(Br_inv).to(device) # reduced Bbus matrix\n",
    "a_tensor = torch.from_numpy(a).double().to(device) # line/transformer"
   ]
  },
  {
   "cell_type": "code",
   "execution_count": 75,
   "metadata": {
    "id": "Go4bwoEmoi0D"
   },
   "outputs": [],
   "source": [
    "class loss_func:\n",
    "    def __init__(self,s_max,G_line,B_line,B_shunt,Br_inv,a,line_loc):\n",
    "      self.s=s_max\n",
    "      self.g=G_line\n",
    "      self.b=B_line\n",
    "      self.c=B_shunt\n",
    "      self.r=Br_inv\n",
    "      self.a=a\n",
    "      self.mse=nn.MSELoss() # MSE loss\n",
    "      self.lmda1=torch.tensor(10).to(device) # V MSE \n",
    "      self.lmda2=torch.tensor(1).to(device) # pi MSE \n",
    "      self.lmda3=torch.tensor(0.1).to(device) # v l_inf\n",
    "      self.lmda4=torch.tensor(0.1).to(device) # s feasibility\n",
    "      self.lmda5=torch.tensor(0.01).to(device) # pi l_inf\n",
    "      self.line_loc=line_loc\n",
    "      self.binary_cell=my_gen_pred_binary()\n",
    "    def calc(self,pred,label,x,feas):\n",
    "      mse_p=self.mse(pred[:,:n_bus],label[:,:n_bus])\n",
    "      mse_v=self.mse(pred[:,n_bus:],label[:,n_bus:])\n",
    "      linf_p=(pred[:,:n_bus]-label[:,:n_bus]).norm(p=float('inf'))\n",
    "      linf_v=(pred[:,n_bus:]-label[:,n_bus:]).norm(p=float('inf'))\n",
    "      if feas==False:\n",
    "        return self.lmda1*mse_v+self.lmda2*mse_p+self.lmda3*linf_v+self.lmda5*linf_p\n",
    "      label_pred=pred[:,:n_bus]\n",
    "      p_max=x[:,:n_bus*1]-x[:,n_bus*1:n_bus*2]\n",
    "      quadratic_b=x[:,n_bus*4:n_bus*5]\n",
    "      quadratic_a=x[:,n_bus*5:n_bus*6]\n",
    "      quadratic_center=(label_pred-quadratic_b)/(quadratic_a+1e-5)/2\n",
    "      p_inj=self.binary_cell(quadratic_center,p_max)\n",
    "      bus_inj=p_inj+x[:,n_bus:n_bus*2]\n",
    "      p_inj_r=torch.cat((bus_inj[:,:68],bus_inj[:,69:]),1)/100\n",
    "      theta0=torch.matmul(self.r,p_inj_r.T)\n",
    "      ref_ang=torch.zeros(1,theta0.shape[1]).to(device)\n",
    "      theta=torch.cat([theta0[:68,:],ref_ang,theta0[68:,:]],0)\n",
    "      v_pred=(pred[:,n_bus:].transpose(0,1))*0.01+0.9\n",
    "      \n",
    "      # s penalty\n",
    "      theta1=theta[self.line_loc[:,0]-1,:]\n",
    "      theta2=theta[self.line_loc[:,1]-1,:]\n",
    "      V1=(v_pred[self.line_loc[:,0]-1,:]).double()\n",
    "      V2=(v_pred[self.line_loc[:,1]-1,:]).double()\n",
    "      f_p=(self.a*self.g*(V1*V1).T)-self.a*((V1*V2).T)*(self.g*torch.cos(theta1-theta2).T+self.b*torch.sin(theta1-theta2).T)\n",
    "      f_p=f_p.T\n",
    "      f_q=-self.a*(V1.T)*(self.a*V1.T)*(self.b+self.c/2)+self.a*((V1*V2).T)*(self.b*torch.cos(theta1-theta2).T-self.g*torch.sin(theta1-theta2).T)\n",
    "      f_q=f_q.T\n",
    "      s_pred=torch.sqrt(f_p*f_p+f_q*f_q+1e-5)*100\n",
    "      s_penalty=torch.sigmoid(s_pred-self.s)+torch.sigmoid(-s_pred-self.s)\n",
    "      s_total=torch.sum(s_penalty)\n",
    "\n",
    "      # sji penalty\n",
    "      theta1=theta[self.line_loc[:,1]-1,:]\n",
    "      theta2=theta[self.line_loc[:,0]-1,:]\n",
    "      V1=(v_pred[self.line_loc[:,1]-1,:]).double()\n",
    "      V2=(v_pred[self.line_loc[:,0]-1,:]).double() \n",
    "      fji_p=(self.a*self.g*(V1*V1).T)-self.a*((V1*V2).T)*(self.g*torch.cos(theta1-theta2).T+self.b*torch.sin(theta1-theta2).T)\n",
    "      fji_p=fji_p.T\n",
    "      fji_q=-self.a*(V1.T)*(self.a*V1.T)*(self.b+self.c/2)+self.a*((V1*V2).T)*(self.b*torch.cos(theta1-theta2).T-self.g*torch.sin(theta1-theta2).T)\n",
    "      fji_q=fji_q.T\n",
    "      sji_pred=torch.sqrt(fji_p*fji_p+fji_q*fji_q+1e-5)*100\n",
    "      sji_penalty=torch.sigmoid(sji_pred-self.s)+torch.sigmoid(-sji_pred-self.s)\n",
    "      sji_total=torch.sum(sji_penalty)\n",
    "\n",
    "      return self.lmda1*mse_v+self.lmda2*mse_p+self.lmda3*linf_v+self.lmda5*linf_p+self.lmda4*s_total+self.lmda4*sji_total\n",
    "my_loss=loss_func(f_max,G_line_tensor,B_line_tensor,B_shunt_tensor,Br_inv_tensor,a_tensor,line_loc)"
   ]
  },
  {
   "cell_type": "code",
   "execution_count": 76,
   "metadata": {
    "id": "iu0PKvcgF2vN"
   },
   "outputs": [
    {
     "name": "stdout",
     "output_type": "stream",
     "text": [
      "Adam (\n",
      "Parameter Group 0\n",
      "    amsgrad: False\n",
      "    betas: (0.9, 0.999)\n",
      "    capturable: False\n",
      "    differentiable: False\n",
      "    eps: 1e-08\n",
      "    foreach: None\n",
      "    fused: None\n",
      "    lr: 0.001\n",
      "    maximize: False\n",
      "    weight_decay: 0\n",
      ")\n",
      "Epoch 0 | Training loss: 427.6615\n",
      "Epoch 0 | Testing loss: 412.2476\n",
      "Epoch 1 | Training loss: 410.2788\n",
      "Epoch 2 | Training loss: 394.6954\n",
      "Epoch 3 | Training loss: 380.2706\n",
      "Epoch 4 | Training loss: 366.0085\n",
      "Epoch 5 | Training loss: 351.8826\n",
      "Epoch 5 | Testing loss: 363.6399\n",
      "Epoch 6 | Training loss: 337.2040\n",
      "Epoch 7 | Training loss: 322.4721\n",
      "Epoch 8 | Training loss: 307.3940\n",
      "Epoch 9 | Training loss: 292.0530\n",
      "Epoch 10 | Training loss: 275.9235\n",
      "Epoch 10 | Testing loss: 301.8994\n",
      "Epoch 11 | Training loss: 259.7149\n",
      "Epoch 12 | Training loss: 243.2380\n",
      "Epoch 13 | Training loss: 226.8216\n",
      "Epoch 14 | Training loss: 210.4649\n",
      "Epoch 15 | Training loss: 194.4154\n",
      "Epoch 15 | Testing loss: 219.6326\n",
      "Epoch 16 | Training loss: 178.3742\n",
      "Epoch 17 | Training loss: 162.9887\n",
      "Epoch 18 | Training loss: 148.6873\n",
      "Epoch 19 | Training loss: 134.8991\n",
      "Epoch 20 | Training loss: 122.0416\n",
      "Epoch 20 | Testing loss: 133.9700\n",
      "Epoch 21 | Training loss: 110.3644\n",
      "Epoch 22 | Training loss: 99.4625\n",
      "Epoch 23 | Training loss: 89.9179\n",
      "Epoch 24 | Training loss: 81.3228\n",
      "Epoch 25 | Training loss: 73.8709\n",
      "Epoch 25 | Testing loss: 69.4167\n",
      "Epoch 26 | Training loss: 67.3060\n",
      "Epoch 27 | Training loss: 61.7585\n",
      "Epoch 28 | Training loss: 56.8915\n",
      "Epoch 29 | Training loss: 52.6650\n",
      "Epoch 30 | Training loss: 49.3694\n",
      "Epoch 30 | Testing loss: 34.0999\n",
      "Epoch 31 | Training loss: 46.3721\n",
      "Epoch 32 | Training loss: 43.8522\n",
      "Epoch 33 | Training loss: 41.8555\n",
      "Epoch 34 | Training loss: 39.9682\n",
      "Epoch 35 | Training loss: 38.3388\n",
      "Epoch 35 | Testing loss: 18.9756\n",
      "Epoch 36 | Training loss: 36.8621\n",
      "Epoch 37 | Training loss: 35.5289\n",
      "Epoch 38 | Training loss: 34.3593\n",
      "Epoch 39 | Training loss: 33.2949\n",
      "Epoch 40 | Training loss: 32.2878\n",
      "Epoch 40 | Testing loss: 11.7487\n",
      "Epoch 41 | Training loss: 31.5057\n",
      "Epoch 42 | Training loss: 30.5229\n",
      "Epoch 43 | Training loss: 29.6777\n",
      "Epoch 44 | Training loss: 28.8372\n",
      "Epoch 45 | Training loss: 28.2652\n",
      "Epoch 45 | Testing loss: 8.8370\n",
      "Epoch 46 | Training loss: 27.4768\n",
      "Epoch 47 | Training loss: 26.7755\n",
      "Epoch 48 | Training loss: 26.0481\n",
      "Epoch 49 | Training loss: 25.4679\n",
      "Epoch 50 | Training loss: 24.9163\n",
      "Epoch 50 | Testing loss: 7.0641\n",
      "Epoch 51 | Training loss: 24.2445\n",
      "Epoch 52 | Training loss: 23.6465\n",
      "Epoch 53 | Training loss: 23.1556\n",
      "Epoch 54 | Training loss: 22.6437\n",
      "Epoch 55 | Training loss: 22.2485\n",
      "Epoch 55 | Testing loss: 5.9747\n",
      "Epoch 56 | Training loss: 21.7153\n",
      "Epoch 57 | Training loss: 21.1528\n",
      "Epoch 58 | Training loss: 20.6500\n",
      "Epoch 59 | Training loss: 20.3933\n",
      "Epoch 60 | Training loss: 19.9312\n",
      "Epoch 60 | Testing loss: 5.2185\n",
      "Epoch 61 | Training loss: 19.6140\n",
      "Epoch 62 | Training loss: 19.1572\n",
      "Epoch 63 | Training loss: 18.7008\n",
      "Epoch 64 | Training loss: 18.3819\n",
      "Epoch 65 | Training loss: 18.0281\n",
      "Epoch 65 | Testing loss: 4.5624\n",
      "Epoch 66 | Training loss: 17.7289\n",
      "Epoch 67 | Training loss: 17.4253\n",
      "Epoch 68 | Training loss: 17.0370\n",
      "Epoch 69 | Training loss: 16.7746\n",
      "Epoch 70 | Training loss: 16.4830\n",
      "Epoch 70 | Testing loss: 4.1056\n",
      "Epoch 71 | Training loss: 16.2039\n",
      "Epoch 72 | Training loss: 15.8734\n",
      "Epoch 73 | Training loss: 15.6056\n",
      "Epoch 74 | Training loss: 15.3597\n",
      "Epoch 75 | Training loss: 15.1098\n",
      "Epoch 75 | Testing loss: 3.8174\n",
      "Epoch 76 | Training loss: 14.8062\n",
      "Epoch 77 | Training loss: 14.6243\n",
      "Epoch 78 | Training loss: 14.3912\n",
      "Epoch 79 | Training loss: 14.0954\n",
      "Epoch 80 | Training loss: 13.8726\n",
      "Epoch 80 | Testing loss: 3.4272\n",
      "Epoch 81 | Training loss: 13.7019\n",
      "Epoch 82 | Training loss: 13.4895\n",
      "Epoch 83 | Training loss: 13.2613\n",
      "Epoch 84 | Training loss: 13.0906\n",
      "Epoch 85 | Training loss: 12.8516\n",
      "Epoch 85 | Testing loss: 3.2148\n",
      "Epoch 86 | Training loss: 12.6460\n",
      "Epoch 87 | Training loss: 12.4424\n",
      "Epoch 88 | Training loss: 12.3009\n",
      "Epoch 89 | Training loss: 12.1498\n",
      "Epoch 90 | Training loss: 11.9302\n",
      "Epoch 90 | Testing loss: 3.0264\n",
      "Epoch 91 | Training loss: 11.8186\n",
      "Epoch 92 | Training loss: 11.6133\n",
      "Epoch 93 | Training loss: 11.4224\n",
      "Epoch 94 | Training loss: 11.2443\n",
      "Epoch 95 | Training loss: 11.1644\n",
      "Epoch 95 | Testing loss: 2.8526\n",
      "Epoch 96 | Training loss: 10.9499\n",
      "Epoch 97 | Training loss: 10.7842\n",
      "Epoch 98 | Training loss: 10.6918\n",
      "Epoch 99 | Training loss: 10.5679\n",
      "Epoch 100 | Training loss: 10.3842\n",
      "Epoch 100 | Testing loss: 2.6552\n",
      "Epoch 101 | Training loss: 10.2875\n",
      "Epoch 102 | Training loss: 10.0648\n",
      "Epoch 103 | Training loss: 10.0271\n",
      "Epoch 104 | Training loss: 9.9439\n",
      "Epoch 105 | Training loss: 9.7295\n",
      "Epoch 105 | Testing loss: 2.4836\n",
      "Epoch 106 | Training loss: 9.6433\n",
      "Epoch 107 | Training loss: 9.5024\n",
      "Epoch 108 | Training loss: 9.3452\n",
      "Epoch 109 | Training loss: 9.3103\n",
      "Epoch 110 | Training loss: 9.1712\n",
      "Epoch 110 | Testing loss: 2.3203\n",
      "Epoch 111 | Training loss: 9.0625\n",
      "Epoch 112 | Training loss: 8.9962\n",
      "Epoch 113 | Training loss: 8.8303\n",
      "Epoch 114 | Training loss: 8.7886\n",
      "Epoch 115 | Training loss: 8.6531\n",
      "Epoch 115 | Testing loss: 2.2539\n",
      "Epoch 116 | Training loss: 8.5202\n",
      "Epoch 117 | Training loss: 8.4717\n",
      "Epoch 118 | Training loss: 8.3653\n",
      "Epoch 119 | Training loss: 8.3087\n",
      "Epoch 120 | Training loss: 8.2523\n",
      "Epoch 120 | Testing loss: 2.1472\n",
      "Epoch 121 | Training loss: 8.1149\n",
      "Epoch 122 | Training loss: 7.9513\n",
      "Epoch 123 | Training loss: 7.9488\n",
      "Epoch 124 | Training loss: 7.8289\n",
      "Epoch 125 | Training loss: 7.6516\n",
      "Epoch 125 | Testing loss: 2.1044\n",
      "Epoch 126 | Training loss: 7.7337\n",
      "Epoch 127 | Training loss: 7.6177\n",
      "Epoch 128 | Training loss: 7.5610\n",
      "Epoch 129 | Training loss: 7.4290\n",
      "Epoch 130 | Training loss: 7.3831\n",
      "Epoch 130 | Testing loss: 1.9980\n",
      "Epoch 131 | Training loss: 7.3422\n",
      "Epoch 132 | Training loss: 7.1587\n",
      "Epoch 133 | Training loss: 7.0958\n",
      "Epoch 134 | Training loss: 7.0775\n",
      "Epoch 135 | Training loss: 7.0453\n",
      "Epoch 135 | Testing loss: 1.9570\n",
      "Epoch 136 | Training loss: 6.9921\n",
      "Epoch 137 | Training loss: 6.8741\n",
      "Epoch 138 | Training loss: 6.8535\n",
      "Epoch 139 | Training loss: 6.7466\n",
      "Epoch 140 | Training loss: 6.7232\n",
      "Epoch 140 | Testing loss: 1.8550\n",
      "Epoch 141 | Training loss: 6.6610\n",
      "Epoch 142 | Training loss: 6.5846\n",
      "Epoch 143 | Training loss: 6.4924\n",
      "Epoch 144 | Training loss: 6.4956\n",
      "Epoch 145 | Training loss: 6.4268\n",
      "Epoch 145 | Testing loss: 1.8451\n",
      "Epoch 146 | Training loss: 6.3564\n",
      "Epoch 147 | Training loss: 6.2732\n",
      "Epoch 148 | Training loss: 6.2588\n",
      "Epoch 149 | Training loss: 6.1699\n",
      "Epoch 150 | Training loss: 6.1240\n",
      "Epoch 150 | Testing loss: 1.8504\n",
      "Epoch 151 | Training loss: 6.0739\n",
      "Epoch 152 | Training loss: 6.0101\n",
      "Epoch 153 | Training loss: 6.0063\n",
      "Epoch 154 | Training loss: 5.9334\n",
      "Epoch 155 | Training loss: 5.8906\n",
      "Epoch 155 | Testing loss: 1.7613\n",
      "Epoch 156 | Training loss: 5.8665\n",
      "Epoch 157 | Training loss: 5.7958\n",
      "Epoch 158 | Training loss: 5.7547\n",
      "Epoch 159 | Training loss: 5.6017\n",
      "Epoch 160 | Training loss: 5.6764\n",
      "Epoch 160 | Testing loss: 1.7285\n",
      "Epoch 161 | Training loss: 5.6357\n",
      "Epoch 162 | Training loss: 5.6088\n",
      "Epoch 163 | Training loss: 5.5495\n",
      "Epoch 164 | Training loss: 5.5695\n",
      "Epoch 165 | Training loss: 5.4924\n",
      "Epoch 165 | Testing loss: 1.7263\n",
      "Epoch 166 | Training loss: 5.3691\n",
      "Epoch 167 | Training loss: 5.3338\n",
      "Epoch 168 | Training loss: 5.2726\n",
      "Epoch 169 | Training loss: 5.2748\n",
      "Epoch 170 | Training loss: 5.2208\n",
      "Epoch 170 | Testing loss: 1.6863\n",
      "Epoch 171 | Training loss: 5.2498\n",
      "Epoch 172 | Training loss: 5.2159\n",
      "Epoch 173 | Training loss: 5.1309\n",
      "Epoch 174 | Training loss: 5.0465\n",
      "Epoch 175 | Training loss: 5.0610\n",
      "Epoch 175 | Testing loss: 1.7002\n",
      "Epoch 176 | Training loss: 5.0957\n",
      "Epoch 177 | Training loss: 4.9665\n",
      "Epoch 178 | Training loss: 4.9414\n",
      "Epoch 179 | Training loss: 4.8925\n",
      "Epoch 180 | Training loss: 4.9212\n",
      "Epoch 180 | Testing loss: 1.6621\n",
      "Epoch 181 | Training loss: 4.8979\n",
      "Epoch 182 | Training loss: 4.8161\n",
      "Epoch 183 | Training loss: 4.7863\n",
      "Epoch 184 | Training loss: 4.7647\n",
      "Epoch 185 | Training loss: 4.7777\n",
      "Epoch 185 | Testing loss: 1.6196\n",
      "Epoch 186 | Training loss: 4.7338\n",
      "Epoch 187 | Training loss: 4.7101\n",
      "Epoch 188 | Training loss: 4.6430\n",
      "Epoch 189 | Training loss: 4.6700\n",
      "Epoch 190 | Training loss: 4.5946\n",
      "Epoch 190 | Testing loss: 1.6576\n",
      "Epoch 191 | Training loss: 4.6320\n",
      "Epoch 192 | Training loss: 4.5390\n",
      "Epoch 193 | Training loss: 4.5686\n",
      "Epoch 194 | Training loss: 4.4659\n",
      "Epoch 195 | Training loss: 4.4209\n",
      "Epoch 195 | Testing loss: 1.5953\n",
      "Epoch 196 | Training loss: 4.4211\n",
      "Epoch 197 | Training loss: 4.4612\n",
      "Epoch 198 | Training loss: 4.3918\n",
      "Epoch 199 | Training loss: 4.3550\n",
      "Epoch 200 | Training loss: 4.3509\n",
      "Epoch 200 | Testing loss: 1.5911\n",
      "Epoch 201 | Training loss: 4.3156\n",
      "Epoch 202 | Training loss: 4.2785\n",
      "Epoch 203 | Training loss: 4.2498\n",
      "Epoch 204 | Training loss: 4.2782\n",
      "Epoch 205 | Training loss: 4.2215\n",
      "Epoch 205 | Testing loss: 1.5736\n",
      "Epoch 206 | Training loss: 4.2102\n",
      "Epoch 207 | Training loss: 4.2639\n",
      "Epoch 208 | Training loss: 4.1444\n",
      "Epoch 209 | Training loss: 4.1352\n",
      "Epoch 210 | Training loss: 4.0945\n",
      "Epoch 210 | Testing loss: 1.5698\n",
      "Epoch 211 | Training loss: 4.0770\n",
      "Epoch 212 | Training loss: 4.0433\n",
      "Epoch 213 | Training loss: 4.0901\n",
      "Epoch 214 | Training loss: 4.0687\n",
      "Epoch 215 | Training loss: 4.0174\n",
      "Epoch 215 | Testing loss: 1.5277\n",
      "Epoch 216 | Training loss: 4.0207\n",
      "Epoch 217 | Training loss: 3.9486\n",
      "Epoch 218 | Training loss: 3.9541\n",
      "Epoch 219 | Training loss: 3.9213\n",
      "Epoch 220 | Training loss: 3.8806\n",
      "Epoch 220 | Testing loss: 1.5558\n",
      "Epoch 221 | Training loss: 3.9156\n",
      "Epoch 222 | Training loss: 3.8811\n",
      "Epoch 223 | Training loss: 3.8646\n",
      "Epoch 224 | Training loss: 3.8778\n",
      "Epoch 225 | Training loss: 3.8722\n",
      "Epoch 225 | Testing loss: 1.5257\n",
      "Epoch 226 | Training loss: 3.8168\n",
      "Epoch 227 | Training loss: 3.7785\n",
      "Epoch 228 | Training loss: 3.8194\n",
      "Epoch 229 | Training loss: 3.7067\n",
      "Epoch 230 | Training loss: 3.7651\n",
      "Epoch 230 | Testing loss: 1.4980\n",
      "Epoch 231 | Training loss: 3.7067\n",
      "Epoch 232 | Training loss: 3.6923\n",
      "Epoch 233 | Training loss: 3.6900\n",
      "Epoch 234 | Training loss: 3.7523\n",
      "Epoch 235 | Training loss: 3.6791\n",
      "Epoch 235 | Testing loss: 1.5119\n",
      "Epoch 236 | Training loss: 3.6735\n",
      "Epoch 237 | Training loss: 3.6028\n",
      "Epoch 238 | Training loss: 3.6379\n",
      "Epoch 239 | Training loss: 3.5911\n",
      "Epoch 240 | Training loss: 3.5443\n",
      "Epoch 240 | Testing loss: 1.4849\n",
      "Epoch 241 | Training loss: 3.5635\n",
      "Epoch 242 | Training loss: 3.5289\n",
      "Epoch 243 | Training loss: 3.5015\n",
      "Epoch 244 | Training loss: 3.4997\n",
      "Epoch 245 | Training loss: 3.5025\n",
      "Epoch 245 | Testing loss: 1.4918\n",
      "Epoch 246 | Training loss: 3.4894\n",
      "Epoch 247 | Training loss: 3.4728\n",
      "Epoch 248 | Training loss: 3.4932\n",
      "Epoch 249 | Training loss: 3.4618\n",
      "Epoch 250 | Training loss: 3.5108\n",
      "Epoch 250 | Testing loss: 1.4793\n",
      "Epoch 251 | Training loss: 3.4135\n",
      "Epoch 252 | Training loss: 3.4195\n",
      "Epoch 253 | Training loss: 3.4192\n",
      "Epoch 254 | Training loss: 3.3762\n",
      "Epoch 255 | Training loss: 3.3864\n",
      "Epoch 255 | Testing loss: 1.4990\n",
      "Epoch 256 | Training loss: 3.4173\n",
      "Epoch 257 | Training loss: 3.3421\n",
      "Epoch 258 | Training loss: 3.3234\n",
      "Epoch 259 | Training loss: 3.4042\n",
      "Epoch 260 | Training loss: 3.3163\n",
      "Epoch 260 | Testing loss: 1.4637\n",
      "Epoch 261 | Training loss: 3.2887\n",
      "Epoch 262 | Training loss: 3.2828\n",
      "Epoch 263 | Training loss: 3.2798\n",
      "Epoch 264 | Training loss: 3.2898\n",
      "Epoch 265 | Training loss: 3.2482\n",
      "Epoch 265 | Testing loss: 1.4726\n",
      "Epoch 266 | Training loss: 3.2312\n",
      "Epoch 267 | Training loss: 3.2171\n",
      "Epoch 268 | Training loss: 3.2223\n",
      "Epoch 269 | Training loss: 3.1858\n",
      "Epoch 270 | Training loss: 3.2225\n",
      "Epoch 270 | Testing loss: 1.4546\n",
      "Epoch 271 | Training loss: 3.1687\n",
      "Epoch 272 | Training loss: 3.1625\n",
      "Epoch 273 | Training loss: 3.1770\n",
      "Epoch 274 | Training loss: 3.1314\n",
      "Epoch 275 | Training loss: 3.1429\n",
      "Epoch 275 | Testing loss: 1.4411\n",
      "Epoch 276 | Training loss: 3.0768\n",
      "Epoch 277 | Training loss: 3.0755\n",
      "Epoch 278 | Training loss: 3.1019\n",
      "Epoch 279 | Training loss: 3.1172\n",
      "Epoch 280 | Training loss: 3.0486\n",
      "Epoch 280 | Testing loss: 1.4310\n",
      "Epoch 281 | Training loss: 3.0184\n",
      "Epoch 282 | Training loss: 3.1292\n",
      "Epoch 283 | Training loss: 3.0637\n",
      "Epoch 284 | Training loss: 2.9910\n",
      "Epoch 285 | Training loss: 3.0957\n",
      "Epoch 285 | Testing loss: 1.4350\n",
      "Epoch 286 | Training loss: 3.0350\n",
      "Epoch 287 | Training loss: 3.0179\n",
      "Epoch 288 | Training loss: 2.9782\n",
      "Epoch 289 | Training loss: 3.0126\n",
      "Epoch 290 | Training loss: 2.9614\n",
      "Epoch 290 | Testing loss: 1.4087\n",
      "Epoch 291 | Training loss: 2.9526\n",
      "Epoch 292 | Training loss: 2.9487\n",
      "Epoch 293 | Training loss: 2.9301\n",
      "Epoch 294 | Training loss: 2.8887\n",
      "Epoch 295 | Training loss: 2.9300\n",
      "Epoch 295 | Testing loss: 1.4020\n",
      "Epoch 296 | Training loss: 2.9456\n",
      "Epoch 297 | Training loss: 2.9292\n",
      "Epoch 298 | Training loss: 2.8734\n",
      "Epoch 299 | Training loss: 2.9059\n",
      "Training time:135.8935s\n"
     ]
    }
   ],
   "source": [
    "# path=root+'data_118_quad/gnn_trained_ac118.pickle'\n",
    "# print(path)\n",
    "\n",
    "\n",
    "# try: \n",
    "#   net.load_state_dict(torch.load(path))\n",
    "#   print('params loaded')\n",
    "# except: \n",
    "#   print('cold start')\n",
    "\n",
    "\n",
    "optimizer=torch.optim.Adam(net.parameters())\n",
    "print(optimizer)\n",
    "\n",
    "train_loss=[]\n",
    "val_loss=[]\n",
    "\n",
    "## Training\n",
    "t0=time.time()\n",
    "max_epochs=300\n",
    "\n",
    "eval_epoch=5\n",
    "\n",
    "# earlystopping\n",
    "tolerance=5\n",
    "min_delta=1e-3\n",
    "previous=0\n",
    "\n",
    "# add feasibility \n",
    "feas=False\n",
    "for epoch in range(max_epochs):\n",
    "  \n",
    "  # training loop\n",
    "  total_loss=0.0\n",
    "  for local_batch,local_label in train_set:\n",
    "    optimizer.zero_grad() # clear the past gradient\n",
    "    local_batch,local_label=local_batch.to(device),local_label.to(device)\n",
    "    logits=net(local_batch)\n",
    "    loss=my_loss.calc(logits,local_label,local_batch,feas)\n",
    "    loss.backward()\n",
    "    optimizer.step()\n",
    "    total_loss+=loss.item()\n",
    "  avg_loss=total_loss/len(train_set.dataset)\n",
    "  train_loss.append(avg_loss)\n",
    "  print(\"Epoch %d | Training loss: %.4f\"%(epoch,avg_loss))\n",
    "\n",
    "  # eval 每eval_epoch次評估一次\n",
    "  if epoch%eval_epoch==0:\n",
    "    net.eval()\n",
    "    total_loss=0.0\n",
    "    for local_batch,local_label in val_set:\n",
    "      local_batch,local_label=local_batch.to(device),local_label.to(device)\n",
    "      logits=net(local_batch)\n",
    "      loss=my_loss.calc(logits,local_label,local_batch,feas)\n",
    "      total_loss+=loss.item()\n",
    "    avg_loss=total_loss/len(val_set.dataset)\n",
    "    val_loss.append([epoch, avg_loss])\n",
    "    print(\"Epoch %d | Testing loss: %.4f\"%(epoch,avg_loss))\n",
    "    if epoch:\n",
    "      if previous-avg_loss<min_delta: tolerance-=1\n",
    "      if tolerance==0: pass\n",
    "    previous=avg_loss\n",
    "    net.train()\n",
    "t1=time.time()\n",
    "print(\"Training time:%.4fs\"%(t1-t0))\n",
    "\n"
   ]
  },
  {
   "cell_type": "code",
   "execution_count": 77,
   "metadata": {},
   "outputs": [],
   "source": [
    "# import torch\n",
    "# import torch.nn.functional as F\n",
    "# import time\n",
    "\n",
    "# # 假設 my_loss.calc() 是自訂的損失函數\n",
    "# optimizer = torch.optim.Adam(net.parameters())\n",
    "# print(optimizer)\n",
    "\n",
    "# train_loss = []\n",
    "# val_loss = []\n",
    "\n",
    "# # Training configuration\n",
    "# t0 = time.time()\n",
    "# max_epochs = 300\n",
    "# eval_epoch = 5\n",
    "\n",
    "# # Early stopping configuration\n",
    "# tolerance = 15\n",
    "# min_delta = 1e-4\n",
    "# previous = 0\n",
    "\n",
    "# # Feasibility flag\n",
    "# feas = False\n",
    "\n",
    "# for epoch in range(max_epochs):\n",
    "#     # Training loop\n",
    "#     total_loss = 0.0\n",
    "#     mse_pi_list = []  # 儲存每個批次的 MSE_pi\n",
    "#     mse_g_list = []   # 儲存每個批次的 MSE_g\n",
    "\n",
    "#     for local_batch, local_label in train_set:\n",
    "#         optimizer.zero_grad()  # Clear the past gradient\n",
    "#         local_batch, local_label = local_batch.to(device), local_label.to(device)\n",
    "\n",
    "#         # Forward pass\n",
    "#         logits = net(local_batch)\n",
    "\n",
    "#         # Loss calculation\n",
    "#         loss = my_loss.calc(logits, local_label, local_batch, feas)\n",
    "#         loss.backward()\n",
    "#         optimizer.step()\n",
    "#         total_loss += loss.item()\n",
    "\n",
    "#         # Calculate MSE for different targets\n",
    "#         mse_pi = F.mse_loss(logits, local_label, reduction='mean')\n",
    "#         mse_g = F.mse_loss(logits, local_label, reduction='mean')  # 假設次目標 MSE 同樣計算\n",
    "#         mse_pi_list.append(mse_pi.item())\n",
    "#         mse_g_list.append(mse_g.item())\n",
    "\n",
    "#     # Calculate average loss and MSE statistics\n",
    "#     avg_loss = total_loss / len(train_set.dataset)\n",
    "#     avg_mse_pi = sum(mse_pi_list) / len(mse_pi_list)\n",
    "#     avg_mse_g = sum(mse_g_list) / len(mse_g_list)\n",
    "#     std_mse_pi = torch.tensor(mse_pi_list).std().item()\n",
    "#     std_mse_g = torch.tensor(mse_g_list).std().item()\n",
    "\n",
    "#     train_loss.append(avg_loss)\n",
    "#     print(f\"Epoch {epoch} | Training loss: {avg_loss:.4f} | MSE_pi: {avg_mse_pi:.4f} | STD_pi: {std_mse_pi:.4e} | MSE_g: {avg_mse_g:.4f} | STD_g: {std_mse_g:.4e}\")\n",
    "\n",
    "#     # Evaluation every eval_epoch epochs\n",
    "#     if epoch % eval_epoch == 0:\n",
    "#         net.eval()\n",
    "#         total_loss = 0.0\n",
    "#         mse_pi_list = []\n",
    "#         mse_g_list = []\n",
    "\n",
    "#         for local_batch, local_label in val_set:\n",
    "#             local_batch, local_label = local_batch.to(device), local_label.to(device)\n",
    "\n",
    "#             # Forward pass\n",
    "#             logits = net(local_batch)\n",
    "\n",
    "#             # Loss calculation\n",
    "#             loss = my_loss.calc(logits, local_label, local_batch, feas)\n",
    "#             total_loss += loss.item()\n",
    "\n",
    "#             # Calculate MSE\n",
    "#             mse_pi = F.mse_loss(logits, local_label, reduction='mean')\n",
    "#             mse_g = F.mse_loss(logits, local_label, reduction='mean')\n",
    "#             mse_pi_list.append(mse_pi.item())\n",
    "#             mse_g_list.append(mse_g.item())\n",
    "\n",
    "#         # Calculate average loss and MSE statistics\n",
    "#         avg_loss = total_loss / len(val_set.dataset)\n",
    "#         avg_mse_pi = sum(mse_pi_list) / len(mse_pi_list)\n",
    "#         avg_mse_g = sum(mse_g_list) / len(mse_g_list)\n",
    "#         std_mse_pi = torch.tensor(mse_pi_list).std().item()\n",
    "#         std_mse_g = torch.tensor(mse_g_list).std().item()\n",
    "\n",
    "#         val_loss.append([epoch, avg_loss])\n",
    "#         print(f\"Epoch {epoch} | Testing loss: {avg_loss:.4f} | MSE_pi: {avg_mse_pi:.4f} | STD_pi: {std_mse_pi:.4e} | MSE_g: {avg_mse_g:.4f} | STD_g: {std_mse_g:.4e}\")\n",
    "\n",
    "#         # Early stopping check\n",
    "#         if epoch:\n",
    "#             if previous - avg_loss < min_delta:\n",
    "#                 tolerance -= 1\n",
    "#             if tolerance == 0:\n",
    "#                 print(\"Early stopping triggered.\")\n",
    "#                 break\n",
    "\n",
    "#         previous = avg_loss\n",
    "#         net.train()\n",
    "\n",
    "# t1 = time.time()\n",
    "# print(f\"Training time: {t1 - t0:.4f}s\")\n"
   ]
  },
  {
   "cell_type": "code",
   "execution_count": 78,
   "metadata": {
    "id": "AvUTphUSzqzA"
   },
   "outputs": [
    {
     "name": "stdout",
     "output_type": "stream",
     "text": [
      "C:/Users/USER/Desktop/GNN_OPF_electricity_market-main/GNN_OPF_electricity_market-main/GNN_OPF_electricity_market-main/data_gen/118_data/model/dnn_02092216.pickle\n"
     ]
    }
   ],
   "source": [
    "timestamp=datetime.now().strftime('%m%d%H%M')\n",
    "\n",
    "path=root+'model/dnn_%s.pickle'%(timestamp)\n",
    "\n",
    "if feas==False: path.replace('feas','')\n",
    "print(path)\n",
    "torch.save(net.state_dict(),path)"
   ]
  },
  {
   "cell_type": "code",
   "execution_count": 79,
   "metadata": {
    "id": "L3M4jmjkscK_"
   },
   "outputs": [
    {
     "name": "stdout",
     "output_type": "stream",
     "text": [
      "Training loss: 300\n",
      "[427.66146875, 410.27880859375, 394.69540625, 380.27056640625, 366.008517578125, 351.88259765625, 337.2039921875, 322.472083984375, 307.39401953125, 292.05301171875, 275.923498046875, 259.7148515625, 243.2379794921875, 226.8215888671875, 210.464935546875, 194.4154267578125, 178.3741904296875, 162.9886728515625, 148.6872880859375, 134.899107421875, 122.041619140625, 110.3643759765625, 99.4624775390625, 89.91789599609375, 81.32284912109375, 73.87091357421875, 67.30602270507812, 61.75845434570312, 56.89147631835937, 52.66504272460938, 49.36939721679688, 46.372134765625, 43.85220629882812, 41.855541748046875, 39.96818505859375, 38.3388193359375, 36.862109619140625, 35.52890454101563, 34.359335205078125, 33.294887451171874, 32.287814697265624, 31.505720458984374, 30.522907958984376, 29.677668212890627, 28.837216186523438, 28.26524755859375, 27.476775146484375, 26.775524536132814, 26.048110595703125, 25.467942749023436, 24.916290405273436, 24.244539306640625, 23.646524047851564, 23.155612426757813, 22.64366735839844, 22.248471923828124, 21.71529602050781, 21.152753173828124, 20.650019653320314, 20.393276123046874, 19.931216186523436, 19.61396533203125, 19.15719128417969, 18.7008046875, 18.381899780273436, 18.02813000488281, 17.7289130859375, 17.42527685546875, 17.037046142578124, 16.774635131835936, 16.482998291015626, 16.203933898925783, 15.873445983886718, 15.605553771972657, 15.359705322265626, 15.109758666992187, 14.8062158203125, 14.624297790527343, 14.391244445800782, 14.095369506835938, 13.872570922851562, 13.701917846679688, 13.489488525390625, 13.261254272460938, 13.090572692871094, 12.851552307128907, 12.645976684570313, 12.44237091064453, 12.300859619140626, 12.149810668945312, 11.930228698730469, 11.818559631347656, 11.613271484375, 11.422387390136718, 11.244298706054687, 11.164386474609374, 10.949903381347657, 10.78422119140625, 10.691803588867188, 10.567869445800781, 10.3842412109375, 10.287464904785157, 10.064816955566407, 10.027071044921875, 9.94387548828125, 9.729503784179688, 9.643265808105468, 9.50239483642578, 9.345199523925782, 9.31034991455078, 9.17121484375, 9.062468200683593, 8.996154968261719, 8.830331848144532, 8.788590759277344, 8.6531142578125, 8.520155059814453, 8.471707000732422, 8.365265960693359, 8.308683471679688, 8.252339172363282, 8.114921356201172, 7.951309753417969, 7.948833282470703, 7.828914154052734, 7.651584411621093, 7.733685363769531, 7.617696868896484, 7.561041229248047, 7.428999664306641, 7.383079345703125, 7.342232238769531, 7.1587206115722655, 7.095829956054687, 7.07750845336914, 7.0452684326171875, 6.992052520751953, 6.8740919494628905, 6.853467498779297, 6.7465830993652345, 6.7231727294921875, 6.6610040283203125, 6.584563201904297, 6.492398742675781, 6.495579437255859, 6.426810516357422, 6.356375946044922, 6.273204925537109, 6.258804260253906, 6.169930297851563, 6.123975067138672, 6.0739410095214845, 6.010141235351562, 6.006331970214844, 5.933404571533203, 5.890582427978516, 5.86649072265625, 5.7957678833007815, 5.7546810607910155, 5.601690307617187, 5.6764423828125, 5.635747436523437, 5.608750427246094, 5.5495385131835935, 5.569486297607422, 5.49241275024414, 5.369136505126953, 5.333805541992188, 5.272628814697265, 5.274818572998047, 5.220799835205078, 5.2498212890625, 5.21586605834961, 5.130947662353516, 5.0464769592285155, 5.061049133300782, 5.095724578857422, 4.966464721679688, 4.941379913330078, 4.892534851074219, 4.921188842773438, 4.897893096923828, 4.816090087890625, 4.786340057373047, 4.76472445678711, 4.77772525024414, 4.733821441650391, 4.710105377197266, 4.642963592529297, 4.669981292724609, 4.594590667724609, 4.632006866455078, 4.5389564514160154, 4.568598968505859, 4.46590771484375, 4.420861114501953, 4.421138671875, 4.461242706298828, 4.39175634765625, 4.3550065307617185, 4.350920532226563, 4.315560791015625, 4.2785381317138675, 4.249782409667969, 4.278172790527344, 4.221501647949219, 4.210232070922851, 4.263856521606446, 4.144418426513672, 4.135196624755859, 4.094467239379883, 4.0770225372314455, 4.043287033081055, 4.090070419311523, 4.068689392089844, 4.017423828125, 4.020701370239258, 3.948618698120117, 3.9540846405029297, 3.921302276611328, 3.880586853027344, 3.9155662841796874, 3.8810789947509767, 3.8645992889404295, 3.8777544860839845, 3.8722154541015623, 3.816803375244141, 3.7785140686035157, 3.8194016418457033, 3.7066527252197266, 3.765052658081055, 3.7066946258544924, 3.6922571563720705, 3.689958984375, 3.7522989807128906, 3.679103057861328, 3.673491424560547, 3.6027701263427736, 3.6379494171142577, 3.591070037841797, 3.544291229248047, 3.5635469512939455, 3.5288985443115233, 3.5014572143554688, 3.4997334899902346, 3.5025261383056643, 3.489379150390625, 3.4728104553222656, 3.4931896209716795, 3.461821212768555, 3.5107891540527345, 3.41352082824707, 3.419482498168945, 3.4192273406982423, 3.3762381896972657, 3.386406585693359, 3.4173335876464845, 3.342097671508789, 3.323423385620117, 3.404191131591797, 3.3163324127197265, 3.2886839447021483, 3.282822998046875, 3.2797982635498046, 3.2897606353759765, 3.248186080932617, 3.231180160522461, 3.2170916290283205, 3.222307571411133, 3.1858084259033204, 3.22247998046875, 3.168654479980469, 3.1624501190185548, 3.1770259552001954, 3.1314148101806643, 3.1429287261962893, 3.076833282470703, 3.075497314453125, 3.101891998291016, 3.1172317352294923, 3.0486491394042967, 3.0183593292236326, 3.1292147979736327, 3.0636810760498046, 2.991033447265625, 3.0957392578125, 3.035019515991211, 3.0178841400146483, 2.9781754455566407, 3.0125782775878904, 2.9613888549804686, 2.952561248779297, 2.948694091796875, 2.9301485443115234, 2.888745101928711, 2.9299685974121092, 2.9456198425292968, 2.9292493438720704, 2.873442611694336, 2.905885284423828]\n",
      "Validation loss: 60\n",
      "[[0, 412.247640625], [5, 363.6399453125], [10, 301.899421875], [15, 219.6325625], [20, 133.97004296875], [25, 69.416740234375], [30, 34.09992578125], [35, 18.97558984375], [40, 11.74869287109375], [45, 8.8369853515625], [50, 7.064136108398437], [55, 5.974670043945313], [60, 5.21849560546875], [65, 4.562425903320312], [70, 4.105580383300781], [75, 3.8173538818359374], [80, 3.4272388916015624], [85, 3.2148331298828126], [90, 3.0263564453125], [95, 2.8526466064453126], [100, 2.655164855957031], [105, 2.4835618286132815], [110, 2.320324890136719], [115, 2.2538596801757813], [120, 2.147221740722656], [125, 2.104378448486328], [130, 1.9980415649414063], [135, 1.9569659729003905], [140, 1.8549827575683593], [145, 1.8450538635253906], [150, 1.8503504028320312], [155, 1.7613201904296876], [160, 1.728522705078125], [165, 1.7263351135253906], [170, 1.6863275146484376], [175, 1.7001617431640625], [180, 1.6620787658691407], [185, 1.6195783996582032], [190, 1.657634521484375], [195, 1.5952955322265625], [200, 1.5911051635742188], [205, 1.5735745544433595], [210, 1.5698338317871094], [215, 1.5276748962402344], [220, 1.5557615966796876], [225, 1.525719451904297], [230, 1.4979629211425782], [235, 1.5118929443359375], [240, 1.4848899841308594], [245, 1.4917780151367188], [250, 1.4793325500488281], [255, 1.49901904296875], [260, 1.4636808166503905], [265, 1.4725654602050782], [270, 1.4545791015625], [275, 1.441137481689453], [280, 1.4309876098632812], [285, 1.435048309326172], [290, 1.408681121826172], [295, 1.402032470703125]]\n",
      "60\n"
     ]
    },
    {
     "data": {
      "image/png": "[encoded data removed]",
      "text/plain": [
       "<Figure size 640x480 with 1 Axes>"
      ]
     },
     "metadata": {},
     "output_type": "display_data"
    }
   ],
   "source": [
    "print('Training loss:', len(train_loss))\n",
    "print(train_loss)\n",
    "print('Validation loss:', len(val_loss))\n",
    "print(val_loss)\n",
    "\n",
    "val_len = len(val_loss)\n",
    "print(val_len)\n",
    "val_plt = np.zeros((2,val_len))\n",
    "for i in range(val_len):\n",
    "  val_plt[0,i] = val_loss[i][0]\n",
    "  val_plt[1,i] = val_loss[i][1]\n",
    "\n",
    "plt.figure()\n",
    "plot_idx = np.arange(np.size(train_loss))\n",
    "plt.plot(plot_idx[5:-1],train_loss[5:-1],lw=2,label='training loss')\n",
    "plt.plot(val_plt[0,1:],val_plt[1,1:],lw=2,label='validation loss')\n",
    "plt.yscale(\"log\")\n",
    "plt.xlabel('epoch')\n",
    "plt.ylabel('loss')\n",
    "plt.legend()\n",
    "plt.show(block=False)"
   ]
  },
  {
   "cell_type": "code",
   "execution_count": 80,
   "metadata": {},
   "outputs": [
    {
     "name": "stdout",
     "output_type": "stream",
     "text": [
      "Training loss: 300\n",
      "[427.66146875, 410.27880859375, 394.69540625, 380.27056640625, 366.008517578125, 351.88259765625, 337.2039921875, 322.472083984375, 307.39401953125, 292.05301171875, 275.923498046875, 259.7148515625, 243.2379794921875, 226.8215888671875, 210.464935546875, 194.4154267578125, 178.3741904296875, 162.9886728515625, 148.6872880859375, 134.899107421875, 122.041619140625, 110.3643759765625, 99.4624775390625, 89.91789599609375, 81.32284912109375, 73.87091357421875, 67.30602270507812, 61.75845434570312, 56.89147631835937, 52.66504272460938, 49.36939721679688, 46.372134765625, 43.85220629882812, 41.855541748046875, 39.96818505859375, 38.3388193359375, 36.862109619140625, 35.52890454101563, 34.359335205078125, 33.294887451171874, 32.287814697265624, 31.505720458984374, 30.522907958984376, 29.677668212890627, 28.837216186523438, 28.26524755859375, 27.476775146484375, 26.775524536132814, 26.048110595703125, 25.467942749023436, 24.916290405273436, 24.244539306640625, 23.646524047851564, 23.155612426757813, 22.64366735839844, 22.248471923828124, 21.71529602050781, 21.152753173828124, 20.650019653320314, 20.393276123046874, 19.931216186523436, 19.61396533203125, 19.15719128417969, 18.7008046875, 18.381899780273436, 18.02813000488281, 17.7289130859375, 17.42527685546875, 17.037046142578124, 16.774635131835936, 16.482998291015626, 16.203933898925783, 15.873445983886718, 15.605553771972657, 15.359705322265626, 15.109758666992187, 14.8062158203125, 14.624297790527343, 14.391244445800782, 14.095369506835938, 13.872570922851562, 13.701917846679688, 13.489488525390625, 13.261254272460938, 13.090572692871094, 12.851552307128907, 12.645976684570313, 12.44237091064453, 12.300859619140626, 12.149810668945312, 11.930228698730469, 11.818559631347656, 11.613271484375, 11.422387390136718, 11.244298706054687, 11.164386474609374, 10.949903381347657, 10.78422119140625, 10.691803588867188, 10.567869445800781, 10.3842412109375, 10.287464904785157, 10.064816955566407, 10.027071044921875, 9.94387548828125, 9.729503784179688, 9.643265808105468, 9.50239483642578, 9.345199523925782, 9.31034991455078, 9.17121484375, 9.062468200683593, 8.996154968261719, 8.830331848144532, 8.788590759277344, 8.6531142578125, 8.520155059814453, 8.471707000732422, 8.365265960693359, 8.308683471679688, 8.252339172363282, 8.114921356201172, 7.951309753417969, 7.948833282470703, 7.828914154052734, 7.651584411621093, 7.733685363769531, 7.617696868896484, 7.561041229248047, 7.428999664306641, 7.383079345703125, 7.342232238769531, 7.1587206115722655, 7.095829956054687, 7.07750845336914, 7.0452684326171875, 6.992052520751953, 6.8740919494628905, 6.853467498779297, 6.7465830993652345, 6.7231727294921875, 6.6610040283203125, 6.584563201904297, 6.492398742675781, 6.495579437255859, 6.426810516357422, 6.356375946044922, 6.273204925537109, 6.258804260253906, 6.169930297851563, 6.123975067138672, 6.0739410095214845, 6.010141235351562, 6.006331970214844, 5.933404571533203, 5.890582427978516, 5.86649072265625, 5.7957678833007815, 5.7546810607910155, 5.601690307617187, 5.6764423828125, 5.635747436523437, 5.608750427246094, 5.5495385131835935, 5.569486297607422, 5.49241275024414, 5.369136505126953, 5.333805541992188, 5.272628814697265, 5.274818572998047, 5.220799835205078, 5.2498212890625, 5.21586605834961, 5.130947662353516, 5.0464769592285155, 5.061049133300782, 5.095724578857422, 4.966464721679688, 4.941379913330078, 4.892534851074219, 4.921188842773438, 4.897893096923828, 4.816090087890625, 4.786340057373047, 4.76472445678711, 4.77772525024414, 4.733821441650391, 4.710105377197266, 4.642963592529297, 4.669981292724609, 4.594590667724609, 4.632006866455078, 4.5389564514160154, 4.568598968505859, 4.46590771484375, 4.420861114501953, 4.421138671875, 4.461242706298828, 4.39175634765625, 4.3550065307617185, 4.350920532226563, 4.315560791015625, 4.2785381317138675, 4.249782409667969, 4.278172790527344, 4.221501647949219, 4.210232070922851, 4.263856521606446, 4.144418426513672, 4.135196624755859, 4.094467239379883, 4.0770225372314455, 4.043287033081055, 4.090070419311523, 4.068689392089844, 4.017423828125, 4.020701370239258, 3.948618698120117, 3.9540846405029297, 3.921302276611328, 3.880586853027344, 3.9155662841796874, 3.8810789947509767, 3.8645992889404295, 3.8777544860839845, 3.8722154541015623, 3.816803375244141, 3.7785140686035157, 3.8194016418457033, 3.7066527252197266, 3.765052658081055, 3.7066946258544924, 3.6922571563720705, 3.689958984375, 3.7522989807128906, 3.679103057861328, 3.673491424560547, 3.6027701263427736, 3.6379494171142577, 3.591070037841797, 3.544291229248047, 3.5635469512939455, 3.5288985443115233, 3.5014572143554688, 3.4997334899902346, 3.5025261383056643, 3.489379150390625, 3.4728104553222656, 3.4931896209716795, 3.461821212768555, 3.5107891540527345, 3.41352082824707, 3.419482498168945, 3.4192273406982423, 3.3762381896972657, 3.386406585693359, 3.4173335876464845, 3.342097671508789, 3.323423385620117, 3.404191131591797, 3.3163324127197265, 3.2886839447021483, 3.282822998046875, 3.2797982635498046, 3.2897606353759765, 3.248186080932617, 3.231180160522461, 3.2170916290283205, 3.222307571411133, 3.1858084259033204, 3.22247998046875, 3.168654479980469, 3.1624501190185548, 3.1770259552001954, 3.1314148101806643, 3.1429287261962893, 3.076833282470703, 3.075497314453125, 3.101891998291016, 3.1172317352294923, 3.0486491394042967, 3.0183593292236326, 3.1292147979736327, 3.0636810760498046, 2.991033447265625, 3.0957392578125, 3.035019515991211, 3.0178841400146483, 2.9781754455566407, 3.0125782775878904, 2.9613888549804686, 2.952561248779297, 2.948694091796875, 2.9301485443115234, 2.888745101928711, 2.9299685974121092, 2.9456198425292968, 2.9292493438720704, 2.873442611694336, 2.905885284423828]\n",
      "Validation loss: 60\n",
      "[[0, 412.247640625], [5, 363.6399453125], [10, 301.899421875], [15, 219.6325625], [20, 133.97004296875], [25, 69.416740234375], [30, 34.09992578125], [35, 18.97558984375], [40, 11.74869287109375], [45, 8.8369853515625], [50, 7.064136108398437], [55, 5.974670043945313], [60, 5.21849560546875], [65, 4.562425903320312], [70, 4.105580383300781], [75, 3.8173538818359374], [80, 3.4272388916015624], [85, 3.2148331298828126], [90, 3.0263564453125], [95, 2.8526466064453126], [100, 2.655164855957031], [105, 2.4835618286132815], [110, 2.320324890136719], [115, 2.2538596801757813], [120, 2.147221740722656], [125, 2.104378448486328], [130, 1.9980415649414063], [135, 1.9569659729003905], [140, 1.8549827575683593], [145, 1.8450538635253906], [150, 1.8503504028320312], [155, 1.7613201904296876], [160, 1.728522705078125], [165, 1.7263351135253906], [170, 1.6863275146484376], [175, 1.7001617431640625], [180, 1.6620787658691407], [185, 1.6195783996582032], [190, 1.657634521484375], [195, 1.5952955322265625], [200, 1.5911051635742188], [205, 1.5735745544433595], [210, 1.5698338317871094], [215, 1.5276748962402344], [220, 1.5557615966796876], [225, 1.525719451904297], [230, 1.4979629211425782], [235, 1.5118929443359375], [240, 1.4848899841308594], [245, 1.4917780151367188], [250, 1.4793325500488281], [255, 1.49901904296875], [260, 1.4636808166503905], [265, 1.4725654602050782], [270, 1.4545791015625], [275, 1.441137481689453], [280, 1.4309876098632812], [285, 1.435048309326172], [290, 1.408681121826172], [295, 1.402032470703125]]\n"
     ]
    },
    {
     "data": {
      "image/png": "[encoded data removed]",
      "text/plain": [
       "<Figure size 640x480 with 1 Axes>"
      ]
     },
     "metadata": {},
     "output_type": "display_data"
    },
    {
     "data": {
      "image/png": "[encoded data removed]",
      "text/plain": [
       "<Figure size 640x480 with 1 Axes>"
      ]
     },
     "metadata": {},
     "output_type": "display_data"
    }
   ],
   "source": [
    "print('Training loss:', len(train_loss))\n",
    "print(train_loss)\n",
    "print('Validation loss:', len(val_loss))\n",
    "print(val_loss)\n",
    "\n",
    "\n",
    "# 準備驗證損失數據\n",
    "val_len = len(val_loss)\n",
    "val_plt = np.zeros((2, val_len))\n",
    "for i in range(val_len):\n",
    "    val_plt[0, i] = val_loss[i][0]\n",
    "    val_plt[1, i] = val_loss[i][1]\n",
    "\n",
    "# **圖1：訓練損失圖**\n",
    "plot_idx = np.arange(np.size(train_loss))\n",
    "plt.plot(plot_idx[5:-1], train_loss[5:-1], lw=2, label='Training loss')\n",
    "plt.yscale(\"log\")\n",
    "plt.xlabel('Epoch')\n",
    "plt.ylabel('Loss')\n",
    "plt.title('Training Loss')\n",
    "plt.legend()\n",
    "plt.grid(True)\n",
    "plt.show(block=False)\n",
    "\n",
    "# **圖2：驗證損失圖**\n",
    "plt.plot(val_plt[0, 1:], val_plt[1, 1:], lw=2, label='Validation loss')\n",
    "plt.yscale(\"log\")\n",
    "plt.xlabel('Epoch')\n",
    "plt.ylabel('Loss')\n",
    "plt.title('Validation Loss')\n",
    "plt.legend()\n",
    "plt.grid(True)\n",
    "plt.show(block=False)\n"
   ]
  },
  {
   "cell_type": "markdown",
   "metadata": {
    "id": "R9uGUm4rsco3"
   },
   "source": [
    "# Evaluate the model w/ validation set"
   ]
  },
  {
   "cell_type": "code",
   "execution_count": 81,
   "metadata": {
    "id": "4u6001UQ2pN3"
   },
   "outputs": [
    {
     "name": "stdout",
     "output_type": "stream",
     "text": [
      "Validation dataset size: torch.Size([2000, 708])\n",
      "Number of validation set:  2000\n",
      "torch.Size([2000, 236])\n",
      "n_test: 2000\n",
      "x_test_feed: tensor([[-60.3460, -19.1990, -42.8370,  ...,   0.0000,   0.0000,   0.0000],\n",
      "        [-49.0070, -17.7430, -42.2490,  ...,   0.0000,   0.0000,   0.0000],\n",
      "        [-45.7590, -19.8600, -45.5030,  ...,   0.0000,   0.0000,   0.0000],\n",
      "        ...,\n",
      "        [-61.0100, -22.4410, -37.7130,  ...,   0.0000,   0.0000,   0.0000],\n",
      "        [-52.7840, -20.4220, -45.5780,  ...,   0.0000,   0.0000,   0.0000],\n",
      "        [-49.0600, -19.1160, -34.8530,  ...,   0.0000,   0.0000,   0.0000]])\n",
      "y_pred: tensor([[446.1416, 425.0415, 471.5704,  ...,   8.3436,  12.8755,  11.1563],\n",
      "        [510.9260, 530.1897, 486.0212,  ...,  14.7717,  13.5473,  13.7591],\n",
      "        [557.5089, 582.4094, 584.6072,  ...,  15.8225,  15.1222,  13.4337],\n",
      "        ...,\n",
      "        [456.2439, 490.1826, 473.0164,  ...,  14.2820,  10.9729,   9.7830],\n",
      "        [363.4962, 386.7236, 401.3207,  ...,  11.5674,  13.1692,   8.3968],\n",
      "        [557.8887, 528.5298, 502.9138,  ...,  11.6257,  15.1855,   9.9542]],\n",
      "       grad_fn=<AddmmBackward0>)\n"
     ]
    }
   ],
   "source": [
    "n_test = np.size(x_test,0)\n",
    "x_test_feed = torch.from_numpy(x_test).float()\n",
    "x_test_feed = x_test_feed#.transpose(1,2)\n",
    "x_test_feed = x_test_feed.to(device)\n",
    "\n",
    "# 輸入特徵 x_test_feed\n",
    "# 預測結果 y_pred {價格（LMP，邊際電價）, 電壓}\n",
    "\n",
    "\n",
    "print('Validation dataset size:',x_test_feed.shape)\n",
    "print('Number of validation set: ',n_test)\n",
    "y_pred = net(x_test_feed)\n",
    "print(y_pred.shape)\n",
    "\n",
    "print('n_test:',n_test)\n",
    "print('x_test_feed:',x_test_feed)\n",
    "print('y_pred:',y_pred)"
   ]
  },
  {
   "cell_type": "markdown",
   "metadata": {
    "id": "YnNbSGYoXS3J"
   },
   "source": [
    "* Visualization\n",
    "\n",
    "\n"
   ]
  },
  {
   "cell_type": "markdown",
   "metadata": {
    "id": "VKZQaqwJkn3P"
   },
   "source": [
    " - Visualize errors"
   ]
  },
  {
   "cell_type": "code",
   "execution_count": 82,
   "metadata": {
    "id": "7-JCo0KmXwm3"
   },
   "outputs": [
    {
     "name": "stdout",
     "output_type": "stream",
     "text": [
      "(2000, 236) (2000, 236)\n"
     ]
    }
   ],
   "source": [
    "y_pred1 = y_pred.cpu().detach()\n",
    "y_pred1 = torch.squeeze(y_pred1,1).numpy()#.transpose()\n",
    "print(y_test.shape,y_pred1.shape)\n",
    "\n",
    "#y_pred：模型預測的輸出。\n",
    "#y_pred1：將預測結果移回 CPU 並轉換為 NumPy 格式。"
   ]
  },
  {
   "cell_type": "code",
   "execution_count": 83,
   "metadata": {
    "id": "NOeXUzrd9h9y"
   },
   "outputs": [
    {
     "name": "stdout",
     "output_type": "stream",
     "text": [
      "(118, 2, 2000) (2000, 236)\n"
     ]
    }
   ],
   "source": [
    "# x=np.reshape(x,(x.shape[0]*x.shape[1],x.shape[2])) # reshape by samples not dim1\n",
    "# y=np.reshape(y,(y.shape[0]*y.shape[1],y.shape[2]))\n",
    "# print(x_pre.shape,y_pre.shape)\n",
    "\n",
    "y_pred_temp = y_pred1.copy().transpose()\n",
    "# y_pred2=np.reshape(y_pred2,(y_pre.shape[0],y_pre.shape[1],n_test))\n",
    "y_pred2=np.zeros([y.shape[0],y.shape[1],n_test])\n",
    "y_pred2[:,0,:]=y_pred_temp[:n_bus,:]\n",
    "y_pred2[:,1,:]=y_pred_temp[n_bus:,:]\n",
    "print(y_pred2.shape,y_pred1.shape)\n",
    "\n",
    "y_test_temp = y_test.copy().transpose()\n",
    "# y_pred2=np.reshape(y_pred2,(y_pre.shape[0],y_pre.shape[1],n_test))\n",
    "y_test2=np.zeros([y.shape[0],y.shape[1],n_test])\n",
    "y_test2[:,0,:]=y_test_temp[:n_bus,:]\n",
    "y_test2[:,1,:]=y_test_temp[n_bus:,:]\n",
    "y_pred1 = y_pred2.copy()"
   ]
  },
  {
   "cell_type": "code",
   "execution_count": 84,
   "metadata": {
    "id": "2eVE-t3nl0Cb"
   },
   "outputs": [
    {
     "name": "stdout",
     "output_type": "stream",
     "text": [
      "(118, 2, 2000) (118, 2, 2000)\n"
     ]
    }
   ],
   "source": [
    "# recover the original p.u. scale\n",
    "# vy_deviation) * vy_scale\n",
    "#模型輸出的電壓可能被縮放過，因此在這裡將其還原至原始比例。\n",
    "y_pred1[:,1,:] = y_pred1[:,1,:] / vy_scale + vy_deviation\n",
    "y_test2[:,1,:] = y_test2[:,1,:] / vy_scale + vy_deviation\n",
    "print(y_test2.shape,y_pred1.shape)"
   ]
  },
  {
   "cell_type": "code",
   "execution_count": 85,
   "metadata": {
    "id": "FUVl5LXeknC4"
   },
   "outputs": [],
   "source": [
    "#L2 錯誤：計算預測與真實值之間的 L2 範數誤差。\n",
    "#L∞ 錯誤：計算最大絕對誤差（L∞ 範數）\n",
    "n_test = np.size(y_test2,2)\n",
    "err_L2 = np.zeros(n_test)\n",
    "err_Linf = np.zeros(n_test)\n",
    "for i in range(n_test):\n",
    "  err_L2[i] = np.linalg.norm(y_test2[:,0,i] - y_pred1[:,0,i]) / np.linalg.norm(y_test2[:,0,i])\n",
    "  err_Linf[i] = np.max(np.abs(y_test2[:,0,i] - y_pred1[:,0,i])) / np.max(np.abs(y_test2[:,0,i]))\n",
    "\n",
    "err_L2_v = np.zeros(n_test)\n",
    "err_Linf_v = np.zeros(n_test)\n",
    "for i in range(n_test):\n",
    "  err_L2_v[i] = np.linalg.norm(y_test2[:,1,i] - y_pred1[:,1,i]) / np.linalg.norm(y_test2[:,1,i])\n",
    "  err_Linf_v[i] = np.max(np.abs(y_test2[:,1,i] - y_pred1[:,1,i])) / np.max(np.abs(y_test2[:,1,i]))"
   ]
  },
  {
   "cell_type": "code",
   "execution_count": 86,
   "metadata": {
    "id": "79xFCVXklkLb"
   },
   "outputs": [
    {
     "name": "stdout",
     "output_type": "stream",
     "text": [
      "Price L2 mean: 0.07903785831626332 L_inf mean: 0.12254581125787056\n",
      "Voltage L2 mean: 0.02109210574351279 L_inf mean: 0.0639735336917768\n"
     ]
    },
    {
     "data": {
      "image/png": "[encoded data removed]",
      "text/plain": [
       "<Figure size 1600x1600 with 4 Axes>"
      ]
     },
     "metadata": {},
     "output_type": "display_data"
    }
   ],
   "source": [
    "#計算並輸出 L2 和 L∞ 錯誤的平均值。\n",
    "err_L2_mean = np.mean(err_L2)\n",
    "err_Linf_mean = np.mean(err_Linf)\n",
    "print('Price L2 mean:', err_L2_mean,'L_inf mean:', err_Linf_mean )\n",
    "err_L2_mean_v = np.mean(err_L2_v)\n",
    "err_Linf_mean_v = np.mean(err_Linf_v)\n",
    "print('Voltage L2 mean:', err_L2_mean_v,'L_inf mean:', err_Linf_mean_v )\n",
    "\n",
    "fig2 = plt.figure(figsize=(16, 16))\n",
    "plt.subplot(2, 2, 1)\n",
    "# plt.hist(np.abs(ga),bins = 10)\n",
    "plt.plot(err_L2,'bo',markersize=0.5,label = 'L2 error')\n",
    "plt.plot(err_Linf,'r^',markersize=0.5,label = 'Linf error')\n",
    "plt.legend(loc=\"upper right\")\n",
    "plt.xlabel('sample index')\n",
    "plt.ylabel('error')\n",
    "plt.title('Normalized sample error')\n",
    "plt.grid(True)\n",
    "# error histogram\n",
    "plt.subplot(2, 2, 2)\n",
    "plt.hist(err_L2, bins = 50, facecolor='b', alpha=0.75,label = 'L2 error')\n",
    "plt.hist(err_Linf, bins = 50, facecolor='g', alpha=0.75,label = 'Linf error')\n",
    "plt.legend(loc=\"upper right\")\n",
    "plt.xlabel('sample error value')\n",
    "plt.ylabel('frequency')\n",
    "plt.title('Histogram of L_2 error')\n",
    "# plt.text(60, .025, r'$\\mu=100,\\ \\sigma=15$')\n",
    "plt.grid(True)\n",
    "\n",
    "plt.subplot(2, 2, 3)\n",
    "# plt.hist(np.abs(ga),bins = 10)\n",
    "plt.plot(err_L2_v,'bo',markersize=0.5,label = 'L2 error')\n",
    "plt.plot(err_Linf_v,'r^',markersize=0.5,label = 'Linf error')\n",
    "plt.legend(loc=\"upper right\")\n",
    "plt.xlabel('sample index')\n",
    "plt.ylabel('error')\n",
    "plt.title('Normalized sample error')\n",
    "plt.grid(True)\n",
    "# error histogram\n",
    "plt.subplot(2, 2, 4)\n",
    "plt.hist(err_L2_v, bins = 50, facecolor='b', alpha=0.75,label = 'L2 error')\n",
    "plt.hist(err_Linf_v, bins = 50, facecolor='g', alpha=0.75,label = 'Linf error')\n",
    "plt.legend(loc=\"upper right\")\n",
    "plt.xlabel('sample error value')\n",
    "plt.ylabel('frequency')\n",
    "plt.title('Histogram of L_2 error')\n",
    "# plt.text(60, .025, r'$\\mu=100,\\ \\sigma=15$')\n",
    "plt.grid(True)\n",
    "plt.show()"
   ]
  },
  {
   "cell_type": "code",
   "execution_count": 87,
   "metadata": {
    "id": "6sUddh-uGg_p"
   },
   "outputs": [
    {
     "name": "stdout",
     "output_type": "stream",
     "text": [
      "(118, 2000) (118, 2000)\n",
      "true range: 1.06 0.94\n",
      "predicted range 1.194318504333496 0.8639387607574464\n"
     ]
    }
   ],
   "source": [
    "print(y_pred1[:,1,:n_test].shape,y_test2[:,1,:n_test].shape)\n",
    "print('true range:',np.max(y_test2[:,1,:n_test]),np.min(y_test2[:,1,:n_test]))\n",
    "print('predicted range',np.max(y_pred1[:,1,:n_test]),np.min(y_pred1[:,1,:n_test]))\n",
    "\n",
    "# fig3 = plt.figure(figsize=(16, 8))\n",
    "# flat_list1 = list(np.concatenate(y_test2[:,1,:n_test]).flat)\n",
    "# flat_list2 = list(np.concatenate(y_pred1[:,1,:n_test]).flat)\n",
    "# plt.hist(flat_list1,bins = 100,label = 'true')\n",
    "\n",
    "# plt.hist(flat_list2,bins = 100,label = 'pred')\n",
    "# plt.legend(loc=\"upper right\")\n",
    "# plt.grid(True)\n",
    "# plt.show()"
   ]
  },
  {
   "cell_type": "code",
   "execution_count": 90,
   "metadata": {
    "id": "jhfImaPsjKYq"
   },
   "outputs": [
    {
     "name": "stdout",
     "output_type": "stream",
     "text": [
      "(118, 6, 10000) 10000\n"
     ]
    }
   ],
   "source": [
    "print(x.shape,n_sample)\n",
    "\n",
    "#重新組織輸入和輸出數據，使其形狀符合需求（可能針對多個節點或變數）。\n",
    "x_new = np.zeros([x.shape[0],x.shape[1],n_sample])\n",
    "for i in range(x.shape[1]):\n",
    "  x_new[:,i,:] = x_total[n_bus*i:n_bus*(i+1),:]\n",
    "\n",
    "y_new = np.zeros([y.shape[0],y.shape[1],n_sample])\n",
    "for i in range(y.shape[1]):\n",
    "  y_new[:,i,:] = y_total[n_bus*i:n_bus*(i+1),:]"
   ]
  },
  {
   "cell_type": "code",
   "execution_count": null,
   "metadata": {},
   "outputs": [
    {
     "name": "stdout",
     "output_type": "stream",
     "text": [
      "Feasibility: 0.16682203389830508\n",
      "     Case Model     MSE_pi_1                                MSE_pi_2  \\\n",
      "0  118-ac    NN  1471.835942  tensor(1471.8359, dtype=torch.float64)   \n",
      "\n",
      "     STD_pi     MSE_g  Feasibility  Parameters     MSE_v     STD_v  \n",
      "0  38.32502  0.000476     0.166822     3909576  0.000476  0.021811  \n"
     ]
    }
   ],
   "source": [
    "# MSE𝜋（電價的均方誤差）\n",
    "mse_pi_1 = np.mean((y_test2[:, 0, :] - y_pred1[:, 0, :]) ** 2)\n",
    "# mse_pi_2 = torch.nn.functional.mse_loss(torch.tensor(y_test2[:, 0, :]), torch.tensor(y_pred1[:, 0, :]))\n",
    "#  STD𝜋 （電價的標準差）\n",
    "std_pi = np.std(y_test2[:, 0, :] - y_pred1[:, 0, :])\n",
    "\n",
    "\n",
    "#MSE𝑔（功率流的均方誤差）\n",
    "mse_g = np.mean((y_test2[:, 1, :] - y_pred1[:, 1, :]) ** 2)\n",
    "\n",
    "# Feasibility（可行性）\n",
    "flow_limit = 1.0  # 假設功率流限制\n",
    "violations = (y_pred1[:, 1, :] > flow_limit).sum()\n",
    "feasibility = 1 - (violations / y_pred1[:, 1, :].size)\n",
    "print('Feasibility:', feasibility)\n",
    "\n",
    "#Parameters（參數數量）\n",
    "parameter_count = sum(p.numel() for p in net.parameters())\n",
    "\n",
    "#MSE𝑣（電壓的均方誤差）\n",
    "mse_v = np.mean((y_test2[:, 1, :] - y_pred1[:, 1, :]) ** 2)\n",
    "\n",
    "#STD𝑣（電壓的標準差）\n",
    "std_v = np.std(y_test2[:, 1, :] - y_pred1[:, 1, :])\n",
    "\n",
    "results = {\n",
    "    'Case': ['118-ac'],\n",
    "    'Model': ['NN'],\n",
    "    'MSE_pi_1': [mse_pi_1],\n",
    "    'STD_pi': [std_pi],\n",
    "    'MSE_g': [mse_g],\n",
    "    'Feasibility': [feasibility],\n",
    "    'Parameters': [parameter_count],\n",
    "    'MSE_v': [mse_v],\n",
    "    'STD_v': [std_v],\n",
    "}\n",
    "\n",
    "df_results = pd.DataFrame(results)\n",
    "print(df_results)\n"
   ]
  },
  {
   "cell_type": "markdown",
   "metadata": {
    "id": "H9x7neMNj7n3"
   },
   "source": [
    "# Predict generation using $\\pi$\n",
    "* Using predicted $\\pi$ and find the active constraints in $p_G(i)$\n",
    "* For inactive $p_G(i)$ consider other methods like power flow balance"
   ]
  },
  {
   "cell_type": "code",
   "execution_count": 24,
   "metadata": {
    "id": "Kr29K04j2KTN"
   },
   "outputs": [
    {
     "name": "stdout",
     "output_type": "stream",
     "text": [
      "(118, 10000)\n",
      "<class 'numpy.ndarray'> 118 [  0   1   2   3   4   5   6   7   8   9  10  11  12  13  14  15  16  17\n",
      "  18  19  20  21  22  23  24  25  26  27  28  29  30  31  32  33  34  35\n",
      "  36  37  38  39  40  41  42  43  44  45  46  47  48  49  50  51  52  53\n",
      "  54  55  56  57  58  59  60  61  62  63  64  65  66  67  68  69  70  71\n",
      "  72  73  74  75  76  77  78  79  80  81  82  83  84  85  86  87  88  89\n",
      "  90  91  92  93  94  95  96  97  98  99 100 101 102 103 104 105 106 107\n",
      " 108 109 110 111 112 113 114 115 116 117]\n"
     ]
    }
   ],
   "source": [
    "gen_limit0 = x_new[:,4,:].copy() # lin cost\n",
    "print(gen_limit0.shape)\n",
    "\n",
    "gen_idx = []\n",
    "gen_idx = np.arange(n_bus)\n",
    "# for i in range(n_bus):\n",
    "#   if gen_limit0[i,0] > 0:\n",
    "#     gen_idx.append(i)\n",
    "print(type(gen_idx),len(gen_idx),gen_idx)"
   ]
  },
  {
   "cell_type": "code",
   "execution_count": null,
   "metadata": {
    "id": "gHmx9lMDXzpM"
   },
   "outputs": [
    {
     "name": "stdout",
     "output_type": "stream",
     "text": [
      "(118, 2, 10000) (236, 10000)\n"
     ]
    }
   ],
   "source": [
    "n_sample=x_total.shape[-1]\n",
    "x_feed = torch.from_numpy(x_total.T).float()\n",
    "y_pred1=net(x_feed.to(device)).cpu().detach().numpy().T\n",
    "y_pred_temp = y_pred1.copy()\n",
    "y_pred2=np.zeros([y.shape[0],y.shape[1],n_sample])\n",
    "y_pred2[:,0,:]=y_pred_temp[:n_bus,:]\n",
    "y_pred2[:,1,:]=y_pred_temp[n_bus:,:]\n",
    "print(y_pred2.shape,y_pred1.shape)\n",
    "y_pred1 = y_pred2.copy()"
   ]
  },
  {
   "cell_type": "code",
   "execution_count": null,
   "metadata": {
    "id": "GPEHF2L91bGv"
   },
   "outputs": [
    {
     "name": "stdout",
     "output_type": "stream",
     "text": [
      "0.0001266326904296733\n",
      "0.784000000000006\n",
      "0.04521626843762751\n",
      "0.24221453285700786\n"
     ]
    }
   ],
   "source": [
    "gen_cost0 = x_new[:,4,:].copy()\n",
    "lmp_data = y_new[:,0,:].copy()\n",
    "quadratic_a = x_new[:,5,:].copy()\n",
    "profit_pred = y_pred1[:,0,:] - gen_cost0\n",
    "print(np.min(np.abs(profit_pred)))\n",
    "profit_true = lmp_data - gen_cost0\n",
    "print(np.min(np.abs(profit_true)))\n",
    "profit_pred=(y_pred1[:,0,:]-gen_cost0)/(quadratic_a+1e-10)/2\n",
    "profit_true=(lmp_data-gen_cost0)/(quadratic_a+1e-10)/2\n",
    "print(np.min(np.abs(profit_pred)))\n",
    "print(np.min(np.abs(profit_true)))"
   ]
  },
  {
   "cell_type": "code",
   "execution_count": null,
   "metadata": {
    "id": "uiHWtU5OLc1x"
   },
   "outputs": [
    {
     "name": "stdout",
     "output_type": "stream",
     "text": [
      "(118, 10000) (118, 10000)\n",
      "0.07720249022373613\n"
     ]
    }
   ],
   "source": [
    "print(profit_pred.shape,profit_true.shape)\n",
    "profit_err = profit_true - profit_pred\n",
    "profit_err_l2 = np.zeros([n_sample,1])\n",
    "\n",
    "for i in range(n_sample):\n",
    "  profit_err_l2[i] = np.linalg.norm(profit_err[:,i])/np.linalg.norm(profit_true[:,i])\n",
    "print(np.mean(profit_err_l2))\n",
    "\n",
    "# fig5 = plt.figure(figsize=(16, 8))\n",
    "# # error histogram\n",
    "# plt.hist(profit_err_l2, bins = 50, facecolor='b', alpha=0.75,label = 'L2 error')\n",
    "# # plt.hist(err_linf_new, bins = 50, facecolor='g', alpha=0.75,label = 'Linf error')\n",
    "# plt.legend(loc=\"upper right\")\n",
    "# plt.xlabel('sample error value')\n",
    "# plt.ylabel('frequency')\n",
    "# plt.title('Histogram of L_2 error')\n",
    "# # plt.text(60, .025, r'$\\mu=100,\\ \\sigma=15$')\n",
    "# plt.grid(True)\n",
    "# plt.show()"
   ]
  },
  {
   "cell_type": "code",
   "execution_count": 28,
   "metadata": {
    "id": "ZbHchRQd_g8-"
   },
   "outputs": [
    {
     "name": "stdout",
     "output_type": "stream",
     "text": [
      "(1180000,)\n",
      "-3990.874236701537 -2.9391182643149665\n"
     ]
    }
   ],
   "source": [
    "p_pred_sort = np.reshape(profit_pred,n_bus*n_sample)\n",
    "p_true_sort = np.reshape(profit_true,n_bus*n_sample)\n",
    "print(p_pred_sort.shape)\n",
    "print(np.min(p_pred_sort),np.min(p_true_sort))"
   ]
  },
  {
   "cell_type": "code",
   "execution_count": 29,
   "metadata": {
    "id": "TYsSdNGp-OLP"
   },
   "outputs": [],
   "source": [
    "# fig2 = plt.figure(figsize=(8, 8))\n",
    "# plt.hist(p_pred_sort, bins = 50, facecolor='b', alpha=0.75,label = 'pred. profit')\n",
    "# plt.hist(p_true_sort, bins = 50, facecolor='g', alpha=0.75,label = 'true profit')\n",
    "# plt.legend(loc=\"upper right\")\n",
    "# plt.xlabel('value')\n",
    "# plt.ylabel('frequency')\n",
    "# plt.title('profit histogram')\n",
    "# # plt.text(60, .025, r'$\\mu=100,\\ \\sigma=15$')\n",
    "# plt.grid(True)\n",
    "# plt.show()"
   ]
  },
  {
   "cell_type": "code",
   "execution_count": null,
   "metadata": {
    "id": "1J9j5tT9p_f6"
   },
   "outputs": [
    {
     "name": "stdout",
     "output_type": "stream",
     "text": [
      "1878765.2000831843 2764601.835122853\n",
      "1878765.2000831843 43260060.56350001 1878765.2000831843\n"
     ]
    }
   ],
   "source": [
    "# x = [load, gen_cost, gen_lim]\n",
    "binary_thres_true = 1e-5\n",
    "binary_thres = x_new[:,0,:].copy() # upper\n",
    "binary_thres_lo = x_new[:,1,:].copy() # lower\n",
    "gen_pred_binary_full = np.zeros((n_bus,n_sample))\n",
    "gen_true_binary_full = np.zeros((n_bus,n_sample))\n",
    "\n",
    "for i in range(n_sample):\n",
    "  for j in range(len(gen_idx)):\n",
    "    # predicted generator limit\n",
    "    if profit_pred[gen_idx[j],i] > binary_thres[gen_idx[j],i]:\n",
    "      gen_pred_binary_full[gen_idx[j],i] = binary_thres[gen_idx[j],i]\n",
    "    elif profit_pred[gen_idx[j],i] < binary_thres_lo[gen_idx[j],i]:\n",
    "      gen_pred_binary_full[gen_idx[j],i] = binary_thres_lo[gen_idx[j],i]\n",
    "    else:\n",
    "      gen_pred_binary_full[gen_idx[j],i] = profit_pred[gen_idx[j],i]\n",
    "    # true generator limit\n",
    "    if profit_true[gen_idx[j],i] > binary_thres[gen_idx[j],i]:\n",
    "      gen_true_binary_full[gen_idx[j],i] = binary_thres[gen_idx[j],i]\n",
    "    elif profit_true[gen_idx[j],i] < binary_thres_lo[gen_idx[j],i]:\n",
    "      gen_true_binary_full[gen_idx[j],i] = binary_thres_lo[gen_idx[j],i]\n",
    "    else:\n",
    "      gen_true_binary_full[gen_idx[j],i] = profit_true[gen_idx[j],i]\n",
    "\n",
    "gen_inj=gen_pred_binary_full\n",
    "gen_inj_true=gen_true_binary_full\n",
    "# nodal injection\n",
    "load0 = -x_new[:,1,:].copy() # load file\n",
    "p_inj = gen_inj #- load0\n",
    "p_inj_true = gen_inj_true #- load0\n",
    "print(np.sum(p_inj),np.sum(gen_inj_true))\n",
    "print(np.sum(p_inj),np.sum(load0),np.sum(gen_inj))"
   ]
  },
  {
   "cell_type": "markdown",
   "metadata": {
    "id": "WAgqdRPjAONm"
   },
   "source": [
    "## injection accuracy"
   ]
  },
  {
   "cell_type": "code",
   "execution_count": null,
   "metadata": {
    "id": "J46pLAw2AQor"
   },
   "outputs": [
    {
     "name": "stdout",
     "output_type": "stream",
     "text": [
      "(118, 10000) (118, 10000)\n",
      "mean p_inj l2 err: 0.1709061086967419\n"
     ]
    }
   ],
   "source": [
    "print(p_inj_true.shape,p_inj.shape)\n",
    "p_inj_true_sort = np.reshape(p_inj_true,n_bus*n_sample)\n",
    "p_inj_sort = np.reshape(p_inj,n_bus*n_sample)\n",
    "p_err = np.zeros(n_sample)\n",
    "for i in range(n_sample):\n",
    "  p_err[i] = np.linalg.norm(p_inj_true[:,i]-p_inj[:,i]) / np.linalg.norm(p_inj_true[:,i])\n",
    "print('mean p_inj l2 err:',np.mean(p_err))\n",
    "# fig3 = plt.figure(figsize=(16, 8))\n",
    "# plt.subplot(1,2,1)\n",
    "# plt.hist(p_inj_sort, bins = 50, facecolor='b', alpha=0.75,label = 'pred. injection')\n",
    "# plt.hist(p_inj_true_sort, bins = 50, facecolor='g', alpha=0.75,label = 'true injection')\n",
    "# plt.legend(loc=\"upper right\")\n",
    "# plt.xlabel('value')\n",
    "# plt.ylabel('frequency')\n",
    "# plt.title('injection histogram')\n",
    "# plt.subplot(1,2,2)\n",
    "# plt.hist(p_err, bins = 50, facecolor='b', alpha=0.75,label = 'injection err')\n",
    "# plt.legend(loc=\"upper right\")\n",
    "# plt.xlabel('value')\n",
    "# plt.ylabel('frequency')\n",
    "# plt.title('error histogram')\n",
    "# # plt.text(60, .025, r'$\\mu=100,\\ \\sigma=15$')\n",
    "# plt.grid(True)s_binary\n",
    "# plt.show()"
   ]
  },
  {
   "cell_type": "markdown",
   "metadata": {
    "id": "DaN7u4xeGIom"
   },
   "source": [
    "* Calculate flow"
   ]
  },
  {
   "cell_type": "code",
   "execution_count": null,
   "metadata": {
    "id": "YT4sgn_n79MI"
   },
   "outputs": [
    {
     "name": "stdout",
     "output_type": "stream",
     "text": [
      "(186, 1) (186, 10000) (186, 10000)\n",
      "18979 13334\n",
      "0.010203763440860216 0.007168817204301075\n",
      "186 10000 (186, 10000)\n"
     ]
    }
   ],
   "source": [
    "filename=root+'118ac_fmax.txt'\n",
    "f_max1=pd.read_table(filename,sep=',',header=None).to_numpy() # flow limit\n",
    "\n",
    "n_line = np.size(S_isf,0)\n",
    "flow_est = np.zeros((n_line,n_sample))\n",
    "flow_est0 = np.zeros((n_line,n_sample))\n",
    "\n",
    "f_binary = np.zeros((n_line,n_sample))\n",
    "f_binary0 = np.zeros((n_line,n_sample))\n",
    "\n",
    "# for i in range(n_sample):\n",
    "flow_est = np.dot(S_isf,p_inj)\n",
    "flow_est0 = np.dot(S_isf,p_inj_true)\n",
    "# f_max\n",
    "# f_max_numpy = f_max.cpu().detach().numpy()\n",
    "f_max_numpy = f_max1.copy()\n",
    "f_binary = (np.abs(flow_est)-f_max_numpy > 0)\n",
    "f_binary0 = (np.abs(flow_est0)-f_max_numpy > 0)\n",
    "\n",
    "print(f_max_numpy.shape,flow_est.shape,flow_est0.shape)\n",
    "f_tot_sample = n_line * n_sample\n",
    "print(np.sum(f_binary),np.sum(f_binary0))\n",
    "print(np.sum(f_binary)/f_tot_sample,np.sum(f_binary0)/f_tot_sample)\n",
    "print(n_line,n_sample,flow_est.shape)"
   ]
  },
  {
   "cell_type": "code",
   "execution_count": null,
   "metadata": {
    "id": "VyvDpKhyQj0M"
   },
   "outputs": [
    {
     "name": "stdout",
     "output_type": "stream",
     "text": [
      "184.0412874052102 39.64401431411352\n",
      "1.2269419160347346 0.2642934287607568\n"
     ]
    }
   ],
   "source": [
    "# soft threshold\n",
    "f_err_est = np.abs(flow_est)-f_max_numpy\n",
    "f_err_true = np.abs(flow_est0)-f_max_numpy\n",
    "\n",
    "f_err_est = np.maximum(np.abs(flow_est)-f_max_numpy,0) # identify violations\n",
    "f_err_true = np.maximum(np.abs(flow_est0)-f_max_numpy,0)\n",
    "\n",
    "print(np.max(f_err_est),np.max(f_err_true))\n",
    "print(np.max(f_err_est/f_max_numpy),np.max(f_err_true/f_max_numpy))"
   ]
  },
  {
   "cell_type": "code",
   "execution_count": null,
   "metadata": {
    "id": "7iuX7tN2a2Cp"
   },
   "outputs": [
    {
     "name": "stdout",
     "output_type": "stream",
     "text": [
      "14568 10451\n",
      "0.007832258064516128 0.005618817204301075\n"
     ]
    }
   ],
   "source": [
    "f_binary_soft = (np.abs(flow_est)-f_max_numpy > 0.1*(f_max_numpy))\n",
    "f_binary0_soft = (np.abs(flow_est0)-f_max_numpy > 0.1*(f_max_numpy))\n",
    "print(np.sum(f_binary_soft),np.sum(f_binary0_soft))\n",
    "print(np.sum(f_binary_soft)/f_tot_sample,np.sum(f_binary0_soft)/f_tot_sample)"
   ]
  },
  {
   "cell_type": "code",
   "execution_count": 35,
   "metadata": {
    "id": "SYl9pxnOUUQF"
   },
   "outputs": [],
   "source": [
    "f_pred_sort = np.reshape(f_err_est/f_max_numpy,n_line*n_sample)\n",
    "f_true_sort = np.reshape(f_err_true/f_max_numpy,n_line*n_sample)\n",
    "\n",
    "# fig2 = plt.figure(figsize=(16, 8))\n",
    "# plt.subplot(1,2,1)\n",
    "# plt.hist(f_pred_sort, bins = 10, facecolor='b', alpha=0.75,label = 'pred. f')\n",
    "# plt.hist(f_true_sort, bins = 10, facecolor='g', alpha=0.75,label = 'true f')\n",
    "# plt.legend(loc=\"upper right\")\n",
    "# plt.xlabel('percentage')\n",
    "# plt.ylabel('frequency')\n",
    "# plt.title('flow violation level histogram')\n",
    "# plt.subplot(1,2,2)\n",
    "# plt.hist(f_true_sort, bins = 10, facecolor='g', alpha=0.75,label = 'true f')\n",
    "# plt.legend(loc=\"upper right\")\n",
    "# plt.xlabel('percentage')\n",
    "# plt.ylabel('frequency')\n",
    "# plt.title('flow violation level histogram')\n",
    "# # plt.text(60, .025, r'$\\mu=100,\\ \\sigma=15$')\n",
    "# plt.grid(True)\n",
    "# plt.show()"
   ]
  },
  {
   "cell_type": "code",
   "execution_count": 36,
   "metadata": {
    "id": "YglgTpWVRLri"
   },
   "outputs": [
    {
     "name": "stdout",
     "output_type": "stream",
     "text": [
      "max sample pred: 7\n",
      "max line pred: 7261\n",
      "max sample true: 3\n",
      "max line true: 10000\n"
     ]
    }
   ],
   "source": [
    "f_line = np.sum(f_binary,0)\n",
    "f_samp = np.sum(f_binary,1)\n",
    "print('max sample pred:',np.max(f_line))\n",
    "print('max line pred:',np.max(f_samp))\n",
    "\n",
    "f_line0  = np.sum(f_binary0,0)\n",
    "f_samp0 = np.sum(f_binary0,1)\n",
    "print('max sample true:',np.max(f_line0))\n",
    "print('max line true:',np.max(f_samp0))"
   ]
  },
  {
   "cell_type": "markdown",
   "metadata": {
    "id": "WZQnarHmPl35"
   },
   "source": [
    "# Check objective optimality"
   ]
  },
  {
   "cell_type": "code",
   "execution_count": null,
   "metadata": {
    "id": "BZjhp-CgQaDz"
   },
   "outputs": [
    {
     "name": "stdout",
     "output_type": "stream",
     "text": [
      "0.1241495759948697\n"
     ]
    }
   ],
   "source": [
    "gen_cost_pred = np.zeros((n_bus,n_sample))\n",
    "gen_cost_true = np.zeros((n_bus,n_sample))\n",
    "objective_err = np.zeros(n_sample)\n",
    "\n",
    "gen_cost_pred = np.multiply(np.multiply(p_inj,p_inj),quadratic_a) + np.multiply(p_inj,gen_cost0)\n",
    "gen_cost_true = np.multiply(np.multiply(p_inj_true,p_inj_true),quadratic_a) + np.multiply(p_inj_true,gen_cost0)\n",
    "\n",
    "objective_err = np.sum(np.abs(gen_cost_true-gen_cost_pred),axis=0) / np.sum(gen_cost_true,axis=0)\n",
    "print(np.mean(objective_err))\n",
    "\n",
    "# fig6 = plt.figure(figsize=(16, 8))\n",
    "# # error histogram\n",
    "# plt.hist(objective_err, bins = 50, facecolor='b', alpha=0.75,label = 'L2 error')\n",
    "# # plt.hist(err_linf_new, bins = 50, facecolor='g', alpha=0.75,label = 'Linf error')\n",
    "# plt.legend(loc=\"upper right\")\n",
    "# plt.xlabel('sample error value')\n",
    "# plt.ylabel('frequency')\n",
    "# plt.title('Histogram of L_2 error')\n",
    "# # plt.text(60, .025, r'$\\mu=100,\\ \\sigma=15$')\n",
    "# plt.grid(True)\n",
    "# plt.show()"
   ]
  },
  {
   "cell_type": "markdown",
   "metadata": {
    "id": "vdrsAWpYo0-w"
   },
   "source": [
    "## injection accuracy"
   ]
  },
  {
   "cell_type": "code",
   "execution_count": null,
   "metadata": {
    "id": "mArjSN-So0-x"
   },
   "outputs": [
    {
     "name": "stdout",
     "output_type": "stream",
     "text": [
      "(118, 10000) (118, 10000)\n",
      "mean p_inj l2 err: 0.1709061086967419\n"
     ]
    }
   ],
   "source": [
    "print(p_inj_true.shape,p_inj.shape)\n",
    "\n",
    "p_inj_true_sort = np.reshape(p_inj_true,n_bus*n_sample)\n",
    "p_inj_sort = np.reshape(p_inj,n_bus*n_sample)\n",
    "\n",
    "p_err = np.zeros(n_sample)\n",
    "for i in range(n_sample):\n",
    "  p_err[i] = np.linalg.norm(p_inj_true[:,i]-p_inj[:,i]) / np.linalg.norm(p_inj_true[:,i])\n",
    "\n",
    "print('mean p_inj l2 err:',np.mean(p_err))\n",
    "# fig3 = plt.figure(figsize=(16, 8))\n",
    "# plt.subplot(1,2,1)\n",
    "# plt.hist(p_inj_sort, bins = 50, facecolor='b', alpha=0.75,label = 'pred. injection')\n",
    "# plt.hist(p_inj_true_sort, bins = 50, facecolor='g', alpha=0.75,label = 'true injection')\n",
    "# plt.legend(loc=\"upper right\")\n",
    "# plt.xlabel('value')\n",
    "# plt.ylabel('frequency')\n",
    "# plt.title('injection histogram')s_binary\n",
    "# plt.subplot(1,2,2)\n",
    "# plt.hist(p_err, bins = 50, facecolor='b', alpha=0.75,label = 'injection err')\n",
    "# plt.legend(loc=\"upper right\")\n",
    "# plt.xlabel('value')\n",
    "# plt.ylabel('frequency')\n",
    "# plt.title('error histogram')\n",
    "# # plt.text(60, .025, r'$\\mu=100,\\ \\sigma=15$')\n",
    "# plt.grid(True)\n",
    "# plt.show()"
   ]
  },
  {
   "cell_type": "markdown",
   "metadata": {
    "id": "ujU84tOSpqsy"
   },
   "source": [
    "# Test AC feasibility\n",
    "* P in actual value, V in p.u.\n",
    "* Use P to recover $\\theta$, or solve $\\theta$ and Q for PF\n",
    "$$ Q_m = V_m \\sum_{n=1}^N V_n \\left(G_{mn}\\sin\\theta_{mn} - B_{mn}\\cos\\theta_{mn} \\right) $$\n",
    "calculate $Q_{mn}$ directly"
   ]
  },
  {
   "cell_type": "code",
   "execution_count": null,
   "metadata": {
    "id": "Of6mEXF4puDN"
   },
   "outputs": [
    {
     "name": "stdout",
     "output_type": "stream",
     "text": [
      "(118, 118) (118, 118)\n",
      "(117, 117) (118, 10000) (118, 10000)\n",
      "(118, 10000) (118, 10000)\n"
     ]
    }
   ],
   "source": [
    "# Bbus and B_r inverse\n",
    "filename1 = root+'ieee118_Bbus.txt'\n",
    "Bbus=pd.read_table(filename1,sep=',',header=None).to_numpy()\n",
    "B_r = np.delete(Bbus,68,axis=0)\n",
    "B_r = np.delete(B_r,68,axis=1)\n",
    "Br_inv = np.linalg.inv(B_r)\n",
    "\n",
    "# Y = G + jB\n",
    "filename1 = root+'ieee118_Gmat.txt'\n",
    "G_mat=pd.read_table(filename1,sep=',',header=None).to_numpy()\n",
    "filename1 = root+'ieee118_Bmat.txt'\n",
    "B_mat=pd.read_table(filename1,sep=',',header=None).to_numpy()\n",
    "print(G_mat.shape,B_mat.shape)\n",
    "\n",
    "# line parameters\n",
    "filename1 = root+'ieee118_lineloc.txt'\n",
    "line_loc = pd.read_table(filename1,sep=',',header=None).to_numpy()\n",
    "\n",
    "# load line params\n",
    "filename1 = root+'ieee118_lineparams.txt'\n",
    "line_params = pd.read_table(filename1,sep=',',header=None).to_numpy()\n",
    "R_line = line_params[:,0].copy()\n",
    "X_line = line_params[:,1].copy()\n",
    "B_shunt = line_params[:,2].copy()\n",
    "Z_line = R_line + 1j * X_line \n",
    "Y_line = 1 / Z_line\n",
    "G_line = np.real(Y_line)\n",
    "B_line = np.imag(Y_line)\n",
    "# P_inj w/out reference bus in p.u.\n",
    "p_inj_r = np.delete(p_inj,68,axis=0) / 100\n",
    "p_inj_true_r = np.delete(p_inj_true,68,axis=0) / 100\n",
    "p_inj_pu = p_inj / 100\n",
    "p_inj_true_pu = p_inj_true / 100\n",
    "print(Br_inv.shape,p_inj.shape,p_inj_true.shape)#p_inj_true\n",
    "\n",
    "theta0 = np.matmul(Br_inv,p_inj_r)\n",
    "theta_true0 = np.matmul(Br_inv,p_inj_true_r)\n",
    "theta = np.insert(theta0,68,0,axis = 0)\n",
    "theta_true = np.insert(theta_true0,68,0,axis = 0)\n",
    "print(theta.shape,theta_true.shape)"
   ]
  },
  {
   "cell_type": "code",
   "execution_count": 40,
   "metadata": {},
   "outputs": [
    {
     "name": "stdout",
     "output_type": "stream",
     "text": [
      "0.47132580038792565 -0.9976958766345078\n",
      "2.7803011534120627 -9.166735486002148\n"
     ]
    }
   ],
   "source": [
    "print(np.max(theta),np.min(theta))\n",
    "math.sin(math.pi/6)\n",
    "print(G_line[0],B_line[0])"
   ]
  },
  {
   "cell_type": "code",
   "execution_count": null,
   "metadata": {},
   "outputs": [
    {
     "name": "stdout",
     "output_type": "stream",
     "text": [
      "(186, 10000)\n",
      "1.184106330871582 0.8248611354827882 (118, 10000)\n"
     ]
    }
   ],
   "source": [
    "# Calculate real and reactive flow\n",
    "f_p = np.zeros((n_line,n_sample))\n",
    "f_q = np.zeros((n_line,n_sample))\n",
    "fji_p = np.zeros((n_line,n_sample))\n",
    "fji_q = np.zeros((n_line,n_sample))\n",
    "print(f_q.shape)\n",
    "\n",
    "v_pred = y_pred1[:,1,:].copy()\n",
    "v_pred = v_pred / vy_scale + vy_deviation\n",
    "print(np.max(v_pred),np.min(v_pred),v_pred.shape)\n",
    "\n",
    "theta1 = theta[line_loc[:,0]-1,:]\n",
    "theta2 = theta[line_loc[:,1]-1,:]\n",
    "V1 = v_pred[line_loc[:,0]-1,:]\n",
    "V2 = v_pred[line_loc[:,1]-1,:] \n",
    "f_p=(a*G_line*(V1*V1).T)-a*((V1*V2).T)*(G_line*np.cos(theta1-theta2).T+B_line*np.sin(theta1-theta2).T)\n",
    "f_p=f_p.T\n",
    "f_q=-a*(V1.T)*(a*V1.T)*(B_line+B_shunt/2)+a*((V1*V2).T)*(B_line*np.cos(theta1-theta2).T-G_line*np.sin(theta1-theta2).T)\n",
    "f_q=f_q.T\n",
    "\n",
    "theta1 = theta[line_loc[:,1]-1,:]\n",
    "theta2 = theta[line_loc[:,0]-1,:]\n",
    "V1 = v_pred[line_loc[:,1]-1,:]\n",
    "V2 = v_pred[line_loc[:,0]-1,:]\n",
    "fji_p=(a*G_line*(V1*V1).T)-a*((V1*V2).T)*(G_line*np.cos(theta1-theta2).T+B_line*np.sin(theta1-theta2).T)\n",
    "fji_p=fji_p.T\n",
    "fji_q=-a*(V1.T)*(a*V1.T)*(B_line+B_shunt/2)+a*((V1*V2).T)*(B_line*np.cos(theta1-theta2).T-G_line*np.sin(theta1-theta2).T)\n",
    "fji_q=fji_q.T"
   ]
  },
  {
   "cell_type": "code",
   "execution_count": null,
   "metadata": {
    "id": "gKfcrbTSVMeO"
   },
   "outputs": [
    {
     "name": "stdout",
     "output_type": "stream",
     "text": [
      "26.030427497894152 -29.671874401177945\n",
      "35.07514169527088 151.0\n"
     ]
    }
   ],
   "source": [
    "s_pred = np.sqrt(f_p*f_p+f_q*f_q)*100\n",
    "sji_pred = np.sqrt(fji_p*fji_p+fji_q*fji_q)*100\n",
    "print(np.max(f_q),np.min(f_q))\n",
    "flow_est.shape\n",
    "print(np.mean(s_pred[0,:]),np.mean(f_max_numpy[0]))"
   ]
  },
  {
   "cell_type": "code",
   "execution_count": null,
   "metadata": {
    "id": "YO4__LJ2brLu"
   },
   "outputs": [
    {
     "name": "stdout",
     "output_type": "stream",
     "text": [
      "102142\n",
      "hard violation rate: 0.05491505376344086\n",
      "79802\n",
      "0.04290430107526882\n"
     ]
    }
   ],
   "source": [
    "sij_binary = (np.abs(s_pred)-f_max_numpy[:n_line] > 0)\n",
    "sji_binary = (np.abs(sji_pred)-f_max_numpy[:n_line] > 0)\n",
    "s_binary = np.maximum(sij_binary,sji_binary)\n",
    "print(np.sum(s_binary))#,np.sum(f_binary0))\n",
    "print('hard violation rate:',np.sum(s_binary)/n_sample/n_line)#,np.sum(f_binary0)/f_tot_sample)\n",
    "s_binary_soft = (np.abs(s_pred)-f_max_numpy[:n_line] > 0.1*(f_max_numpy[:n_line]))\n",
    "print(np.sum(s_binary_soft))#,np.sum(f_binary0_soft))\n",
    "print(np.sum(s_binary_soft)/n_sample/n_line)#,np.sum(f_binary0_soft)/f_tot_sample)"
   ]
  },
  {
   "cell_type": "code",
   "execution_count": null,
   "metadata": {
    "id": "Ty0WpBdfJwMR"
   },
   "outputs": [
    {
     "name": "stdout",
     "output_type": "stream",
     "text": [
      "S violation level:\n",
      "hard: 0.05491505376344086\n",
      "mean: 0.04021212565681671\n",
      "median: 0.0\n",
      "max: 12.124109089537777\n",
      "std: 0.2754449322416285\n",
      "p99: 1.2550127309296937\n",
      "f violation level:\n",
      "hard: 0.010203763440860216 0.007168817204301075\n",
      "mean: 0.0033358232443021422\n",
      "median: 0.0\n",
      "max: 1.2269419160347346\n",
      "std: 0.04163983626639722\n",
      "p99: 0.007039241415586561\n"
     ]
    }
   ],
   "source": [
    "# violation level\n",
    "sij_violation = np.abs(s_pred)-f_max_numpy[:n_line] #/ f_max_numpy\n",
    "sij_violation_level = np.maximum(sij_violation,0)\n",
    "sji_violation = np.abs(sji_pred)-f_max_numpy[:n_line] #/ f_max_numpy\n",
    "sji_violation_level = np.maximum(sji_violation,0)\n",
    "s_violation_level = np.maximum(sij_violation_level,sji_violation_level)\n",
    "s_violation_level = np.divide(s_violation_level,f_max_numpy[:n_line])\n",
    "s_vio_lvl = np.reshape(s_violation_level,n_line*n_sample)\n",
    "\n",
    "print('S violation level:')\n",
    "print('hard:',np.sum(s_binary)/f_tot_sample)\n",
    "print('mean:',np.mean(s_vio_lvl))\n",
    "print('median:',np.median(s_vio_lvl))\n",
    "print('max:',np.max(s_vio_lvl))\n",
    "print('std:',np.std(s_vio_lvl))\n",
    "print('p99:',np.percentile(s_vio_lvl,99))\n",
    "\n",
    "f_violation = np.abs(flow_est)-f_max_numpy #/ f_max_numpy\n",
    "f_violation_level = np.maximum(f_violation,0)\n",
    "f_violation_level = np.divide(f_violation_level,f_max_numpy)\n",
    "f_vio_lvl = np.reshape(f_violation_level,n_line*n_sample)\n",
    "\n",
    "print('f violation level:')\n",
    "print('hard:',np.sum(f_binary)/f_tot_sample,np.sum(f_binary0)/f_tot_sample)\n",
    "print('mean:',np.mean(f_vio_lvl))\n",
    "print('median:',np.median(f_vio_lvl))\n",
    "print('max:',np.max(f_vio_lvl))\n",
    "print('std:',np.std(f_vio_lvl))\n",
    "print('p99:',np.percentile(f_vio_lvl,99))\n",
    "\n",
    "# fig4 = plt.figure(figsize=(6,4))\n",
    "# plt.hist(s_vio_lvl, bins = 50, facecolor='b', alpha=0.75,label = 's violation')\n",
    "# plt.hist(f_vio_lvl, bins = 50, facecolor='r', alpha=0.75,label = 'f violation')\n",
    "# plt.legend(loc=\"upper right\")\n",
    "# plt.xlabel('violation level')\n",
    "# plt.ylabel('frequency')\n",
    "# # plt.title('injection histogram')\n",
    "# plt.show()"
   ]
  },
  {
   "cell_type": "code",
   "execution_count": 45,
   "metadata": {
    "id": "kWXEpj-ryjbJ"
   },
   "outputs": [
    {
     "name": "stdout",
     "output_type": "stream",
     "text": [
      "Price L2 mean: 0.07953772046862656 L_inf mean: 0.12321039013871055\n",
      "std: 0.032948549585729715\n",
      "Voltage L2 mean: 0.02204871331287203 L_inf mean: 0.06500201267985915\n",
      "std: 0.00262051081570167\n"
     ]
    }
   ],
   "source": [
    "# err_L2_mean = np.mean(err_L2)\n",
    "# err_Linf_mean = np.mean(err_Linf)\n",
    "print('Price L2 mean:', err_L2_mean,'L_inf mean:', err_Linf_mean )\n",
    "print('std:',np.std(err_L2))\n",
    "# err_L2_mean_v = np.mean(err_L2_v)\n",
    "# err_Linf_mean_v = np.mean(err_Linf_v)\n",
    "print('Voltage L2 mean:', err_L2_mean_v,'L_inf mean:', err_Linf_mean_v )\n",
    "print('std:',np.std(err_L2_v))"
   ]
  },
  {
   "cell_type": "code",
   "execution_count": 50,
   "metadata": {},
   "outputs": [
    {
     "ename": "IndexError",
     "evalue": "index 2 is out of bounds for axis 1 with size 2",
     "output_type": "error",
     "traceback": [
      "\u001b[1;31m---------------------------------------------------------------------------\u001b[0m",
      "\u001b[1;31mIndexError\u001b[0m                                Traceback (most recent call last)",
      "Cell \u001b[1;32mIn[50], line 4\u001b[0m\n\u001b[0;32m      1\u001b[0m g_true \u001b[38;5;241m=\u001b[39m y_new[:, \u001b[38;5;241m1\u001b[39m, :]  \u001b[38;5;66;03m# 假設第 1 個變數為功率流（真實值）\u001b[39;00m\n\u001b[0;32m      2\u001b[0m g_pred \u001b[38;5;241m=\u001b[39m y_pred1[:, \u001b[38;5;241m1\u001b[39m, :]  \u001b[38;5;66;03m# 預測功率流\u001b[39;00m\n\u001b[1;32m----> 4\u001b[0m v_true \u001b[38;5;241m=\u001b[39m \u001b[43my_new\u001b[49m\u001b[43m[\u001b[49m\u001b[43m:\u001b[49m\u001b[43m,\u001b[49m\u001b[43m \u001b[49m\u001b[38;5;241;43m2\u001b[39;49m\u001b[43m,\u001b[49m\u001b[43m \u001b[49m\u001b[43m:\u001b[49m\u001b[43m]\u001b[49m  \u001b[38;5;66;03m# 假設第 2 個變數為電壓（真實值）\u001b[39;00m\n\u001b[0;32m      5\u001b[0m v_pred \u001b[38;5;241m=\u001b[39m y_pred1[:, \u001b[38;5;241m2\u001b[39m, :]  \u001b[38;5;66;03m# 預測電壓\u001b[39;00m\n\u001b[0;32m      7\u001b[0m \u001b[38;5;66;03m# 計算 MSE 和 STD\u001b[39;00m\n",
      "\u001b[1;31mIndexError\u001b[0m: index 2 is out of bounds for axis 1 with size 2"
     ]
    }
   ],
   "source": [
    "\n",
    "# 顯示結果\n",
    "print(f\"MSE (π): {mse_pi:.4f}, STD (π): {std_pi:.4f}\")\n",
    "print(f\"MSE (g): {mse_g:.4f}, Feasibility: {feasibility_ratio:.4%}\")\n",
    "print(f\"MSE (v): {mse_v:.4f}, STD (v): {std_v:.4f}\")\n"
   ]
  }
 ],
 "metadata": {
  "accelerator": "GPU",
  "colab": {
   "collapsed_sections": [],
   "machine_shape": "hm",
   "name": "118ac_feasdnn0417.ipynb",
   "provenance": []
  },
  "kernelspec": {
   "display_name": "AC_OPF",
   "language": "python",
   "name": "python3"
  },
  "language_info": {
   "codemirror_mode": {
    "name": "ipython",
    "version": 3
   },
   "file_extension": ".py",
   "mimetype": "text/x-python",
   "name": "python",
   "nbconvert_exporter": "python",
   "pygments_lexer": "ipython3",
   "version": "3.12.7"
  }
 },
 "nbformat": 4,
 "nbformat_minor": 0
}
