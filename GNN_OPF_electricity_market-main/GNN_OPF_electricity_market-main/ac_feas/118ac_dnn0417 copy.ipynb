{
 "cells": [
  {
   "cell_type": "code",
   "execution_count": 114,
   "metadata": {
    "id": "JKLovDeXoCCP"
   },
   "outputs": [],
   "source": [
    "# import numpy as np\n",
    "# import pandas as pd\n",
    "# import matplotlib.pyplot as plt\n",
    "# import torch\n",
    "# import torch.nn as nn\n",
    "# import torch.nn.functional as F\n",
    "# from sklearn.model_selection import train_test_split\n",
    "# import time\n",
    "# import math\n",
    "# from datetime import datetime\n",
    "# root=''\n",
    "# try:\n",
    "#   from google.colab import drive\n",
    "#   drive.mount('/content/drive')\n",
    "#   root='./drive/MyDrive/gnn/data/'\n",
    "# except:\n",
    "#   pass\n",
    "# device='cuda' if torch.cuda.is_available() else 'cpu'\n",
    "# print(torch.cuda.get_device_name(0))\n",
    "# torch.cuda.empty_cache()"
   ]
  },
  {
   "cell_type": "code",
   "execution_count": 115,
   "metadata": {},
   "outputs": [
    {
     "name": "stdout",
     "output_type": "stream",
     "text": [
      "No CUDA device found. Using CPU.\n"
     ]
    }
   ],
   "source": [
    "import numpy as np\n",
    "import pandas as pd\n",
    "import matplotlib.pyplot as plt\n",
    "import torch\n",
    "import torch.nn as nn\n",
    "import torch.nn.functional as F\n",
    "from sklearn.model_selection import train_test_split\n",
    "import time\n",
    "import math\n",
    "from datetime import datetime\n",
    "\n",
    "# 定義資料路徑\n",
    "root = ''\n",
    "\n",
    "# # 嘗試掛載 Google Drive\n",
    "# try:\n",
    "#     from google.colab import drive\n",
    "#     drive.mount('/content/drive')\n",
    "#     root = './drive/MyDrive/gnn/data/'\n",
    "# except:\n",
    "#     print(\"Google Drive not mounted. Proceeding with local path.\")\n",
    "\n",
    "# 檢查設備\n",
    "device = 'cuda' if torch.cuda.is_available() else 'cpu'\n",
    "\n",
    "if torch.cuda.is_available():\n",
    "    print(torch.cuda.get_device_name(0))\n",
    "else:\n",
    "    print(\"No CUDA device found. Using CPU.\")\n",
    "\n",
    "# 釋放 CUDA 緩存\n",
    "torch.cuda.empty_cache()\n",
    "\n"
   ]
  },
  {
   "cell_type": "code",
   "execution_count": 116,
   "metadata": {
    "id": "Hj9_eLfoWQY3"
   },
   "outputs": [
    {
     "name": "stdout",
     "output_type": "stream",
     "text": [
      "S_isf :  (186, 118)\n",
      "f_max :  (186, 1)\n",
      "torch.min(f_max) :  tensor(72)\n",
      "====================================\n",
      "x :  (118, 6, 10000)\n",
      "y :  (118, 2, 10000)\n",
      "W :  (118, 118)\n",
      "-----------------\n",
      " 1654.8 -332.4 949.67 0.94\n",
      "voltage range(scaled): 3.9999999999999925 16.000000000000004\n",
      "price range old: 11.547 949.67\n",
      "voltage range old: 3.9999999999999925 16.000000000000004\n",
      "price range new: 11.547 949.67\n",
      "voltage range new: 3.9999999999999925 16.000000000000004\n",
      "(118, 6, 10000) (118, 2, 10000)\n"
     ]
    }
   ],
   "source": [
    "# filename=root+'data_118_quad/118dc_quad_ISF.txt'\n",
    "root = 'C:/Users/USER/Desktop/GNN_OPF_electricity_market-main/GNN_OPF_electricity_market-main/GNN_OPF_electricity_market-main/data_gen/118_data/'\n",
    "# C:\\Users\\USER\\Desktop\\GNN_OPF_electricity_market-main\\GNN_OPF_electricity_market-main\\GNN_OPF_electricity_market-main\\data_gen\\118_data\\118dc_quad_ISF.txt\n",
    "filename = root + '118dc_quad_ISF.txt'\n",
    "\n",
    "# import os\n",
    "\n",
    "# if not os.path.exists(filename):\n",
    "#     print(f\"檔案未找到：{filename}\")\n",
    "# else:\n",
    "#     print(f\"找到檔案：{filename}\")\n",
    "\n",
    "# # 讀取數據\n",
    "# data = pd.read_csv(filename, sep=',', header=None)\n",
    "# print(\"數據形狀:\", data.shape)\n",
    "\n",
    "# ISF 矩陣（186 × 118）：代表節點功率注入對線路功率流的影響。\n",
    "S_isf=pd.read_table(filename,sep=',',header=None).to_numpy() # ISF matrix\n",
    "print(\"S_isf : \" ,S_isf.shape)\n",
    "\n",
    "# 功率流限制（186 × 1）：每條線路的最大功率流限制。\n",
    "filename=root+'118ac_fmax.txt'\n",
    "f_max=pd.read_table(filename,sep=',',header=None).to_numpy() # flow limit\n",
    "print(\"f_max : \" ,f_max.shape)\n",
    "\n",
    "n_line = np.size(S_isf,0)\n",
    "S = torch.from_numpy(S_isf).to(device) # ISF\n",
    "f_max = torch.from_numpy(f_max).to(device) # flow limit\n",
    "print(\"torch.min(f_max) : \" ,torch.min(f_max))\n",
    "\n",
    "print(\"====================================\")\n",
    "x=np.load(root+'ac118_p10_x_v.npy')\n",
    "y=np.load(root+'ac118_p10_y_v.npy')\n",
    "W=np.load(root+'ac118_p10_w.npy')\n",
    "print(\"x : \" ,x.shape)\n",
    "print(\"y : \" ,y.shape)\n",
    "print(\"W : \" ,W.shape)\n",
    "print(\"-----------------\\n\" ,np.max(x),np.min(x),np.max(y),np.min(y))\n",
    "\n",
    "\n",
    "# scaling on voltage\n",
    "vy_deviation = 0.9\n",
    "vy_scale = 100\n",
    "y[:,1,:] = (y[:,1,:] - vy_deviation) * vy_scale\n",
    "print('voltage range(scaled):',np.min(y[:,1,:]),np.max(y[:,1,:]))\n",
    "\n",
    "# scaling on price\n",
    "pi_deviation = 0\n",
    "y[:,0,:] = y[:,0,:] + pi_deviation\n",
    "# filter out extreme points in price\n",
    "y_sort_arg = np.argsort(np.amax(np.abs(y[:,0,:]),axis=0)) # max extreme\n",
    "y_sort_arg1 = np.argsort(np.amin(y[:,0,:],axis=0),axis=0) # min extreme\n",
    "\n",
    "del_idx0 = []\n",
    "del_num = 0\n",
    "for i in range(del_num):\n",
    "  del_idx0.append(y_sort_arg[-i])\n",
    "  del_idx0.append(y_sort_arg1[i])\n",
    "# print(del_idx0)\n",
    "del_idx = [] # keep only non-repeated\n",
    "[del_idx.append(x) for x in del_idx0 if x not in del_idx]\n",
    "del_idx = np.sort(del_idx)\n",
    "# delete extreme points\n",
    "print('price range old:',np.min(y[:,0,:]),np.max(y[:,0,:]))\n",
    "print('voltage range old:',np.min(y[:,1,:]),np.max(y[:,1,:]))\n",
    "# x = np.delete(x, del_idx, axis=2)\n",
    "# y = np.delete(y, del_idx, axis=2)\n",
    "print('price range new:',np.min(y[:,0,:]),np.max(y[:,0,:]))\n",
    "print('voltage range new:',np.min(y[:,1,:]),np.max(y[:,1,:]))\n",
    "print(x.shape,y.shape)"
   ]
  },
  {
   "cell_type": "code",
   "execution_count": 117,
   "metadata": {
    "id": "YcR42RBbdZqZ"
   },
   "outputs": [],
   "source": [
    "n_sample=y.shape[-1]\n",
    "n_bus=y.shape[0]\n",
    "x_total=x.transpose((1,0,2)).reshape(-1,x.shape[-1])\n",
    "y_total=y.transpose((1,0,2)).reshape(-1,y.shape[-1])\n",
    "x_train,x_test,y_train,y_test=train_test_split(x_total.T,y_total.T,test_size=0.2)\n",
    "class Dataset(torch.utils.data.Dataset):\n",
    "    def __init__(self,x,y):\n",
    "        self.x=torch.from_numpy(x).float()\n",
    "        self.y=torch.from_numpy(y).float()\n",
    "    def __len__(self):\n",
    "        return len(self.x)\n",
    "    def __getitem__(self, idx):\n",
    "        if torch.is_tensor(idx):\n",
    "          idx=idx.tolist()\n",
    "        return self.x[idx],self.y[idx]\n",
    "params={'batch_size': 512,\n",
    "        'shuffle': True,\n",
    "        'num_workers': 0}\n",
    "train=Dataset(x_train,y_train)\n",
    "train_set=torch.utils.data.DataLoader(train,**params)\n",
    "val=Dataset(x_test,y_test)\n",
    "val_set=torch.utils.data.DataLoader(val,**params)"
   ]
  },
  {
   "cell_type": "code",
   "execution_count": 118,
   "metadata": {
    "id": "JN9gN9BnCNim"
   },
   "outputs": [],
   "source": [
    "# fig2 = plt.figure(figsize=(8,4))\n",
    "# flat_list = list(np.concatenate(y[:,n_sample:]).flat)\n",
    "# flat_list3 = list(np.concatenate(y[:,:n_sample]).flat)\n",
    "# plt.subplot(1,2,1)\n",
    "# plt.hist(flat_list,bins = 100,label = 'voltage')\n",
    "# plt.subplot(1,2,2)\n",
    "# # plt.hist(flat_list3,range=[-2000, 2000],bins = 100,label = 'price')\n",
    "# plt.hist(flat_list3,bins = 100,label = 'price')\n",
    "# plt.show()"
   ]
  },
  {
   "cell_type": "code",
   "execution_count": 119,
   "metadata": {
    "id": "iOyWpG_4yCtz"
   },
   "outputs": [
    {
     "name": "stdout",
     "output_type": "stream",
     "text": [
      "number of params: 3909576\n"
     ]
    }
   ],
   "source": [
    "# 多層全連接神經網路（FCNN）\n",
    "class dnn(torch.nn.Module):\n",
    "  def __init__(self,shape):\n",
    "    super(dnn,self).__init__()\n",
    "    layers=[]\n",
    "    for idx in range(len(shape)-2):\n",
    "      layers.extend([\n",
    "        nn.Linear(shape[idx],shape[idx+1]),\n",
    "        nn.BatchNorm1d(shape[idx+1]),\n",
    "        nn.ReLU(),\n",
    "        nn.Dropout(0.5),\n",
    "      ])\n",
    "    layers+=[nn.Linear(shape[-2],shape[-1])]\n",
    "    self.features=nn.Sequential(*layers)\n",
    "    for temp in self.features:\n",
    "      if type(temp)==nn.Linear:\n",
    "        torch.nn.init.normal_(temp.weight,mean=0,std=1)\n",
    "  def forward(self,x): return self.features(x)\n",
    "net=dnn([n_bus*6,n_bus*10,n_bus*10,n_bus*10,n_bus*2]).to(device)\n",
    "print('number of params: %d'%(sum(temp.numel() for temp in net.parameters() if temp.requires_grad)))"
   ]
  },
  {
   "cell_type": "code",
   "execution_count": null,
   "metadata": {},
   "outputs": [
    {
     "name": "stdout",
     "output_type": "stream",
     "text": [
      "number of params: 1680556\n"
     ]
    }
   ],
   "source": [
    "import torch\n",
    "import torch.nn as nn\n",
    "from torch_geometric.nn import GCNConv  # 使用圖卷積層（Graph Convolutional Layer）\n",
    "\n",
    "class GNNNet(nn.Module):\n",
    "    def __init__(self, input_dim, hidden_dim, output_dim, num_layers=3):\n",
    "        super(GNNNet, self).__init__()\n",
    "        self.layers = nn.ModuleList()\n",
    "\n",
    "        # 第一層圖卷積\n",
    "        self.layers.append(GCNConv(input_dim, hidden_dim))\n",
    "\n",
    "        # 中間層（隱藏層）\n",
    "        for _ in range(num_layers - 2):\n",
    "            self.layers.append(GCNConv(hidden_dim, hidden_dim))\n",
    "\n",
    "        # 最後一層圖卷積\n",
    "        self.layers.append(GCNConv(hidden_dim, output_dim))\n",
    "\n",
    "        # Dropout 層（防止過擬合）\n",
    "        self.dropout = nn.Dropout(0.5)\n",
    "\n",
    "    def forward(self, data):\n",
    "        x, edge_index = data.x, data.edge_index  # 節點特徵和邊索引\n",
    "\n",
    "        # 圖卷積層的前向傳播\n",
    "        for layer in self.layers[:-1]:\n",
    "            x = layer(x, edge_index)\n",
    "            x = torch.relu(x)\n",
    "            x = self.dropout(x)\n",
    "\n",
    "        # 最後一層卷積\n",
    "        x = self.layers[-1](x, edge_index)\n",
    "\n",
    "        return x\n",
    "\n",
    "# 初始化 GNN 模型\n",
    "n_bus_features = 6  # 假設每個節點有 6 個特徵\n",
    "hidden_dim = 10 * n_bus  # 隱藏層的節點維度\n",
    "output_dim = 2 * n_bus  # 預測輸出的維度\n",
    "\n",
    "# 創建圖神經網路模型\n",
    "net = GNNNet(input_dim=n_bus_features, hidden_dim=hidden_dim, output_dim=output_dim, num_layers=3).to(device)\n",
    "\n",
    "# 打印參數總數\n",
    "print('number of params: %d' % (sum(p.numel() for p in net.parameters() if p.requires_grad)))\n"
   ]
  },
  {
   "cell_type": "code",
   "execution_count": 120,
   "metadata": {
    "id": "GEQ-MDKOTqW1"
   },
   "outputs": [],
   "source": [
    "# threshold function for p_g\n",
    "# 用於對輸入數據進行雙向閾值（threshold）操作的自訂義神經網路模組\n",
    "class my_gen_pred_binary(nn.Module):\n",
    "  def __init__(self):\n",
    "    super(my_gen_pred_binary,self).__init__()\n",
    "  def forward(self,x,thresh):\n",
    "    right_thresh=thresh.clone().detach().requires_grad_(True).double()\n",
    "    left_thresh=torch.tensor(0).double()\n",
    "    x=x.double()\n",
    "    output = torch.sigmoid(left_thresh - x)\n",
    "    output = torch.mul(output,left_thresh - x) + x\n",
    "    output = torch.sigmoid(output - right_thresh)\n",
    "    output = torch.mul(output,output - right_thresh) + right_thresh\n",
    "    return output"
   ]
  },
  {
   "cell_type": "code",
   "execution_count": 121,
   "metadata": {
    "id": "9mYCMszHaosA"
   },
   "outputs": [],
   "source": [
    "## params needed for S calculation\n",
    "# line parameters\n",
    "filename1 = root+'ieee118_lineloc.txt'\n",
    "filename2 = root+'ieee118_lineparams.txt'\n",
    "filename3 = root+'ieee118_Bmat.txt'\n",
    "# incidence info\n",
    "line_loc = pd.read_table(filename1,sep=',',header=None).to_numpy()\n",
    "# r, x, shunt, S_max\n",
    "line_params = pd.read_table(filename2,sep=',',header=None).to_numpy()\n",
    "B_mat=pd.read_table(filename3,sep=',',header=None).to_numpy()\n",
    "B_r = np.delete(B_mat,68,axis=0)\n",
    "B_r = np.delete(B_r,68,axis=1)\n",
    "Br_inv = np.linalg.inv(B_r)\n",
    "\n",
    "R_line = line_params[:,0].copy()\n",
    "X_line = line_params[:,1].copy()\n",
    "\n",
    "B_shunt = line_params[:,2].copy()\n",
    "\n",
    "Z_line = R_line + 1j * X_line \n",
    "Y_line = 1 / Z_line\n",
    "\n",
    "G_line = np.real(Y_line)\n",
    "B_line = np.imag(Y_line)\n",
    "\n",
    "# transformer indicator\n",
    "a = (R_line > 0).astype(int)\n",
    "\n",
    "# params to tensor and GPU\n",
    "G_line_tensor = torch.from_numpy(G_line).to(device) # conductance\n",
    "B_line_tensor = torch.from_numpy(B_line).to(device) # susceptance\n",
    "B_shunt_tensor = torch.from_numpy(B_shunt/2).to(device) # conductance\n",
    "Br_inv_tensor = torch.from_numpy(Br_inv).to(device) # reduced Bbus matrix\n",
    "a_tensor = torch.from_numpy(a).double().to(device) # line/transformer"
   ]
  },
  {
   "cell_type": "code",
   "execution_count": 122,
   "metadata": {
    "id": "Go4bwoEmoi0D"
   },
   "outputs": [],
   "source": [
    "class loss_func:\n",
    "    def __init__(self,s_max,G_line,B_line,B_shunt,Br_inv,a,line_loc):\n",
    "      self.s=s_max\n",
    "      self.g=G_line\n",
    "      self.b=B_line\n",
    "      self.c=B_shunt\n",
    "      self.r=Br_inv\n",
    "      self.a=a\n",
    "      self.mse=nn.MSELoss() # MSE loss\n",
    "      self.lmda1=torch.tensor(10).to(device) # V MSE \n",
    "      self.lmda2=torch.tensor(1).to(device) # pi MSE \n",
    "      self.lmda3=torch.tensor(0.1).to(device) # v l_inf\n",
    "      self.lmda4=torch.tensor(0.1).to(device) # s feasibility\n",
    "      self.lmda5=torch.tensor(0.01).to(device) # pi l_inf\n",
    "      self.line_loc=line_loc\n",
    "      self.binary_cell=my_gen_pred_binary()\n",
    "    def calc(self,pred,label,x,feas):\n",
    "      mse_p=self.mse(pred[:,:n_bus],label[:,:n_bus])\n",
    "      mse_v=self.mse(pred[:,n_bus:],label[:,n_bus:])\n",
    "      linf_p=(pred[:,:n_bus]-label[:,:n_bus]).norm(p=float('inf'))\n",
    "      linf_v=(pred[:,n_bus:]-label[:,n_bus:]).norm(p=float('inf'))\n",
    "      if feas==False:\n",
    "        return self.lmda1*mse_v+self.lmda2*mse_p+self.lmda3*linf_v+self.lmda5*linf_p\n",
    "      label_pred=pred[:,:n_bus]\n",
    "      p_max=x[:,:n_bus*1]-x[:,n_bus*1:n_bus*2]\n",
    "      quadratic_b=x[:,n_bus*4:n_bus*5]\n",
    "      quadratic_a=x[:,n_bus*5:n_bus*6]\n",
    "      quadratic_center=(label_pred-quadratic_b)/(quadratic_a+1e-5)/2\n",
    "      p_inj=self.binary_cell(quadratic_center,p_max)\n",
    "      bus_inj=p_inj+x[:,n_bus:n_bus*2]\n",
    "      p_inj_r=torch.cat((bus_inj[:,:68],bus_inj[:,69:]),1)/100\n",
    "      theta0=torch.matmul(self.r,p_inj_r.T)\n",
    "      ref_ang=torch.zeros(1,theta0.shape[1]).to(device)\n",
    "      theta=torch.cat([theta0[:68,:],ref_ang,theta0[68:,:]],0)\n",
    "      v_pred=(pred[:,n_bus:].transpose(0,1))*0.01+0.9\n",
    "      \n",
    "      # s penalty\n",
    "      theta1=theta[self.line_loc[:,0]-1,:]\n",
    "      theta2=theta[self.line_loc[:,1]-1,:]\n",
    "      V1=(v_pred[self.line_loc[:,0]-1,:]).double()\n",
    "      V2=(v_pred[self.line_loc[:,1]-1,:]).double()\n",
    "      f_p=(self.a*self.g*(V1*V1).T)-self.a*((V1*V2).T)*(self.g*torch.cos(theta1-theta2).T+self.b*torch.sin(theta1-theta2).T)\n",
    "      f_p=f_p.T\n",
    "      f_q=-self.a*(V1.T)*(self.a*V1.T)*(self.b+self.c/2)+self.a*((V1*V2).T)*(self.b*torch.cos(theta1-theta2).T-self.g*torch.sin(theta1-theta2).T)\n",
    "      f_q=f_q.T\n",
    "      s_pred=torch.sqrt(f_p*f_p+f_q*f_q+1e-5)*100\n",
    "      s_penalty=torch.sigmoid(s_pred-self.s)+torch.sigmoid(-s_pred-self.s)\n",
    "      s_total=torch.sum(s_penalty)\n",
    "\n",
    "      # sji penalty\n",
    "      theta1=theta[self.line_loc[:,1]-1,:]\n",
    "      theta2=theta[self.line_loc[:,0]-1,:]\n",
    "      V1=(v_pred[self.line_loc[:,1]-1,:]).double()\n",
    "      V2=(v_pred[self.line_loc[:,0]-1,:]).double() \n",
    "      fji_p=(self.a*self.g*(V1*V1).T)-self.a*((V1*V2).T)*(self.g*torch.cos(theta1-theta2).T+self.b*torch.sin(theta1-theta2).T)\n",
    "      fji_p=fji_p.T\n",
    "      fji_q=-self.a*(V1.T)*(self.a*V1.T)*(self.b+self.c/2)+self.a*((V1*V2).T)*(self.b*torch.cos(theta1-theta2).T-self.g*torch.sin(theta1-theta2).T)\n",
    "      fji_q=fji_q.T\n",
    "      sji_pred=torch.sqrt(fji_p*fji_p+fji_q*fji_q+1e-5)*100\n",
    "      sji_penalty=torch.sigmoid(sji_pred-self.s)+torch.sigmoid(-sji_pred-self.s)\n",
    "      sji_total=torch.sum(sji_penalty)\n",
    "\n",
    "      return self.lmda1*mse_v+self.lmda2*mse_p+self.lmda3*linf_v+self.lmda5*linf_p+self.lmda4*s_total+self.lmda4*sji_total\n",
    "my_loss=loss_func(f_max,G_line_tensor,B_line_tensor,B_shunt_tensor,Br_inv_tensor,a_tensor,line_loc)"
   ]
  },
  {
   "cell_type": "code",
   "execution_count": 123,
   "metadata": {
    "id": "iu0PKvcgF2vN"
   },
   "outputs": [
    {
     "name": "stdout",
     "output_type": "stream",
     "text": [
      "Adam (\n",
      "Parameter Group 0\n",
      "    amsgrad: False\n",
      "    betas: (0.9, 0.999)\n",
      "    capturable: False\n",
      "    differentiable: False\n",
      "    eps: 1e-08\n",
      "    foreach: None\n",
      "    fused: None\n",
      "    lr: 0.001\n",
      "    maximize: False\n",
      "    weight_decay: 0\n",
      ")\n",
      "Epoch 0 | Training loss: 429.9832\n",
      "Epoch 0 | Testing loss: 410.5713\n",
      "Epoch 1 | Training loss: 412.4972\n",
      "Epoch 2 | Training loss: 397.0363\n",
      "Epoch 3 | Training loss: 382.4235\n",
      "Epoch 4 | Training loss: 368.2492\n",
      "Epoch 5 | Training loss: 354.2673\n",
      "Epoch 5 | Testing loss: 365.3943\n",
      "Epoch 6 | Training loss: 340.0731\n",
      "Epoch 7 | Training loss: 325.1984\n",
      "Epoch 8 | Training loss: 310.0931\n",
      "Epoch 9 | Training loss: 294.7658\n",
      "Epoch 10 | Training loss: 278.9179\n",
      "Epoch 10 | Testing loss: 304.4265\n",
      "Epoch 11 | Training loss: 262.4869\n",
      "Epoch 12 | Training loss: 246.1354\n",
      "Epoch 13 | Training loss: 229.4470\n",
      "Epoch 14 | Training loss: 213.0345\n",
      "Epoch 15 | Training loss: 196.8626\n",
      "Epoch 15 | Testing loss: 221.8685\n",
      "Epoch 16 | Training loss: 180.7343\n",
      "Epoch 17 | Training loss: 165.5848\n",
      "Epoch 18 | Training loss: 150.7185\n",
      "Epoch 19 | Training loss: 136.6772\n",
      "Epoch 20 | Training loss: 123.5771\n",
      "Epoch 20 | Testing loss: 135.5869\n",
      "Epoch 21 | Training loss: 111.9538\n",
      "Epoch 22 | Training loss: 100.7918\n",
      "Epoch 23 | Training loss: 90.9291\n",
      "Epoch 24 | Training loss: 82.2135\n",
      "Epoch 25 | Training loss: 74.7288\n",
      "Epoch 25 | Testing loss: 70.1684\n",
      "Epoch 26 | Training loss: 67.8173\n",
      "Epoch 27 | Training loss: 62.0188\n",
      "Epoch 28 | Training loss: 57.2607\n",
      "Epoch 29 | Training loss: 53.0338\n",
      "Epoch 30 | Training loss: 49.6508\n",
      "Epoch 30 | Testing loss: 34.8067\n",
      "Epoch 31 | Training loss: 46.6555\n",
      "Epoch 32 | Training loss: 43.9167\n",
      "Epoch 33 | Training loss: 41.8458\n",
      "Epoch 34 | Training loss: 40.0303\n",
      "Epoch 35 | Training loss: 38.2405\n",
      "Epoch 35 | Testing loss: 19.1525\n",
      "Epoch 36 | Training loss: 36.9064\n",
      "Epoch 37 | Training loss: 35.5154\n",
      "Epoch 38 | Training loss: 34.4132\n",
      "Epoch 39 | Training loss: 33.1974\n",
      "Epoch 40 | Training loss: 32.2327\n",
      "Epoch 40 | Testing loss: 12.2658\n",
      "Epoch 41 | Training loss: 31.3239\n",
      "Epoch 42 | Training loss: 30.3802\n",
      "Epoch 43 | Training loss: 29.5553\n",
      "Epoch 44 | Training loss: 28.8000\n",
      "Epoch 45 | Training loss: 28.0236\n",
      "Epoch 45 | Testing loss: 9.0541\n",
      "Epoch 46 | Training loss: 27.2850\n",
      "Epoch 47 | Training loss: 26.6249\n",
      "Epoch 48 | Training loss: 25.9106\n",
      "Epoch 49 | Training loss: 25.2978\n",
      "Epoch 50 | Training loss: 24.6824\n",
      "Epoch 50 | Testing loss: 7.1291\n",
      "Epoch 51 | Training loss: 24.1455\n",
      "Epoch 52 | Training loss: 23.5852\n",
      "Epoch 53 | Training loss: 23.0669\n",
      "Epoch 54 | Training loss: 22.4851\n",
      "Epoch 55 | Training loss: 21.9797\n",
      "Epoch 55 | Testing loss: 6.0654\n",
      "Epoch 56 | Training loss: 21.4929\n",
      "Epoch 57 | Training loss: 21.0710\n",
      "Epoch 58 | Training loss: 20.6535\n",
      "Epoch 59 | Training loss: 20.2985\n",
      "Epoch 60 | Training loss: 19.8105\n",
      "Epoch 60 | Testing loss: 5.2319\n",
      "Epoch 61 | Training loss: 19.3236\n",
      "Epoch 62 | Training loss: 19.0281\n",
      "Epoch 63 | Training loss: 18.6671\n",
      "Epoch 64 | Training loss: 18.2932\n",
      "Epoch 65 | Training loss: 17.9552\n",
      "Epoch 65 | Testing loss: 4.6920\n",
      "Epoch 66 | Training loss: 17.6536\n",
      "Epoch 67 | Training loss: 17.3374\n",
      "Epoch 68 | Training loss: 16.9529\n",
      "Epoch 69 | Training loss: 16.7444\n",
      "Epoch 70 | Training loss: 16.4192\n",
      "Epoch 70 | Testing loss: 4.2856\n",
      "Epoch 71 | Training loss: 16.0757\n",
      "Epoch 72 | Training loss: 15.8689\n",
      "Epoch 73 | Training loss: 15.5800\n",
      "Epoch 74 | Training loss: 15.2369\n",
      "Epoch 75 | Training loss: 15.0653\n",
      "Epoch 75 | Testing loss: 3.8959\n",
      "Epoch 76 | Training loss: 14.8243\n",
      "Epoch 77 | Training loss: 14.4983\n",
      "Epoch 78 | Training loss: 14.3531\n",
      "Epoch 79 | Training loss: 14.1168\n",
      "Epoch 80 | Training loss: 13.9442\n",
      "Epoch 80 | Testing loss: 3.6424\n",
      "Epoch 81 | Training loss: 13.6240\n",
      "Epoch 82 | Training loss: 13.4770\n",
      "Epoch 83 | Training loss: 13.2223\n",
      "Epoch 84 | Training loss: 13.0298\n",
      "Epoch 85 | Training loss: 12.8331\n",
      "Epoch 85 | Testing loss: 3.3402\n",
      "Epoch 86 | Training loss: 12.6181\n",
      "Epoch 87 | Training loss: 12.5608\n",
      "Epoch 88 | Training loss: 12.2325\n",
      "Epoch 89 | Training loss: 12.1202\n",
      "Epoch 90 | Training loss: 11.8784\n",
      "Epoch 90 | Testing loss: 3.1343\n",
      "Epoch 91 | Training loss: 11.7766\n",
      "Epoch 92 | Training loss: 11.5407\n",
      "Epoch 93 | Training loss: 11.4589\n",
      "Epoch 94 | Training loss: 11.2752\n",
      "Epoch 95 | Training loss: 11.1779\n",
      "Epoch 95 | Testing loss: 2.9183\n",
      "Epoch 96 | Training loss: 11.0415\n",
      "Epoch 97 | Training loss: 10.7658\n",
      "Epoch 98 | Training loss: 10.6176\n",
      "Epoch 99 | Training loss: 10.5188\n",
      "Epoch 100 | Training loss: 10.4884\n",
      "Epoch 100 | Testing loss: 2.8802\n",
      "Epoch 101 | Training loss: 10.2115\n",
      "Epoch 102 | Training loss: 10.1413\n",
      "Epoch 103 | Training loss: 9.9620\n",
      "Epoch 104 | Training loss: 9.8697\n",
      "Epoch 105 | Training loss: 9.7818\n",
      "Epoch 105 | Testing loss: 2.6896\n",
      "Epoch 106 | Training loss: 9.6167\n",
      "Epoch 107 | Training loss: 9.5029\n",
      "Epoch 108 | Training loss: 9.4423\n",
      "Epoch 109 | Training loss: 9.3370\n",
      "Epoch 110 | Training loss: 9.1860\n",
      "Epoch 110 | Testing loss: 2.5794\n",
      "Epoch 111 | Training loss: 9.0961\n",
      "Epoch 112 | Training loss: 8.9445\n",
      "Epoch 113 | Training loss: 8.8970\n",
      "Epoch 114 | Training loss: 8.8471\n",
      "Epoch 115 | Training loss: 8.7022\n",
      "Epoch 115 | Testing loss: 2.4465\n",
      "Epoch 116 | Training loss: 8.5997\n",
      "Epoch 117 | Training loss: 8.5530\n",
      "Epoch 118 | Training loss: 8.3352\n",
      "Epoch 119 | Training loss: 8.3872\n",
      "Epoch 120 | Training loss: 8.2008\n",
      "Epoch 120 | Testing loss: 2.3420\n",
      "Epoch 121 | Training loss: 8.1117\n",
      "Epoch 122 | Training loss: 8.0410\n",
      "Epoch 123 | Training loss: 7.9661\n",
      "Epoch 124 | Training loss: 7.7839\n",
      "Epoch 125 | Training loss: 7.8527\n",
      "Epoch 125 | Testing loss: 2.3173\n",
      "Epoch 126 | Training loss: 7.7395\n",
      "Epoch 127 | Training loss: 7.6154\n",
      "Epoch 128 | Training loss: 7.5891\n",
      "Epoch 129 | Training loss: 7.5003\n",
      "Epoch 130 | Training loss: 7.4270\n",
      "Epoch 130 | Testing loss: 2.2649\n",
      "Epoch 131 | Training loss: 7.3480\n",
      "Epoch 132 | Training loss: 7.2291\n",
      "Epoch 133 | Training loss: 7.2439\n",
      "Epoch 134 | Training loss: 7.0814\n",
      "Epoch 135 | Training loss: 7.0466\n",
      "Epoch 135 | Testing loss: 2.1799\n",
      "Epoch 136 | Training loss: 6.9989\n",
      "Epoch 137 | Training loss: 6.9183\n",
      "Epoch 138 | Training loss: 6.8226\n",
      "Epoch 139 | Training loss: 6.7443\n",
      "Epoch 140 | Training loss: 6.7235\n",
      "Epoch 140 | Testing loss: 2.1282\n",
      "Epoch 141 | Training loss: 6.6592\n",
      "Epoch 142 | Training loss: 6.6190\n",
      "Epoch 143 | Training loss: 6.5619\n",
      "Epoch 144 | Training loss: 6.4951\n",
      "Epoch 145 | Training loss: 6.4362\n",
      "Epoch 145 | Testing loss: 2.0905\n",
      "Epoch 146 | Training loss: 6.4265\n",
      "Epoch 147 | Training loss: 6.2810\n",
      "Epoch 148 | Training loss: 6.2641\n",
      "Epoch 149 | Training loss: 6.2649\n",
      "Epoch 150 | Training loss: 6.1975\n",
      "Epoch 150 | Testing loss: 2.0555\n",
      "Epoch 151 | Training loss: 6.1183\n",
      "Epoch 152 | Training loss: 6.0480\n",
      "Epoch 153 | Training loss: 6.0369\n",
      "Epoch 154 | Training loss: 5.9313\n",
      "Epoch 155 | Training loss: 5.9154\n",
      "Epoch 155 | Testing loss: 2.0977\n",
      "Epoch 156 | Training loss: 5.9135\n",
      "Epoch 157 | Training loss: 5.8224\n",
      "Epoch 158 | Training loss: 5.7838\n",
      "Epoch 159 | Training loss: 5.7299\n",
      "Epoch 160 | Training loss: 5.6691\n",
      "Epoch 160 | Testing loss: 1.9895\n",
      "Epoch 161 | Training loss: 5.6318\n",
      "Epoch 162 | Training loss: 5.6023\n",
      "Epoch 163 | Training loss: 5.5672\n",
      "Epoch 164 | Training loss: 5.4936\n",
      "Epoch 165 | Training loss: 5.4485\n",
      "Epoch 165 | Testing loss: 1.9807\n",
      "Epoch 166 | Training loss: 5.4917\n",
      "Epoch 167 | Training loss: 5.4082\n",
      "Epoch 168 | Training loss: 5.3175\n",
      "Epoch 169 | Training loss: 5.3313\n",
      "Epoch 170 | Training loss: 5.2359\n",
      "Epoch 170 | Testing loss: 1.9676\n",
      "Epoch 171 | Training loss: 5.1709\n",
      "Epoch 172 | Training loss: 5.2126\n",
      "Epoch 173 | Training loss: 5.1930\n",
      "Epoch 174 | Training loss: 5.1440\n",
      "Epoch 175 | Training loss: 5.1429\n",
      "Epoch 175 | Testing loss: 1.9745\n",
      "Epoch 176 | Training loss: 5.0769\n",
      "Epoch 177 | Training loss: 5.0098\n",
      "Epoch 178 | Training loss: 5.0549\n",
      "Epoch 179 | Training loss: 4.9649\n",
      "Epoch 180 | Training loss: 4.9173\n",
      "Epoch 180 | Testing loss: 1.9792\n",
      "Epoch 181 | Training loss: 4.9609\n",
      "Epoch 182 | Training loss: 4.8869\n",
      "Epoch 183 | Training loss: 4.8175\n",
      "Epoch 184 | Training loss: 4.7548\n",
      "Epoch 185 | Training loss: 4.7771\n",
      "Epoch 185 | Testing loss: 1.9863\n",
      "Epoch 186 | Training loss: 4.7824\n",
      "Epoch 187 | Training loss: 4.7286\n",
      "Epoch 188 | Training loss: 4.6436\n",
      "Epoch 189 | Training loss: 4.6583\n",
      "Epoch 190 | Training loss: 4.6482\n",
      "Epoch 190 | Testing loss: 1.9492\n",
      "Epoch 191 | Training loss: 4.5900\n",
      "Epoch 192 | Training loss: 4.5579\n",
      "Epoch 193 | Training loss: 4.5369\n",
      "Epoch 194 | Training loss: 4.5431\n",
      "Epoch 195 | Training loss: 4.5030\n",
      "Epoch 195 | Testing loss: 1.9131\n",
      "Epoch 196 | Training loss: 4.4942\n",
      "Epoch 197 | Training loss: 4.4476\n",
      "Epoch 198 | Training loss: 4.4599\n",
      "Epoch 199 | Training loss: 4.3812\n",
      "Epoch 200 | Training loss: 4.3824\n",
      "Epoch 200 | Testing loss: 1.9510\n",
      "Epoch 201 | Training loss: 4.3429\n",
      "Epoch 202 | Training loss: 4.3472\n",
      "Epoch 203 | Training loss: 4.3133\n",
      "Epoch 204 | Training loss: 4.2637\n",
      "Epoch 205 | Training loss: 4.2180\n",
      "Epoch 205 | Testing loss: 1.9166\n",
      "Epoch 206 | Training loss: 4.2544\n",
      "Epoch 207 | Training loss: 4.1552\n",
      "Epoch 208 | Training loss: 4.1932\n",
      "Epoch 209 | Training loss: 4.1837\n",
      "Epoch 210 | Training loss: 4.1412\n",
      "Epoch 210 | Testing loss: 1.8655\n",
      "Epoch 211 | Training loss: 4.1422\n",
      "Epoch 212 | Training loss: 4.1377\n",
      "Epoch 213 | Training loss: 4.1023\n",
      "Epoch 214 | Training loss: 4.0197\n",
      "Epoch 215 | Training loss: 4.0606\n",
      "Epoch 215 | Testing loss: 1.8794\n",
      "Epoch 216 | Training loss: 4.0399\n",
      "Epoch 217 | Training loss: 3.9484\n",
      "Epoch 218 | Training loss: 4.0149\n",
      "Epoch 219 | Training loss: 3.9782\n",
      "Epoch 220 | Training loss: 3.9516\n",
      "Epoch 220 | Testing loss: 1.8497\n",
      "Epoch 221 | Training loss: 3.9057\n",
      "Epoch 222 | Training loss: 3.8675\n",
      "Epoch 223 | Training loss: 3.8680\n",
      "Epoch 224 | Training loss: 3.8583\n",
      "Epoch 225 | Training loss: 3.8428\n",
      "Epoch 225 | Testing loss: 1.8670\n",
      "Epoch 226 | Training loss: 3.8383\n",
      "Epoch 227 | Training loss: 3.8440\n",
      "Epoch 228 | Training loss: 3.7692\n",
      "Epoch 229 | Training loss: 3.7465\n",
      "Epoch 230 | Training loss: 3.7556\n",
      "Epoch 230 | Testing loss: 1.8811\n",
      "Epoch 231 | Training loss: 3.7669\n",
      "Epoch 232 | Training loss: 3.7722\n",
      "Epoch 233 | Training loss: 3.7089\n",
      "Epoch 234 | Training loss: 3.7092\n",
      "Epoch 235 | Training loss: 3.7111\n",
      "Epoch 235 | Testing loss: 1.8554\n",
      "Epoch 236 | Training loss: 3.6720\n",
      "Epoch 237 | Training loss: 3.6513\n",
      "Epoch 238 | Training loss: 3.6538\n",
      "Epoch 239 | Training loss: 3.5749\n",
      "Epoch 240 | Training loss: 3.5971\n",
      "Epoch 240 | Testing loss: 1.8397\n",
      "Epoch 241 | Training loss: 3.6019\n",
      "Epoch 242 | Training loss: 3.5341\n",
      "Epoch 243 | Training loss: 3.5577\n",
      "Epoch 244 | Training loss: 3.5373\n",
      "Epoch 245 | Training loss: 3.5417\n",
      "Epoch 245 | Testing loss: 1.9031\n",
      "Epoch 246 | Training loss: 3.5423\n",
      "Epoch 247 | Training loss: 3.5104\n",
      "Epoch 248 | Training loss: 3.4481\n",
      "Epoch 249 | Training loss: 3.4175\n",
      "Epoch 250 | Training loss: 3.4711\n",
      "Epoch 250 | Testing loss: 1.7813\n",
      "Epoch 251 | Training loss: 3.4087\n",
      "Epoch 252 | Training loss: 3.4604\n",
      "Epoch 253 | Training loss: 3.4563\n",
      "Epoch 254 | Training loss: 3.3876\n",
      "Epoch 255 | Training loss: 3.3576\n",
      "Epoch 255 | Testing loss: 1.8520\n",
      "Epoch 256 | Training loss: 3.4396\n",
      "Epoch 257 | Training loss: 3.3857\n",
      "Epoch 258 | Training loss: 3.3954\n",
      "Epoch 259 | Training loss: 3.3862\n",
      "Epoch 260 | Training loss: 3.3101\n",
      "Epoch 260 | Testing loss: 1.8070\n",
      "Epoch 261 | Training loss: 3.3183\n",
      "Epoch 262 | Training loss: 3.3086\n",
      "Epoch 263 | Training loss: 3.2680\n",
      "Epoch 264 | Training loss: 3.3035\n",
      "Epoch 265 | Training loss: 3.3067\n",
      "Epoch 265 | Testing loss: 1.7663\n",
      "Epoch 266 | Training loss: 3.2639\n",
      "Epoch 267 | Training loss: 3.2453\n",
      "Epoch 268 | Training loss: 3.2698\n",
      "Epoch 269 | Training loss: 3.2192\n",
      "Epoch 270 | Training loss: 3.2115\n",
      "Epoch 270 | Testing loss: 1.7741\n",
      "Epoch 271 | Training loss: 3.2061\n",
      "Epoch 272 | Training loss: 3.1423\n",
      "Epoch 273 | Training loss: 3.1995\n",
      "Epoch 274 | Training loss: 3.1473\n",
      "Epoch 275 | Training loss: 3.1784\n",
      "Epoch 275 | Testing loss: 1.7407\n",
      "Epoch 276 | Training loss: 3.1520\n",
      "Epoch 277 | Training loss: 3.1360\n",
      "Epoch 278 | Training loss: 3.1537\n",
      "Epoch 279 | Training loss: 3.0431\n",
      "Epoch 280 | Training loss: 3.1015\n",
      "Epoch 280 | Testing loss: 1.7767\n",
      "Epoch 281 | Training loss: 3.0622\n",
      "Epoch 282 | Training loss: 3.0297\n",
      "Epoch 283 | Training loss: 3.0567\n",
      "Epoch 284 | Training loss: 3.1148\n",
      "Epoch 285 | Training loss: 3.0246\n",
      "Epoch 285 | Testing loss: 1.7709\n",
      "Epoch 286 | Training loss: 2.9870\n",
      "Epoch 287 | Training loss: 3.0057\n",
      "Epoch 288 | Training loss: 3.0253\n",
      "Epoch 289 | Training loss: 3.0144\n",
      "Epoch 290 | Training loss: 2.9734\n",
      "Epoch 290 | Testing loss: 1.7028\n",
      "Epoch 291 | Training loss: 2.9971\n",
      "Epoch 292 | Training loss: 2.9665\n",
      "Epoch 293 | Training loss: 3.0178\n",
      "Epoch 294 | Training loss: 2.9053\n",
      "Epoch 295 | Training loss: 2.9297\n",
      "Epoch 295 | Testing loss: 1.7272\n",
      "Epoch 296 | Training loss: 2.9160\n",
      "Epoch 297 | Training loss: 2.9344\n",
      "Epoch 298 | Training loss: 2.9170\n",
      "Epoch 299 | Training loss: 2.8924\n",
      "Training time:144.0154s\n"
     ]
    }
   ],
   "source": [
    "# path=root+'data_118_quad/gnn_trained_ac118.pickle'\n",
    "# print(path)\n",
    "\n",
    "\n",
    "# try: \n",
    "#   net.load_state_dict(torch.load(path))\n",
    "#   print('params loaded')\n",
    "# except: \n",
    "#   print('cold start')\n",
    "\n",
    "optimizer=torch.optim.Adam(net.parameters())\n",
    "print(optimizer)\n",
    "\n",
    "train_loss=[]\n",
    "val_loss=[]\n",
    "\n",
    "## Training\n",
    "t0=time.time()\n",
    "max_epochs=300\n",
    "\n",
    "eval_epoch=5\n",
    "\n",
    "# earlystopping\n",
    "tolerance=5\n",
    "min_delta=1e-3\n",
    "previous=0\n",
    "\n",
    "# add feasibility \n",
    "feas=False\n",
    "for epoch in range(max_epochs):\n",
    "  \n",
    "  # training loop\n",
    "  total_loss=0.0\n",
    "  for local_batch,local_label in train_set:\n",
    "    optimizer.zero_grad() # clear the past gradient\n",
    "    local_batch,local_label=local_batch.to(device),local_label.to(device)\n",
    "    logits=net(local_batch)\n",
    "    loss=my_loss.calc(logits,local_label,local_batch,feas)\n",
    "    loss.backward()\n",
    "    optimizer.step()\n",
    "    total_loss+=loss.item()\n",
    "  avg_loss=total_loss/len(train_set.dataset)\n",
    "  train_loss.append(avg_loss)\n",
    "  print(\"Epoch %d | Training loss: %.4f\"%(epoch,avg_loss))\n",
    "\n",
    "  # eval 每eval_epoch次評估一次\n",
    "  if epoch%eval_epoch==0:\n",
    "    net.eval()\n",
    "    total_loss=0.0\n",
    "    for local_batch,local_label in val_set:\n",
    "      local_batch,local_label=local_batch.to(device),local_label.to(device)\n",
    "      logits=net(local_batch)\n",
    "      loss=my_loss.calc(logits,local_label,local_batch,feas)\n",
    "      total_loss+=loss.item()\n",
    "    avg_loss=total_loss/len(val_set.dataset)\n",
    "    val_loss.append([epoch, avg_loss])\n",
    "    print(\"Epoch %d | Testing loss: %.4f\"%(epoch,avg_loss))\n",
    "    if epoch:\n",
    "      if previous-avg_loss<min_delta: tolerance-=1\n",
    "      if tolerance==0: pass\n",
    "    previous=avg_loss\n",
    "    net.train()\n",
    "t1=time.time()\n",
    "print(\"Training time:%.4fs\"%(t1-t0))"
   ]
  },
  {
   "cell_type": "code",
   "execution_count": 124,
   "metadata": {
    "id": "AvUTphUSzqzA"
   },
   "outputs": [
    {
     "name": "stdout",
     "output_type": "stream",
     "text": [
      "C:/Users/USER/Desktop/GNN_OPF_electricity_market-main/GNN_OPF_electricity_market-main/GNN_OPF_electricity_market-main/data_gen/118_data/model/dnn_02041638.pickle\n"
     ]
    }
   ],
   "source": [
    "timestamp=datetime.now().strftime('%m%d%H%M')\n",
    "\n",
    "path=root+'model/dnn_%s.pickle'%(timestamp)\n",
    "\n",
    "if feas==False: path.replace('feas','')\n",
    "print(path)\n",
    "torch.save(net.state_dict(),path)"
   ]
  },
  {
   "cell_type": "code",
   "execution_count": 125,
   "metadata": {
    "id": "L3M4jmjkscK_"
   },
   "outputs": [
    {
     "name": "stdout",
     "output_type": "stream",
     "text": [
      "Training loss: 300\n",
      "Validation loss: 60\n",
      "60\n"
     ]
    },
    {
     "data": {
      "image/png": "[encoded data removed]",
      "text/plain": [
       "<Figure size 640x480 with 1 Axes>"
      ]
     },
     "metadata": {},
     "output_type": "display_data"
    }
   ],
   "source": [
    "print('Training loss:', len(train_loss))\n",
    "print(train_loss)\n",
    "print('Validation loss:', len(val_loss))\n",
    "print(val_loss)\n",
    "\n",
    "val_len = len(val_loss)\n",
    "print(val_len)\n",
    "val_plt = np.zeros((2,val_len))\n",
    "for i in range(val_len):\n",
    "  val_plt[0,i] = val_loss[i][0]\n",
    "  val_plt[1,i] = val_loss[i][1]\n",
    "\n",
    "plt.figure()\n",
    "plot_idx = np.arange(np.size(train_loss))\n",
    "plt.plot(plot_idx[5:-1],train_loss[5:-1],lw=2,label='training loss')\n",
    "plt.plot(val_plt[0,1:],val_plt[1,1:],lw=2,label='validation loss')\n",
    "plt.yscale(\"log\")\n",
    "plt.xlabel('epoch')\n",
    "plt.ylabel('loss')\n",
    "plt.legend()\n",
    "plt.show(block=False)"
   ]
  },
  {
   "cell_type": "code",
   "execution_count": 144,
   "metadata": {},
   "outputs": [
    {
     "name": "stdout",
     "output_type": "stream",
     "text": [
      "Training loss: 300\n",
      "[429.983162109375, 412.497240234375, 397.036318359375, 382.42346875, 368.2491875, 354.2673046875, 340.0730546875, 325.198419921875, 310.0930625, 294.765802734375, 278.917908203125, 262.486939453125, 246.1353623046875, 229.447, 213.034529296875, 196.8625771484375, 180.73434765625, 165.584810546875, 150.7184990234375, 136.67721484375, 123.5770830078125, 111.95381298828126, 100.79177099609375, 90.92908642578125, 82.21347119140626, 74.72878125, 67.81730224609375, 62.018765625, 57.26067797851562, 53.0338388671875, 49.65080639648438, 46.6554833984375, 43.91672387695313, 41.84579418945312, 40.0302744140625, 38.240525390625, 36.90643115234375, 35.515353515625, 34.41323388671875, 33.19739526367187, 32.232698120117185, 31.32391564941406, 30.380178344726563, 29.555346313476562, 28.79996105957031, 28.023573974609373, 27.284968872070312, 26.624938232421876, 25.910571044921873, 25.297832641601563, 24.682422607421874, 24.145498779296876, 23.585188232421874, 23.066875366210937, 22.485051879882814, 21.9796689453125, 21.492886474609374, 21.07097607421875, 20.653514038085937, 20.29848486328125, 19.810492309570314, 19.32361767578125, 19.028112548828126, 18.66706262207031, 18.2932236328125, 17.955244018554687, 17.653605224609375, 17.337364990234374, 16.952880493164063, 16.74435803222656, 16.4192333984375, 16.075664428710937, 15.868893310546875, 15.579951293945312, 15.23692431640625, 15.065296142578125, 14.824302185058594, 14.498288269042968, 14.3531396484375, 14.116803588867187, 13.9441962890625, 13.623978393554687, 13.476963317871094, 13.2223134765625, 13.02983416748047, 12.833060791015624, 12.618138610839845, 12.56075164794922, 12.232467895507812, 12.120241821289062, 11.878360168457032, 11.776567077636718, 11.54067724609375, 11.458901977539062, 11.275240417480468, 11.177948608398438, 11.041528747558594, 10.765774108886719, 10.617597778320313, 10.51883251953125, 10.488388488769532, 10.211489501953125, 10.141289306640624, 9.962035583496094, 9.869735473632813, 9.7818203125, 9.616660095214844, 9.502905639648437, 9.44230419921875, 9.33701953125, 9.18600927734375, 9.096065063476562, 8.944542053222657, 8.896969360351562, 8.847071655273437, 8.702191345214844, 8.599707214355469, 8.553019714355468, 8.335192749023438, 8.387217956542969, 8.200837280273438, 8.11169384765625, 8.041027099609375, 7.966112274169922, 7.783909515380859, 7.852674743652344, 7.739523834228516, 7.6153956909179685, 7.589137969970703, 7.500329772949219, 7.426951049804687, 7.348042694091797, 7.22914892578125, 7.243942169189453, 7.081420532226563, 7.04664794921875, 6.998856231689453, 6.918267669677735, 6.82258578491211, 6.744308197021485, 6.723465270996094, 6.659182525634765, 6.61901318359375, 6.5619164733886715, 6.495064697265625, 6.436205047607422, 6.42646401977539, 6.2809674987792965, 6.264139678955078, 6.264936065673828, 6.197481964111328, 6.118287567138672, 6.048025451660156, 6.036936279296875, 5.931250549316406, 5.9154304504394535, 5.913512603759766, 5.822375610351562, 5.783783996582032, 5.729877624511719, 5.669071685791016, 5.631765991210938, 5.602307250976563, 5.567232513427735, 5.493587554931641, 5.448455993652344, 5.491707427978516, 5.408181427001953, 5.3175028076171875, 5.3313085632324215, 5.235885040283203, 5.170851684570312, 5.212630615234375, 5.192952392578125, 5.143997497558594, 5.142934936523438, 5.076935852050782, 5.009802032470703, 5.054863555908203, 4.964913177490234, 4.917295837402344, 4.960927978515625, 4.886938995361328, 4.817540222167969, 4.754771209716797, 4.777145202636719, 4.782446838378906, 4.7286040954589845, 4.643635345458985, 4.658322540283203, 4.648202575683594, 4.590012237548828, 4.557864715576172, 4.5369048461914065, 4.543078216552734, 4.502996307373047, 4.494187713623047, 4.447578765869141, 4.459900482177734, 4.3812258911132815, 4.382388763427734, 4.34293229675293, 4.347226013183594, 4.313302978515625, 4.263672210693359, 4.218028503417969, 4.254392059326172, 4.155181747436523, 4.1931819763183595, 4.183677764892578, 4.141216598510742, 4.142157760620117, 4.137654174804688, 4.102275421142578, 4.019659851074219, 4.0605753173828125, 4.039863983154297, 3.948426086425781, 4.014878555297852, 3.9781822814941408, 3.951648513793945, 3.9057003631591796, 3.867480178833008, 3.8679915618896485, 3.858266815185547, 3.842810745239258, 3.838261734008789, 3.844005279541016, 3.7691986083984377, 3.746519058227539, 3.755624237060547, 3.766855194091797, 3.7721720581054687, 3.708943557739258, 3.709199966430664, 3.711053039550781, 3.671951400756836, 3.6512670288085936, 3.6538223419189455, 3.574890838623047, 3.597072982788086, 3.6018953552246096, 3.534069091796875, 3.557712341308594, 3.5372549896240235, 3.5417296905517577, 3.5423470306396485, 3.510359939575195, 3.448061264038086, 3.4174651641845704, 3.4710970306396485, 3.4087467651367187, 3.46037060546875, 3.4562601928710937, 3.387573471069336, 3.3575989227294922, 3.43957861328125, 3.3857340240478515, 3.395373764038086, 3.386155349731445, 3.310093704223633, 3.318269805908203, 3.3086454010009767, 3.267987487792969, 3.303506301879883, 3.3067076110839846, 3.263891891479492, 3.2453487701416015, 3.26978955078125, 3.219226333618164, 3.2115150299072264, 3.2061475067138674, 3.142316452026367, 3.1995069427490233, 3.1473468017578123, 3.1784024658203127, 3.151968734741211, 3.1359779663085936, 3.1536896514892576, 3.043062789916992, 3.101549575805664, 3.062168640136719, 3.0297045593261718, 3.0566549224853516, 3.1148372802734374, 3.024598678588867, 2.9870277252197264, 3.005744903564453, 3.0252908477783205, 3.0143765869140626, 2.9734490509033202, 2.9971456451416016, 2.966494689941406, 3.017823516845703, 2.9052945861816406, 2.929708511352539, 2.916012222290039, 2.934363571166992, 2.9169698486328124, 2.8923987731933596]\n",
      "Validation loss: 60\n",
      "[[0, 410.5713359375], [5, 365.3943046875], [10, 304.4264609375], [15, 221.8685390625], [20, 135.5868515625], [25, 70.168353515625], [30, 34.806671875], [35, 19.15247705078125], [40, 12.265762451171875], [45, 9.054086669921874], [50, 7.129149169921875], [55, 6.065364990234375], [60, 5.231930297851562], [65, 4.69196142578125], [70, 4.285593627929687], [75, 3.8958619384765627], [80, 3.6424371948242187], [85, 3.3402343139648436], [90, 3.1342579345703125], [95, 2.918254943847656], [100, 2.880181640625], [105, 2.6896292724609374], [110, 2.5794449462890623], [115, 2.4465184326171876], [120, 2.342043701171875], [125, 2.3172528686523437], [130, 2.264946228027344], [135, 2.1799301147460937], [140, 2.128213897705078], [145, 2.0904544372558593], [150, 2.0554592590332033], [155, 2.097678985595703], [160, 1.9895146789550782], [165, 1.9807109375], [170, 1.9676072082519531], [175, 1.9745373840332032], [180, 1.9792400817871094], [185, 1.9862691650390625], [190, 1.9491908874511719], [195, 1.913110565185547], [200, 1.9509686584472656], [205, 1.9165592041015624], [210, 1.8655177612304688], [215, 1.8794142456054688], [220, 1.8496696166992188], [225, 1.8670098876953125], [230, 1.8810624084472656], [235, 1.8553755493164064], [240, 1.839714599609375], [245, 1.9031268310546876], [250, 1.7812786865234376], [255, 1.8519719848632812], [260, 1.8070271301269532], [265, 1.7663199768066407], [270, 1.7740641174316407], [275, 1.7407046203613281], [280, 1.7766815795898439], [285, 1.7709336853027344], [290, 1.7028409423828126], [295, 1.7272208862304688]]\n"
     ]
    },
    {
     "data": {
      "image/png": "[encoded data removed]",
      "text/plain": [
       "<Figure size 640x480 with 1 Axes>"
      ]
     },
     "metadata": {},
     "output_type": "display_data"
    },
    {
     "data": {
      "image/png": "[encoded data removed]",
      "text/plain": [
       "<Figure size 640x480 with 1 Axes>"
      ]
     },
     "metadata": {},
     "output_type": "display_data"
    }
   ],
   "source": [
    "print('Training loss:', len(train_loss))\n",
    "print(train_loss)\n",
    "print('Validation loss:', len(val_loss))\n",
    "print(val_loss)\n",
    "\n",
    "\n",
    "# 準備驗證損失數據\n",
    "val_len = len(val_loss)\n",
    "val_plt = np.zeros((2, val_len))\n",
    "for i in range(val_len):\n",
    "    val_plt[0, i] = val_loss[i][0]\n",
    "    val_plt[1, i] = val_loss[i][1]\n",
    "\n",
    "# **圖1：訓練損失圖**\n",
    "plot_idx = np.arange(np.size(train_loss))\n",
    "plt.plot(plot_idx[5:-1], train_loss[5:-1], lw=2, label='Training loss')\n",
    "plt.yscale(\"log\")\n",
    "plt.xlabel('Epoch')\n",
    "plt.ylabel('Loss')\n",
    "plt.title('Training Loss')\n",
    "plt.legend()\n",
    "plt.grid(True)\n",
    "plt.show(block=False)\n",
    "\n",
    "# **圖2：驗證損失圖**\n",
    "plt.plot(val_plt[0, 1:], val_plt[1, 1:], lw=2, label='Validation loss')\n",
    "plt.yscale(\"log\")\n",
    "plt.xlabel('Epoch')\n",
    "plt.ylabel('Loss')\n",
    "plt.title('Validation Loss')\n",
    "plt.legend()\n",
    "plt.grid(True)\n",
    "plt.show(block=False)\n"
   ]
  },
  {
   "cell_type": "markdown",
   "metadata": {
    "id": "R9uGUm4rsco3"
   },
   "source": [
    "# Evaluate the model w/ validation set"
   ]
  },
  {
   "cell_type": "code",
   "execution_count": 127,
   "metadata": {
    "id": "4u6001UQ2pN3"
   },
   "outputs": [
    {
     "name": "stdout",
     "output_type": "stream",
     "text": [
      "Validation dataset size: torch.Size([2000, 708])\n",
      "Number of validation set:  2000\n",
      "torch.Size([2000, 236])\n"
     ]
    }
   ],
   "source": [
    "n_test = np.size(x_test,0)\n",
    "x_test_feed = torch.from_numpy(x_test).float()\n",
    "x_test_feed = x_test_feed#.transpose(1,2)\n",
    "x_test_feed = x_test_feed.to(device)\n",
    "print('Validation dataset size:',x_test_feed.shape)\n",
    "print('Number of validation set: ',n_test)\n",
    "y_pred = net(x_test_feed)\n",
    "print(y_pred.shape)"
   ]
  },
  {
   "cell_type": "markdown",
   "metadata": {
    "id": "YnNbSGYoXS3J"
   },
   "source": [
    "* Visualization\n",
    "\n",
    "\n"
   ]
  },
  {
   "cell_type": "markdown",
   "metadata": {
    "id": "VKZQaqwJkn3P"
   },
   "source": [
    " - Visualize errors"
   ]
  },
  {
   "cell_type": "code",
   "execution_count": 128,
   "metadata": {
    "id": "7-JCo0KmXwm3"
   },
   "outputs": [
    {
     "name": "stdout",
     "output_type": "stream",
     "text": [
      "(2000, 236) (2000, 236)\n"
     ]
    }
   ],
   "source": [
    "y_pred1 = y_pred.cpu().detach()\n",
    "y_pred1 = torch.squeeze(y_pred1,1).numpy()#.transpose()\n",
    "print(y_test.shape,y_pred1.shape)"
   ]
  },
  {
   "cell_type": "code",
   "execution_count": 129,
   "metadata": {
    "id": "NOeXUzrd9h9y"
   },
   "outputs": [
    {
     "name": "stdout",
     "output_type": "stream",
     "text": [
      "(118, 2, 2000) (2000, 236)\n"
     ]
    }
   ],
   "source": [
    "# x=np.reshape(x,(x.shape[0]*x.shape[1],x.shape[2])) # reshape by samples not dim1\n",
    "# y=np.reshape(y,(y.shape[0]*y.shape[1],y.shape[2]))\n",
    "# print(x_pre.shape,y_pre.shape)\n",
    "\n",
    "y_pred_temp = y_pred1.copy().transpose()\n",
    "# y_pred2=np.reshape(y_pred2,(y_pre.shape[0],y_pre.shape[1],n_test))\n",
    "y_pred2=np.zeros([y.shape[0],y.shape[1],n_test])\n",
    "y_pred2[:,0,:]=y_pred_temp[:n_bus,:]\n",
    "y_pred2[:,1,:]=y_pred_temp[n_bus:,:]\n",
    "print(y_pred2.shape,y_pred1.shape)\n",
    "\n",
    "y_test_temp = y_test.copy().transpose()\n",
    "# y_pred2=np.reshape(y_pred2,(y_pre.shape[0],y_pre.shape[1],n_test))\n",
    "y_test2=np.zeros([y.shape[0],y.shape[1],n_test])\n",
    "y_test2[:,0,:]=y_test_temp[:n_bus,:]\n",
    "y_test2[:,1,:]=y_test_temp[n_bus:,:]\n",
    "y_pred1 = y_pred2.copy()"
   ]
  },
  {
   "cell_type": "code",
   "execution_count": 169,
   "metadata": {
    "id": "2eVE-t3nl0Cb"
   },
   "outputs": [
    {
     "name": "stdout",
     "output_type": "stream",
     "text": [
      "[[559.43347168 456.63485718 475.63717651 ... 493.13934326 574.68304443\n",
      "  450.26278687]\n",
      " [  0.90910326   0.90909856   0.90909929 ...   0.90910084   0.90910874\n",
      "    0.90910313]]\n",
      "=================================\n",
      "[478.19  474.75  472.6   457.43  456.03  465.57  467.33  455.09  448.74\n",
      " 442.24  467.25  468.92  472.7   470.32  466.89  467.68  456.19  464.16\n",
      " 466.67  466.3   462.44  454.94  440.61  437.18  428.07  430.73  460.51\n",
      " 465.04  467.11  452.45  465.87  461.51  463.79  454.5   456.39  456.57\n",
      " 452.06  447.79  466.3   470.08  471.88  461.59  457.67  453.19  448.73\n",
      " 433.46  423.43  425.53  419.92  427.87  438.39  442.39  442.6   437.33\n",
      " 437.98  437.65  435.7   439.61  414.27  409.86  407.89  411.42  411.61\n",
      " 408.98  406.75  408.35  411.99  399.11  394.37  433.25  434.48  438.13\n",
      " 434.95  439.26  433.75  441.41  421.95  420.68  414.    390.19  394.41\n",
      " 509.01  507.77  504.24  499.73  503.    500.08  491.96  481.08  500.37\n",
      " 492.28  475.56  587.67  684.18  631.42  557.12  475.4   256.33  127.25\n",
      "  16.249 217.57  391.88   51.441  39.484  41.115  37.1    40.477  45.199\n",
      "  46.845  49.665  49.496  51.481 457.29  463.17  463.28  399.58  474.28\n",
      " 439.92   12.46   13.28   13.24   16.     15.71   15.19   14.91   14.12\n",
      "  16.     14.8    14.4    14.64   13.17   14.58   14.73   14.31   15.86\n",
      "  15.02   14.65   13.24   12.67   13.08   14.9    15.18   16.     12.15\n",
      "  13.94   12.95   12.71   12.78   12.94   13.92   14.45   15.73   15.46\n",
      "  15.52   16.     10.93   13.78   13.61   12.94   13.83   13.44   12.01\n",
      "  11.45   13.43   13.89   14.29   14.59   13.62   11.98   11.44   11.5\n",
      "  13.03   13.08   13.02   12.97   12.21   15.74   14.89   15.1    14.35\n",
      "  12.57   13.12   12.54   16.     14.7    13.17   16.     13.17   13.34\n",
      "  13.8    13.43   11.19   11.53   10.17   14.39   13.91   14.1    16.\n",
      "  12.21   12.5    12.79   13.05   13.78   13.11   14.19   14.39   16.\n",
      "  13.97   14.45   13.38   11.59   10.74   10.17   11.81   13.39   13.22\n",
      "  12.78   10.78   10.38   12.28    6.413   4.222   4.137   4.234   4.\n",
      "   4.      4.      4.456   5.296   4.     15.6    13.44   13.4    13.69\n",
      "  13.11   10.24 ]\n"
     ]
    }
   ],
   "source": [
    "# recover the original p.u. scale\n",
    "# vy_deviation) * vy_scale\n",
    "y_pred1[:,1,:] = y_pred1[:,1,:] / vy_scale + vy_deviation\n",
    "y_test2[:,1,:] = y_test2[:,1,:] / vy_scale + vy_deviation\n",
    "\n",
    "\n",
    "print(y_test2.shape,y_pred1.shape)"
   ]
  },
  {
   "cell_type": "code",
   "execution_count": 131,
   "metadata": {
    "id": "FUVl5LXeknC4"
   },
   "outputs": [],
   "source": [
    "n_test = np.size(y_test2,2)\n",
    "err_L2 = np.zeros(n_test)\n",
    "err_Linf = np.zeros(n_test)\n",
    "for i in range(n_test):\n",
    "  err_L2[i] = np.linalg.norm(y_test2[:,0,i] - y_pred1[:,0,i]) / np.linalg.norm(y_test2[:,0,i])\n",
    "  err_Linf[i] = np.max(np.abs(y_test2[:,0,i] - y_pred1[:,0,i])) / np.max(np.abs(y_test2[:,0,i]))\n",
    "\n",
    "err_L2_v = np.zeros(n_test)\n",
    "err_Linf_v = np.zeros(n_test)\n",
    "for i in range(n_test):\n",
    "  err_L2_v[i] = np.linalg.norm(y_test2[:,1,i] - y_pred1[:,1,i]) / np.linalg.norm(y_test2[:,1,i])\n",
    "  err_Linf_v[i] = np.max(np.abs(y_test2[:,1,i] - y_pred1[:,1,i])) / np.max(np.abs(y_test2[:,1,i]))"
   ]
  },
  {
   "cell_type": "code",
   "execution_count": 132,
   "metadata": {
    "id": "79xFCVXklkLb"
   },
   "outputs": [
    {
     "name": "stdout",
     "output_type": "stream",
     "text": [
      "Price L2 mean: 0.08045554128300458 L_inf mean: 0.12343243133926003\n",
      "Voltage L2 mean: 0.021718021810135605 L_inf mean: 0.06613099315491264\n"
     ]
    }
   ],
   "source": [
    "err_L2_mean = np.mean(err_L2)\n",
    "err_Linf_mean = np.mean(err_Linf)\n",
    "print('Price L2 mean:', err_L2_mean,'L_inf mean:', err_Linf_mean )\n",
    "err_L2_mean_v = np.mean(err_L2_v)\n",
    "err_Linf_mean_v = np.mean(err_Linf_v)\n",
    "print('Voltage L2 mean:', err_L2_mean_v,'L_inf mean:', err_Linf_mean_v )\n",
    "\n",
    "# fig2 = plt.figure(figsize=(16, 16))\n",
    "# plt.subplot(2, 2, 1)\n",
    "# # plt.hist(np.abs(ga),bins = 10)\n",
    "# plt.plot(err_L2,'bo',markersize=0.5,label = 'L2 error')\n",
    "# plt.plot(err_Linf,'r^',markersize=0.5,label = 'Linf error')\n",
    "# plt.legend(loc=\"upper right\")\n",
    "# plt.xlabel('sample index')\n",
    "# plt.ylabel('error')\n",
    "# plt.title('Normalized sample error')\n",
    "# plt.grid(True)\n",
    "# # error histogram\n",
    "# plt.subplot(2, 2, 2)\n",
    "# plt.hist(err_L2, bins = 50, facecolor='b', alpha=0.75,label = 'L2 error')\n",
    "# plt.hist(err_Linf, bins = 50, facecolor='g', alpha=0.75,label = 'Linf error')\n",
    "# plt.legend(loc=\"upper right\")\n",
    "# plt.xlabel('sample error value')\n",
    "# plt.ylabel('frequency')\n",
    "# plt.title('Histogram of L_2 error')\n",
    "# # plt.text(60, .025, r'$\\mu=100,\\ \\sigma=15$')\n",
    "# plt.grid(True)\n",
    "\n",
    "# plt.subplot(2, 2, 3)\n",
    "# # plt.hist(np.abs(ga),bins = 10)\n",
    "# plt.plot(err_L2_v,'bo',markersize=0.5,label = 'L2 error')\n",
    "# plt.plot(err_Linf_v,'r^',markersize=0.5,label = 'Linf error')\n",
    "# plt.legend(loc=\"upper right\")\n",
    "# plt.xlabel('sample index')\n",
    "# plt.ylabel('error')\n",
    "# plt.title('Normalized sample error')\n",
    "# plt.grid(True)\n",
    "# # error histogram\n",
    "# plt.subplot(2, 2, 4)\n",
    "# plt.hist(err_L2_v, bins = 50, facecolor='b', alpha=0.75,label = 'L2 error')\n",
    "# plt.hist(err_Linf_v, bins = 50, facecolor='g', alpha=0.75,label = 'Linf error')\n",
    "# plt.legend(loc=\"upper right\")\n",
    "# plt.xlabel('sample error value')\n",
    "# plt.ylabel('frequency')\n",
    "# plt.title('Histogram of L_2 error')\n",
    "# # plt.text(60, .025, r'$\\mu=100,\\ \\sigma=15$')\n",
    "# plt.grid(True)\n",
    "# plt.show()"
   ]
  },
  {
   "cell_type": "code",
   "execution_count": 133,
   "metadata": {
    "id": "6sUddh-uGg_p"
   },
   "outputs": [
    {
     "name": "stdout",
     "output_type": "stream",
     "text": [
      "(118, 2000) (118, 2000)\n",
      "true range: 1.06 0.94\n",
      "predicted range 1.1901531410217285 0.8434119367599487\n"
     ]
    }
   ],
   "source": [
    "print(y_pred1[:,1,:n_test].shape,y_test2[:,1,:n_test].shape)\n",
    "print('true range:',np.max(y_test2[:,1,:n_test]),np.min(y_test2[:,1,:n_test]))\n",
    "print('predicted range',np.max(y_pred1[:,1,:n_test]),np.min(y_pred1[:,1,:n_test]))\n",
    "\n",
    "# fig3 = plt.figure(figsize=(16, 8))\n",
    "# flat_list1 = list(np.concatenate(y_test2[:,1,:n_test]).flat)\n",
    "# flat_list2 = list(np.concatenate(y_pred1[:,1,:n_test]).flat)\n",
    "# plt.hist(flat_list1,bins = 100,label = 'true')\n",
    "\n",
    "# plt.hist(flat_list2,bins = 100,label = 'pred')\n",
    "# plt.legend(loc=\"upper right\")\n",
    "# plt.grid(True)\n",
    "# plt.show()"
   ]
  },
  {
   "cell_type": "code",
   "execution_count": 134,
   "metadata": {
    "id": "jhfImaPsjKYq"
   },
   "outputs": [
    {
     "name": "stdout",
     "output_type": "stream",
     "text": [
      "(118, 6, 10000) 10000\n"
     ]
    }
   ],
   "source": [
    "print(x.shape,n_sample)\n",
    "\n",
    "x_new = np.zeros([x.shape[0],x.shape[1],n_sample])\n",
    "for i in range(x.shape[1]):\n",
    "  x_new[:,i,:] = x_total[n_bus*i:n_bus*(i+1),:]\n",
    "\n",
    "y_new = np.zeros([y.shape[0],y.shape[1],n_sample])\n",
    "for i in range(y.shape[1]):\n",
    "  y_new[:,i,:] = y_total[n_bus*i:n_bus*(i+1),:]"
   ]
  },
  {
   "cell_type": "markdown",
   "metadata": {
    "id": "H9x7neMNj7n3"
   },
   "source": [
    "# Predict generation using $\\pi$\n",
    "* Using predicted $\\pi$ and find the active constraints in $p_G(i)$\n",
    "* For inactive $p_G(i)$ consider other methods like power flow balance"
   ]
  },
  {
   "cell_type": "code",
   "execution_count": 135,
   "metadata": {
    "id": "Kr29K04j2KTN"
   },
   "outputs": [
    {
     "name": "stdout",
     "output_type": "stream",
     "text": [
      "(118, 10000)\n",
      "<class 'numpy.ndarray'> 118 [  0   1   2   3   4   5   6   7   8   9  10  11  12  13  14  15  16  17\n",
      "  18  19  20  21  22  23  24  25  26  27  28  29  30  31  32  33  34  35\n",
      "  36  37  38  39  40  41  42  43  44  45  46  47  48  49  50  51  52  53\n",
      "  54  55  56  57  58  59  60  61  62  63  64  65  66  67  68  69  70  71\n",
      "  72  73  74  75  76  77  78  79  80  81  82  83  84  85  86  87  88  89\n",
      "  90  91  92  93  94  95  96  97  98  99 100 101 102 103 104 105 106 107\n",
      " 108 109 110 111 112 113 114 115 116 117]\n"
     ]
    }
   ],
   "source": [
    "gen_limit0 = x_new[:,4,:].copy() # lin cost\n",
    "print(gen_limit0.shape)\n",
    "\n",
    "gen_idx = []\n",
    "gen_idx = np.arange(n_bus)\n",
    "# for i in range(n_bus):\n",
    "#   if gen_limit0[i,0] > 0:\n",
    "#     gen_idx.append(i)\n",
    "print(type(gen_idx),len(gen_idx),gen_idx)"
   ]
  },
  {
   "cell_type": "code",
   "execution_count": 136,
   "metadata": {
    "id": "gHmx9lMDXzpM"
   },
   "outputs": [
    {
     "name": "stdout",
     "output_type": "stream",
     "text": [
      "(118, 2, 10000) (236, 10000)\n"
     ]
    }
   ],
   "source": [
    "n_sample=x_total.shape[-1]\n",
    "x_feed = torch.from_numpy(x_total.T).float()\n",
    "y_pred1=net(x_feed.to(device)).cpu().detach().numpy().T\n",
    "y_pred_temp = y_pred1.copy()\n",
    "y_pred2=np.zeros([y.shape[0],y.shape[1],n_sample])\n",
    "y_pred2[:,0,:]=y_pred_temp[:n_bus,:]\n",
    "y_pred2[:,1,:]=y_pred_temp[n_bus:,:]\n",
    "print(y_pred2.shape,y_pred1.shape)\n",
    "y_pred1 = y_pred2.copy()"
   ]
  },
  {
   "cell_type": "code",
   "execution_count": 137,
   "metadata": {
    "id": "GPEHF2L91bGv"
   },
   "outputs": [
    {
     "name": "stdout",
     "output_type": "stream",
     "text": [
      "0.002414939880370781\n",
      "0.784000000000006\n",
      "0.03351739112154836\n",
      "0.24221453285700786\n"
     ]
    }
   ],
   "source": [
    "gen_cost0 = x_new[:,4,:].copy()\n",
    "lmp_data = y_new[:,0,:].copy()\n",
    "quadratic_a = x_new[:,5,:].copy()\n",
    "profit_pred = y_pred1[:,0,:] - gen_cost0\n",
    "print(np.min(np.abs(profit_pred)))\n",
    "profit_true = lmp_data - gen_cost0\n",
    "print(np.min(np.abs(profit_true)))\n",
    "profit_pred=(y_pred1[:,0,:]-gen_cost0)/(quadratic_a+1e-10)/2\n",
    "profit_true=(lmp_data-gen_cost0)/(quadratic_a+1e-10)/2\n",
    "print(np.min(np.abs(profit_pred)))\n",
    "print(np.min(np.abs(profit_true)))"
   ]
  },
  {
   "cell_type": "code",
   "execution_count": 138,
   "metadata": {
    "id": "uiHWtU5OLc1x"
   },
   "outputs": [
    {
     "name": "stdout",
     "output_type": "stream",
     "text": [
      "(118, 10000) (118, 10000)\n",
      "0.07737906553133449\n"
     ]
    }
   ],
   "source": [
    "print(profit_pred.shape,profit_true.shape)\n",
    "profit_err = profit_true - profit_pred\n",
    "profit_err_l2 = np.zeros([n_sample,1])\n",
    "\n",
    "for i in range(n_sample):\n",
    "  profit_err_l2[i] = np.linalg.norm(profit_err[:,i])/np.linalg.norm(profit_true[:,i])\n",
    "print(np.mean(profit_err_l2))\n",
    "\n",
    "# fig5 = plt.figure(figsize=(16, 8))\n",
    "# # error histogram\n",
    "# plt.hist(profit_err_l2, bins = 50, facecolor='b', alpha=0.75,label = 'L2 error')\n",
    "# # plt.hist(err_linf_new, bins = 50, facecolor='g', alpha=0.75,label = 'Linf error')\n",
    "# plt.legend(loc=\"upper right\")\n",
    "# plt.xlabel('sample error value')\n",
    "# plt.ylabel('frequency')\n",
    "# plt.title('Histogram of L_2 error')\n",
    "# # plt.text(60, .025, r'$\\mu=100,\\ \\sigma=15$')\n",
    "# plt.grid(True)\n",
    "# plt.show()"
   ]
  },
  {
   "cell_type": "code",
   "execution_count": 139,
   "metadata": {
    "id": "ZbHchRQd_g8-"
   },
   "outputs": [
    {
     "name": "stdout",
     "output_type": "stream",
     "text": [
      "(1180000,)\n",
      "-3671.8524660955945 -2.9391182643149665\n"
     ]
    }
   ],
   "source": [
    "p_pred_sort = np.reshape(profit_pred,n_bus*n_sample)\n",
    "p_true_sort = np.reshape(profit_true,n_bus*n_sample)\n",
    "print(p_pred_sort.shape)\n",
    "print(np.min(p_pred_sort),np.min(p_true_sort))"
   ]
  },
  {
   "cell_type": "code",
   "execution_count": 140,
   "metadata": {
    "id": "TYsSdNGp-OLP"
   },
   "outputs": [],
   "source": [
    "# fig2 = plt.figure(figsize=(8, 8))\n",
    "# plt.hist(p_pred_sort, bins = 50, facecolor='b', alpha=0.75,label = 'pred. profit')\n",
    "# plt.hist(p_true_sort, bins = 50, facecolor='g', alpha=0.75,label = 'true profit')\n",
    "# plt.legend(loc=\"upper right\")\n",
    "# plt.xlabel('value')\n",
    "# plt.ylabel('frequency')\n",
    "# plt.title('profit histogram')\n",
    "# # plt.text(60, .025, r'$\\mu=100,\\ \\sigma=15$')\n",
    "# plt.grid(True)\n",
    "# plt.show()"
   ]
  },
  {
   "cell_type": "code",
   "execution_count": 141,
   "metadata": {
    "id": "1J9j5tT9p_f6"
   },
   "outputs": [
    {
     "name": "stdout",
     "output_type": "stream",
     "text": [
      "1798530.703770754 2764601.835122853\n",
      "1798530.703770754 43260060.56350001 1798530.703770754\n"
     ]
    }
   ],
   "source": [
    "# x = [load, gen_cost, gen_lim]\n",
    "binary_thres_true = 1e-5\n",
    "binary_thres = x_new[:,0,:].copy() # upper\n",
    "binary_thres_lo = x_new[:,1,:].copy() # lower\n",
    "gen_pred_binary_full = np.zeros((n_bus,n_sample))\n",
    "gen_true_binary_full = np.zeros((n_bus,n_sample))\n",
    "\n",
    "for i in range(n_sample):\n",
    "  for j in range(len(gen_idx)):\n",
    "    # predicted generator limit\n",
    "    if profit_pred[gen_idx[j],i] > binary_thres[gen_idx[j],i]:\n",
    "      gen_pred_binary_full[gen_idx[j],i] = binary_thres[gen_idx[j],i]\n",
    "    elif profit_pred[gen_idx[j],i] < binary_thres_lo[gen_idx[j],i]:\n",
    "      gen_pred_binary_full[gen_idx[j],i] = binary_thres_lo[gen_idx[j],i]\n",
    "    else:\n",
    "      gen_pred_binary_full[gen_idx[j],i] = profit_pred[gen_idx[j],i]\n",
    "    # true generator limit\n",
    "    if profit_true[gen_idx[j],i] > binary_thres[gen_idx[j],i]:\n",
    "      gen_true_binary_full[gen_idx[j],i] = binary_thres[gen_idx[j],i]\n",
    "    elif profit_true[gen_idx[j],i] < binary_thres_lo[gen_idx[j],i]:\n",
    "      gen_true_binary_full[gen_idx[j],i] = binary_thres_lo[gen_idx[j],i]\n",
    "    else:\n",
    "      gen_true_binary_full[gen_idx[j],i] = profit_true[gen_idx[j],i]\n",
    "\n",
    "gen_inj=gen_pred_binary_full\n",
    "gen_inj_true=gen_true_binary_full\n",
    "# nodal injection\n",
    "load0 = -x_new[:,1,:].copy() # load file\n",
    "p_inj = gen_inj #- load0\n",
    "p_inj_true = gen_inj_true #- load0\n",
    "print(np.sum(p_inj),np.sum(gen_inj_true))\n",
    "print(np.sum(p_inj),np.sum(load0),np.sum(gen_inj))"
   ]
  },
  {
   "cell_type": "markdown",
   "metadata": {
    "id": "WAgqdRPjAONm"
   },
   "source": [
    "## injection accuracy"
   ]
  },
  {
   "cell_type": "code",
   "execution_count": 142,
   "metadata": {
    "id": "J46pLAw2AQor"
   },
   "outputs": [
    {
     "name": "stdout",
     "output_type": "stream",
     "text": [
      "(118, 10000) (118, 10000)\n",
      "mean p_inj l2 err: 0.17041065235870986\n"
     ]
    }
   ],
   "source": [
    "print(p_inj_true.shape,p_inj.shape)\n",
    "p_inj_true_sort = np.reshape(p_inj_true,n_bus*n_sample)\n",
    "p_inj_sort = np.reshape(p_inj,n_bus*n_sample)\n",
    "p_err = np.zeros(n_sample)\n",
    "for i in range(n_sample):\n",
    "  p_err[i] = np.linalg.norm(p_inj_true[:,i]-p_inj[:,i]) / np.linalg.norm(p_inj_true[:,i])\n",
    "print('mean p_inj l2 err:',np.mean(p_err))\n",
    "# fig3 = plt.figure(figsize=(16, 8))\n",
    "# plt.subplot(1,2,1)\n",
    "# plt.hist(p_inj_sort, bins = 50, facecolor='b', alpha=0.75,label = 'pred. injection')\n",
    "# plt.hist(p_inj_true_sort, bins = 50, facecolor='g', alpha=0.75,label = 'true injection')\n",
    "# plt.legend(loc=\"upper right\")\n",
    "# plt.xlabel('value')\n",
    "# plt.ylabel('frequency')\n",
    "# plt.title('injection histogram')\n",
    "# plt.subplot(1,2,2)\n",
    "# plt.hist(p_err, bins = 50, facecolor='b', alpha=0.75,label = 'injection err')\n",
    "# plt.legend(loc=\"upper right\")\n",
    "# plt.xlabel('value')\n",
    "# plt.ylabel('frequency')\n",
    "# plt.title('error histogram')\n",
    "# # plt.text(60, .025, r'$\\mu=100,\\ \\sigma=15$')\n",
    "# plt.grid(True)s_binary\n",
    "# plt.show()"
   ]
  },
  {
   "cell_type": "markdown",
   "metadata": {
    "id": "DaN7u4xeGIom"
   },
   "source": [
    "* Calculate flow"
   ]
  },
  {
   "cell_type": "code",
   "execution_count": 147,
   "metadata": {
    "id": "YT4sgn_n79MI"
   },
   "outputs": [
    {
     "name": "stdout",
     "output_type": "stream",
     "text": [
      "(186, 1) (186, 10000) (186, 10000)\n",
      "18788 13334\n",
      "0.010101075268817204 0.007168817204301075\n",
      "186 10000 (186, 10000)\n"
     ]
    }
   ],
   "source": [
    "filename=root+'118ac_fmax.txt'\n",
    "f_max1=pd.read_table(filename,sep=',',header=None).to_numpy() # flow limit\n",
    "\n",
    "n_line = np.size(S_isf,0)\n",
    "flow_est = np.zeros((n_line,n_sample))\n",
    "flow_est0 = np.zeros((n_line,n_sample))\n",
    "\n",
    "f_binary = np.zeros((n_line,n_sample))\n",
    "f_binary0 = np.zeros((n_line,n_sample))\n",
    "\n",
    "# for i in range(n_sample):\n",
    "flow_est = np.dot(S_isf,p_inj)\n",
    "flow_est0 = np.dot(S_isf,p_inj_true)\n",
    "# f_max\n",
    "# f_max_numpy = f_max.cpu().detach().numpy()\n",
    "f_max_numpy = f_max1.copy()\n",
    "f_binary = (np.abs(flow_est)-f_max_numpy > 0)\n",
    "f_binary0 = (np.abs(flow_est0)-f_max_numpy > 0)\n",
    "\n",
    "print(f_max_numpy.shape,flow_est.shape,flow_est0.shape)\n",
    "f_tot_sample = n_line * n_sample\n",
    "print(np.sum(f_binary),np.sum(f_binary0))\n",
    "print(np.sum(f_binary)/f_tot_sample,np.sum(f_binary0)/f_tot_sample)\n",
    "print(n_line,n_sample,flow_est.shape)"
   ]
  },
  {
   "cell_type": "code",
   "execution_count": 148,
   "metadata": {
    "id": "VyvDpKhyQj0M"
   },
   "outputs": [
    {
     "name": "stdout",
     "output_type": "stream",
     "text": [
      "178.8995121653287 39.64401431411352\n",
      "1.1926634144355246 0.2642934287607568\n"
     ]
    }
   ],
   "source": [
    "# soft threshold\n",
    "f_err_est = np.abs(flow_est)-f_max_numpy\n",
    "f_err_true = np.abs(flow_est0)-f_max_numpy\n",
    "\n",
    "f_err_est = np.maximum(np.abs(flow_est)-f_max_numpy,0) # identify violations\n",
    "f_err_true = np.maximum(np.abs(flow_est0)-f_max_numpy,0)\n",
    "\n",
    "print(np.max(f_err_est),np.max(f_err_true))\n",
    "print(np.max(f_err_est/f_max_numpy),np.max(f_err_true/f_max_numpy))"
   ]
  },
  {
   "cell_type": "code",
   "execution_count": 149,
   "metadata": {
    "id": "7iuX7tN2a2Cp"
   },
   "outputs": [
    {
     "name": "stdout",
     "output_type": "stream",
     "text": [
      "14417 10451\n",
      "0.007751075268817204 0.005618817204301075\n"
     ]
    }
   ],
   "source": [
    "f_binary_soft = (np.abs(flow_est)-f_max_numpy > 0.1*(f_max_numpy))\n",
    "f_binary0_soft = (np.abs(flow_est0)-f_max_numpy > 0.1*(f_max_numpy))\n",
    "print(np.sum(f_binary_soft),np.sum(f_binary0_soft))\n",
    "print(np.sum(f_binary_soft)/f_tot_sample,np.sum(f_binary0_soft)/f_tot_sample)"
   ]
  },
  {
   "cell_type": "code",
   "execution_count": 150,
   "metadata": {
    "id": "SYl9pxnOUUQF"
   },
   "outputs": [],
   "source": [
    "f_pred_sort = np.reshape(f_err_est/f_max_numpy,n_line*n_sample)\n",
    "f_true_sort = np.reshape(f_err_true/f_max_numpy,n_line*n_sample)\n",
    "\n",
    "# fig2 = plt.figure(figsize=(16, 8))\n",
    "# plt.subplot(1,2,1)\n",
    "# plt.hist(f_pred_sort, bins = 10, facecolor='b', alpha=0.75,label = 'pred. f')\n",
    "# plt.hist(f_true_sort, bins = 10, facecolor='g', alpha=0.75,label = 'true f')\n",
    "# plt.legend(loc=\"upper right\")\n",
    "# plt.xlabel('percentage')\n",
    "# plt.ylabel('frequency')\n",
    "# plt.title('flow violation level histogram')\n",
    "# plt.subplot(1,2,2)\n",
    "# plt.hist(f_true_sort, bins = 10, facecolor='g', alpha=0.75,label = 'true f')\n",
    "# plt.legend(loc=\"upper right\")\n",
    "# plt.xlabel('percentage')\n",
    "# plt.ylabel('frequency')\n",
    "# plt.title('flow violation level histogram')\n",
    "# # plt.text(60, .025, r'$\\mu=100,\\ \\sigma=15$')\n",
    "# plt.grid(True)\n",
    "# plt.show()"
   ]
  },
  {
   "cell_type": "code",
   "execution_count": 151,
   "metadata": {
    "id": "YglgTpWVRLri"
   },
   "outputs": [
    {
     "name": "stdout",
     "output_type": "stream",
     "text": [
      "max sample pred: 7\n",
      "max line pred: 7152\n",
      "max sample true: 3\n",
      "max line true: 10000\n"
     ]
    }
   ],
   "source": [
    "f_line = np.sum(f_binary,0)\n",
    "f_samp = np.sum(f_binary,1)\n",
    "print('max sample pred:',np.max(f_line))\n",
    "print('max line pred:',np.max(f_samp))\n",
    "\n",
    "f_line0  = np.sum(f_binary0,0)\n",
    "f_samp0 = np.sum(f_binary0,1)\n",
    "print('max sample true:',np.max(f_line0))\n",
    "print('max line true:',np.max(f_samp0))"
   ]
  },
  {
   "cell_type": "markdown",
   "metadata": {
    "id": "WZQnarHmPl35"
   },
   "source": [
    "# Check objective optimality"
   ]
  },
  {
   "cell_type": "code",
   "execution_count": 152,
   "metadata": {
    "id": "BZjhp-CgQaDz"
   },
   "outputs": [
    {
     "name": "stdout",
     "output_type": "stream",
     "text": [
      "0.12381720443536665\n"
     ]
    }
   ],
   "source": [
    "gen_cost_pred = np.zeros((n_bus,n_sample))\n",
    "gen_cost_true = np.zeros((n_bus,n_sample))\n",
    "objective_err = np.zeros(n_sample)\n",
    "\n",
    "gen_cost_pred = np.multiply(np.multiply(p_inj,p_inj),quadratic_a) + np.multiply(p_inj,gen_cost0)\n",
    "gen_cost_true = np.multiply(np.multiply(p_inj_true,p_inj_true),quadratic_a) + np.multiply(p_inj_true,gen_cost0)\n",
    "\n",
    "objective_err = np.sum(np.abs(gen_cost_true-gen_cost_pred),axis=0) / np.sum(gen_cost_true,axis=0)\n",
    "print(np.mean(objective_err))\n",
    "\n",
    "# fig6 = plt.figure(figsize=(16, 8))\n",
    "# # error histogram\n",
    "# plt.hist(objective_err, bins = 50, facecolor='b', alpha=0.75,label = 'L2 error')\n",
    "# # plt.hist(err_linf_new, bins = 50, facecolor='g', alpha=0.75,label = 'Linf error')\n",
    "# plt.legend(loc=\"upper right\")\n",
    "# plt.xlabel('sample error value')\n",
    "# plt.ylabel('frequency')\n",
    "# plt.title('Histogram of L_2 error')\n",
    "# # plt.text(60, .025, r'$\\mu=100,\\ \\sigma=15$')\n",
    "# plt.grid(True)\n",
    "# plt.show()"
   ]
  },
  {
   "cell_type": "markdown",
   "metadata": {
    "id": "vdrsAWpYo0-w"
   },
   "source": [
    "## injection accuracy"
   ]
  },
  {
   "cell_type": "code",
   "execution_count": 153,
   "metadata": {
    "id": "mArjSN-So0-x"
   },
   "outputs": [
    {
     "name": "stdout",
     "output_type": "stream",
     "text": [
      "(118, 10000) (118, 10000)\n",
      "mean p_inj l2 err: 0.17041065235870986\n"
     ]
    }
   ],
   "source": [
    "print(p_inj_true.shape,p_inj.shape)\n",
    "\n",
    "p_inj_true_sort = np.reshape(p_inj_true,n_bus*n_sample)\n",
    "p_inj_sort = np.reshape(p_inj,n_bus*n_sample)\n",
    "\n",
    "p_err = np.zeros(n_sample)\n",
    "for i in range(n_sample):\n",
    "  p_err[i] = np.linalg.norm(p_inj_true[:,i]-p_inj[:,i]) / np.linalg.norm(p_inj_true[:,i])\n",
    "\n",
    "print('mean p_inj l2 err:',np.mean(p_err))\n",
    "# fig3 = plt.figure(figsize=(16, 8))\n",
    "# plt.subplot(1,2,1)\n",
    "# plt.hist(p_inj_sort, bins = 50, facecolor='b', alpha=0.75,label = 'pred. injection')\n",
    "# plt.hist(p_inj_true_sort, bins = 50, facecolor='g', alpha=0.75,label = 'true injection')\n",
    "# plt.legend(loc=\"upper right\")\n",
    "# plt.xlabel('value')\n",
    "# plt.ylabel('frequency')\n",
    "# plt.title('injection histogram')s_binary\n",
    "# plt.subplot(1,2,2)\n",
    "# plt.hist(p_err, bins = 50, facecolor='b', alpha=0.75,label = 'injection err')\n",
    "# plt.legend(loc=\"upper right\")\n",
    "# plt.xlabel('value')\n",
    "# plt.ylabel('frequency')\n",
    "# plt.title('error histogram')\n",
    "# # plt.text(60, .025, r'$\\mu=100,\\ \\sigma=15$')\n",
    "# plt.grid(True)\n",
    "# plt.show()"
   ]
  },
  {
   "cell_type": "markdown",
   "metadata": {
    "id": "ujU84tOSpqsy"
   },
   "source": [
    "# Test AC feasibility\n",
    "* P in actual value, V in p.u.\n",
    "* Use P to recover $\\theta$, or solve $\\theta$ and Q for PF\n",
    "$$ Q_m = V_m \\sum_{n=1}^N V_n \\left(G_{mn}\\sin\\theta_{mn} - B_{mn}\\cos\\theta_{mn} \\right) $$\n",
    "calculate $Q_{mn}$ directly"
   ]
  },
  {
   "cell_type": "code",
   "execution_count": 157,
   "metadata": {
    "id": "Of6mEXF4puDN"
   },
   "outputs": [
    {
     "name": "stdout",
     "output_type": "stream",
     "text": [
      "(118, 118) (118, 118)\n",
      "(117, 117) (118, 10000) (118, 10000)\n",
      "(118, 10000) (118, 10000)\n"
     ]
    }
   ],
   "source": [
    "# Bbus and B_r inverse\n",
    "filename1 = root+'ieee118_Bbus.txt'\n",
    "Bbus=pd.read_table(filename1,sep=',',header=None).to_numpy()\n",
    "B_r = np.delete(Bbus,68,axis=0)\n",
    "B_r = np.delete(B_r,68,axis=1)\n",
    "Br_inv = np.linalg.inv(B_r)\n",
    "\n",
    "# Y = G + jB\n",
    "filename1 = root+'ieee118_Gmat.txt'\n",
    "G_mat=pd.read_table(filename1,sep=',',header=None).to_numpy()\n",
    "filename1 = root+'ieee118_Bmat.txt'\n",
    "B_mat=pd.read_table(filename1,sep=',',header=None).to_numpy()\n",
    "print(G_mat.shape,B_mat.shape)\n",
    "\n",
    "# line parameters\n",
    "filename1 = root+'ieee118_lineloc.txt'\n",
    "line_loc = pd.read_table(filename1,sep=',',header=None).to_numpy()\n",
    "\n",
    "# load line params\n",
    "filename1 = root+'ieee118_lineparams.txt'\n",
    "line_params = pd.read_table(filename1,sep=',',header=None).to_numpy()\n",
    "R_line = line_params[:,0].copy()\n",
    "X_line = line_params[:,1].copy()\n",
    "B_shunt = line_params[:,2].copy()\n",
    "Z_line = R_line + 1j * X_line \n",
    "Y_line = 1 / Z_line\n",
    "G_line = np.real(Y_line)\n",
    "B_line = np.imag(Y_line)\n",
    "# P_inj w/out reference bus in p.u.\n",
    "p_inj_r = np.delete(p_inj,68,axis=0) / 100\n",
    "p_inj_true_r = np.delete(p_inj_true,68,axis=0) / 100\n",
    "p_inj_pu = p_inj / 100\n",
    "p_inj_true_pu = p_inj_true / 100\n",
    "print(Br_inv.shape,p_inj.shape,p_inj_true.shape)#p_inj_true\n",
    "\n",
    "theta0 = np.matmul(Br_inv,p_inj_r)\n",
    "theta_true0 = np.matmul(Br_inv,p_inj_true_r)\n",
    "theta = np.insert(theta0,68,0,axis = 0)\n",
    "theta_true = np.insert(theta_true0,68,0,axis = 0)\n",
    "print(theta.shape,theta_true.shape)"
   ]
  },
  {
   "cell_type": "code",
   "execution_count": 158,
   "metadata": {},
   "outputs": [
    {
     "name": "stdout",
     "output_type": "stream",
     "text": [
      "0.4875608113598843 -0.9763798480556659\n",
      "2.7803011534120627 -9.166735486002148\n"
     ]
    }
   ],
   "source": [
    "print(np.max(theta),np.min(theta))\n",
    "math.sin(math.pi/6)\n",
    "print(G_line[0],B_line[0])"
   ]
  },
  {
   "cell_type": "code",
   "execution_count": 159,
   "metadata": {},
   "outputs": [
    {
     "name": "stdout",
     "output_type": "stream",
     "text": [
      "(186, 10000)\n",
      "1.2065101623535157 0.8430686187744141 (118, 10000)\n"
     ]
    }
   ],
   "source": [
    "# Calculate real and reactive flow\n",
    "f_p = np.zeros((n_line,n_sample))\n",
    "f_q = np.zeros((n_line,n_sample))\n",
    "fji_p = np.zeros((n_line,n_sample))\n",
    "fji_q = np.zeros((n_line,n_sample))\n",
    "print(f_q.shape)\n",
    "\n",
    "v_pred = y_pred1[:,1,:].copy()\n",
    "v_pred = v_pred / vy_scale + vy_deviation\n",
    "print(np.max(v_pred),np.min(v_pred),v_pred.shape)\n",
    "\n",
    "theta1 = theta[line_loc[:,0]-1,:]\n",
    "theta2 = theta[line_loc[:,1]-1,:]\n",
    "V1 = v_pred[line_loc[:,0]-1,:]\n",
    "V2 = v_pred[line_loc[:,1]-1,:] \n",
    "f_p=(a*G_line*(V1*V1).T)-a*((V1*V2).T)*(G_line*np.cos(theta1-theta2).T+B_line*np.sin(theta1-theta2).T)\n",
    "f_p=f_p.T\n",
    "f_q=-a*(V1.T)*(a*V1.T)*(B_line+B_shunt/2)+a*((V1*V2).T)*(B_line*np.cos(theta1-theta2).T-G_line*np.sin(theta1-theta2).T)\n",
    "f_q=f_q.T\n",
    "\n",
    "theta1 = theta[line_loc[:,1]-1,:]\n",
    "theta2 = theta[line_loc[:,0]-1,:]\n",
    "V1 = v_pred[line_loc[:,1]-1,:]\n",
    "V2 = v_pred[line_loc[:,0]-1,:]\n",
    "fji_p=(a*G_line*(V1*V1).T)-a*((V1*V2).T)*(G_line*np.cos(theta1-theta2).T+B_line*np.sin(theta1-theta2).T)\n",
    "fji_p=fji_p.T\n",
    "fji_q=-a*(V1.T)*(a*V1.T)*(B_line+B_shunt/2)+a*((V1*V2).T)*(B_line*np.cos(theta1-theta2).T-G_line*np.sin(theta1-theta2).T)\n",
    "fji_q=fji_q.T"
   ]
  },
  {
   "cell_type": "code",
   "execution_count": 160,
   "metadata": {
    "id": "gKfcrbTSVMeO"
   },
   "outputs": [
    {
     "name": "stdout",
     "output_type": "stream",
     "text": [
      "28.220746456605923 -25.75835236807879\n",
      "29.55473237180867 151.0\n"
     ]
    }
   ],
   "source": [
    "s_pred = np.sqrt(f_p*f_p+f_q*f_q)*100\n",
    "sji_pred = np.sqrt(fji_p*fji_p+fji_q*fji_q)*100\n",
    "print(np.max(f_q),np.min(f_q))\n",
    "flow_est.shape\n",
    "print(np.mean(s_pred[0,:]),np.mean(f_max_numpy[0]))"
   ]
  },
  {
   "cell_type": "code",
   "execution_count": 161,
   "metadata": {
    "id": "YO4__LJ2brLu"
   },
   "outputs": [
    {
     "name": "stdout",
     "output_type": "stream",
     "text": [
      "109160\n",
      "hard violation rate: 0.05868817204301075\n",
      "84726\n",
      "0.045551612903225805\n"
     ]
    }
   ],
   "source": [
    "sij_binary = (np.abs(s_pred)-f_max_numpy[:n_line] > 0)\n",
    "sji_binary = (np.abs(sji_pred)-f_max_numpy[:n_line] > 0)\n",
    "s_binary = np.maximum(sij_binary,sji_binary)\n",
    "print(np.sum(s_binary))#,np.sum(f_binary0))\n",
    "print('hard violation rate:',np.sum(s_binary)/n_sample/n_line)#,np.sum(f_binary0)/f_tot_sample)\n",
    "s_binary_soft = (np.abs(s_pred)-f_max_numpy[:n_line] > 0.1*(f_max_numpy[:n_line]))\n",
    "print(np.sum(s_binary_soft))#,np.sum(f_binary0_soft))\n",
    "print(np.sum(s_binary_soft)/n_sample/n_line)#,np.sum(f_binary0_soft)/f_tot_sample)"
   ]
  },
  {
   "cell_type": "code",
   "execution_count": 162,
   "metadata": {
    "id": "Ty0WpBdfJwMR"
   },
   "outputs": [
    {
     "name": "stdout",
     "output_type": "stream",
     "text": [
      "S violation level:\n",
      "hard: 0.05868817204301075\n",
      "mean: 0.03881626261151541\n",
      "median: 0.0\n",
      "max: 10.57469260036414\n",
      "std: 0.24940682714854487\n",
      "p99: 1.1929441977388715\n",
      "f violation level:\n",
      "hard: 0.010101075268817204 0.007168817204301075\n",
      "mean: 0.0032726606668125073\n",
      "median: 0.0\n",
      "max: 1.1926634144355246\n",
      "std: 0.0411079100290112\n",
      "p99: 0.002968815422203887\n"
     ]
    }
   ],
   "source": [
    "# violation level\n",
    "sij_violation = np.abs(s_pred)-f_max_numpy[:n_line] #/ f_max_numpy\n",
    "sij_violation_level = np.maximum(sij_violation,0)\n",
    "sji_violation = np.abs(sji_pred)-f_max_numpy[:n_line] #/ f_max_numpy\n",
    "sji_violation_level = np.maximum(sji_violation,0)\n",
    "s_violation_level = np.maximum(sij_violation_level,sji_violation_level)\n",
    "s_violation_level = np.divide(s_violation_level,f_max_numpy[:n_line])\n",
    "s_vio_lvl = np.reshape(s_violation_level,n_line*n_sample)\n",
    "\n",
    "print('S violation level:')\n",
    "print('hard:',np.sum(s_binary)/f_tot_sample)\n",
    "print('mean:',np.mean(s_vio_lvl))\n",
    "print('median:',np.median(s_vio_lvl))\n",
    "print('max:',np.max(s_vio_lvl))\n",
    "print('std:',np.std(s_vio_lvl))\n",
    "print('p99:',np.percentile(s_vio_lvl,99))\n",
    "\n",
    "f_violation = np.abs(flow_est)-f_max_numpy #/ f_max_numpy\n",
    "f_violation_level = np.maximum(f_violation,0)\n",
    "f_violation_level = np.divide(f_violation_level,f_max_numpy)\n",
    "f_vio_lvl = np.reshape(f_violation_level,n_line*n_sample)\n",
    "\n",
    "print('f violation level:')\n",
    "print('hard:',np.sum(f_binary)/f_tot_sample,np.sum(f_binary0)/f_tot_sample)\n",
    "print('mean:',np.mean(f_vio_lvl))\n",
    "print('median:',np.median(f_vio_lvl))\n",
    "print('max:',np.max(f_vio_lvl))\n",
    "print('std:',np.std(f_vio_lvl))\n",
    "print('p99:',np.percentile(f_vio_lvl,99))\n",
    "\n",
    "# fig4 = plt.figure(figsize=(6,4))\n",
    "# plt.hist(s_vio_lvl, bins = 50, facecolor='b', alpha=0.75,label = 's violation')\n",
    "# plt.hist(f_vio_lvl, bins = 50, facecolor='r', alpha=0.75,label = 'f violation')\n",
    "# plt.legend(loc=\"upper right\")\n",
    "# plt.xlabel('violation level')\n",
    "# plt.ylabel('frequency')\n",
    "# # plt.title('injection histogram')\n",
    "# plt.show()"
   ]
  },
  {
   "cell_type": "code",
   "execution_count": 163,
   "metadata": {
    "id": "kWXEpj-ryjbJ"
   },
   "outputs": [
    {
     "name": "stdout",
     "output_type": "stream",
     "text": [
      "Price L2 mean: 0.08045554128300458 L_inf mean: 0.12343243133926003\n",
      "std: 0.03331843431284709\n",
      "Voltage L2 mean: 0.021718021810135605 L_inf mean: 0.06613099315491264\n",
      "std: 0.002732491031864714\n"
     ]
    }
   ],
   "source": [
    "# err_L2_mean = np.mean(err_L2)\n",
    "# err_Linf_mean = np.mean(err_Linf)\n",
    "print('Price L2 mean:', err_L2_mean,'L_inf mean:', err_Linf_mean )\n",
    "print('std:',np.std(err_L2))\n",
    "# err_L2_mean_v = np.mean(err_L2_v)\n",
    "# err_Linf_mean_v = np.mean(err_Linf_v)\n",
    "print('Voltage L2 mean:', err_L2_mean_v,'L_inf mean:', err_Linf_mean_v )\n",
    "print('std:',np.std(err_L2_v))"
   ]
  }
 ],
 "metadata": {
  "accelerator": "GPU",
  "colab": {
   "collapsed_sections": [],
   "machine_shape": "hm",
   "name": "118ac_feasdnn0417.ipynb",
   "provenance": []
  },
  "kernelspec": {
   "display_name": "AC_OPF",
   "language": "python",
   "name": "python3"
  },
  "language_info": {
   "codemirror_mode": {
    "name": "ipython",
    "version": 3
   },
   "file_extension": ".py",
   "mimetype": "text/x-python",
   "name": "python",
   "nbconvert_exporter": "python",
   "pygments_lexer": "ipython3",
   "version": "3.12.7"
  }
 },
 "nbformat": 4,
 "nbformat_minor": 0
}
