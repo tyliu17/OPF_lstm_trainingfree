{
 "cells": [
  {
   "cell_type": "code",
   "execution_count": 118,
   "metadata": {
    "executionInfo": {
     "elapsed": 111,
     "status": "ok",
     "timestamp": 1622487412597,
     "user": {
      "displayName": "Hawk Liu",
      "photoUrl": "",
      "userId": "00179956829988677028"
     },
     "user_tz": 300
    },
    "id": "ZHr-PzGkaBlE"
   },
   "outputs": [],
   "source": [
    "# training on P100: 849MB memory, training loss decrease slow\n",
    "# training on V100: 1255MB memory, training loss decrease much faster"
   ]
  },
  {
   "cell_type": "code",
   "execution_count": 119,
   "metadata": {
    "colab": {
     "base_uri": "https://localhost:8080/"
    },
    "executionInfo": {
     "elapsed": 16617,
     "status": "ok",
     "timestamp": 1622487429209,
     "user": {
      "displayName": "Hawk Liu",
      "photoUrl": "",
      "userId": "00179956829988677028"
     },
     "user_tz": 300
    },
    "id": "JKLovDeXoCCP",
    "outputId": "4f4f3584-ed7b-41b9-a994-178bd94d6f74"
   },
   "outputs": [],
   "source": [
    "import numpy as np\n",
    "import pandas as pd\n",
    "import matplotlib.pyplot as plt\n",
    "import torch\n",
    "import torch.nn as nn\n",
    "import torch.nn.functional as F\n",
    "import time\n",
    "#from google.colab import drive\n",
    "#drive.mount('/content/drive')\n",
    "device='cuda' if torch.cuda.is_available() else 'cpu'\n",
    "#print(torch.cuda.get_device_name(0))"
   ]
  },
  {
   "cell_type": "code",
   "execution_count": 120,
   "metadata": {
    "colab": {
     "base_uri": "https://localhost:8080/"
    },
    "executionInfo": {
     "elapsed": 157,
     "status": "ok",
     "timestamp": 1622487429361,
     "user": {
      "displayName": "Hawk Liu",
      "photoUrl": "",
      "userId": "00179956829988677028"
     },
     "user_tz": 300
    },
    "id": "SVeaN1SMQjK4",
    "outputId": "c97a1851-bbb2-4d36-8b95-3b0230da7e8d"
   },
   "outputs": [
    {
     "name": "stdout",
     "output_type": "stream",
     "text": [
      "Mon Feb 10 15:10:00 2025       \n",
      "+-----------------------------------------------------------------------------------------+\n",
      "| NVIDIA-SMI 560.94                 Driver Version: 560.94         CUDA Version: 12.6     |\n",
      "|-----------------------------------------+------------------------+----------------------+\n",
      "| GPU  Name                  Driver-Model | Bus-Id          Disp.A | Volatile Uncorr. ECC |\n",
      "| Fan  Temp   Perf          Pwr:Usage/Cap |           Memory-Usage | GPU-Util  Compute M. |\n",
      "|                                         |                        |               MIG M. |\n",
      "|=========================================+========================+======================|\n",
      "|   0  NVIDIA GeForce RTX 4060      WDDM  |   00000000:01:00.0  On |                  N/A |\n",
      "|  0%   46C    P0             N/A /  115W |    1257MiB /   8188MiB |      1%      Default |\n",
      "|                                         |                        |                  N/A |\n",
      "+-----------------------------------------+------------------------+----------------------+\n",
      "                                                                                         \n",
      "+-----------------------------------------------------------------------------------------+\n",
      "| Processes:                                                                              |\n",
      "|  GPU   GI   CI        PID   Type   Process name                              GPU Memory |\n",
      "|        ID   ID                                                               Usage      |\n",
      "|=========================================================================================|\n",
      "|    0   N/A  N/A      8104    C+G   C:\\Windows\\explorer.exe                     N/A      |\n",
      "|    0   N/A  N/A     12300    C+G   ...2txyewy\\StartMenuExperienceHost.exe      N/A      |\n",
      "|    0   N/A  N/A     17632    C+G   ...290.0_x64__dt26b99r8h8gj\\RtkUWP.exe      N/A      |\n",
      "|    0   N/A  N/A     19296    C+G   C:\\Program Files\\Zotero\\zotero.exe          N/A      |\n",
      "|    0   N/A  N/A     19392    C+G   ...les\\Microsoft OneDrive\\OneDrive.exe      N/A      |\n",
      "|    0   N/A  N/A     19696    C+G   ...oogle\\Chrome\\Application\\chrome.exe      N/A      |\n",
      "|    0   N/A  N/A     21096    C+G   ...s\\System32\\ApplicationFrameHost.exe      N/A      |\n",
      "|    0   N/A  N/A     22652    C+G   ...oogle\\Chrome\\Application\\chrome.exe      N/A      |\n",
      "|    0   N/A  N/A     24032    C+G   ...CBS_cw5n1h2txyewy\\TextInputHost.exe      N/A      |\n",
      "|    0   N/A  N/A     25500    C+G   ...5n1h2txyewy\\ShellExperienceHost.exe      N/A      |\n",
      "|    0   N/A  N/A     27572    C+G   ...gin\\LineCall\\1.0.0.832\\LineCall.exe      N/A      |\n",
      "|    0   N/A  N/A     27756    C+G   ...es (x86)\\Dropbox\\Client\\Dropbox.exe      N/A      |\n",
      "|    0   N/A  N/A     27852    C+G   ...crosoft\\Edge\\Application\\msedge.exe      N/A      |\n",
      "|    0   N/A  N/A     30456    C+G   ...siveControlPanel\\SystemSettings.exe      N/A      |\n",
      "|    0   N/A  N/A     31324    C+G   ...es (x86)\\Dropbox\\Client\\Dropbox.exe      N/A      |\n",
      "|    0   N/A  N/A     35932    C+G   C:\\Windows\\System32\\ShellHost.exe           N/A      |\n",
      "|    0   N/A  N/A     36668    C+G   ...soft Office\\root\\Office16\\EXCEL.EXE      N/A      |\n",
      "|    0   N/A  N/A     39796    C+G   ...ata\\Local\\LINE\\bin\\current\\LINE.exe      N/A      |\n",
      "|    0   N/A  N/A     45684    C+G   ...ekyb3d8bbwe\\PhoneExperienceHost.exe      N/A      |\n",
      "|    0   N/A  N/A     46524    C+G   ...Programs\\Microsoft VS Code\\Code.exe      N/A      |\n",
      "|    0   N/A  N/A     55724    C+G   ...nt.CBS_cw5n1h2txyewy\\SearchHost.exe      N/A      |\n",
      "|    0   N/A  N/A     58244    C+G   ....0_x64__8wekyb3d8bbwe\\HxOutlook.exe      N/A      |\n",
      "+-----------------------------------------------------------------------------------------+\n"
     ]
    }
   ],
   "source": [
    "!nvidia-smi"
   ]
  },
  {
   "cell_type": "code",
   "execution_count": 121,
   "metadata": {
    "executionInfo": {
     "elapsed": 6515,
     "status": "ok",
     "timestamp": 1622487437564,
     "user": {
      "displayName": "Hawk Liu",
      "photoUrl": "",
      "userId": "00179956829988677028"
     },
     "user_tz": 300
    },
    "id": "Hj9_eLfoWQY3"
   },
   "outputs": [],
   "source": [
    "# filename=root+'data_118_quad/118dc_quad_ISF.txt'\n",
    "root = 'C:/Users/USER/Desktop/GNN_OPF_electricity_market-main/GNN_OPF_electricity_market-main/GNN_OPF_electricity_market-main/data_gen/118_data/'\n",
    "# C:\\Users\\USER\\Desktop\\GNN_OPF_electricity_market-main\\GNN_OPF_electricity_market-main\\GNN_OPF_electricity_market-main\\data_gen\\118_data\\118dc_quad_ISF.txt\n",
    "filename = root + '118dc_quad_ISF.txt'\n",
    "\n",
    "#filename='/content/drive/MyDrive/gnn/data/data_118_quad/118dc_quad_ISF.txt'\n",
    "\n",
    "S_isf=pd.read_table(filename,sep=',',header=None).to_numpy() # ISF matrix\n",
    "filename= root + '118ac_fmax.txt'\n",
    "f_max=pd.read_table(filename,sep=',',header=None).to_numpy() # flow limit\n",
    "n_line = np.size(S_isf,0)\n",
    "S = torch.from_numpy(S_isf).to(device) # ISF\n",
    "f_max = torch.from_numpy(f_max).to(device) # flow limit\n",
    "\n",
    "# S_isf\t注入移動因子矩陣 (ISF Matrix)\t118dc_quad_ISF.txt\t(n_line, n_bus)\n",
    "# f_max\t每條輸電線的最大潮流限制\t118ac_fmax.txt\t(n_line, 1)\n",
    "# n_line\t輸電線路的數量\t來自 S_isf 的行數\tn_line = 186（範例）\n",
    "# S\tPyTorch 格式的 ISF 矩陣\tS_isf 轉換\t(n_line, n_bus)\n",
    "# f_max\tPyTorch 格式的潮流限制數據\tf_max 轉換\t(n_line, 1)\n",
    "\n"
   ]
  },
  {
   "cell_type": "code",
   "execution_count": 122,
   "metadata": {
    "colab": {
     "base_uri": "https://localhost:8080/"
    },
    "executionInfo": {
     "elapsed": 11,
     "status": "ok",
     "timestamp": 1622487437565,
     "user": {
      "displayName": "Hawk Liu",
      "photoUrl": "",
      "userId": "00179956829988677028"
     },
     "user_tz": 300
    },
    "id": "J6XjwGchXu2k",
    "outputId": "1378cb13-1af4-428b-cfef-713eaca96698"
   },
   "outputs": [
    {
     "data": {
      "text/plain": [
       "torch.Size([186, 1])"
      ]
     },
     "execution_count": 122,
     "metadata": {},
     "output_type": "execute_result"
    }
   ],
   "source": [
    "f_max.shape"
   ]
  },
  {
   "cell_type": "code",
   "execution_count": 123,
   "metadata": {
    "colab": {
     "base_uri": "https://localhost:8080/"
    },
    "executionInfo": {
     "elapsed": 3151,
     "status": "ok",
     "timestamp": 1622487440713,
     "user": {
      "displayName": "Hawk Liu",
      "photoUrl": "",
      "userId": "00179956829988677028"
     },
     "user_tz": 300
    },
    "id": "QF8DToBhDwqS",
    "outputId": "7cbd73a6-e786-4e63-f137-5a5e35d4c8fb"
   },
   "outputs": [
    {
     "name": "stdout",
     "output_type": "stream",
     "text": [
      "(118, 6, 8000) (118, 8000)\n",
      "1654.8 -332.4 812.65 11.547\n",
      "Training data size: (118, 6, 6400)\n",
      "Training label size: (118, 6400)\n"
     ]
    }
   ],
   "source": [
    "# x=np.load('/content/drive/MyDrive/gnn/data/dc118_p10_x.npy')\n",
    "# y=np.load('/content/drive/MyDrive/gnn/data/dc118_p10_y.npy')\n",
    "# All cases\n",
    "# x=np.load('/content/drive/MyDrive/gnn/data/ac118_p10_x.npy')\n",
    "# y=np.load('/content/drive/MyDrive/gnn/data/ac118_p10_y.npy')\n",
    "# Normal cases\n",
    "\n",
    "# x：特徵數據，形狀可能是 (118, 6, N)，N 是樣本數量。\n",
    "# 包含節點（bus）相關特徵，如功率、電壓等數據。\n",
    "\n",
    "# y：標籤數據（真實值），形狀可能為 (118, N)，對應每個節點的目標輸出值（如功率、電壓限制）。\n",
    "\n",
    "# W：可能是權重數據，用於損失計算中的加權，具體用途視模型需求而定。\n",
    "x=np.load(root + 'ac118_plimit_x.npy')\n",
    "y=np.load(root + 'ac118_plimit_y.npy')\n",
    "# x=np.load('/content/drive/MyDrive/gnn/data/data_118_quad/dc118_p10_x_normal1.npy')\n",
    "# y=np.load('/content/drive/MyDrive/gnn/data/data_118_quad/dc118_p10_y_normal1.npy')\n",
    "W=np.load(root + 'ac118_p10_w.npy')\n",
    "# W=np.load('/content/drive/MyDrive/gnn/data/ac118_p10_w.npy')\n",
    "print(x.shape,y.shape)\n",
    "print(np.max(x),np.min(x),np.max(y),np.min(y))\n",
    "\n",
    "\n",
    "# 拆分訓練與測試集\n",
    "from sklearn.model_selection import train_test_split\n",
    "x_train,x_test,y_train,y_test = train_test_split(x.transpose(),y.transpose(),test_size=0.2, random_state=18)\n",
    "x_train=x_train.transpose()\n",
    "x_test=x_test.transpose()\n",
    "y_train=y_train.transpose()\n",
    "y_test=y_test.transpose()\n",
    "print('Training data size:',x_train.shape)\n",
    "print('Training label size:',y_train.shape)\n",
    "\n",
    "class Dataset(torch.utils.data.Dataset):\n",
    "    def __init__(self, features, labels, device='cpu'):\n",
    "        self.features=torch.from_numpy(np.transpose(features)).float().to(device)\n",
    "        self.labels=torch.from_numpy(np.transpose(labels)).float().to(device)\n",
    "    def __len__(self):\n",
    "        return len(self.features)\n",
    "    def __getitem__(self, idx):\n",
    "        if torch.is_tensor(idx): idx = idx.tolist()\n",
    "        # Select sample\n",
    "        X = self.features[idx]  # shape = (24,)\n",
    "        y = self.labels[idx]    # shape = (24,)\n",
    "        X = torch.reshape(X,(6,118))\n",
    "        y = torch.reshape(y,(1,118))\n",
    "        return X, y\n",
    "    \n",
    "#設定 DataLoader 參數\n",
    "params = {'batch_size': 512,\n",
    "          'shuffle': True,\n",
    "          'num_workers': 0}\n",
    "\n",
    "\n",
    "# Dataset Generators\n",
    "training_set = Dataset(features=x_train,labels=y_train,device=device)\n",
    "training_generator = torch.utils.data.DataLoader(training_set,**params)\n",
    "validation_set = Dataset(features=x_test,labels=y_test,device=device)\n",
    "validation_generator = torch.utils.data.DataLoader(validation_set,**params)"
   ]
  },
  {
   "cell_type": "markdown",
   "metadata": {
    "id": "WjzEy-twfPvI"
   },
   "source": [
    "* Normalize the power of Laplacian"
   ]
  },
  {
   "cell_type": "code",
   "execution_count": 124,
   "metadata": {
    "colab": {
     "base_uri": "https://localhost:8080/"
    },
    "executionInfo": {
     "elapsed": 130,
     "status": "ok",
     "timestamp": 1622487440831,
     "user": {
      "displayName": "Hawk Liu",
      "photoUrl": "",
      "userId": "00179956829988677028"
     },
     "user_tz": 300
    },
    "id": "Jp3zMPW7NUb_",
    "outputId": "65044524-790a-4d42-99d1-d9000092148d"
   },
   "outputs": [
    {
     "name": "stdout",
     "output_type": "stream",
     "text": [
      "<class 'numpy.ndarray'>\n",
      "10.391198194095455\n",
      "1.1997444434330216\n",
      "1.2195765287586435\n",
      "1.2295963414197546\n",
      "1.2352295835641847\n",
      "1.2386748374057484\n"
     ]
    }
   ],
   "source": [
    "W1 = W.copy()\n",
    "W1 = np.asarray(W1)\n",
    "# print(np.asarray([[2,3],[4,7]])/5)\n",
    "W1 = W1 / 1\n",
    "W2 = W1.copy()\n",
    "print(type(W))\n",
    "lam,v = np.linalg.eig(W1)\n",
    "print(lam[0])\n",
    "for i in range(5):\n",
    "  W1 = np.matmul(W1,W2) / np.max(np.matmul(W1,W2))\n",
    "  # print(W1)\n",
    "  lam,v = np.linalg.eig(W1)\n",
    "  print(lam[0])#/10**(i+1))"
   ]
  },
  {
   "cell_type": "code",
   "execution_count": 125,
   "metadata": {
    "colab": {
     "base_uri": "https://localhost:8080/"
    },
    "executionInfo": {
     "elapsed": 12,
     "status": "ok",
     "timestamp": 1622487440832,
     "user": {
      "displayName": "Hawk Liu",
      "photoUrl": "",
      "userId": "00179956829988677028"
     },
     "user_tz": 300
    },
    "id": "ncIvnFYszV5H",
    "outputId": "525abe13-c886-4cb1-cff0-55c4710f5eab"
   },
   "outputs": [
    {
     "name": "stdout",
     "output_type": "stream",
     "text": [
      "12130\n"
     ]
    }
   ],
   "source": [
    "def numparam(in_feats,out_feats): return 4*476+in_feats*out_feats+out_feats\n",
    "indexes=[1,10,15,15,10,10,1]\n",
    "total=0\n",
    "for temp in range(len(indexes)-1):\n",
    "  total+=numparam(indexes[temp],indexes[temp+1])\n",
    "print(total)"
   ]
  },
  {
   "cell_type": "code",
   "execution_count": 126,
   "metadata": {
    "colab": {
     "base_uri": "https://localhost:8080/"
    },
    "executionInfo": {
     "elapsed": 745,
     "status": "ok",
     "timestamp": 1622487441574,
     "user": {
      "displayName": "Hawk Liu",
      "photoUrl": "",
      "userId": "00179956829988677028"
     },
     "user_tz": 300
    },
    "id": "J2fkZxWsoCGP",
    "outputId": "d3587939-7d2a-45b7-f220-78be890d39e1"
   },
   "outputs": [
    {
     "name": "stdout",
     "output_type": "stream",
     "text": [
      "GCN(\n",
      "  (conv_v2v1): Graph_convolution_v2v_W()\n",
      "  (conv_v2v2): Graph_convolution_v2v_W()\n",
      "  (conv_v2v3): Graph_convolution_v2v_W()\n",
      "  (conv_v2v4): Graph_convolution_v2v_W()\n",
      "  (conv_v2v5): Graph_convolution_v2v_W()\n",
      "  (conv_v2v6): Graph_convolution_v2v_W()\n",
      "  (lin_output): Linear(in_features=118, out_features=118, bias=True)\n",
      ")\n",
      "number of params: 351227\n"
     ]
    }
   ],
   "source": [
    "from torch.autograd import Variable\n",
    "# One layer Graph convolution from nodes to edges\n",
    "class Graph_convolution_v2v_W(nn.Module):\n",
    "    def __init__(self,in_features,out_features,W,n,bias=True):\n",
    "        super(Graph_convolution_v2v_W,self).__init__()\n",
    "        self.register_buffer('w',torch.from_numpy(W.transpose()).float())\n",
    "        self.register_buffer('n0',torch.tensor(n))\n",
    "        self.mapping=nn.Parameter(torch.Tensor(n,W.shape[0],W.shape[1]))\n",
    "        torch.nn.init.xavier_uniform_(self.mapping.data)\n",
    "        self.scale0=nn.Parameter(torch.Tensor(out_features,in_features))\n",
    "        torch.nn.init.xavier_uniform_(self.scale0.data)\n",
    "        self.scale=nn.Parameter(torch.Tensor(n-1,out_features,out_features))\n",
    "        torch.nn.init.xavier_uniform_(self.scale.data)\n",
    "        self.bias=nn.Parameter(torch.Tensor(out_features,1))\n",
    "        torch.nn.init.xavier_uniform_(self.bias.data)\n",
    "\n",
    "    def forward(self,input):\n",
    "        h=torch.mul(self.mapping[0,:,:],self.w) # element-wise\n",
    "        # print(h.shape,input.shape)\n",
    "        h=torch.matmul(input,h) # transpose due to batch generator \n",
    "        # print(h.shape,self.scale0.shape)\n",
    "        h=torch.matmul(self.scale0,h)\n",
    "        for i in range(self.n0 - 1):\n",
    "          W1 = torch.matrix_power(self.w,i+2)/torch.max(torch.matrix_power(self.w,i+2))\n",
    "          h1=torch.mul(self.mapping[i,:,:],W1)\n",
    "          h=torch.matmul(h,h1) # transpose due to batch generator \n",
    "          h=torch.matmul(self.scale[i,:,:],h)\n",
    "        return h+self.bias \n",
    "\n",
    "# GNN using DGL v2v graph convolution and our own v2e graph convolution\n",
    "class GCN(nn.Module):\n",
    "    def __init__(self, in_feats, hidden_size, W, num_bus, n_hop):\n",
    "        super(GCN, self).__init__()\n",
    "        self.conv_v2v1=Graph_convolution_v2v_W(in_feats,hidden_size[0],W,n_hop)\n",
    "        self.conv_v2v2=Graph_convolution_v2v_W(hidden_size[0],hidden_size[1],W,n_hop)\n",
    "        self.conv_v2v3=Graph_convolution_v2v_W(hidden_size[1],hidden_size[2],W,n_hop)\n",
    "        self.conv_v2v4=Graph_convolution_v2v_W(hidden_size[2],hidden_size[3],W,n_hop)\n",
    "        self.conv_v2v5=Graph_convolution_v2v_W(hidden_size[3],hidden_size[4],W,n_hop)\n",
    "        self.conv_v2v6=Graph_convolution_v2v_W(hidden_size[4],hidden_size[5],W,n_hop)\n",
    "        # self.conv_v2v7=Graph_convolution_v2v_W(hidden_size[5],hidden_size[6],W,n_hop)\n",
    "        # self.conv_v2v8=Graph_convolution_v2v_W(hidden_size[6],hidden_size[7],W,n_hop)\n",
    "        self.lin_output = nn.Linear(num_bus,num_bus)\n",
    "         \n",
    "    def forward(self, inputs):\n",
    "        # m = nn.ELU()\n",
    "        # m = nn.LeakyReLU()\n",
    "        # m = nn.Tanh()\n",
    "        m = nn.ReLU()\n",
    "        h=self.conv_v2v1(inputs)\n",
    "        h=m(h)\n",
    "        h=self.conv_v2v2(h)\n",
    "        h=m(h)\n",
    "        h=self.conv_v2v3(h)\n",
    "        h=m(h)\n",
    "        h=self.conv_v2v4(h)\n",
    "        h=m(h)\n",
    "        h=self.conv_v2v5(h)\n",
    "        h=m(h)\n",
    "        h=self.conv_v2v6(h)\n",
    "        h=m(h)\n",
    "        # h=torch.relu(h)\n",
    "        h = self.lin_output(h)\n",
    "        # time.sleep(5)\n",
    "        return h\n",
    "n_bus=x.shape[0]\n",
    "# w_params=[10,15,10,1]\n",
    "w_params=[10,15,15,10,10,1]\n",
    "n_hop = 4\n",
    "# W = W / 10 # normalize\n",
    "net=GCN(6,w_params,W,n_bus, n_hop) # Laplacian\n",
    "net=net.to(device)\n",
    "\n",
    "# set loss_func & optimizer\n",
    "\n",
    "optimizer=torch.optim.Adam(net.parameters())\n",
    "loss_optm=[]\n",
    "loss_val=[]\n",
    "print(net)\n",
    "print('number of params: %d'%(sum(temp.numel() for temp in net.parameters() if temp.requires_grad)))"
   ]
  },
  {
   "cell_type": "code",
   "execution_count": 127,
   "metadata": {
    "colab": {
     "base_uri": "https://localhost:8080/"
    },
    "executionInfo": {
     "elapsed": 11,
     "status": "ok",
     "timestamp": 1622487441575,
     "user": {
      "displayName": "Hawk Liu",
      "photoUrl": "",
      "userId": "00179956829988677028"
     },
     "user_tz": 300
    },
    "id": "LhbrlrZHXrYv",
    "outputId": "de81a08b-9bda-4a11-e9b1-6ef436c084cd"
   },
   "outputs": [
    {
     "name": "stdout",
     "output_type": "stream",
     "text": [
      "Number of GNN parameters: 351227\n",
      "Number of effective GNN parameters: 4751\n"
     ]
    }
   ],
   "source": [
    "# Number of parameters in net\n",
    "n_params = 0\n",
    "n_params_trainable = 0\n",
    "for temp in net.parameters():\n",
    "    # print(temp.shape[0])\n",
    "    # print(temp.shape)\n",
    "    n_params += temp.numel()\n",
    "    if abs(temp.shape[0] - n_bus) > 0:\n",
    "      n_params_trainable += temp.shape[0] * temp.shape[1]\n",
    "    else:\n",
    "      n_params_trainable += n_bus + 2 * n_line\n",
    "print('Number of GNN parameters:',n_params)\n",
    "print('Number of effective GNN parameters:',n_params_trainable)"
   ]
  },
  {
   "cell_type": "code",
   "execution_count": 128,
   "metadata": {
    "executionInfo": {
     "elapsed": 5,
     "status": "ok",
     "timestamp": 1622487441575,
     "user": {
      "displayName": "Hawk Liu",
      "photoUrl": "",
      "userId": "00179956829988677028"
     },
     "user_tz": 300
    },
    "id": "GEQ-MDKOTqW1"
   },
   "outputs": [],
   "source": [
    "# threshold function for p_g\n",
    "class my_gen_pred_binary(nn.Module):\n",
    "  def __init__(self):\n",
    "    super(my_gen_pred_binary,self).__init__()\n",
    "  def forward(self,x,thresh):\n",
    "    # thresh=torch.tensor(thresh).double()\n",
    "    # print(thresh,thresh.dtype)\n",
    "    # print(x.dtype,x)\n",
    "    right_thresh=torch.tensor(thresh).double()\n",
    "    left_thresh=torch.tensor(0).double()\n",
    "    x=x.double()\n",
    "    output=torch.where(x<left_thresh,0.,x)\n",
    "    output=torch.where(output>right_thresh,right_thresh,output)\n",
    "    # output=torch.where(output*output<thresh*thresh,output/thresh,output)\n",
    "    return output"
   ]
  },
  {
   "cell_type": "code",
   "execution_count": 129,
   "metadata": {
    "executionInfo": {
     "elapsed": 146,
     "status": "ok",
     "timestamp": 1622487441717,
     "user": {
      "displayName": "Hawk Liu",
      "photoUrl": "",
      "userId": "00179956829988677028"
     },
     "user_tz": 300
    },
    "id": "9mYCMszHaosA"
   },
   "outputs": [],
   "source": [
    "# cell=my_gen_pred_binary()\n",
    "# test_tensor=torch.tensor(np.asarray([[[-1.5,-1.0],[-0.5,0.0]],[[0.5,1.0],[1.5,2]]]))#.double()\n",
    "# output=cell(test_tensor,0.97)\n",
    "# print(output)"
   ]
  },
  {
   "cell_type": "code",
   "execution_count": 130,
   "metadata": {
    "executionInfo": {
     "elapsed": 21,
     "status": "ok",
     "timestamp": 1622487441718,
     "user": {
      "displayName": "Hawk Liu",
      "photoUrl": "",
      "userId": "00179956829988677028"
     },
     "user_tz": 300
    },
    "id": "Go4bwoEmoi0D"
   },
   "outputs": [],
   "source": [
    "## define f-feasibility regularizer \n",
    "\n",
    "gen_pred_binary_cell = my_gen_pred_binary() # threshold function\n",
    "def f_feas_reg(train_batch,pred_label,binary_thres,S,f_max):\n",
    "  # train_batch,pred_label in device\n",
    "  # params.to(device)\n",
    "\n",
    "  # train_batch[:,2,:] # generator limit\n",
    "  label1 = torch.squeeze(pred_label,1).transpose(0,1) # LMP: 118*batch \n",
    "  # train_batch[:,1,:] # generator cost\n",
    "  p_max=train_batch[:,0,:].transpose(0,1) - train_batch[:,1,:].transpose(0,1)\n",
    "  # p_max=train_batch[:,2,:].transpose(0,1)\n",
    "  quadratic_b=train_batch[:,4,:].transpose(0,1)\n",
    "  quadratic_a=train_batch[:,5,:].transpose(0,1)\n",
    "\n",
    "  quadratic_center=(label1-quadratic_b)/(quadratic_a+1e-10)/2\n",
    "  # profit = label1 - train_batch[:,1,:].transpose(0,1) # profit\n",
    "\n",
    "  gen_pred_binary = gen_pred_binary_cell(quadratic_center,p_max)\n",
    "  p_inj=gen_pred_binary\n",
    "  # p_inj = torch.mul(gen_pred_binary,train_batch[:,2,:].transpose(0,1)) # p_g\n",
    "  # nodal injection = gen - load\n",
    "  # bus_inj = p_inj - train_batch[:,0,:].transpose(0,1) #???\n",
    "  bus_inj = p_inj + train_batch[:,1,:].transpose(0,1)\n",
    "  f = torch.matmul(S,bus_inj)\n",
    "  f=torch.abs(f)\n",
    "  # do not use torch.max\n",
    "  f_penalty=torch.where(f>f_max,f-f_max,0.)\n",
    "  # f_penalty = torch.max(f - f_max,0) # linear penalty\n",
    "  # f_penalty = torch.exp(f - f_max) - 1 # exponential penalty\n",
    "  return f_penalty\n",
    "\n",
    "\n",
    "# define loss function\n",
    "loss_func=nn.MSELoss()\n",
    "def my_loss_func(pred,label,W1,train_batch,S,f_max):\n",
    "  lmda1=torch.from_numpy(np.array([1])).to(device) # L_2\n",
    "  lmda2=torch.from_numpy(np.array([0.01])).to(device) # L_inf\n",
    "  # lmda3=torch.from_numpy(np.array([0.02])).to(device) # locality\n",
    "  lmda4=torch.from_numpy(np.array([0.1])).to(device) # f-feasibility\n",
    "\n",
    "  binary_thres = 0.97 # P_g threshold for 0\n",
    "  binary_thres = torch.tensor(binary_thres).to(device)\n",
    "\n",
    "  mse = loss_func(pred,label)\n",
    "  linf = (pred-label).norm(p=float('inf'))\n",
    "  # locality = torch.matmul(torch.matmul(pred,W1),pred.transpose(1,2))\n",
    "  f_penalty = f_feas_reg(train_batch,pred,binary_thres,S,f_max)\n",
    "  # print(pred.shape,pred.transpose(1,2).shape)\n",
    "  return lmda1*mse+lmda2*linf+lmda4*torch.sum(f_penalty) #+lmda3*torch.mean(locality) # mean/sum over batch"
   ]
  },
  {
   "cell_type": "code",
   "execution_count": 131,
   "metadata": {
    "colab": {
     "base_uri": "https://localhost:8080/"
    },
    "executionInfo": {
     "elapsed": 21,
     "status": "ok",
     "timestamp": 1622487441718,
     "user": {
      "displayName": "Hawk Liu",
      "photoUrl": "",
      "userId": "00179956829988677028"
     },
     "user_tz": 300
    },
    "id": "-XcqNCsIW9qT",
    "outputId": "394747a4-5291-4fcf-bd2a-36733ee8203e"
   },
   "outputs": [
    {
     "name": "stdout",
     "output_type": "stream",
     "text": [
      "Mon Feb 10 15:10:00 2025       \n",
      "+-----------------------------------------------------------------------------------------+\n",
      "| NVIDIA-SMI 560.94                 Driver Version: 560.94         CUDA Version: 12.6     |\n",
      "|-----------------------------------------+------------------------+----------------------+\n",
      "| GPU  Name                  Driver-Model | Bus-Id          Disp.A | Volatile Uncorr. ECC |\n",
      "| Fan  Temp   Perf          Pwr:Usage/Cap |           Memory-Usage | GPU-Util  Compute M. |\n",
      "|                                         |                        |               MIG M. |\n",
      "|=========================================+========================+======================|\n",
      "|   0  NVIDIA GeForce RTX 4060      WDDM  |   00000000:01:00.0  On |                  N/A |\n",
      "|  0%   46C    P0             N/A /  115W |    1257MiB /   8188MiB |      2%      Default |\n",
      "|                                         |                        |                  N/A |\n",
      "+-----------------------------------------+------------------------+----------------------+\n",
      "                                                                                         \n",
      "+-----------------------------------------------------------------------------------------+\n",
      "| Processes:                                                                              |\n",
      "|  GPU   GI   CI        PID   Type   Process name                              GPU Memory |\n",
      "|        ID   ID                                                               Usage      |\n",
      "|=========================================================================================|\n",
      "|    0   N/A  N/A      8104    C+G   C:\\Windows\\explorer.exe                     N/A      |\n",
      "|    0   N/A  N/A     12300    C+G   ...2txyewy\\StartMenuExperienceHost.exe      N/A      |\n",
      "|    0   N/A  N/A     17632    C+G   ...290.0_x64__dt26b99r8h8gj\\RtkUWP.exe      N/A      |\n",
      "|    0   N/A  N/A     19296    C+G   C:\\Program Files\\Zotero\\zotero.exe          N/A      |\n",
      "|    0   N/A  N/A     19392    C+G   ...les\\Microsoft OneDrive\\OneDrive.exe      N/A      |\n",
      "|    0   N/A  N/A     19696    C+G   ...oogle\\Chrome\\Application\\chrome.exe      N/A      |\n",
      "|    0   N/A  N/A     21096    C+G   ...s\\System32\\ApplicationFrameHost.exe      N/A      |\n",
      "|    0   N/A  N/A     22652    C+G   ...oogle\\Chrome\\Application\\chrome.exe      N/A      |\n",
      "|    0   N/A  N/A     24032    C+G   ...CBS_cw5n1h2txyewy\\TextInputHost.exe      N/A      |\n",
      "|    0   N/A  N/A     25500    C+G   ...5n1h2txyewy\\ShellExperienceHost.exe      N/A      |\n",
      "|    0   N/A  N/A     27572    C+G   ...gin\\LineCall\\1.0.0.832\\LineCall.exe      N/A      |\n",
      "|    0   N/A  N/A     27756    C+G   ...es (x86)\\Dropbox\\Client\\Dropbox.exe      N/A      |\n",
      "|    0   N/A  N/A     27852    C+G   ...crosoft\\Edge\\Application\\msedge.exe      N/A      |\n",
      "|    0   N/A  N/A     30456    C+G   ...siveControlPanel\\SystemSettings.exe      N/A      |\n",
      "|    0   N/A  N/A     31324    C+G   ...es (x86)\\Dropbox\\Client\\Dropbox.exe      N/A      |\n",
      "|    0   N/A  N/A     35932    C+G   C:\\Windows\\System32\\ShellHost.exe           N/A      |\n",
      "|    0   N/A  N/A     36668    C+G   ...soft Office\\root\\Office16\\EXCEL.EXE      N/A      |\n",
      "|    0   N/A  N/A     39796    C+G   ...ata\\Local\\LINE\\bin\\current\\LINE.exe      N/A      |\n",
      "|    0   N/A  N/A     45684    C+G   ...ekyb3d8bbwe\\PhoneExperienceHost.exe      N/A      |\n",
      "|    0   N/A  N/A     46524    C+G   ...Programs\\Microsoft VS Code\\Code.exe      N/A      |\n",
      "|    0   N/A  N/A     55724    C+G   ...nt.CBS_cw5n1h2txyewy\\SearchHost.exe      N/A      |\n",
      "|    0   N/A  N/A     58244    C+G   ....0_x64__8wekyb3d8bbwe\\HxOutlook.exe      N/A      |\n",
      "+-----------------------------------------------------------------------------------------+\n"
     ]
    }
   ],
   "source": [
    "!nvidia-smi"
   ]
  },
  {
   "cell_type": "code",
   "execution_count": 132,
   "metadata": {
    "colab": {
     "base_uri": "https://localhost:8080/"
    },
    "executionInfo": {
     "elapsed": 15235,
     "status": "ok",
     "timestamp": 1622487456943,
     "user": {
      "displayName": "Hawk Liu",
      "photoUrl": "",
      "userId": "00179956829988677028"
     },
     "user_tz": 300
    },
    "id": "iu0PKvcgF2vN",
    "outputId": "b773fa4b-5e89-4236-c560-2b2af1e2340c"
   },
   "outputs": [
    {
     "name": "stderr",
     "output_type": "stream",
     "text": [
      "C:\\Users\\USER\\AppData\\Local\\Temp\\ipykernel_19624\\3864389826.py:9: UserWarning: To copy construct from a tensor, it is recommended to use sourceTensor.clone().detach() or sourceTensor.clone().detach().requires_grad_(True), rather than torch.tensor(sourceTensor).\n",
      "  right_thresh=torch.tensor(thresh).double()\n"
     ]
    },
    {
     "name": "stdout",
     "output_type": "stream",
     "text": [
      "Epoch 0 | Training loss: 906.5996\n",
      "Epoch 1 | Training loss: 904.7653\n",
      "Epoch 2 | Training loss: 902.7954\n",
      "Epoch 3 | Training loss: 900.5895\n",
      "Epoch 4 | Training loss: 898.1305\n",
      "Epoch 4 | Eval loss: 980.5973\n",
      "Epoch 5 | Training loss: 895.5732\n",
      "Epoch 6 | Training loss: 893.2553\n",
      "Epoch 7 | Training loss: 890.4409\n",
      "Epoch 8 | Training loss: 887.8993\n",
      "Epoch 9 | Training loss: 858.8772\n",
      "Epoch 9 | Eval loss: 892.9144\n",
      "Epoch 10 | Training loss: 777.2562\n",
      "Epoch 11 | Training loss: 753.4616\n",
      "Epoch 12 | Training loss: 741.2604\n",
      "Epoch 13 | Training loss: 708.3803\n",
      "Epoch 14 | Training loss: 670.1271\n",
      "Epoch 14 | Eval loss: 734.0033\n",
      "Epoch 15 | Training loss: 647.5917\n",
      "Epoch 16 | Training loss: 622.7465\n",
      "Epoch 17 | Training loss: 572.8998\n",
      "Epoch 18 | Training loss: 436.5527\n",
      "Epoch 19 | Training loss: 173.8738\n",
      "Epoch 19 | Eval loss: 43.9237\n",
      "Epoch 20 | Training loss: 49.5997\n",
      "Epoch 21 | Training loss: 32.4654\n",
      "Epoch 22 | Training loss: 24.3217\n",
      "Epoch 23 | Training loss: 20.5390\n",
      "Epoch 24 | Training loss: 18.0901\n",
      "Epoch 24 | Eval loss: 18.4138\n",
      "Epoch 25 | Training loss: 16.4443\n",
      "Epoch 26 | Training loss: 15.2120\n",
      "Epoch 27 | Training loss: 14.1826\n",
      "Epoch 28 | Training loss: 13.2369\n",
      "Epoch 29 | Training loss: 11.8915\n",
      "Epoch 29 | Eval loss: 11.6745\n",
      "Epoch 30 | Training loss: 10.0610\n",
      "Epoch 31 | Training loss: 8.6847\n",
      "Epoch 32 | Training loss: 8.5004\n",
      "Epoch 33 | Training loss: 8.3921\n",
      "Epoch 34 | Training loss: 8.3381\n",
      "Epoch 34 | Eval loss: 9.0428\n",
      "Epoch 35 | Training loss: 8.2952\n",
      "Epoch 36 | Training loss: 8.2670\n",
      "Epoch 37 | Training loss: 8.2379\n",
      "Epoch 38 | Training loss: 8.2046\n",
      "Epoch 39 | Training loss: 8.1937\n",
      "Epoch 39 | Eval loss: 8.9712\n",
      "Epoch 40 | Training loss: 8.1602\n",
      "Epoch 41 | Training loss: 8.1514\n",
      "Epoch 42 | Training loss: 8.1231\n",
      "Epoch 43 | Training loss: 8.1146\n",
      "Epoch 44 | Training loss: 8.1071\n",
      "Epoch 44 | Eval loss: 8.8018\n",
      "Epoch 45 | Training loss: 8.0889\n",
      "Epoch 46 | Training loss: 8.0722\n",
      "Epoch 47 | Training loss: 8.0672\n",
      "Epoch 48 | Training loss: 8.0508\n",
      "Epoch 49 | Training loss: 8.0363\n",
      "Epoch 49 | Eval loss: 8.8088\n",
      "Epoch 50 | Training loss: 8.0244\n",
      "Epoch 51 | Training loss: 8.0162\n",
      "Epoch 52 | Training loss: 8.0028\n",
      "Epoch 53 | Training loss: 7.9948\n",
      "Epoch 54 | Training loss: 7.9928\n",
      "Epoch 54 | Eval loss: 8.6473\n",
      "Epoch 55 | Training loss: 7.9794\n",
      "Epoch 56 | Training loss: 7.9684\n",
      "Epoch 57 | Training loss: 7.9659\n",
      "Epoch 58 | Training loss: 7.9570\n",
      "Epoch 59 | Training loss: 7.9480\n",
      "Epoch 59 | Eval loss: 8.6828\n",
      "Epoch 60 | Training loss: 7.9472\n",
      "Epoch 61 | Training loss: 7.9341\n",
      "Epoch 62 | Training loss: 7.9301\n",
      "Epoch 63 | Training loss: 7.9222\n",
      "Epoch 64 | Training loss: 7.9119\n",
      "Epoch 64 | Eval loss: 8.6153\n",
      "Epoch 65 | Training loss: 7.9143\n",
      "Epoch 66 | Training loss: 7.9051\n",
      "Epoch 67 | Training loss: 7.8919\n",
      "Epoch 68 | Training loss: 7.8875\n",
      "Epoch 69 | Training loss: 7.8871\n",
      "Epoch 69 | Eval loss: 8.4708\n",
      "Epoch 70 | Training loss: 7.8744\n",
      "Epoch 71 | Training loss: 7.8743\n",
      "Epoch 72 | Training loss: 7.8669\n",
      "Epoch 73 | Training loss: 7.8653\n",
      "Epoch 74 | Training loss: 7.8605\n",
      "Epoch 74 | Eval loss: 8.4582\n",
      "Epoch 75 | Training loss: 7.8573\n",
      "Epoch 76 | Training loss: 7.8523\n",
      "Epoch 77 | Training loss: 7.8418\n",
      "Epoch 78 | Training loss: 7.8368\n",
      "Epoch 79 | Training loss: 7.8353\n",
      "Epoch 79 | Eval loss: 8.5138\n",
      "Epoch 80 | Training loss: 7.8294\n",
      "Epoch 81 | Training loss: 7.8224\n",
      "Epoch 82 | Training loss: 7.8237\n",
      "Epoch 83 | Training loss: 7.8197\n",
      "Epoch 84 | Training loss: 7.8185\n",
      "Epoch 84 | Eval loss: 8.4965\n",
      "Epoch 85 | Training loss: 7.8190\n",
      "Epoch 86 | Training loss: 7.8045\n",
      "Epoch 87 | Training loss: 7.8041\n",
      "Epoch 88 | Training loss: 7.8110\n",
      "Epoch 89 | Training loss: 7.8065\n",
      "Epoch 89 | Eval loss: 8.5184\n",
      "Epoch 90 | Training loss: 7.7991\n",
      "Epoch 91 | Training loss: 7.7938\n",
      "Epoch 92 | Training loss: 7.7850\n",
      "Epoch 93 | Training loss: 7.7952\n",
      "Epoch 94 | Training loss: 7.7912\n",
      "Epoch 94 | Eval loss: 8.4469\n",
      "Epoch 95 | Training loss: 7.7831\n",
      "Epoch 96 | Training loss: 7.7762\n",
      "Epoch 97 | Training loss: 7.7763\n",
      "Epoch 98 | Training loss: 7.7817\n",
      "Epoch 99 | Training loss: 7.7732\n",
      "Epoch 99 | Eval loss: 8.4988\n",
      "Epoch 100 | Training loss: 7.7763\n",
      "Epoch 101 | Training loss: 7.7726\n",
      "Epoch 102 | Training loss: 7.7762\n",
      "Epoch 103 | Training loss: 7.7699\n",
      "Epoch 104 | Training loss: 7.7670\n",
      "Epoch 104 | Eval loss: 8.4774\n",
      "Epoch 105 | Training loss: 7.7621\n",
      "Epoch 106 | Training loss: 7.7597\n",
      "Epoch 107 | Training loss: 7.7631\n",
      "Epoch 108 | Training loss: 7.7584\n",
      "Epoch 109 | Training loss: 7.7589\n",
      "Epoch 109 | Eval loss: 8.3928\n",
      "Epoch 110 | Training loss: 7.7610\n",
      "Epoch 111 | Training loss: 7.7513\n",
      "Epoch 112 | Training loss: 7.7580\n",
      "Epoch 113 | Training loss: 7.7500\n",
      "Epoch 114 | Training loss: 7.7604\n",
      "Epoch 114 | Eval loss: 8.4529\n",
      "Epoch 115 | Training loss: 7.7489\n",
      "Epoch 116 | Training loss: 7.7604\n",
      "Epoch 117 | Training loss: 7.7496\n",
      "Epoch 118 | Training loss: 7.7461\n",
      "Epoch 119 | Training loss: 7.7507\n",
      "Epoch 119 | Eval loss: 8.4442\n",
      "Epoch 120 | Training loss: 7.7499\n",
      "Epoch 121 | Training loss: 7.7570\n",
      "Epoch 122 | Training loss: 7.7509\n",
      "Epoch 123 | Training loss: 7.7502\n",
      "Epoch 124 | Training loss: 7.7446\n",
      "Epoch 124 | Eval loss: 8.3914\n",
      "Epoch 125 | Training loss: 7.7561\n",
      "Epoch 126 | Training loss: 7.7564\n",
      "Epoch 127 | Training loss: 7.7382\n",
      "Epoch 128 | Training loss: 7.7459\n",
      "Epoch 129 | Training loss: 7.7422\n",
      "Epoch 129 | Eval loss: 8.3434\n",
      "Epoch 130 | Training loss: 7.7367\n",
      "Epoch 131 | Training loss: 7.7478\n",
      "Epoch 132 | Training loss: 7.7382\n",
      "Epoch 133 | Training loss: 7.7418\n",
      "Epoch 134 | Training loss: 7.7364\n",
      "Epoch 134 | Eval loss: 8.3918\n",
      "Epoch 135 | Training loss: 7.7424\n",
      "Epoch 136 | Training loss: 7.7371\n",
      "Epoch 137 | Training loss: 7.7481\n",
      "Epoch 138 | Training loss: 7.7342\n",
      "Epoch 139 | Training loss: 7.7424\n",
      "Epoch 139 | Eval loss: 8.3464\n",
      "Epoch 140 | Training loss: 7.7476\n",
      "Epoch 141 | Training loss: 7.7465\n",
      "Epoch 142 | Training loss: 7.7408\n",
      "Epoch 143 | Training loss: 7.7331\n",
      "Epoch 144 | Training loss: 7.7293\n",
      "Epoch 144 | Eval loss: 8.3785\n",
      "Epoch 145 | Training loss: 7.7421\n",
      "Epoch 146 | Training loss: 7.7421\n",
      "Epoch 147 | Training loss: 7.7419\n",
      "Epoch 148 | Training loss: 7.7409\n",
      "Epoch 149 | Training loss: 7.7391\n",
      "Epoch 149 | Eval loss: 8.3476\n",
      "Epoch 150 | Training loss: 7.7377\n",
      "Epoch 151 | Training loss: 7.7414\n",
      "Epoch 152 | Training loss: 7.7398\n",
      "Epoch 153 | Training loss: 7.7460\n",
      "Epoch 154 | Training loss: 7.7469\n",
      "Epoch 154 | Eval loss: 8.3521\n",
      "Epoch 155 | Training loss: 7.7326\n",
      "Epoch 156 | Training loss: 7.7396\n",
      "Epoch 157 | Training loss: 7.7368\n",
      "Epoch 158 | Training loss: 7.7424\n",
      "Epoch 159 | Training loss: 7.7566\n",
      "Epoch 159 | Eval loss: 8.4017\n",
      "Epoch 160 | Training loss: 7.7521\n",
      "Epoch 161 | Training loss: 7.7408\n",
      "Epoch 162 | Training loss: 7.7462\n",
      "Epoch 163 | Training loss: 7.7361\n",
      "Epoch 164 | Training loss: 7.7394\n",
      "Epoch 164 | Eval loss: 8.4241\n",
      "Epoch 165 | Training loss: 7.7371\n",
      "Epoch 166 | Training loss: 7.7366\n",
      "Epoch 167 | Training loss: 7.7348\n",
      "Epoch 168 | Training loss: 7.7357\n",
      "Epoch 169 | Training loss: 7.7412\n",
      "Epoch 169 | Eval loss: 8.4351\n",
      "Epoch 170 | Training loss: 7.7530\n",
      "Epoch 171 | Training loss: 7.7433\n",
      "Epoch 172 | Training loss: 7.7368\n",
      "Epoch 173 | Training loss: 7.7398\n",
      "Epoch 174 | Training loss: 7.7392\n",
      "Epoch 174 | Eval loss: 8.3695\n",
      "Epoch 175 | Training loss: 7.7427\n",
      "Epoch 176 | Training loss: 7.7346\n",
      "Epoch 177 | Training loss: 7.7405\n",
      "Epoch 178 | Training loss: 7.7355\n",
      "Epoch 179 | Training loss: 7.7334\n",
      "Epoch 179 | Eval loss: 8.3622\n",
      "Epoch 180 | Training loss: 7.7356\n",
      "Epoch 181 | Training loss: 7.7378\n",
      "Epoch 182 | Training loss: 7.7341\n",
      "Epoch 183 | Training loss: 7.7413\n",
      "Epoch 184 | Training loss: 7.7365\n",
      "Epoch 184 | Eval loss: 8.4823\n",
      "Epoch 185 | Training loss: 7.7326\n",
      "Epoch 186 | Training loss: 7.7307\n",
      "Epoch 187 | Training loss: 7.7447\n",
      "Epoch 188 | Training loss: 7.7342\n",
      "Epoch 189 | Training loss: 7.7487\n",
      "Epoch 189 | Eval loss: 8.3953\n",
      "Epoch 190 | Training loss: 7.7376\n",
      "Epoch 191 | Training loss: 7.7340\n",
      "Epoch 192 | Training loss: 7.7445\n",
      "Epoch 193 | Training loss: 7.7405\n",
      "Epoch 194 | Training loss: 7.7190\n",
      "Epoch 194 | Eval loss: 14.8181\n",
      "Epoch 195 | Training loss: 8.3424\n",
      "Epoch 196 | Training loss: 7.7897\n",
      "Epoch 197 | Training loss: 7.7827\n",
      "Epoch 198 | Training loss: 7.7798\n",
      "Epoch 199 | Training loss: 7.7808\n",
      "Epoch 199 | Eval loss: 8.5384\n",
      "Training time:324.1579s\n"
     ]
    }
   ],
   "source": [
    "## Training\n",
    "t0=time.time()\n",
    "max_epochs=200\n",
    "eval_epoch=5\n",
    "\n",
    "# earlystopping\n",
    "tolerance=5\n",
    "min_delta=5e-4\n",
    "previous=0\n",
    "\n",
    "W_tensor = torch.from_numpy(W).float().to(device)\n",
    "for epoch in range(max_epochs):\n",
    "  # training loop\n",
    "  train_loss=0.0\n",
    "  for local_batch,local_label in training_generator:\n",
    "    optimizer.zero_grad() # clear the past gradient\n",
    "    # print(local_batch.shape)\n",
    "    # # print(local_batch)\n",
    "    # print(local_label.shape)\n",
    "    logits=net(local_batch)\n",
    "    # print(logits.shape)\n",
    "    loss=my_loss_func(logits,local_label,W_tensor,local_batch,S,f_max)\n",
    "    loss.backward()\n",
    "    train_loss+=loss.item()\n",
    "    optimizer.step() # update parameters of net\n",
    "  loss_optm.append(train_loss/len(training_generator.dataset))\n",
    "  print(\"Epoch %d | Training loss: %.4f\"%(epoch,train_loss/len(training_generator.dataset)))\n",
    "  # eval\n",
    "  if (epoch+1)%eval_epoch==0:\n",
    "    net.eval()\n",
    "    eval_loss=0.0\n",
    "    for eval_batch,eval_label in validation_generator:\n",
    "      eval_batch,eval_label=eval_batch.to(device),eval_label.to(device)\n",
    "      logits=net(eval_batch)\n",
    "      loss=my_loss_func(logits,eval_label,W_tensor,eval_batch,S,f_max)\n",
    "      eval_loss+=loss.item()\n",
    "    eval_avg=eval_loss/len(validation_generator.dataset)\n",
    "    if (epoch==0): previous=eval_avg\n",
    "    else:\n",
    "      if previous-eval_avg<min_delta: tolerance-=1\n",
    "      # if tolerance==0: break\n",
    "      previous=eval_avg\n",
    "    print(\"Epoch %d | Eval loss: %.4f\" % (epoch, eval_avg))\n",
    "    loss_val.append([epoch, eval_loss/len(validation_generator.dataset)])\n",
    "    net.train()\n",
    "  # validation loop\n",
    "  with torch.set_grad_enabled(False):\n",
    "      pass\n",
    "t1=time.time()\n",
    "print(\"Training time:%.4fs\"%(t1-t0))\n",
    "# path='/content/drive/MyDrive/gnn/dnn_pytorch/sample_gnn_ac118.pickle'\n",
    "# torch.save(net.state_dict(),path)"
   ]
  },
  {
   "cell_type": "code",
   "execution_count": 133,
   "metadata": {
    "executionInfo": {
     "elapsed": 435,
     "status": "ok",
     "timestamp": 1622487457482,
     "user": {
      "displayName": "Hawk Liu",
      "photoUrl": "",
      "userId": "00179956829988677028"
     },
     "user_tz": 300
    },
    "id": "AvUTphUSzqzA"
   },
   "outputs": [],
   "source": [
    "# # logits[0:2,:,:]\n",
    "# path='/content/drive/MyDrive/gnn/dnn_pytorch/sample_gnn_ac118.pickle'\n",
    "# torch.save(net.state_dict(),path)\n",
    "from datetime import datetime\n",
    "timestamp=datetime.now().strftime('%m%d%H%M')\n",
    "\n",
    "path=root+'benchmark_ac118_model/gnn_%s.pickle'%(timestamp)\n",
    "torch.save(net.state_dict(),path)"
   ]
  },
  {
   "cell_type": "code",
   "execution_count": 134,
   "metadata": {
    "colab": {
     "base_uri": "https://localhost:8080/"
    },
    "executionInfo": {
     "elapsed": 137,
     "status": "ok",
     "timestamp": 1622487457615,
     "user": {
      "displayName": "Hawk Liu",
      "photoUrl": "",
      "userId": "00179956829988677028"
     },
     "user_tz": 300
    },
    "id": "KlsgkPnPVH1o",
    "outputId": "2d8a6b49-4ce2-4721-fc39-bd64f3b5cf85"
   },
   "outputs": [
    {
     "name": "stdout",
     "output_type": "stream",
     "text": [
      "Mon Feb 10 15:15:24 2025       \n",
      "+-----------------------------------------------------------------------------------------+\n",
      "| NVIDIA-SMI 560.94                 Driver Version: 560.94         CUDA Version: 12.6     |\n",
      "|-----------------------------------------+------------------------+----------------------+\n",
      "| GPU  Name                  Driver-Model | Bus-Id          Disp.A | Volatile Uncorr. ECC |\n",
      "| Fan  Temp   Perf          Pwr:Usage/Cap |           Memory-Usage | GPU-Util  Compute M. |\n",
      "|                                         |                        |               MIG M. |\n",
      "|=========================================+========================+======================|\n",
      "|   0  NVIDIA GeForce RTX 4060      WDDM  |   00000000:01:00.0  On |                  N/A |\n",
      "|  0%   42C    P8             N/A /  115W |    1277MiB /   8188MiB |     17%      Default |\n",
      "|                                         |                        |                  N/A |\n",
      "+-----------------------------------------+------------------------+----------------------+\n",
      "                                                                                         \n",
      "+-----------------------------------------------------------------------------------------+\n",
      "| Processes:                                                                              |\n",
      "|  GPU   GI   CI        PID   Type   Process name                              GPU Memory |\n",
      "|        ID   ID                                                               Usage      |\n",
      "|=========================================================================================|\n",
      "|    0   N/A  N/A      8104    C+G   C:\\Windows\\explorer.exe                     N/A      |\n",
      "|    0   N/A  N/A     12300    C+G   ...2txyewy\\StartMenuExperienceHost.exe      N/A      |\n",
      "|    0   N/A  N/A     17632    C+G   ...290.0_x64__dt26b99r8h8gj\\RtkUWP.exe      N/A      |\n",
      "|    0   N/A  N/A     19296    C+G   C:\\Program Files\\Zotero\\zotero.exe          N/A      |\n",
      "|    0   N/A  N/A     19392    C+G   ...les\\Microsoft OneDrive\\OneDrive.exe      N/A      |\n",
      "|    0   N/A  N/A     19696    C+G   ...oogle\\Chrome\\Application\\chrome.exe      N/A      |\n",
      "|    0   N/A  N/A     21096    C+G   ...s\\System32\\ApplicationFrameHost.exe      N/A      |\n",
      "|    0   N/A  N/A     22652    C+G   ...oogle\\Chrome\\Application\\chrome.exe      N/A      |\n",
      "|    0   N/A  N/A     24032    C+G   ...CBS_cw5n1h2txyewy\\TextInputHost.exe      N/A      |\n",
      "|    0   N/A  N/A     25500    C+G   ...5n1h2txyewy\\ShellExperienceHost.exe      N/A      |\n",
      "|    0   N/A  N/A     27572    C+G   ...gin\\LineCall\\1.0.0.832\\LineCall.exe      N/A      |\n",
      "|    0   N/A  N/A     27756    C+G   ...es (x86)\\Dropbox\\Client\\Dropbox.exe      N/A      |\n",
      "|    0   N/A  N/A     27852    C+G   ...crosoft\\Edge\\Application\\msedge.exe      N/A      |\n",
      "|    0   N/A  N/A     30456    C+G   ...siveControlPanel\\SystemSettings.exe      N/A      |\n",
      "|    0   N/A  N/A     31324    C+G   ...es (x86)\\Dropbox\\Client\\Dropbox.exe      N/A      |\n",
      "|    0   N/A  N/A     35932    C+G   C:\\Windows\\System32\\ShellHost.exe           N/A      |\n",
      "|    0   N/A  N/A     36668    C+G   ...soft Office\\root\\Office16\\EXCEL.EXE      N/A      |\n",
      "|    0   N/A  N/A     39796    C+G   ...ata\\Local\\LINE\\bin\\current\\LINE.exe      N/A      |\n",
      "|    0   N/A  N/A     45684    C+G   ...ekyb3d8bbwe\\PhoneExperienceHost.exe      N/A      |\n",
      "|    0   N/A  N/A     46524    C+G   ...Programs\\Microsoft VS Code\\Code.exe      N/A      |\n",
      "|    0   N/A  N/A     55724    C+G   ...nt.CBS_cw5n1h2txyewy\\SearchHost.exe      N/A      |\n",
      "|    0   N/A  N/A     58244    C+G   ....0_x64__8wekyb3d8bbwe\\HxOutlook.exe      N/A      |\n",
      "+-----------------------------------------------------------------------------------------+\n"
     ]
    }
   ],
   "source": [
    "!nvidia-smi"
   ]
  },
  {
   "cell_type": "code",
   "execution_count": 135,
   "metadata": {
    "executionInfo": {
     "elapsed": 4,
     "status": "ok",
     "timestamp": 1622487457616,
     "user": {
      "displayName": "Hawk Liu",
      "photoUrl": "",
      "userId": "00179956829988677028"
     },
     "user_tz": 300
    },
    "id": "0xKjXKFOKf4n"
   },
   "outputs": [],
   "source": [
    "# print(len(loss_val))\n",
    "# print(loss_val[0][0])\n",
    "# # print(val_plt)\n",
    "# print(logits.shape,eval_label.shape)"
   ]
  },
  {
   "cell_type": "code",
   "execution_count": 136,
   "metadata": {
    "colab": {
     "base_uri": "https://localhost:8080/",
     "height": 299
    },
    "executionInfo": {
     "elapsed": 591,
     "status": "ok",
     "timestamp": 1622487458204,
     "user": {
      "displayName": "Hawk Liu",
      "photoUrl": "",
      "userId": "00179956829988677028"
     },
     "user_tz": 300
    },
    "id": "L3M4jmjkscK_",
    "outputId": "4208f1a7-c6bc-4f8f-825f-8a8d9535481f"
   },
   "outputs": [
    {
     "name": "stdout",
     "output_type": "stream",
     "text": [
      "40\n"
     ]
    },
    {
     "data": {
      "image/png": "[encoded data removed]",
      "text/plain": [
       "<Figure size 640x480 with 1 Axes>"
      ]
     },
     "metadata": {},
     "output_type": "display_data"
    }
   ],
   "source": [
    "import matplotlib.pyplot as plt\n",
    "\n",
    "val_len = len(loss_val)\n",
    "print(val_len)\n",
    "val_plt = np.zeros((2,val_len))\n",
    "for i in range(val_len):\n",
    "  val_plt[0,i] = loss_val[i][0]\n",
    "  val_plt[1,i] = loss_val[i][1]\n",
    "\n",
    "plt.figure()\n",
    "plot_idx = np.arange(np.size(loss_optm))\n",
    "# plt.plot(plot_idx,loss_optm,lw=2,label='training loss')\n",
    "# plt.plot(val_plt[0,:],val_plt[1,:],lw=2,label='validation loss')\n",
    "plt.plot(plot_idx[5:-1],loss_optm[5:-1],lw=2,label='training loss')\n",
    "plt.plot(val_plt[0,1:],val_plt[1,1:],lw=2,label='validation loss')\n",
    "plt.yscale(\"log\")\n",
    "plt.xlabel('epoch')\n",
    "plt.ylabel('loss')\n",
    "plt.legend()\n",
    "plt.show(block=False)\n",
    "\n",
    "# from datetime import datetime\n",
    "# now=datetime.now()\n",
    "# timestamp=now.strftime('%Y%d%m%H%M%S')\n",
    "# path='/content/drive/MyDrive/gnn/dnn_pytorch/gnn_%s.pickle'%(timestamp)\n",
    "# # torch.save(net.state_dict(),path)\n",
    "# path='/content/drive/MyDrive/gnn/dnn_pytorch/gnn_118_%s.pickle'%(timestamp)\n",
    "# torch.save(net.state_dict(),path)\n",
    "# path = '/content/drive/MyDrive/gnn/dnn_pytorch/gnn_118_20212205071835.pickle'\n",
    "# net.load_state_dict(torch.load(path))"
   ]
  },
  {
   "cell_type": "markdown",
   "metadata": {
    "id": "R9uGUm4rsco3"
   },
   "source": [
    "# Evaluate the model w/ validation set"
   ]
  },
  {
   "cell_type": "code",
   "execution_count": 137,
   "metadata": {
    "executionInfo": {
     "elapsed": 24,
     "status": "ok",
     "timestamp": 1622487458204,
     "user": {
      "displayName": "Hawk Liu",
      "photoUrl": "",
      "userId": "00179956829988677028"
     },
     "user_tz": 300
    },
    "id": "Rkj81aqpVS0j"
   },
   "outputs": [],
   "source": [
    "# local_batch, local_labels = local_batch.to(device), local_labels.to(device)\n",
    "# print(local_batch.shape)\n",
    "# x_test_feed = x_test_feed.unsqueeze_(-1).transpose(1,2)\n",
    "# print(x_test_feed.shape)\n",
    "\n",
    "# print(local_batch.shape)"
   ]
  },
  {
   "cell_type": "code",
   "execution_count": 138,
   "metadata": {
    "colab": {
     "base_uri": "https://localhost:8080/"
    },
    "executionInfo": {
     "elapsed": 24,
     "status": "ok",
     "timestamp": 1622487458205,
     "user": {
      "displayName": "Hawk Liu",
      "photoUrl": "",
      "userId": "00179956829988677028"
     },
     "user_tz": 300
    },
    "id": "4u6001UQ2pN3",
    "outputId": "8ab8487a-9468-44f4-cc0b-a236e56bb036"
   },
   "outputs": [
    {
     "name": "stdout",
     "output_type": "stream",
     "text": [
      "Validation dataset size: torch.Size([1600, 6, 118])\n",
      "Number of validation set:  2000\n"
     ]
    }
   ],
   "source": [
    "# validation_set = Dataset(features=x_test, labels=y_test)\n",
    "# validation_generator = torch.utils.data.DataLoader(validation_set, **params)\n",
    "# for local_batch, local_labels in validation_generator:\n",
    "#   # Transfer to GPU\n",
    "#   local_batch, local_labels = local_batch.to(device), local_labels.to(device)\n",
    "#   logits = net(local_batch)\n",
    "\n",
    "n_test = 2000\n",
    "\n",
    "x_test_feed = torch.from_numpy(np.transpose(x_test)).float()\n",
    "x_test_feed = x_test_feed#.transpose(1,2)\n",
    "x_test_feed = x_test_feed.to(device)\n",
    "print('Validation dataset size:',x_test_feed.shape)\n",
    "print('Number of validation set: ',n_test)\n",
    "# y_pred = np.zeros((x_test_feed.shape))\n",
    "# for i in range(n_test):\n",
    "#   y_pred[i,:] = net(x_test_feed[i,:])\n",
    "\n",
    "\n",
    "y_pred = net(x_test_feed)\n",
    "\n",
    "\n",
    "\n",
    "\n"
   ]
  },
  {
   "cell_type": "markdown",
   "metadata": {
    "id": "YnNbSGYoXS3J"
   },
   "source": [
    "* Visualization\n",
    "\n",
    "\n"
   ]
  },
  {
   "cell_type": "markdown",
   "metadata": {
    "id": "VKZQaqwJkn3P"
   },
   "source": [
    " - Visualize errors"
   ]
  },
  {
   "cell_type": "code",
   "execution_count": 139,
   "metadata": {
    "colab": {
     "base_uri": "https://localhost:8080/"
    },
    "executionInfo": {
     "elapsed": 19,
     "status": "ok",
     "timestamp": 1622487458205,
     "user": {
      "displayName": "Hawk Liu",
      "photoUrl": "",
      "userId": "00179956829988677028"
     },
     "user_tz": 300
    },
    "id": "7-JCo0KmXwm3",
    "outputId": "15ea7be2-5905-4a58-d086-b6794b28bad0"
   },
   "outputs": [],
   "source": [
    "y_pred1 = y_pred.cpu().detach()\n",
    "y_pred1 = torch.squeeze(y_pred1,1).numpy().transpose()\n"
   ]
  },
  {
   "cell_type": "code",
   "execution_count": 140,
   "metadata": {},
   "outputs": [],
   "source": [
    "# from sklearn.metrics import mean_squared_error\n",
    "\n",
    "# # mse_pi = mean_squared_error(y_test, y_pred1)  # 針對功率、電壓等數據計算 MSE\n",
    "# # print('MSE:', mse_pi)\n",
    "\n",
    "# # max_val = np.max(y_test)\n",
    "# # min_val = np.min(y_test)\n",
    "\n",
    "# # # 假設使用了 Min-Max 標準化，這是反向縮放的範例\n",
    "# # y_test_rescaled = y_test * (max_val - min_val) + min_val\n",
    "# # y_pred1_rescaled = y_pred1 * (max_val - min_val) + min_val\n",
    "\n",
    "# # # 重新計算 MSE\n",
    "# # mse_rescaled = mean_squared_error(y_test_rescaled, y_pred1_rescaled)\n",
    "# # print('MSE:', mse_rescaled)\n",
    "# # mse_percentage = mean_squared_error(y_test, y_pred1) / np.mean(y_test) * 100\n",
    "# # print('MSE percentage:', mse_percentage)\n",
    "\n",
    "# from sklearn.metrics import mean_squared_error\n",
    "# import numpy as np\n",
    "\n",
    "# # 計算 MSE、RMSE 和百分比 MSE\n",
    "# mse = mean_squared_error(y_test, y_pred1)\n",
    "# rmse = np.sqrt(mse)\n",
    "# mse_percentage = mse / (np.mean(y_test) ** 2) * 100\n",
    "\n",
    "# print(f\"MSE: {mse:.2f}\")\n",
    "# print(f\"RMSE: {rmse:.2f}\")\n",
    "# print(f\"MSE percentage: {mse_percentage:.2f}%\")\n",
    "\n",
    "\n"
   ]
  },
  {
   "cell_type": "code",
   "execution_count": 141,
   "metadata": {
    "colab": {
     "base_uri": "https://localhost:8080/"
    },
    "executionInfo": {
     "elapsed": 17,
     "status": "ok",
     "timestamp": 1622487458206,
     "user": {
      "displayName": "Hawk Liu",
      "photoUrl": "",
      "userId": "00179956829988677028"
     },
     "user_tz": 300
    },
    "id": "2eVE-t3nl0Cb",
    "outputId": "724a5051-5b06-4f4a-a9d4-cf67ab945036"
   },
   "outputs": [
    {
     "name": "stdout",
     "output_type": "stream",
     "text": [
      "(118, 1600) (118, 1600)\n",
      "[[-52.399 -52.73  -55.106 ... -46.413 -53.935 -48.031]\n",
      " [-52.399 -52.73  -55.106 ... -46.413 -53.935 -48.031]\n",
      " [-26.707 -24.971 -27.935 ... -29.237 -26.681 -25.702]\n",
      " [-26.707 -24.971 -27.935 ... -29.237 -26.681 -25.702]\n",
      " [  0.      0.      0.    ...   0.      0.      0.   ]\n",
      " [  0.      0.      0.    ...   0.      0.      0.   ]]\n",
      "[496.82 468.17 469.44 ... 513.15 439.48 521.58]\n",
      "[484.52426 484.52426 484.52426 ... 484.52426 484.52426 484.52426]\n"
     ]
    }
   ],
   "source": [
    "print(y_test.shape,y_pred1.shape)\n",
    "print(x_test[0])\n",
    "print(y_test[0])\n",
    "print(y_pred1[0])\n"
   ]
  },
  {
   "cell_type": "code",
   "execution_count": 142,
   "metadata": {
    "executionInfo": {
     "elapsed": 13,
     "status": "ok",
     "timestamp": 1622487458206,
     "user": {
      "displayName": "Hawk Liu",
      "photoUrl": "",
      "userId": "00179956829988677028"
     },
     "user_tz": 300
    },
    "id": "hXy9bUnqE-Qs"
   },
   "outputs": [],
   "source": [
    "# for i in range(5):\n",
    "#   print('sample',i)\n",
    "#   print(y_test[:,i])\n",
    "#   print(y_pred1[:,i])"
   ]
  },
  {
   "cell_type": "code",
   "execution_count": 143,
   "metadata": {
    "executionInfo": {
     "elapsed": 14,
     "status": "ok",
     "timestamp": 1622487458207,
     "user": {
      "displayName": "Hawk Liu",
      "photoUrl": "",
      "userId": "00179956829988677028"
     },
     "user_tz": 300
    },
    "id": "FUVl5LXeknC4"
   },
   "outputs": [
    {
     "name": "stdout",
     "output_type": "stream",
     "text": [
      "[496.82 468.17 469.44 ... 513.15 439.48 521.58]\n",
      "[484.52426 484.52426 484.52426 ... 484.52426 484.52426 484.52426]\n"
     ]
    }
   ],
   "source": [
    "n_test = np.size(y_test,1)\n",
    "err_L2 = np.zeros(n_test)\n",
    "err_Linf = np.zeros(n_test)\n",
    "print(y_test[0])\n",
    "print(y_pred1[0])\n",
    "for i in range(n_test):\n",
    "  err_L2[i] = np.linalg.norm(y_test[:,i] - y_pred1[:,i]) / np.linalg.norm(y_test[:,i])\n",
    "  err_Linf[i] = np.max(np.abs(y_test[:,i] - y_pred1[:,i])) / np.max(np.abs(y_test[:,i]))"
   ]
  },
  {
   "cell_type": "code",
   "execution_count": 144,
   "metadata": {
    "colab": {
     "base_uri": "https://localhost:8080/"
    },
    "executionInfo": {
     "elapsed": 13,
     "status": "ok",
     "timestamp": 1622487458207,
     "user": {
      "displayName": "Hawk Liu",
      "photoUrl": "",
      "userId": "00179956829988677028"
     },
     "user_tz": 300
    },
    "id": "4K1fxmcGqvC9",
    "outputId": "deb0c42d-9033-4bf6-9c80-5db6d21f1665"
   },
   "outputs": [
    {
     "name": "stdout",
     "output_type": "stream",
     "text": [
      "(1600,) (1600,)\n"
     ]
    }
   ],
   "source": [
    "print(err_L2.shape,err_Linf.shape)"
   ]
  },
  {
   "cell_type": "code",
   "execution_count": 145,
   "metadata": {
    "colab": {
     "base_uri": "https://localhost:8080/",
     "height": 530
    },
    "executionInfo": {
     "elapsed": 491,
     "status": "ok",
     "timestamp": 1622487458688,
     "user": {
      "displayName": "Hawk Liu",
      "photoUrl": "",
      "userId": "00179956829988677028"
     },
     "user_tz": 300
    },
    "id": "79xFCVXklkLb",
    "outputId": "b0b549a2-2449-4392-fe42-358277d75a04"
   },
   "outputs": [
    {
     "name": "stdout",
     "output_type": "stream",
     "text": [
      "L2 mean: 0.055784151296816305 L_inf mean: 0.08445066064364971\n"
     ]
    },
    {
     "data": {
      "image/png": "[encoded data removed]",
      "text/plain": [
       "<Figure size 1600x800 with 2 Axes>"
      ]
     },
     "metadata": {},
     "output_type": "display_data"
    }
   ],
   "source": [
    "err_L2_mean = np.mean(err_L2)\n",
    "err_Linf_mean = np.mean(err_Linf)\n",
    "print('L2 mean:', err_L2_mean,'L_inf mean:', err_Linf_mean )\n",
    "\n",
    "fig2 = plt.figure(figsize=(16, 8))\n",
    "plt.subplot(1, 2, 1)\n",
    "# plt.hist(np.abs(ga),bins = 10)\n",
    "plt.plot(err_L2,'bo',markersize=0.5,label = 'L2 error')\n",
    "plt.plot(err_Linf,'r^',markersize=0.5,label = 'Linf error')\n",
    "plt.legend(loc=\"upper right\")\n",
    "plt.xlabel('sample index')\n",
    "plt.ylabel('error')\n",
    "plt.title('Normalized sample error')\n",
    "plt.grid(True)\n",
    "# error histogram\n",
    "plt.subplot(1, 2, 2)\n",
    "plt.hist(err_L2, bins = 50, facecolor='b', alpha=0.75,label = 'L2 error')\n",
    "plt.hist(err_Linf, bins = 50, facecolor='g', alpha=0.75,label = 'Linf error')\n",
    "plt.legend(loc=\"upper right\")\n",
    "plt.xlabel('sample error value')\n",
    "plt.ylabel('frequency')\n",
    "plt.title('Histogram of L_2 error')\n",
    "# plt.text(60, .025, r'$\\mu=100,\\ \\sigma=15$')\n",
    "plt.grid(True)\n",
    "plt.show()"
   ]
  },
  {
   "cell_type": "code",
   "execution_count": 146,
   "metadata": {
    "colab": {
     "base_uri": "https://localhost:8080/",
     "height": 71
    },
    "executionInfo": {
     "elapsed": 567,
     "status": "ok",
     "timestamp": 1622487459253,
     "user": {
      "displayName": "Hawk Liu",
      "photoUrl": "",
      "userId": "00179956829988677028"
     },
     "user_tz": 300
    },
    "id": "HxizRhz5OVpW",
    "outputId": "ad0d89ac-4679-4f63-bea6-0e5d9a4d35ea"
   },
   "outputs": [
    {
     "name": "stdout",
     "output_type": "stream",
     "text": [
      "1600 L2 mean: 0.055784151296816305 1600 L_inf mean: 0.08445066064364971\n"
     ]
    },
    {
     "data": {
      "image/png": "[encoded data removed]",
      "text/plain": [
       "<Figure size 1600x800 with 2 Axes>"
      ]
     },
     "metadata": {},
     "output_type": "display_data"
    }
   ],
   "source": [
    "err_l2_new = [i for i in err_L2 if i < 1]\n",
    "err_linf_new = [i for i in err_Linf if i < 1]\n",
    "print(len(err_l2_new),'L2 mean:', np.mean(err_l2_new),len(err_linf_new),'L_inf mean:', np.mean(err_linf_new) )\n",
    "\n",
    "fig2 = plt.figure(figsize=(16, 8))\n",
    "plt.subplot(1, 2, 1)\n",
    "# plt.hist(np.abs(ga),bins = 10)\n",
    "plt.plot(err_l2_new,'bo',markersize=0.5,label = 'L2 error')\n",
    "plt.plot(err_linf_new,'r^',markersize=0.5,label = 'Linf error')\n",
    "plt.legend(loc=\"upper right\")\n",
    "plt.xlabel('sample index')\n",
    "plt.ylabel('error')\n",
    "plt.title('Normalized sample error w/out >1')\n",
    "plt.grid(True)\n",
    "# error histogram\n",
    "plt.subplot(1, 2, 2)\n",
    "plt.hist(err_l2_new, bins = 50, facecolor='b', alpha=0.75,label = 'L2 error')\n",
    "plt.hist(err_linf_new, bins = 50, facecolor='g', alpha=0.75,label = 'Linf error')\n",
    "plt.legend(loc=\"upper right\")\n",
    "plt.xlabel('sample error value')\n",
    "plt.ylabel('frequency')\n",
    "plt.title('Histogram of L_2 error  w/out >1')\n",
    "# plt.text(60, .025, r'$\\mu=100,\\ \\sigma=15$')\n",
    "plt.grid(True)\n",
    "plt.show()"
   ]
  },
  {
   "cell_type": "code",
   "execution_count": 147,
   "metadata": {
    "colab": {
     "base_uri": "https://localhost:8080/"
    },
    "executionInfo": {
     "elapsed": 22,
     "status": "ok",
     "timestamp": 1622487459254,
     "user": {
      "displayName": "Hawk Liu",
      "photoUrl": "",
      "userId": "00179956829988677028"
     },
     "user_tz": 300
    },
    "id": "TY5VfIy1PKQO",
    "outputId": "d11e3fbf-9430-4c87-fa1e-c9408b954f90"
   },
   "outputs": [
    {
     "name": "stdout",
     "output_type": "stream",
     "text": [
      "(118, 6, 6400)\n"
     ]
    }
   ],
   "source": [
    "print(x_train.shape)\n",
    "# print(x_train[:,:,1].transpose())\n",
    "# print(np.max(gen_limit0),np.min(err_linf_new))"
   ]
  },
  {
   "cell_type": "code",
   "execution_count": 148,
   "metadata": {
    "colab": {
     "base_uri": "https://localhost:8080/"
    },
    "executionInfo": {
     "elapsed": 15,
     "status": "ok",
     "timestamp": 1622487459255,
     "user": {
      "displayName": "Hawk Liu",
      "photoUrl": "",
      "userId": "00179956829988677028"
     },
     "user_tz": 300
    },
    "id": "gWknseXjRr3r",
    "outputId": "bb8a9b5d-4106-406d-d4c9-4a8eedb31f4d"
   },
   "outputs": [
    {
     "name": "stdout",
     "output_type": "stream",
     "text": [
      "(118,)\n",
      "0.044450119850331704\n"
     ]
    }
   ],
   "source": [
    "## LMP mismatch\n",
    "# print(y_test[:,1], y_pred1[:,1])\n",
    "index = 1\n",
    "y_test_copy = y_pred1[:,index].copy()\n",
    "print(y_test_copy.shape)\n",
    "for i in range(118):\n",
    "  if y_test_copy[i] < 0.1:\n",
    "    y_test_copy[i] = y_test[i,index] + 50\n",
    "\n",
    "print(np.linalg.norm(y_test_copy - y_test[:,index]) / np.linalg.norm(y_test[:,index]))"
   ]
  },
  {
   "cell_type": "code",
   "execution_count": 149,
   "metadata": {
    "executionInfo": {
     "elapsed": 12,
     "status": "ok",
     "timestamp": 1622487459256,
     "user": {
      "displayName": "Hawk Liu",
      "photoUrl": "",
      "userId": "00179956829988677028"
     },
     "user_tz": 300
    },
    "id": "jhfImaPsjKYq"
   },
   "outputs": [],
   "source": [
    "# y_test_copy\n",
    "# y_pred1[:,index]"
   ]
  },
  {
   "cell_type": "markdown",
   "metadata": {
    "id": "H9x7neMNj7n3"
   },
   "source": [
    "# Predict generation using $\\pi$\n",
    "* Using predicted $\\pi$ and find the active constraints in $p_G(i)$\n",
    "* For inactive $p_G(i)$ consider other methods like power flow balance"
   ]
  },
  {
   "cell_type": "code",
   "execution_count": 150,
   "metadata": {
    "colab": {
     "base_uri": "https://localhost:8080/"
    },
    "executionInfo": {
     "elapsed": 12,
     "status": "ok",
     "timestamp": 1622487459257,
     "user": {
      "displayName": "Hawk Liu",
      "photoUrl": "",
      "userId": "00179956829988677028"
     },
     "user_tz": 300
    },
    "id": "Kr29K04j2KTN",
    "outputId": "5535b501-e336-4221-8a91-15a0dad3e689"
   },
   "outputs": [
    {
     "name": "stdout",
     "output_type": "stream",
     "text": [
      "(118, 8000)\n",
      "<class 'numpy.ndarray'> 118 [  0   1   2   3   4   5   6   7   8   9  10  11  12  13  14  15  16  17\n",
      "  18  19  20  21  22  23  24  25  26  27  28  29  30  31  32  33  34  35\n",
      "  36  37  38  39  40  41  42  43  44  45  46  47  48  49  50  51  52  53\n",
      "  54  55  56  57  58  59  60  61  62  63  64  65  66  67  68  69  70  71\n",
      "  72  73  74  75  76  77  78  79  80  81  82  83  84  85  86  87  88  89\n",
      "  90  91  92  93  94  95  96  97  98  99 100 101 102 103 104 105 106 107\n",
      " 108 109 110 111 112 113 114 115 116 117]\n"
     ]
    }
   ],
   "source": [
    "gen_limit0 = x[:,4,:].copy() # lin cost\n",
    "print(gen_limit0.shape)\n",
    "\n",
    "gen_idx = []\n",
    "gen_idx = np.arange(n_bus)\n",
    "# for i in range(n_bus):\n",
    "#   if gen_limit0[i,0] > 0:\n",
    "#     gen_idx.append(i)\n",
    "print(type(gen_idx),len(gen_idx),gen_idx)"
   ]
  },
  {
   "cell_type": "code",
   "execution_count": 151,
   "metadata": {
    "colab": {
     "base_uri": "https://localhost:8080/"
    },
    "executionInfo": {
     "elapsed": 404,
     "status": "ok",
     "timestamp": 1622487459652,
     "user": {
      "displayName": "Hawk Liu",
      "photoUrl": "",
      "userId": "00179956829988677028"
     },
     "user_tz": 300
    },
    "id": "7LUcg6DDk13A",
    "outputId": "d40a494e-2b0f-46f2-d451-9be373562b5b"
   },
   "outputs": [
    {
     "name": "stdout",
     "output_type": "stream",
     "text": [
      "(118, 6, 8000)\n",
      "Dataset size: torch.Size([8000, 6, 118])\n",
      "Number of validation points::  8000\n",
      "output size (118, 8000)\n",
      "reshaped size (118, 8000)\n"
     ]
    }
   ],
   "source": [
    "# # get the generator index\n",
    "# # generator cost data\n",
    "# gen_cost0\n",
    "# # generator limit data\n",
    "# gen_limit0\n",
    "# # LMP data\n",
    "# lmp_data\n",
    "# # generation data\n",
    "# gen_data\n",
    "\n",
    "load_data = x.copy()\n",
    "load_data = load_data[:,:]\n",
    "print(load_data.shape)\n",
    "n_sample = np.size(load_data,2)\n",
    "\n",
    "# predict the corredponding LMP\n",
    "x_val_feed = torch.from_numpy(np.transpose(load_data)).float()\n",
    "batch_size=2000\n",
    "y_pred1=[]\n",
    "with torch.no_grad():\n",
    "  for idx in range(0,x_val_feed.shape[0],batch_size):\n",
    "    current_batch=x_val_feed[idx:idx+batch_size]\n",
    "    current_batch=current_batch.to(device)\n",
    "    current_y=net(current_batch)\n",
    "    current_y=current_y.cpu().detach()\n",
    "    current_y=torch.squeeze(current_y,1).numpy().tolist()\n",
    "    y_pred1+=current_y\n",
    "y_pred1=np.array(y_pred1).transpose()\n",
    "\n",
    "print('Dataset size:',x_val_feed.shape)\n",
    "print('Number of validation points:: ',n_sample)\n",
    "\n",
    "# net1 = net.cpu()\n",
    "# y_pred = net1(x_val_feed)\n",
    "\n",
    "# y_pred1 = y_pred.cpu().detach()\n",
    "print('output size',y_pred1.shape)\n",
    "# y_pred1 = torch.squ[]eeze(y_pred1,1).numpy().transpose()\n",
    "print('reshaped size',y_pred1.shape)\n",
    "\n",
    "# load_data = x.copy()\n",
    "# print(load_data.shape)\n",
    "# n_sample = np.size(load_data,2)\n",
    "\n",
    "# x_val_feed = torch.from_numpy(np.transpose(load_data)).float()\n",
    "# x_val_feed = x_val_feed.to(device)\n",
    "\n",
    "# print('Dataset size:',x_val_feed.shape)\n",
    "# print('Number of validation points:: ',n_sample)\n",
    "# y_pred = net(x_val_feed) # predict the corredponding LMP\n",
    "\n",
    "# y_pred1 = y_pred.cpu().detach()\n",
    "# print('output size',y_pred1.shape)\n",
    "# y_pred1 = torch.squeeze(y_pred1,1).numpy().transpose()\n",
    "# print('reshaped size',y_pred1.shape)"
   ]
  },
  {
   "cell_type": "markdown",
   "metadata": {
    "id": "DIMUWHsL5tdd"
   },
   "source": [
    "* Save results"
   ]
  },
  {
   "cell_type": "code",
   "execution_count": 152,
   "metadata": {
    "executionInfo": {
     "elapsed": 16,
     "status": "ok",
     "timestamp": 1622487459652,
     "user": {
      "displayName": "Hawk Liu",
      "photoUrl": "",
      "userId": "00179956829988677028"
     },
     "user_tz": 300
    },
    "id": "0GrY62p56Srd"
   },
   "outputs": [],
   "source": [
    "import pickle"
   ]
  },
  {
   "cell_type": "code",
   "execution_count": 153,
   "metadata": {
    "executionInfo": {
     "elapsed": 16,
     "status": "ok",
     "timestamp": 1622487459653,
     "user": {
      "displayName": "Hawk Liu",
      "photoUrl": "",
      "userId": "00179956829988677028"
     },
     "user_tz": 300
    },
    "id": "EeDi2jga6eON"
   },
   "outputs": [],
   "source": [
    "# dataset = {'lmp_pred': y_pred1, 'lmp_true': lmp_data}\n",
    "# print('Pred:',y_pred1.shape,'True:',lmp_data.shape)\n",
    "\n",
    "# file_name = 'dc118_lmp_prediction_p10'\n",
    "# file_path = 'drive/My Drive/gnn/data/results/'\n",
    "# file_dir = file_path + file_name + '.pickle'\n",
    "# outfile = open(file_dir, 'wb')\n",
    "# pickle.dump(dataset, outfile)\n",
    "# outfile.close()"
   ]
  },
  {
   "cell_type": "code",
   "execution_count": 154,
   "metadata": {
    "colab": {
     "base_uri": "https://localhost:8080/"
    },
    "executionInfo": {
     "elapsed": 15,
     "status": "ok",
     "timestamp": 1622487459653,
     "user": {
      "displayName": "Hawk Liu",
      "photoUrl": "",
      "userId": "00179956829988677028"
     },
     "user_tz": 300
    },
    "id": "GPEHF2L91bGv",
    "outputId": "bd1f8575-0704-480e-f313-ae39d0a2c702"
   },
   "outputs": [
    {
     "name": "stdout",
     "output_type": "stream",
     "text": [
      "0.001303100585936079\n",
      "0.8119999999999976\n",
      "0.0004911800172777395\n",
      "0.26399635865374804\n"
     ]
    }
   ],
   "source": [
    "gen_cost0 = x[:,4,:].copy()\n",
    "lmp_data = y.copy()\n",
    "\n",
    "quadratic_a = x[:,5,:].copy()\n",
    "\n",
    "profit_pred = y_pred1 - gen_cost0\n",
    "print(np.min(np.abs(profit_pred)))\n",
    "\n",
    "profit_true = lmp_data - gen_cost0\n",
    "print(np.min(np.abs(profit_true)))\n",
    "\n",
    "profit_pred=(y_pred1-gen_cost0)/(quadratic_a+1e-10)/2\n",
    "profit_true=(lmp_data-gen_cost0)/(quadratic_a+1e-10)/2\n",
    "print(np.min(np.abs(profit_pred)))\n",
    "print(np.min(np.abs(profit_true)))\n"
   ]
  },
  {
   "cell_type": "code",
   "execution_count": 155,
   "metadata": {
    "colab": {
     "base_uri": "https://localhost:8080/"
    },
    "executionInfo": {
     "elapsed": 11,
     "status": "ok",
     "timestamp": 1622487459653,
     "user": {
      "displayName": "Hawk Liu",
      "photoUrl": "",
      "userId": "00179956829988677028"
     },
     "user_tz": 300
    },
    "id": "ZbHchRQd_g8-",
    "outputId": "c5e78f1e-81da-4c60-c97d-71745e308d8b"
   },
   "outputs": [
    {
     "name": "stdout",
     "output_type": "stream",
     "text": [
      "(944000,)\n"
     ]
    }
   ],
   "source": [
    "p_pred_sort = np.reshape(profit_pred,n_bus*n_sample)\n",
    "p_true_sort = np.reshape(profit_true,n_bus*n_sample)\n",
    "print(p_pred_sort.shape)"
   ]
  },
  {
   "cell_type": "code",
   "execution_count": 156,
   "metadata": {
    "colab": {
     "base_uri": "https://localhost:8080/"
    },
    "executionInfo": {
     "elapsed": 9,
     "status": "ok",
     "timestamp": 1622487459654,
     "user": {
      "displayName": "Hawk Liu",
      "photoUrl": "",
      "userId": "00179956829988677028"
     },
     "user_tz": 300
    },
    "id": "ozJmJygjBLVX",
    "outputId": "5e692f5a-3370-47e0-a36a-754b887f2627"
   },
   "outputs": [
    {
     "name": "stdout",
     "output_type": "stream",
     "text": [
      "-4.072119461193012 -2.9391182643149665\n"
     ]
    }
   ],
   "source": [
    "print(np.min(p_pred_sort),np.min(p_true_sort))"
   ]
  },
  {
   "cell_type": "code",
   "execution_count": 157,
   "metadata": {
    "colab": {
     "base_uri": "https://localhost:8080/",
     "height": 513
    },
    "executionInfo": {
     "elapsed": 679,
     "status": "ok",
     "timestamp": 1622487460328,
     "user": {
      "displayName": "Hawk Liu",
      "photoUrl": "",
      "userId": "00179956829988677028"
     },
     "user_tz": 300
    },
    "id": "TYsSdNGp-OLP",
    "outputId": "01452d63-4fbd-4de3-f4b9-236fbd2c19d9"
   },
   "outputs": [
    {
     "data": {
      "image/png": "[encoded data removed]",
      "text/plain": [
       "<Figure size 800x800 with 1 Axes>"
      ]
     },
     "metadata": {},
     "output_type": "display_data"
    }
   ],
   "source": [
    "fig2 = plt.figure(figsize=(8, 8))\n",
    "plt.hist(p_pred_sort, bins = 50, facecolor='b', alpha=0.75,label = 'pred. profit')\n",
    "plt.hist(p_true_sort, bins = 50, facecolor='g', alpha=0.75,label = 'true profit')\n",
    "plt.legend(loc=\"upper right\")\n",
    "plt.xlabel('value')\n",
    "plt.ylabel('frequency')\n",
    "plt.title('profit histogram')\n",
    "# plt.text(60, .025, r'$\\mu=100,\\ \\sigma=15$')\n",
    "plt.grid(True)\n",
    "plt.show()"
   ]
  },
  {
   "cell_type": "code",
   "execution_count": 158,
   "metadata": {
    "executionInfo": {
     "elapsed": 18,
     "status": "ok",
     "timestamp": 1622487460329,
     "user": {
      "displayName": "Hawk Liu",
      "photoUrl": "",
      "userId": "00179956829988677028"
     },
     "user_tz": 300
    },
    "id": "EHWY5moJ6gin"
   },
   "outputs": [],
   "source": [
    "# gen_pred_binary = np.zeros((len(gen_idx),n_sample))\n",
    "# gen_true_binary = np.zeros((len(gen_idx),n_sample))\n",
    "# print(gen_pred_binary.shape)\n",
    "\n",
    "# binary_thres = 2.5\n",
    "# binary_thres_true = 1e-5\n",
    "\n",
    "# for i in range(n_sample):\n",
    "#   for j in range(len(gen_idx)):\n",
    "#     # predicted generator limit\n",
    "#     if profit_pred[gen_idx[j],i] > binary_thres:\n",
    "#       gen_pred_binary[j,i] = 1\n",
    "#     elif profit_pred[gen_idx[j],i] < 0:\n",
    "#       gen_pred_binary[j,i] = 0\n",
    "#     else:\n",
    "#       # gen_pred_binary[j,i] = (profit_pred[gen_idx[j],i] + binary_thres) / (2*binary_thres)\n",
    "#       gen_pred_binary[j,i] = (profit_pred[gen_idx[j],i]) / (binary_thres)\n",
    "#     # true generator limit\n",
    "#     if profit_true[gen_idx[j],i] > binary_thres_true:\n",
    "#       gen_true_binary[j,i] = 1\n",
    "#     elif profit_true[gen_idx[j],i] < 0:\n",
    "#       gen_true_binary[j,i] = 0\n",
    "#     else:\n",
    "#       gen_true_binary[j,i] = 0.5\n",
    "\n",
    "# gen_binary_err = np.abs(gen_true_binary - gen_pred_binary)\n",
    "# print('max binary error:',np.max(gen_binary_err))\n",
    "# # count the wrong entries\n",
    "# gen_binary_err_ct = np.sum(gen_binary_err)\n",
    "# gen_binary_err_ratio = gen_binary_err_ct / (len(gen_idx)*n_sample)\n",
    "# print('Binary accuracy:',1-gen_binary_err_ratio)"
   ]
  },
  {
   "cell_type": "code",
   "execution_count": 159,
   "metadata": {
    "colab": {
     "base_uri": "https://localhost:8080/"
    },
    "executionInfo": {
     "elapsed": 16,
     "status": "ok",
     "timestamp": 1622487460329,
     "user": {
      "displayName": "Hawk Liu",
      "photoUrl": "",
      "userId": "00179956829988677028"
     },
     "user_tz": 300
    },
    "id": "nnNXdj-v6-7I",
    "outputId": "1e64d224-6ead-42a6-92b8-706c2b8637a6"
   },
   "outputs": [
    {
     "name": "stdout",
     "output_type": "stream",
     "text": [
      "(118, 8000)\n",
      "(1600, 6, 118) (8000, 6, 118)\n"
     ]
    }
   ],
   "source": [
    "print(gen_limit0.shape)\n",
    "print(np.transpose(x_test).shape,np.transpose(load_data).shape)"
   ]
  },
  {
   "cell_type": "markdown",
   "metadata": {
    "id": "O3QpqC6OjSXe"
   },
   "source": [
    " # Test flow feasibility"
   ]
  },
  {
   "cell_type": "code",
   "execution_count": 160,
   "metadata": {
    "colab": {
     "base_uri": "https://localhost:8080/"
    },
    "executionInfo": {
     "elapsed": 11,
     "status": "ok",
     "timestamp": 1622487460330,
     "user": {
      "displayName": "Hawk Liu",
      "photoUrl": "",
      "userId": "00179956829988677028"
     },
     "user_tz": 300
    },
    "id": "P5S-SMQJwVoA",
    "outputId": "b115dc6c-d3b0-4eaa-cfec-033bd5182b57"
   },
   "outputs": [
    {
     "data": {
      "text/plain": [
       "(118, 8000)"
      ]
     },
     "execution_count": 160,
     "metadata": {},
     "output_type": "execute_result"
    }
   ],
   "source": [
    "x[:,2,:].shape\n",
    "profit_pred.shape\n",
    "# n_sample"
   ]
  },
  {
   "cell_type": "code",
   "execution_count": 161,
   "metadata": {
    "executionInfo": {
     "elapsed": 2424,
     "status": "ok",
     "timestamp": 1622487462748,
     "user": {
      "displayName": "Hawk Liu",
      "photoUrl": "",
      "userId": "00179956829988677028"
     },
     "user_tz": 300
    },
    "id": "1J9j5tT9p_f6"
   },
   "outputs": [],
   "source": [
    "# x = [load, gen_cost, gen_lim]\n",
    "\n",
    "# binary_thres = 0.97\n",
    "binary_thres_true = 1e-5\n",
    "# binary_thres = gen_limit0\n",
    "binary_thres = x[:,0,:].copy() # upper\n",
    "binary_thres_lo = x[:,1,:].copy() # lower\n",
    "\n",
    "gen_pred_binary_full = np.zeros((n_bus,n_sample))\n",
    "gen_true_binary_full = np.zeros((n_bus,n_sample))\n",
    "# print(gen_pred_binary.shape,profit_pred.shape,gen_pred_binary_full.shape)\n",
    "\n",
    "# x[:,2,:] # p_max\n",
    "\n",
    "# ## generator injection\n",
    "# for i in range(n_sample):\n",
    "#   for j in range(len(gen_idx)):\n",
    "#     # predicted generator limit\n",
    "#     if profit_pred[gen_idx[j],i] > binary_thres[gen_idx[j],i]:\n",
    "#       gen_pred_binary_full[gen_idx[j],i] = binary_thres[gen_idx[j],i]\n",
    "#     elif profit_pred[gen_idx[j],i] < 0:\n",
    "#       gen_pred_binary_full[gen_idx[j],i] = 0\n",
    "#     else:\n",
    "#       gen_pred_binary_full[gen_idx[j],i] = profit_pred[gen_idx[j],i]\n",
    "#     # true generator limit\n",
    "#     if profit_true[gen_idx[j],i] > binary_thres[gen_idx[j],i]:\n",
    "#       gen_true_binary_full[gen_idx[j],i] = binary_thres[gen_idx[j],i]\n",
    "#     elif profit_true[gen_idx[j],i] < 0:\n",
    "#       gen_true_binary_full[gen_idx[j],i] = 0\n",
    "#     else:\n",
    "#       gen_true_binary_full[gen_idx[j],i] = profit_true[gen_idx[j],i]\n",
    "\n",
    "## nodal injection\n",
    "# gen_limit0 = x[:,2,:].copy()\n",
    "for i in range(n_sample):\n",
    "  for j in range(len(gen_idx)):\n",
    "    # predicted generator limit\n",
    "    if profit_pred[gen_idx[j],i] > binary_thres[gen_idx[j],i]:\n",
    "      gen_pred_binary_full[gen_idx[j],i] = binary_thres[gen_idx[j],i]\n",
    "    elif profit_pred[gen_idx[j],i] < binary_thres_lo[gen_idx[j],i]:\n",
    "      gen_pred_binary_full[gen_idx[j],i] = binary_thres_lo[gen_idx[j],i]\n",
    "    else:\n",
    "      gen_pred_binary_full[gen_idx[j],i] = profit_pred[gen_idx[j],i]\n",
    "    # true generator limit\n",
    "    if profit_true[gen_idx[j],i] > binary_thres[gen_idx[j],i]:\n",
    "      gen_true_binary_full[gen_idx[j],i] = binary_thres[gen_idx[j],i]\n",
    "    elif profit_true[gen_idx[j],i] < binary_thres_lo[gen_idx[j],i]:\n",
    "      gen_true_binary_full[gen_idx[j],i] = binary_thres_lo[gen_idx[j],i]\n",
    "    else:\n",
    "      gen_true_binary_full[gen_idx[j],i] = profit_true[gen_idx[j],i]\n",
    "\n",
    "\n",
    "# injection by generators\n",
    "# gen_inj = np.multiply(gen_pred_binary_full,gen_limit0)\n",
    "# gen_inj_true = np.multiply(gen_true_binary_full,gen_limit0)\n",
    "gen_inj=gen_pred_binary_full\n",
    "gen_inj_true=gen_true_binary_full\n",
    "# nodal injection\n",
    "load0 = -x[:,1,:].copy() # load file\n",
    "p_inj = gen_inj #- load0\n",
    "p_inj_true = gen_inj_true #- load0"
   ]
  },
  {
   "cell_type": "code",
   "execution_count": 162,
   "metadata": {
    "colab": {
     "base_uri": "https://localhost:8080/"
    },
    "executionInfo": {
     "elapsed": 10,
     "status": "ok",
     "timestamp": 1622487462749,
     "user": {
      "displayName": "Hawk Liu",
      "photoUrl": "",
      "userId": "00179956829988677028"
     },
     "user_tz": 300
    },
    "id": "-12s6DdnrDvo",
    "outputId": "9a2eb59f-2987-43e0-ff13-21cafc328690"
   },
   "outputs": [
    {
     "name": "stdout",
     "output_type": "stream",
     "text": [
      "2217585.044673539 2217585.044673539\n",
      "2681925.673229315 34540026.580000006 2681925.673229315\n"
     ]
    }
   ],
   "source": [
    "# load0 = x[:,0,:].copy()\n",
    "print(np.sum(p_inj_true),np.sum(gen_inj_true))\n",
    "print(np.sum(p_inj),np.sum(load0),np.sum(gen_inj))"
   ]
  },
  {
   "cell_type": "markdown",
   "metadata": {
    "id": "DaN7u4xeGIom"
   },
   "source": [
    "* Calculate flow"
   ]
  },
  {
   "cell_type": "code",
   "execution_count": 163,
   "metadata": {
    "executionInfo": {
     "elapsed": 120,
     "status": "ok",
     "timestamp": 1622487462865,
     "user": {
      "displayName": "Hawk Liu",
      "photoUrl": "",
      "userId": "00179956829988677028"
     },
     "user_tz": 300
    },
    "id": "YT4sgn_n79MI"
   },
   "outputs": [],
   "source": [
    "n_line = np.size(S_isf,0)\n",
    "flow_est = np.zeros((n_line,n_sample))\n",
    "flow_est0 = np.zeros((n_line,n_sample))\n",
    "\n",
    "f_binary = np.zeros((n_line,n_sample))\n",
    "f_binary0 = np.zeros((n_line,n_sample))\n",
    "\n",
    "# for i in range(n_sample):\n",
    "flow_est = np.dot(S_isf,p_inj)\n",
    "flow_est0 = np.dot(S_isf,p_inj_true)\n",
    "# f_max\n",
    "f_max_numpy = f_max.cpu().detach().numpy()\n",
    "f_binary = (np.abs(flow_est)-f_max_numpy > 0)\n",
    "f_binary0 = (np.abs(flow_est0)-f_max_numpy > 0)"
   ]
  },
  {
   "cell_type": "code",
   "execution_count": 164,
   "metadata": {
    "colab": {
     "base_uri": "https://localhost:8080/"
    },
    "executionInfo": {
     "elapsed": 18,
     "status": "ok",
     "timestamp": 1622487462866,
     "user": {
      "displayName": "Hawk Liu",
      "photoUrl": "",
      "userId": "00179956829988677028"
     },
     "user_tz": 300
    },
    "id": "akXhlvIeKYDQ",
    "outputId": "c961895a-2acf-4e05-8309-8bce9fb1a944"
   },
   "outputs": [
    {
     "name": "stdout",
     "output_type": "stream",
     "text": [
      "12848 11037\n",
      "0.008634408602150537 0.007417338709677419\n"
     ]
    }
   ],
   "source": [
    "f_tot_sample = n_line * n_sample\n",
    "print(np.sum(f_binary),np.sum(f_binary0))\n",
    "print(np.sum(f_binary)/f_tot_sample,np.sum(f_binary0)/f_tot_sample)"
   ]
  },
  {
   "cell_type": "code",
   "execution_count": 165,
   "metadata": {
    "colab": {
     "base_uri": "https://localhost:8080/"
    },
    "executionInfo": {
     "elapsed": 8,
     "status": "ok",
     "timestamp": 1622487462866,
     "user": {
      "displayName": "Hawk Liu",
      "photoUrl": "",
      "userId": "00179956829988677028"
     },
     "user_tz": 300
    },
    "id": "VDUoE22I4eRm",
    "outputId": "8000b2cc-768a-438f-a185-b8eb8356ab9e"
   },
   "outputs": [
    {
     "name": "stdout",
     "output_type": "stream",
     "text": [
      "186 8000 (186, 8000)\n"
     ]
    }
   ],
   "source": [
    "print(n_line,n_sample,flow_est.shape)"
   ]
  },
  {
   "cell_type": "code",
   "execution_count": 166,
   "metadata": {
    "colab": {
     "base_uri": "https://localhost:8080/"
    },
    "executionInfo": {
     "elapsed": 113,
     "status": "ok",
     "timestamp": 1622487462976,
     "user": {
      "displayName": "Hawk Liu",
      "photoUrl": "",
      "userId": "00179956829988677028"
     },
     "user_tz": 300
    },
    "id": "VyvDpKhyQj0M",
    "outputId": "31957f58-b57a-462f-cf4a-672e8b3a3ea9"
   },
   "outputs": [
    {
     "name": "stdout",
     "output_type": "stream",
     "text": [
      "135.46972545069536 39.54490583504514\n",
      "0.9031315030046357 0.2636327055669676\n"
     ]
    }
   ],
   "source": [
    "# soft threshold\n",
    "f_err_est = np.abs(flow_est)-f_max_numpy\n",
    "f_err_true = np.abs(flow_est0)-f_max_numpy\n",
    "\n",
    "f_err_est = np.maximum(np.abs(flow_est)-f_max_numpy,0) # identify violations\n",
    "f_err_true = np.maximum(np.abs(flow_est0)-f_max_numpy,0)\n",
    "\n",
    "print(np.max(f_err_est),np.max(f_err_true))\n",
    "print(np.max(f_err_est/f_max_numpy),np.max(f_err_true/f_max_numpy))\n",
    "\n",
    "# a= np.asarray([[1,2,1],[2,2,1]])\n",
    "# b = np.asarray([1,1,1])\n",
    "# c = (a-b>0)\n",
    "# print(c)\n",
    "# print(np.sum(c))"
   ]
  },
  {
   "cell_type": "code",
   "execution_count": 167,
   "metadata": {
    "colab": {
     "base_uri": "https://localhost:8080/"
    },
    "executionInfo": {
     "elapsed": 6,
     "status": "ok",
     "timestamp": 1622487462976,
     "user": {
      "displayName": "Hawk Liu",
      "photoUrl": "",
      "userId": "00179956829988677028"
     },
     "user_tz": 300
    },
    "id": "kbRTzrSMWMA0",
    "outputId": "ca01387b-e34e-4125-d63a-4ad9d22d858b"
   },
   "outputs": [
    {
     "name": "stdout",
     "output_type": "stream",
     "text": [
      "12815 11009\n",
      "0.008612231182795698 0.007398521505376344\n"
     ]
    }
   ],
   "source": [
    "# f_binary_soft = (np.abs(flow_est)-f_max_numpy > 0.01*np.max(f_max_numpy))\n",
    "# f_binary0_soft = (np.abs(flow_est0)-f_max_numpy > 0.01*np.max(f_max_numpy))\n",
    "f_binary_soft = (np.abs(flow_est)-f_max_numpy > 0.001*(f_max_numpy))\n",
    "f_binary0_soft = (np.abs(flow_est0)-f_max_numpy > 0.001*(f_max_numpy))\n",
    "print(np.sum(f_binary_soft),np.sum(f_binary0_soft))\n",
    "print(np.sum(f_binary_soft)/f_tot_sample,np.sum(f_binary0_soft)/f_tot_sample)"
   ]
  },
  {
   "cell_type": "code",
   "execution_count": 168,
   "metadata": {
    "colab": {
     "base_uri": "https://localhost:8080/",
     "height": 0
    },
    "executionInfo": {
     "elapsed": 478,
     "status": "ok",
     "timestamp": 1622487463452,
     "user": {
      "displayName": "Hawk Liu",
      "photoUrl": "",
      "userId": "00179956829988677028"
     },
     "user_tz": 300
    },
    "id": "SYl9pxnOUUQF",
    "outputId": "7d0b9fb7-1e08-4f85-b20e-0af903c356fa"
   },
   "outputs": [
    {
     "data": {
      "image/png": "[encoded data removed]",
      "text/plain": [
       "<Figure size 1600x800 with 2 Axes>"
      ]
     },
     "metadata": {},
     "output_type": "display_data"
    }
   ],
   "source": [
    "f_pred_sort = np.reshape(f_err_est/f_max_numpy,n_line*n_sample)\n",
    "f_true_sort = np.reshape(f_err_true/f_max_numpy,n_line*n_sample)\n",
    "\n",
    "fig2 = plt.figure(figsize=(16, 8))\n",
    "plt.subplot(1,2,1)\n",
    "plt.hist(f_pred_sort, bins = 10, facecolor='b', alpha=0.75,label = 'pred. f')\n",
    "plt.hist(f_true_sort, bins = 10, facecolor='g', alpha=0.75,label = 'true f')\n",
    "plt.legend(loc=\"upper right\")\n",
    "plt.xlabel('percentage')\n",
    "plt.ylabel('frequency')\n",
    "plt.title('flow violation level histogram')\n",
    "plt.subplot(1,2,2)\n",
    "plt.hist(f_true_sort, bins = 10, facecolor='g', alpha=0.75,label = 'true f')\n",
    "plt.legend(loc=\"upper right\")\n",
    "plt.xlabel('percentage')\n",
    "plt.ylabel('frequency')\n",
    "plt.title('flow violation level histogram')\n",
    "# plt.text(60, .025, r'$\\mu=100,\\ \\sigma=15$')\n",
    "plt.grid(True)\n",
    "plt.show()"
   ]
  },
  {
   "cell_type": "code",
   "execution_count": 169,
   "metadata": {
    "colab": {
     "base_uri": "https://localhost:8080/"
    },
    "executionInfo": {
     "elapsed": 9,
     "status": "ok",
     "timestamp": 1622487463453,
     "user": {
      "displayName": "Hawk Liu",
      "photoUrl": "",
      "userId": "00179956829988677028"
     },
     "user_tz": 300
    },
    "id": "YglgTpWVRLri",
    "outputId": "413f4e69-22b8-45af-d866-5633f645c913"
   },
   "outputs": [
    {
     "name": "stdout",
     "output_type": "stream",
     "text": [
      "max sample pred: 5\n",
      "max line pred: 7982\n",
      "max sample true: 3\n",
      "max line true: 8000\n"
     ]
    }
   ],
   "source": [
    "f_line = np.sum(f_binary,0)\n",
    "f_samp = np.sum(f_binary,1)\n",
    "print('max sample pred:',np.max(f_line))\n",
    "print('max line pred:',np.max(f_samp))\n",
    "\n",
    "f_line0  = np.sum(f_binary0,0)\n",
    "f_samp0 = np.sum(f_binary0,1)\n",
    "print('max sample true:',np.max(f_line0))\n",
    "print('max line true:',np.max(f_samp0))"
   ]
  },
  {
   "cell_type": "code",
   "execution_count": 174,
   "metadata": {},
   "outputs": [
    {
     "name": "stdout",
     "output_type": "stream",
     "text": [
      "MSE_π: 182.85%\n"
     ]
    }
   ],
   "source": [
    "from sklearn.metrics import mean_squared_error\n",
    "import numpy as np\n",
    "\n",
    "# 假設取前 1600 筆樣本進行比較\n",
    "y_test = y_test[:, :1600]  # 確保 y_test 為 (118, 1600)\n",
    "y_pred1 = y_pred1[:, :1600]  # 確保 y_pred1 與 y_test 對應\n",
    "\n",
    "y_test_flat = y_test.flatten()\n",
    "y_pred1_flat = y_pred1.flatten()\n",
    "\n",
    "mse_pi = mean_squared_error(y_test_flat, y_pred1_flat)\n",
    "mse_percentage_pi = mse_pi / np.mean(y_test_flat) * 100\n",
    "print(f\"MSE_π: {mse_percentage_pi:.2f}%\")\n",
    "\n",
    "\n"
   ]
  }
 ],
 "metadata": {
  "accelerator": "GPU",
  "colab": {
   "collapsed_sections": [],
   "name": "118ac_gnn.ipynb",
   "provenance": []
  },
  "kernelspec": {
   "display_name": "AC_OPF",
   "language": "python",
   "name": "python3"
  },
  "language_info": {
   "codemirror_mode": {
    "name": "ipython",
    "version": 3
   },
   "file_extension": ".py",
   "mimetype": "text/x-python",
   "name": "python",
   "nbconvert_exporter": "python",
   "pygments_lexer": "ipython3",
   "version": "3.12.7"
  }
 },
 "nbformat": 4,
 "nbformat_minor": 0
}
